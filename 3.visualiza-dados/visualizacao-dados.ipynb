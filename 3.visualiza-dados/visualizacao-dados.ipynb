{
 "cells": [
  {
   "cell_type": "markdown",
   "id": "831dcd58",
   "metadata": {},
   "source": [
    "# Visualização de Dados"
   ]
  },
  {
   "cell_type": "markdown",
   "id": "90afd133",
   "metadata": {},
   "source": [
    "## Histograma"
   ]
  },
  {
   "cell_type": "markdown",
   "id": "a4a2a8bb",
   "metadata": {},
   "source": [
    "### Importação bibliotecas"
   ]
  },
  {
   "cell_type": "code",
   "execution_count": 1,
   "id": "e09125e6",
   "metadata": {
    "ExecuteTime": {
     "end_time": "2022-08-25T00:43:58.607380Z",
     "start_time": "2022-08-25T00:43:56.653238Z"
    }
   },
   "outputs": [],
   "source": [
    "import pandas as pd\n",
    "import numpy as np\n",
    "import matplotlib.pyplot as plt"
   ]
  },
  {
   "cell_type": "markdown",
   "id": "bc212ec4",
   "metadata": {},
   "source": [
    "### Base de dados"
   ]
  },
  {
   "cell_type": "code",
   "execution_count": 2,
   "id": "858bd523",
   "metadata": {
    "ExecuteTime": {
     "end_time": "2022-08-25T00:43:58.638672Z",
     "start_time": "2022-08-25T00:43:58.608031Z"
    }
   },
   "outputs": [
    {
     "data": {
      "text/plain": [
       "(31, 3)"
      ]
     },
     "execution_count": 2,
     "metadata": {},
     "output_type": "execute_result"
    }
   ],
   "source": [
    "base = pd.read_csv('trees.csv') #guarda na variável 'base' os dados em formato de DF.\n",
    "base.shape #retorna em quantas linhas e colunas estão dispostos os dados"
   ]
  },
  {
   "cell_type": "code",
   "execution_count": 3,
   "id": "3cb30f74",
   "metadata": {
    "ExecuteTime": {
     "end_time": "2022-08-25T00:43:58.670323Z",
     "start_time": "2022-08-25T00:43:58.639596Z"
    }
   },
   "outputs": [
    {
     "data": {
      "text/html": [
       "<div>\n",
       "<style scoped>\n",
       "    .dataframe tbody tr th:only-of-type {\n",
       "        vertical-align: middle;\n",
       "    }\n",
       "\n",
       "    .dataframe tbody tr th {\n",
       "        vertical-align: top;\n",
       "    }\n",
       "\n",
       "    .dataframe thead th {\n",
       "        text-align: right;\n",
       "    }\n",
       "</style>\n",
       "<table border=\"1\" class=\"dataframe\">\n",
       "  <thead>\n",
       "    <tr style=\"text-align: right;\">\n",
       "      <th></th>\n",
       "      <th>Girth</th>\n",
       "      <th>Height</th>\n",
       "      <th>Volume</th>\n",
       "    </tr>\n",
       "  </thead>\n",
       "  <tbody>\n",
       "    <tr>\n",
       "      <th>0</th>\n",
       "      <td>8.3</td>\n",
       "      <td>70</td>\n",
       "      <td>10.3</td>\n",
       "    </tr>\n",
       "    <tr>\n",
       "      <th>1</th>\n",
       "      <td>8.6</td>\n",
       "      <td>65</td>\n",
       "      <td>10.3</td>\n",
       "    </tr>\n",
       "    <tr>\n",
       "      <th>2</th>\n",
       "      <td>8.8</td>\n",
       "      <td>63</td>\n",
       "      <td>10.2</td>\n",
       "    </tr>\n",
       "    <tr>\n",
       "      <th>3</th>\n",
       "      <td>10.5</td>\n",
       "      <td>72</td>\n",
       "      <td>16.4</td>\n",
       "    </tr>\n",
       "    <tr>\n",
       "      <th>4</th>\n",
       "      <td>10.7</td>\n",
       "      <td>81</td>\n",
       "      <td>18.8</td>\n",
       "    </tr>\n",
       "  </tbody>\n",
       "</table>\n",
       "</div>"
      ],
      "text/plain": [
       "   Girth  Height  Volume\n",
       "0    8.3      70    10.3\n",
       "1    8.6      65    10.3\n",
       "2    8.8      63    10.2\n",
       "3   10.5      72    16.4\n",
       "4   10.7      81    18.8"
      ]
     },
     "execution_count": 3,
     "metadata": {},
     "output_type": "execute_result"
    }
   ],
   "source": [
    "base.head()"
   ]
  },
  {
   "cell_type": "code",
   "execution_count": 4,
   "id": "8ad66713",
   "metadata": {
    "ExecuteTime": {
     "end_time": "2022-08-25T00:43:58.686281Z",
     "start_time": "2022-08-25T00:43:58.672318Z"
    },
    "scrolled": true
   },
   "outputs": [
    {
     "data": {
      "text/plain": [
       "(array([4, 2, 5, 7, 9, 4], dtype=int64),\n",
       " array([63., 67., 71., 75., 79., 83., 87.]))"
      ]
     },
     "execution_count": 4,
     "metadata": {},
     "output_type": "execute_result"
    }
   ],
   "source": [
    "h = np.histogram(base.iloc[:,1], bins = 6) \n",
    "h\n",
    "#retorna arrays indicando que valores assumem o eixo y e x para a coluna especificada. No caso, a colun da altura.\n"
   ]
  },
  {
   "cell_type": "markdown",
   "id": "abcaa0d2",
   "metadata": {},
   "source": [
    "### Referências"
   ]
  },
  {
   "cell_type": "markdown",
   "id": "a4036f5e",
   "metadata": {},
   "source": [
    "Para verificar parâmetos requeridos clicar nos links. <br>\n",
    "[Documentação np.histogram](https://numpy.org/doc/stable/reference/generated/numpy.histogram.html) <br>\n",
    "[Documentação .iloc](https://pandas.pydata.org/docs/reference/api/pandas.DataFrame.iloc.html) <br>\n",
    "[Como usar .loc](https://medium.com/horadecodar/data-science-tips-02-como-usar-loc-e-iloc-no-pandas-fab58e214d87) \n",
    "\n"
   ]
  },
  {
   "cell_type": "markdown",
   "id": "84a5e330",
   "metadata": {},
   "source": [
    "#### Uso do .loc\n",
    "- Principal objetivo é filtrar linhas **a partir do nome do índice** (isto é, nome das linhas)."
   ]
  },
  {
   "cell_type": "code",
   "execution_count": 5,
   "id": "19be825e",
   "metadata": {
    "ExecuteTime": {
     "end_time": "2022-08-25T00:43:58.702240Z",
     "start_time": "2022-08-25T00:43:58.687278Z"
    }
   },
   "outputs": [
    {
     "data": {
      "text/html": [
       "<div>\n",
       "<style scoped>\n",
       "    .dataframe tbody tr th:only-of-type {\n",
       "        vertical-align: middle;\n",
       "    }\n",
       "\n",
       "    .dataframe tbody tr th {\n",
       "        vertical-align: top;\n",
       "    }\n",
       "\n",
       "    .dataframe thead th {\n",
       "        text-align: right;\n",
       "    }\n",
       "</style>\n",
       "<table border=\"1\" class=\"dataframe\">\n",
       "  <thead>\n",
       "    <tr style=\"text-align: right;\">\n",
       "      <th></th>\n",
       "      <th>col1</th>\n",
       "      <th>col2</th>\n",
       "      <th>col3</th>\n",
       "    </tr>\n",
       "  </thead>\n",
       "  <tbody>\n",
       "    <tr>\n",
       "      <th>lin1</th>\n",
       "      <td>1</td>\n",
       "      <td>2</td>\n",
       "      <td>3</td>\n",
       "    </tr>\n",
       "    <tr>\n",
       "      <th>lin2</th>\n",
       "      <td>4</td>\n",
       "      <td>5</td>\n",
       "      <td>6</td>\n",
       "    </tr>\n",
       "    <tr>\n",
       "      <th>lin3</th>\n",
       "      <td>7</td>\n",
       "      <td>8</td>\n",
       "      <td>9</td>\n",
       "    </tr>\n",
       "    <tr>\n",
       "      <th>lin4</th>\n",
       "      <td>10</td>\n",
       "      <td>11</td>\n",
       "      <td>12</td>\n",
       "    </tr>\n",
       "  </tbody>\n",
       "</table>\n",
       "</div>"
      ],
      "text/plain": [
       "      col1  col2  col3\n",
       "lin1     1     2     3\n",
       "lin2     4     5     6\n",
       "lin3     7     8     9\n",
       "lin4    10    11    12"
      ]
     },
     "execution_count": 5,
     "metadata": {},
     "output_type": "execute_result"
    }
   ],
   "source": [
    "dados = [[1,2,3], [4,5,6], [7,8,9], [10,11,12]]\n",
    "df = pd.DataFrame(dados,\n",
    "                 index = ['lin1', 'lin2', 'lin3', 'lin4'],\n",
    "                 columns = ['col1','col2','col3'])\n",
    "df"
   ]
  },
  {
   "cell_type": "code",
   "execution_count": 6,
   "id": "26120160",
   "metadata": {
    "ExecuteTime": {
     "end_time": "2022-08-25T00:43:58.718195Z",
     "start_time": "2022-08-25T00:43:58.704233Z"
    }
   },
   "outputs": [
    {
     "data": {
      "text/plain": [
       "col1    1\n",
       "col2    2\n",
       "col3    3\n",
       "Name: lin1, dtype: int64"
      ]
     },
     "execution_count": 6,
     "metadata": {},
     "output_type": "execute_result"
    }
   ],
   "source": [
    "df.loc['lin1'] #jeito de filtrar apenas a 'lin1'. Retorna uma series."
   ]
  },
  {
   "cell_type": "code",
   "execution_count": 7,
   "id": "105dc8f3",
   "metadata": {
    "ExecuteTime": {
     "end_time": "2022-08-25T00:43:58.734154Z",
     "start_time": "2022-08-25T00:43:58.719193Z"
    }
   },
   "outputs": [
    {
     "data": {
      "text/html": [
       "<div>\n",
       "<style scoped>\n",
       "    .dataframe tbody tr th:only-of-type {\n",
       "        vertical-align: middle;\n",
       "    }\n",
       "\n",
       "    .dataframe tbody tr th {\n",
       "        vertical-align: top;\n",
       "    }\n",
       "\n",
       "    .dataframe thead th {\n",
       "        text-align: right;\n",
       "    }\n",
       "</style>\n",
       "<table border=\"1\" class=\"dataframe\">\n",
       "  <thead>\n",
       "    <tr style=\"text-align: right;\">\n",
       "      <th></th>\n",
       "      <th>col1</th>\n",
       "      <th>col2</th>\n",
       "      <th>col3</th>\n",
       "    </tr>\n",
       "  </thead>\n",
       "  <tbody>\n",
       "    <tr>\n",
       "      <th>lin1</th>\n",
       "      <td>1</td>\n",
       "      <td>2</td>\n",
       "      <td>3</td>\n",
       "    </tr>\n",
       "  </tbody>\n",
       "</table>\n",
       "</div>"
      ],
      "text/plain": [
       "      col1  col2  col3\n",
       "lin1     1     2     3"
      ]
     },
     "execution_count": 7,
     "metadata": {},
     "output_type": "execute_result"
    }
   ],
   "source": [
    "df.loc[['lin1']] #adicionando mais um colchete retorna uma DF"
   ]
  },
  {
   "cell_type": "code",
   "execution_count": 8,
   "id": "2174cd68",
   "metadata": {
    "ExecuteTime": {
     "end_time": "2022-08-25T00:43:58.750137Z",
     "start_time": "2022-08-25T00:43:58.735151Z"
    },
    "scrolled": true
   },
   "outputs": [
    {
     "data": {
      "text/html": [
       "<div>\n",
       "<style scoped>\n",
       "    .dataframe tbody tr th:only-of-type {\n",
       "        vertical-align: middle;\n",
       "    }\n",
       "\n",
       "    .dataframe tbody tr th {\n",
       "        vertical-align: top;\n",
       "    }\n",
       "\n",
       "    .dataframe thead th {\n",
       "        text-align: right;\n",
       "    }\n",
       "</style>\n",
       "<table border=\"1\" class=\"dataframe\">\n",
       "  <thead>\n",
       "    <tr style=\"text-align: right;\">\n",
       "      <th></th>\n",
       "      <th>col1</th>\n",
       "      <th>col2</th>\n",
       "      <th>col3</th>\n",
       "    </tr>\n",
       "  </thead>\n",
       "  <tbody>\n",
       "    <tr>\n",
       "      <th>lin1</th>\n",
       "      <td>1</td>\n",
       "      <td>2</td>\n",
       "      <td>3</td>\n",
       "    </tr>\n",
       "    <tr>\n",
       "      <th>lin3</th>\n",
       "      <td>7</td>\n",
       "      <td>8</td>\n",
       "      <td>9</td>\n",
       "    </tr>\n",
       "  </tbody>\n",
       "</table>\n",
       "</div>"
      ],
      "text/plain": [
       "      col1  col2  col3\n",
       "lin1     1     2     3\n",
       "lin3     7     8     9"
      ]
     },
     "execution_count": 8,
     "metadata": {},
     "output_type": "execute_result"
    }
   ],
   "source": [
    "df.loc[['lin1', 'lin3']] #filtra mais de uma linha"
   ]
  },
  {
   "cell_type": "markdown",
   "id": "e8a22a5f",
   "metadata": {},
   "source": [
    "#### Uso do .iloc"
   ]
  },
  {
   "cell_type": "markdown",
   "id": "682e34ef",
   "metadata": {},
   "source": [
    "- Permite fazer o filtro **através da posição** da linha no DF."
   ]
  },
  {
   "cell_type": "code",
   "execution_count": 9,
   "id": "15a3b901",
   "metadata": {
    "ExecuteTime": {
     "end_time": "2022-08-25T00:43:58.766095Z",
     "start_time": "2022-08-25T00:43:58.751107Z"
    }
   },
   "outputs": [
    {
     "data": {
      "text/html": [
       "<div>\n",
       "<style scoped>\n",
       "    .dataframe tbody tr th:only-of-type {\n",
       "        vertical-align: middle;\n",
       "    }\n",
       "\n",
       "    .dataframe tbody tr th {\n",
       "        vertical-align: top;\n",
       "    }\n",
       "\n",
       "    .dataframe thead th {\n",
       "        text-align: right;\n",
       "    }\n",
       "</style>\n",
       "<table border=\"1\" class=\"dataframe\">\n",
       "  <thead>\n",
       "    <tr style=\"text-align: right;\">\n",
       "      <th></th>\n",
       "      <th>col1</th>\n",
       "      <th>col2</th>\n",
       "      <th>col3</th>\n",
       "    </tr>\n",
       "  </thead>\n",
       "  <tbody>\n",
       "    <tr>\n",
       "      <th>lin1</th>\n",
       "      <td>1</td>\n",
       "      <td>2</td>\n",
       "      <td>3</td>\n",
       "    </tr>\n",
       "    <tr>\n",
       "      <th>lin3</th>\n",
       "      <td>7</td>\n",
       "      <td>8</td>\n",
       "      <td>9</td>\n",
       "    </tr>\n",
       "  </tbody>\n",
       "</table>\n",
       "</div>"
      ],
      "text/plain": [
       "      col1  col2  col3\n",
       "lin1     1     2     3\n",
       "lin3     7     8     9"
      ]
     },
     "execution_count": 9,
     "metadata": {},
     "output_type": "execute_result"
    }
   ],
   "source": [
    "df.iloc[[0,2]]"
   ]
  },
  {
   "cell_type": "code",
   "execution_count": 10,
   "id": "7754c2e7",
   "metadata": {
    "ExecuteTime": {
     "end_time": "2022-08-25T00:43:58.782024Z",
     "start_time": "2022-08-25T00:43:58.768063Z"
    }
   },
   "outputs": [
    {
     "data": {
      "text/html": [
       "<div>\n",
       "<style scoped>\n",
       "    .dataframe tbody tr th:only-of-type {\n",
       "        vertical-align: middle;\n",
       "    }\n",
       "\n",
       "    .dataframe tbody tr th {\n",
       "        vertical-align: top;\n",
       "    }\n",
       "\n",
       "    .dataframe thead th {\n",
       "        text-align: right;\n",
       "    }\n",
       "</style>\n",
       "<table border=\"1\" class=\"dataframe\">\n",
       "  <thead>\n",
       "    <tr style=\"text-align: right;\">\n",
       "      <th></th>\n",
       "      <th>col1</th>\n",
       "      <th>col2</th>\n",
       "      <th>col3</th>\n",
       "    </tr>\n",
       "  </thead>\n",
       "  <tbody>\n",
       "    <tr>\n",
       "      <th>lin1</th>\n",
       "      <td>1</td>\n",
       "      <td>2</td>\n",
       "      <td>3</td>\n",
       "    </tr>\n",
       "    <tr>\n",
       "      <th>lin2</th>\n",
       "      <td>4</td>\n",
       "      <td>5</td>\n",
       "      <td>6</td>\n",
       "    </tr>\n",
       "    <tr>\n",
       "      <th>lin3</th>\n",
       "      <td>7</td>\n",
       "      <td>8</td>\n",
       "      <td>9</td>\n",
       "    </tr>\n",
       "  </tbody>\n",
       "</table>\n",
       "</div>"
      ],
      "text/plain": [
       "      col1  col2  col3\n",
       "lin1     1     2     3\n",
       "lin2     4     5     6\n",
       "lin3     7     8     9"
      ]
     },
     "execution_count": 10,
     "metadata": {},
     "output_type": "execute_result"
    }
   ],
   "source": [
    "df.iloc[0:3] #usando esse formato (0:3) nãp precisa fazer uma lista dentro do colchete"
   ]
  },
  {
   "cell_type": "code",
   "execution_count": 11,
   "id": "bb57c204",
   "metadata": {
    "ExecuteTime": {
     "end_time": "2022-08-25T00:43:58.797982Z",
     "start_time": "2022-08-25T00:43:58.783022Z"
    }
   },
   "outputs": [
    {
     "data": {
      "text/html": [
       "<div>\n",
       "<style scoped>\n",
       "    .dataframe tbody tr th:only-of-type {\n",
       "        vertical-align: middle;\n",
       "    }\n",
       "\n",
       "    .dataframe tbody tr th {\n",
       "        vertical-align: top;\n",
       "    }\n",
       "\n",
       "    .dataframe thead th {\n",
       "        text-align: right;\n",
       "    }\n",
       "</style>\n",
       "<table border=\"1\" class=\"dataframe\">\n",
       "  <thead>\n",
       "    <tr style=\"text-align: right;\">\n",
       "      <th></th>\n",
       "      <th>col1</th>\n",
       "      <th>col2</th>\n",
       "      <th>col3</th>\n",
       "    </tr>\n",
       "  </thead>\n",
       "  <tbody>\n",
       "    <tr>\n",
       "      <th>lin1</th>\n",
       "      <td>1</td>\n",
       "      <td>2</td>\n",
       "      <td>3</td>\n",
       "    </tr>\n",
       "    <tr>\n",
       "      <th>lin2</th>\n",
       "      <td>4</td>\n",
       "      <td>5</td>\n",
       "      <td>6</td>\n",
       "    </tr>\n",
       "    <tr>\n",
       "      <th>lin3</th>\n",
       "      <td>7</td>\n",
       "      <td>8</td>\n",
       "      <td>9</td>\n",
       "    </tr>\n",
       "  </tbody>\n",
       "</table>\n",
       "</div>"
      ],
      "text/plain": [
       "      col1  col2  col3\n",
       "lin1     1     2     3\n",
       "lin2     4     5     6\n",
       "lin3     7     8     9"
      ]
     },
     "execution_count": 11,
     "metadata": {},
     "output_type": "execute_result"
    }
   ],
   "source": [
    "df.iloc[:3] #simplificando o de cima"
   ]
  },
  {
   "cell_type": "markdown",
   "id": "74cf561e",
   "metadata": {},
   "source": [
    "**Abaixo**, forma de plotar as informações acima em um gráfico."
   ]
  },
  {
   "cell_type": "markdown",
   "id": "48278a2a",
   "metadata": {},
   "source": [
    "### Gráfico com Matplotlib"
   ]
  },
  {
   "cell_type": "code",
   "execution_count": 12,
   "id": "fc4fe436",
   "metadata": {
    "ExecuteTime": {
     "end_time": "2022-08-25T00:43:58.971545Z",
     "start_time": "2022-08-25T00:43:58.798982Z"
    },
    "scrolled": true
   },
   "outputs": [
    {
     "data": {
      "text/plain": [
       "Text(0.5, 0, 'Altura')"
      ]
     },
     "execution_count": 12,
     "metadata": {},
     "output_type": "execute_result"
    },
    {
     "data": {
      "image/png": "[encoded data removed]",
      "text/plain": [
       "<Figure size 432x288 with 1 Axes>"
      ]
     },
     "metadata": {
      "needs_background": "light"
     },
     "output_type": "display_data"
    }
   ],
   "source": [
    "plt.hist(base.iloc[:,1], bins = 6)\n",
    "plt.title('Árvores')\n",
    "plt.ylabel('Frequência')\n",
    "plt.xlabel('Altura')"
   ]
  },
  {
   "cell_type": "markdown",
   "id": "256de71e",
   "metadata": {},
   "source": [
    "### Gráfico com Seaborn"
   ]
  },
  {
   "cell_type": "code",
   "execution_count": 13,
   "id": "bfc1f863",
   "metadata": {
    "ExecuteTime": {
     "end_time": "2022-08-25T00:44:00.419438Z",
     "start_time": "2022-08-25T00:43:58.972516Z"
    }
   },
   "outputs": [],
   "source": [
    "import seaborn as sns"
   ]
  },
  {
   "cell_type": "code",
   "execution_count": 14,
   "id": "29885b55",
   "metadata": {
    "ExecuteTime": {
     "end_time": "2022-08-25T00:44:00.686060Z",
     "start_time": "2022-08-25T00:44:00.421187Z"
    },
    "scrolled": false
   },
   "outputs": [
    {
     "name": "stderr",
     "output_type": "stream",
     "text": [
      "C:\\Users\\Christyna Dias\\anaconda3\\lib\\site-packages\\seaborn\\distributions.py:2619: FutureWarning: `distplot` is a deprecated function and will be removed in a future version. Please adapt your code to use either `displot` (a figure-level function with similar flexibility) or `histplot` (an axes-level function for histograms).\n",
      "  warnings.warn(msg, FutureWarning)\n"
     ]
    },
    {
     "data": {
      "text/plain": [
       "Text(0.5, 1.0, 'Árvores')"
      ]
     },
     "execution_count": 14,
     "metadata": {},
     "output_type": "execute_result"
    },
    {
     "data": {
      "image/png": "[encoded data removed]",
      "text/plain": [
       "<Figure size 432x288 with 1 Axes>"
      ]
     },
     "metadata": {
      "needs_background": "light"
     },
     "output_type": "display_data"
    }
   ],
   "source": [
    "sns.distplot(base.Volume, bins = 10, axlabel = 'Volume').set_title('Árvores')"
   ]
  },
  {
   "cell_type": "markdown",
   "id": "023ffa8a",
   "metadata": {},
   "source": [
    "### Exemplo 2"
   ]
  },
  {
   "cell_type": "markdown",
   "id": "dce5f20b",
   "metadata": {},
   "source": [
    "**Banco de dados**: chicken.csv <br>\n",
    "Como que se comporta o peso dos animais **em relação ao tipo** de alimento? <br>\n",
    "Como os dados **estão distribuidos separadamente?** <br>\n",
    "Cada tipo de alimento no seu próprio **histograma**."
   ]
  },
  {
   "cell_type": "code",
   "execution_count": 15,
   "id": "be6ed1c2",
   "metadata": {
    "ExecuteTime": {
     "end_time": "2022-08-25T00:44:00.715954Z",
     "start_time": "2022-08-25T00:44:00.687030Z"
    },
    "scrolled": true
   },
   "outputs": [
    {
     "data": {
      "text/html": [
       "<div>\n",
       "<style scoped>\n",
       "    .dataframe tbody tr th:only-of-type {\n",
       "        vertical-align: middle;\n",
       "    }\n",
       "\n",
       "    .dataframe tbody tr th {\n",
       "        vertical-align: top;\n",
       "    }\n",
       "\n",
       "    .dataframe thead th {\n",
       "        text-align: right;\n",
       "    }\n",
       "</style>\n",
       "<table border=\"1\" class=\"dataframe\">\n",
       "  <thead>\n",
       "    <tr style=\"text-align: right;\">\n",
       "      <th></th>\n",
       "      <th>weight</th>\n",
       "      <th>feed</th>\n",
       "    </tr>\n",
       "  </thead>\n",
       "  <tbody>\n",
       "    <tr>\n",
       "      <th>0</th>\n",
       "      <td>179</td>\n",
       "      <td>horsebean</td>\n",
       "    </tr>\n",
       "    <tr>\n",
       "      <th>1</th>\n",
       "      <td>160</td>\n",
       "      <td>horsebean</td>\n",
       "    </tr>\n",
       "    <tr>\n",
       "      <th>2</th>\n",
       "      <td>136</td>\n",
       "      <td>horsebean</td>\n",
       "    </tr>\n",
       "    <tr>\n",
       "      <th>3</th>\n",
       "      <td>227</td>\n",
       "      <td>horsebean</td>\n",
       "    </tr>\n",
       "    <tr>\n",
       "      <th>4</th>\n",
       "      <td>217</td>\n",
       "      <td>horsebean</td>\n",
       "    </tr>\n",
       "    <tr>\n",
       "      <th>...</th>\n",
       "      <td>...</td>\n",
       "      <td>...</td>\n",
       "    </tr>\n",
       "    <tr>\n",
       "      <th>66</th>\n",
       "      <td>359</td>\n",
       "      <td>casein</td>\n",
       "    </tr>\n",
       "    <tr>\n",
       "      <th>67</th>\n",
       "      <td>216</td>\n",
       "      <td>casein</td>\n",
       "    </tr>\n",
       "    <tr>\n",
       "      <th>68</th>\n",
       "      <td>222</td>\n",
       "      <td>casein</td>\n",
       "    </tr>\n",
       "    <tr>\n",
       "      <th>69</th>\n",
       "      <td>283</td>\n",
       "      <td>casein</td>\n",
       "    </tr>\n",
       "    <tr>\n",
       "      <th>70</th>\n",
       "      <td>332</td>\n",
       "      <td>casein</td>\n",
       "    </tr>\n",
       "  </tbody>\n",
       "</table>\n",
       "<p>71 rows × 2 columns</p>\n",
       "</div>"
      ],
      "text/plain": [
       "    weight       feed\n",
       "0      179  horsebean\n",
       "1      160  horsebean\n",
       "2      136  horsebean\n",
       "3      227  horsebean\n",
       "4      217  horsebean\n",
       "..     ...        ...\n",
       "66     359     casein\n",
       "67     216     casein\n",
       "68     222     casein\n",
       "69     283     casein\n",
       "70     332     casein\n",
       "\n",
       "[71 rows x 2 columns]"
      ]
     },
     "execution_count": 15,
     "metadata": {},
     "output_type": "execute_result"
    }
   ],
   "source": [
    "base2 = pd.read_csv('chicken.csv')\n",
    "base2"
   ]
  },
  {
   "cell_type": "code",
   "execution_count": 16,
   "id": "7da5608d",
   "metadata": {
    "ExecuteTime": {
     "end_time": "2022-08-25T00:44:00.731911Z",
     "start_time": "2022-08-25T00:44:00.716951Z"
    }
   },
   "outputs": [
    {
     "data": {
      "text/html": [
       "<div>\n",
       "<style scoped>\n",
       "    .dataframe tbody tr th:only-of-type {\n",
       "        vertical-align: middle;\n",
       "    }\n",
       "\n",
       "    .dataframe tbody tr th {\n",
       "        vertical-align: top;\n",
       "    }\n",
       "\n",
       "    .dataframe thead th {\n",
       "        text-align: right;\n",
       "    }\n",
       "</style>\n",
       "<table border=\"1\" class=\"dataframe\">\n",
       "  <thead>\n",
       "    <tr style=\"text-align: right;\">\n",
       "      <th></th>\n",
       "      <th>Girth</th>\n",
       "      <th>Height</th>\n",
       "      <th>Volume</th>\n",
       "    </tr>\n",
       "  </thead>\n",
       "  <tbody>\n",
       "    <tr>\n",
       "      <th>0</th>\n",
       "      <td>8.3</td>\n",
       "      <td>70</td>\n",
       "      <td>10.3</td>\n",
       "    </tr>\n",
       "    <tr>\n",
       "      <th>1</th>\n",
       "      <td>8.6</td>\n",
       "      <td>65</td>\n",
       "      <td>10.3</td>\n",
       "    </tr>\n",
       "    <tr>\n",
       "      <th>2</th>\n",
       "      <td>8.8</td>\n",
       "      <td>63</td>\n",
       "      <td>10.2</td>\n",
       "    </tr>\n",
       "    <tr>\n",
       "      <th>3</th>\n",
       "      <td>10.5</td>\n",
       "      <td>72</td>\n",
       "      <td>16.4</td>\n",
       "    </tr>\n",
       "    <tr>\n",
       "      <th>4</th>\n",
       "      <td>10.7</td>\n",
       "      <td>81</td>\n",
       "      <td>18.8</td>\n",
       "    </tr>\n",
       "  </tbody>\n",
       "</table>\n",
       "</div>"
      ],
      "text/plain": [
       "   Girth  Height  Volume\n",
       "0    8.3      70    10.3\n",
       "1    8.6      65    10.3\n",
       "2    8.8      63    10.2\n",
       "3   10.5      72    16.4\n",
       "4   10.7      81    18.8"
      ]
     },
     "execution_count": 16,
     "metadata": {},
     "output_type": "execute_result"
    }
   ],
   "source": [
    "base = pd.read_csv('trees.csv')\n",
    "base.head()"
   ]
  },
  {
   "cell_type": "markdown",
   "id": "f7c6c7f9",
   "metadata": {},
   "source": [
    "- No retorno de dados acima é possível identificar **2 atributos** (colunas) correspondentes a peso e alimentação (tipo) dos frangos."
   ]
  },
  {
   "cell_type": "code",
   "execution_count": 17,
   "id": "bc3c463d",
   "metadata": {
    "ExecuteTime": {
     "end_time": "2022-08-25T00:44:00.746871Z",
     "start_time": "2022-08-25T00:44:00.734903Z"
    },
    "scrolled": true
   },
   "outputs": [
    {
     "data": {
      "text/html": [
       "<div>\n",
       "<style scoped>\n",
       "    .dataframe tbody tr th:only-of-type {\n",
       "        vertical-align: middle;\n",
       "    }\n",
       "\n",
       "    .dataframe tbody tr th {\n",
       "        vertical-align: top;\n",
       "    }\n",
       "\n",
       "    .dataframe thead th {\n",
       "        text-align: right;\n",
       "    }\n",
       "</style>\n",
       "<table border=\"1\" class=\"dataframe\">\n",
       "  <thead>\n",
       "    <tr style=\"text-align: right;\">\n",
       "      <th></th>\n",
       "      <th>weight</th>\n",
       "      <th>feed</th>\n",
       "    </tr>\n",
       "  </thead>\n",
       "  <tbody>\n",
       "    <tr>\n",
       "      <th>0</th>\n",
       "      <td>179</td>\n",
       "      <td>horsebean</td>\n",
       "    </tr>\n",
       "    <tr>\n",
       "      <th>1</th>\n",
       "      <td>160</td>\n",
       "      <td>horsebean</td>\n",
       "    </tr>\n",
       "    <tr>\n",
       "      <th>2</th>\n",
       "      <td>136</td>\n",
       "      <td>horsebean</td>\n",
       "    </tr>\n",
       "    <tr>\n",
       "      <th>3</th>\n",
       "      <td>227</td>\n",
       "      <td>horsebean</td>\n",
       "    </tr>\n",
       "    <tr>\n",
       "      <th>4</th>\n",
       "      <td>217</td>\n",
       "      <td>horsebean</td>\n",
       "    </tr>\n",
       "  </tbody>\n",
       "</table>\n",
       "</div>"
      ],
      "text/plain": [
       "   weight       feed\n",
       "0     179  horsebean\n",
       "1     160  horsebean\n",
       "2     136  horsebean\n",
       "3     227  horsebean\n",
       "4     217  horsebean"
      ]
     },
     "execution_count": 17,
     "metadata": {},
     "output_type": "execute_result"
    }
   ],
   "source": [
    "base2.head()"
   ]
  },
  {
   "cell_type": "markdown",
   "id": "979bd59f",
   "metadata": {},
   "source": [
    "#### Agrupando a partir do feed. Groupby"
   ]
  },
  {
   "cell_type": "markdown",
   "id": "6013c7cf",
   "metadata": {},
   "source": [
    "- Abaixo como faz para agrupar as informações a partir de um grupo. Agrupando a partir do feed.\n",
    "- Deve retornar a soma dos pesos dos frangos categorizado pelos atributos do feed."
   ]
  },
  {
   "cell_type": "code",
   "execution_count": 18,
   "id": "67890477",
   "metadata": {
    "ExecuteTime": {
     "end_time": "2022-08-25T00:44:00.762830Z",
     "start_time": "2022-08-25T00:44:00.747868Z"
    }
   },
   "outputs": [
    {
     "data": {
      "text/plain": [
       "feed\n",
       "casein       3883\n",
       "horsebean    1602\n",
       "linseed      2625\n",
       "meatmeal     3046\n",
       "soybean      3450\n",
       "sunflower    3947\n",
       "Name: weight, dtype: int64"
      ]
     },
     "execution_count": 18,
     "metadata": {},
     "output_type": "execute_result"
    }
   ],
   "source": [
    "agrupado = base2.groupby(['feed'])['weight'].sum()\n",
    "agrupado"
   ]
  },
  {
   "cell_type": "markdown",
   "id": "1ec8db13",
   "metadata": {},
   "source": [
    "Pergunta a se fazer: 'Como os frangos alimentados com 'casein' estão distribuidos ?' - Histograma <br>\n",
    "- Fazer novos dataframes para testar os filtros do pandas. <br>\n",
    "1) fazer uma base de dados que tenham todos os registros com a alimentação horsebean\n",
    "    "
   ]
  },
  {
   "cell_type": "code",
   "execution_count": 19,
   "id": "912f3aab",
   "metadata": {
    "ExecuteTime": {
     "end_time": "2022-08-25T00:44:00.777793Z",
     "start_time": "2022-08-25T00:44:00.763826Z"
    },
    "scrolled": true
   },
   "outputs": [
    {
     "data": {
      "text/html": [
       "<div>\n",
       "<style scoped>\n",
       "    .dataframe tbody tr th:only-of-type {\n",
       "        vertical-align: middle;\n",
       "    }\n",
       "\n",
       "    .dataframe tbody tr th {\n",
       "        vertical-align: top;\n",
       "    }\n",
       "\n",
       "    .dataframe thead th {\n",
       "        text-align: right;\n",
       "    }\n",
       "</style>\n",
       "<table border=\"1\" class=\"dataframe\">\n",
       "  <thead>\n",
       "    <tr style=\"text-align: right;\">\n",
       "      <th></th>\n",
       "      <th>weight</th>\n",
       "      <th>feed</th>\n",
       "    </tr>\n",
       "  </thead>\n",
       "  <tbody>\n",
       "    <tr>\n",
       "      <th>0</th>\n",
       "      <td>179</td>\n",
       "      <td>horsebean</td>\n",
       "    </tr>\n",
       "    <tr>\n",
       "      <th>1</th>\n",
       "      <td>160</td>\n",
       "      <td>horsebean</td>\n",
       "    </tr>\n",
       "    <tr>\n",
       "      <th>2</th>\n",
       "      <td>136</td>\n",
       "      <td>horsebean</td>\n",
       "    </tr>\n",
       "    <tr>\n",
       "      <th>3</th>\n",
       "      <td>227</td>\n",
       "      <td>horsebean</td>\n",
       "    </tr>\n",
       "    <tr>\n",
       "      <th>4</th>\n",
       "      <td>217</td>\n",
       "      <td>horsebean</td>\n",
       "    </tr>\n",
       "    <tr>\n",
       "      <th>5</th>\n",
       "      <td>168</td>\n",
       "      <td>horsebean</td>\n",
       "    </tr>\n",
       "    <tr>\n",
       "      <th>6</th>\n",
       "      <td>108</td>\n",
       "      <td>horsebean</td>\n",
       "    </tr>\n",
       "    <tr>\n",
       "      <th>7</th>\n",
       "      <td>124</td>\n",
       "      <td>horsebean</td>\n",
       "    </tr>\n",
       "    <tr>\n",
       "      <th>8</th>\n",
       "      <td>143</td>\n",
       "      <td>horsebean</td>\n",
       "    </tr>\n",
       "    <tr>\n",
       "      <th>9</th>\n",
       "      <td>140</td>\n",
       "      <td>horsebean</td>\n",
       "    </tr>\n",
       "  </tbody>\n",
       "</table>\n",
       "</div>"
      ],
      "text/plain": [
       "   weight       feed\n",
       "0     179  horsebean\n",
       "1     160  horsebean\n",
       "2     136  horsebean\n",
       "3     227  horsebean\n",
       "4     217  horsebean\n",
       "5     168  horsebean\n",
       "6     108  horsebean\n",
       "7     124  horsebean\n",
       "8     143  horsebean\n",
       "9     140  horsebean"
      ]
     },
     "execution_count": 19,
     "metadata": {},
     "output_type": "execute_result"
    }
   ],
   "source": [
    "#uso .loc\n",
    "teste = base2.loc[base2['feed'] == 'horsebean'] #.loc parece ser um filtro de localização de string. \n",
    "teste"
   ]
  },
  {
   "cell_type": "markdown",
   "id": "6bd22ea5",
   "metadata": {},
   "source": [
    "### Histogramas separados"
   ]
  },
  {
   "cell_type": "markdown",
   "id": "96c03103",
   "metadata": {},
   "source": [
    "- Abaixo como é gerado os histogramas que retornam o comportamento do peso (weight) dos frangos considerando o tipo de alimento do DF."
   ]
  },
  {
   "cell_type": "code",
   "execution_count": 20,
   "id": "fd6c3f41",
   "metadata": {
    "ExecuteTime": {
     "end_time": "2022-08-25T00:44:00.904449Z",
     "start_time": "2022-08-25T00:44:00.779785Z"
    }
   },
   "outputs": [
    {
     "name": "stderr",
     "output_type": "stream",
     "text": [
      "C:\\Users\\Christyna Dias\\anaconda3\\lib\\site-packages\\seaborn\\distributions.py:2619: FutureWarning: `distplot` is a deprecated function and will be removed in a future version. Please adapt your code to use either `displot` (a figure-level function with similar flexibility) or `kdeplot` (an axes-level function for kernel density plots).\n",
      "  warnings.warn(msg, FutureWarning)\n"
     ]
    },
    {
     "data": {
      "text/plain": [
       "Text(0.5, 1.0, 'horsebean')"
      ]
     },
     "execution_count": 20,
     "metadata": {},
     "output_type": "execute_result"
    },
    {
     "data": {
      "image/png": "[encoded data removed]",
      "text/plain": [
       "<Figure size 432x288 with 1 Axes>"
      ]
     },
     "metadata": {
      "needs_background": "light"
     },
     "output_type": "display_data"
    }
   ],
   "source": [
    "# filtro: base2.loc[base2['feed'] == 'horsebean'].weight\n",
    "sns.distplot(base2.loc[base2['feed'] == 'horsebean'].weight, hist = False).set_title('horsebean')"
   ]
  },
  {
   "cell_type": "code",
   "execution_count": 21,
   "id": "6b4338ea",
   "metadata": {
    "ExecuteTime": {
     "end_time": "2022-08-25T00:44:01.032153Z",
     "start_time": "2022-08-25T00:44:00.905447Z"
    }
   },
   "outputs": [
    {
     "name": "stderr",
     "output_type": "stream",
     "text": [
      "C:\\Users\\Christyna Dias\\anaconda3\\lib\\site-packages\\seaborn\\distributions.py:2619: FutureWarning: `distplot` is a deprecated function and will be removed in a future version. Please adapt your code to use either `displot` (a figure-level function with similar flexibility) or `histplot` (an axes-level function for histograms).\n",
      "  warnings.warn(msg, FutureWarning)\n"
     ]
    },
    {
     "data": {
      "text/plain": [
       "Text(0.5, 1.0, 'casein')"
      ]
     },
     "execution_count": 21,
     "metadata": {},
     "output_type": "execute_result"
    },
    {
     "data": {
      "image/png": "[encoded data removed]",
      "text/plain": [
       "<Figure size 432x288 with 1 Axes>"
      ]
     },
     "metadata": {
      "needs_background": "light"
     },
     "output_type": "display_data"
    }
   ],
   "source": [
    "sns.distplot(base2.loc[base2['feed'] == 'casein'].weight).set_title('casein')"
   ]
  },
  {
   "cell_type": "code",
   "execution_count": 22,
   "id": "3a33f4dc",
   "metadata": {
    "ExecuteTime": {
     "end_time": "2022-08-25T00:44:01.175873Z",
     "start_time": "2022-08-25T00:44:01.034148Z"
    }
   },
   "outputs": [
    {
     "name": "stderr",
     "output_type": "stream",
     "text": [
      "C:\\Users\\Christyna Dias\\anaconda3\\lib\\site-packages\\seaborn\\distributions.py:2619: FutureWarning: `distplot` is a deprecated function and will be removed in a future version. Please adapt your code to use either `displot` (a figure-level function with similar flexibility) or `histplot` (an axes-level function for histograms).\n",
      "  warnings.warn(msg, FutureWarning)\n"
     ]
    },
    {
     "data": {
      "text/plain": [
       "Text(0.5, 1.0, 'linseed')"
      ]
     },
     "execution_count": 22,
     "metadata": {},
     "output_type": "execute_result"
    },
    {
     "data": {
      "image/png": "[encoded data removed]",
      "text/plain": [
       "<Figure size 432x288 with 1 Axes>"
      ]
     },
     "metadata": {
      "needs_background": "light"
     },
     "output_type": "display_data"
    }
   ],
   "source": [
    "sns.distplot(base2.loc[base2['feed'] == 'linseed'].weight).set_title('linseed')"
   ]
  },
  {
   "cell_type": "code",
   "execution_count": 23,
   "id": "7cc4d0b4",
   "metadata": {
    "ExecuteTime": {
     "end_time": "2022-08-25T00:44:01.301536Z",
     "start_time": "2022-08-25T00:44:01.176873Z"
    }
   },
   "outputs": [
    {
     "name": "stderr",
     "output_type": "stream",
     "text": [
      "C:\\Users\\Christyna Dias\\anaconda3\\lib\\site-packages\\seaborn\\distributions.py:2619: FutureWarning: `distplot` is a deprecated function and will be removed in a future version. Please adapt your code to use either `displot` (a figure-level function with similar flexibility) or `histplot` (an axes-level function for histograms).\n",
      "  warnings.warn(msg, FutureWarning)\n"
     ]
    },
    {
     "data": {
      "text/plain": [
       "Text(0.5, 1.0, 'meatmeal')"
      ]
     },
     "execution_count": 23,
     "metadata": {},
     "output_type": "execute_result"
    },
    {
     "data": {
      "image/png": "[encoded data removed]",
      "text/plain": [
       "<Figure size 432x288 with 1 Axes>"
      ]
     },
     "metadata": {
      "needs_background": "light"
     },
     "output_type": "display_data"
    }
   ],
   "source": [
    "sns.distplot(base2.loc[base2['feed'] == 'meatmeal'].weight).set_title('meatmeal')"
   ]
  },
  {
   "cell_type": "code",
   "execution_count": 24,
   "id": "3af4c3a1",
   "metadata": {
    "ExecuteTime": {
     "end_time": "2022-08-25T00:44:01.442600Z",
     "start_time": "2022-08-25T00:44:01.302534Z"
    }
   },
   "outputs": [
    {
     "name": "stderr",
     "output_type": "stream",
     "text": [
      "C:\\Users\\Christyna Dias\\anaconda3\\lib\\site-packages\\seaborn\\distributions.py:2619: FutureWarning: `distplot` is a deprecated function and will be removed in a future version. Please adapt your code to use either `displot` (a figure-level function with similar flexibility) or `histplot` (an axes-level function for histograms).\n",
      "  warnings.warn(msg, FutureWarning)\n"
     ]
    },
    {
     "data": {
      "text/plain": [
       "Text(0.5, 1.0, 'soybean')"
      ]
     },
     "execution_count": 24,
     "metadata": {},
     "output_type": "execute_result"
    },
    {
     "data": {
      "image/png": "[encoded data removed]",
      "text/plain": [
       "<Figure size 432x288 with 1 Axes>"
      ]
     },
     "metadata": {
      "needs_background": "light"
     },
     "output_type": "display_data"
    }
   ],
   "source": [
    "sns.distplot(base2.loc[base2['feed'] == 'soybean'].weight).set_title('soybean')"
   ]
  },
  {
   "cell_type": "code",
   "execution_count": 25,
   "id": "38541f39",
   "metadata": {
    "ExecuteTime": {
     "end_time": "2022-08-25T00:44:01.581966Z",
     "start_time": "2022-08-25T00:44:01.444563Z"
    }
   },
   "outputs": [
    {
     "name": "stderr",
     "output_type": "stream",
     "text": [
      "C:\\Users\\Christyna Dias\\anaconda3\\lib\\site-packages\\seaborn\\distributions.py:2619: FutureWarning: `distplot` is a deprecated function and will be removed in a future version. Please adapt your code to use either `displot` (a figure-level function with similar flexibility) or `histplot` (an axes-level function for histograms).\n",
      "  warnings.warn(msg, FutureWarning)\n"
     ]
    },
    {
     "data": {
      "text/plain": [
       "Text(0.5, 1.0, 'sunflower')"
      ]
     },
     "execution_count": 25,
     "metadata": {},
     "output_type": "execute_result"
    },
    {
     "data": {
      "image/png": "[encoded data removed]",
      "text/plain": [
       "<Figure size 432x288 with 1 Axes>"
      ]
     },
     "metadata": {
      "needs_background": "light"
     },
     "output_type": "display_data"
    }
   ],
   "source": [
    "sns.distplot(base2.loc[base2['feed'] == 'sunflower'].weight).set_title('sunflower')"
   ]
  },
  {
   "cell_type": "markdown",
   "id": "48b22dbf",
   "metadata": {},
   "source": [
    "### Histogramas juntos em um único gráfico"
   ]
  },
  {
   "cell_type": "markdown",
   "id": "2988f3c0",
   "metadata": {},
   "source": [
    "Inserindo todos os gráficos em um mesmo gráfico temos que :"
   ]
  },
  {
   "cell_type": "code",
   "execution_count": 26,
   "id": "2fa57efc",
   "metadata": {
    "ExecuteTime": {
     "end_time": "2022-08-25T00:44:02.053138Z",
     "start_time": "2022-08-25T00:44:01.582889Z"
    }
   },
   "outputs": [
    {
     "name": "stderr",
     "output_type": "stream",
     "text": [
      "C:\\Users\\Christyna Dias\\anaconda3\\lib\\site-packages\\seaborn\\distributions.py:2619: FutureWarning: `distplot` is a deprecated function and will be removed in a future version. Please adapt your code to use either `displot` (a figure-level function with similar flexibility) or `kdeplot` (an axes-level function for kernel density plots).\n",
      "  warnings.warn(msg, FutureWarning)\n",
      "C:\\Users\\Christyna Dias\\anaconda3\\lib\\site-packages\\seaborn\\distributions.py:2619: FutureWarning: `distplot` is a deprecated function and will be removed in a future version. Please adapt your code to use either `displot` (a figure-level function with similar flexibility) or `histplot` (an axes-level function for histograms).\n",
      "  warnings.warn(msg, FutureWarning)\n",
      "C:\\Users\\Christyna Dias\\anaconda3\\lib\\site-packages\\seaborn\\distributions.py:2619: FutureWarning: `distplot` is a deprecated function and will be removed in a future version. Please adapt your code to use either `displot` (a figure-level function with similar flexibility) or `histplot` (an axes-level function for histograms).\n",
      "  warnings.warn(msg, FutureWarning)\n",
      "C:\\Users\\Christyna Dias\\anaconda3\\lib\\site-packages\\seaborn\\distributions.py:2619: FutureWarning: `distplot` is a deprecated function and will be removed in a future version. Please adapt your code to use either `displot` (a figure-level function with similar flexibility) or `histplot` (an axes-level function for histograms).\n",
      "  warnings.warn(msg, FutureWarning)\n",
      "C:\\Users\\Christyna Dias\\anaconda3\\lib\\site-packages\\seaborn\\distributions.py:2619: FutureWarning: `distplot` is a deprecated function and will be removed in a future version. Please adapt your code to use either `displot` (a figure-level function with similar flexibility) or `histplot` (an axes-level function for histograms).\n",
      "  warnings.warn(msg, FutureWarning)\n",
      "C:\\Users\\Christyna Dias\\anaconda3\\lib\\site-packages\\seaborn\\distributions.py:2619: FutureWarning: `distplot` is a deprecated function and will be removed in a future version. Please adapt your code to use either `displot` (a figure-level function with similar flexibility) or `histplot` (an axes-level function for histograms).\n",
      "  warnings.warn(msg, FutureWarning)\n"
     ]
    },
    {
     "data": {
      "image/png": "[encoded data removed]",
      "text/plain": [
       "<Figure size 432x288 with 6 Axes>"
      ]
     },
     "metadata": {
      "needs_background": "light"
     },
     "output_type": "display_data"
    }
   ],
   "source": [
    "plt.figure()\n",
    "plt.subplot(3,2,1) #retorna um gráfico com 3 linhas e 2 colunas em que a primeira posição será o que está escrito abaixo\n",
    "sns.distplot(base2.loc[base2['feed'] == 'horsebean'].weight, hist = False).set_title('horsebean')\n",
    "plt.subplot(3,2,2)\n",
    "sns.distplot(base2.loc[base2['feed'] == 'casein'].weight).set_title('casein')\n",
    "plt.subplot(3,2,3)\n",
    "sns.distplot(base2.loc[base2['feed'] == 'linseed'].weight).set_title('linseed')\n",
    "plt.subplot(3,2,4)\n",
    "sns.distplot(base2.loc[base2['feed'] == 'meatmeal'].weight).set_title('meatmeal')\n",
    "plt.subplot(3,2,5)\n",
    "sns.distplot(base2.loc[base2['feed'] == 'soybean'].weight).set_title('soybean')\n",
    "plt.subplot(3,2,6)\n",
    "sns.distplot(base2.loc[base2['feed'] == 'sunflower'].weight).set_title('sunflower')\n",
    "plt.tight_layout() #ajusta layout para não sobreposição\n"
   ]
  },
  {
   "cell_type": "markdown",
   "id": "4d2e405d",
   "metadata": {},
   "source": [
    "## Densidade\n"
   ]
  },
  {
   "cell_type": "code",
   "execution_count": 27,
   "id": "42234b78",
   "metadata": {
    "ExecuteTime": {
     "end_time": "2022-08-25T00:44:02.069068Z",
     "start_time": "2022-08-25T00:44:02.055114Z"
    }
   },
   "outputs": [],
   "source": [
    "#Não esquecer de importar\n",
    "##import pandas as pd\n",
    "##import matplotlib.pyplot as plt\n",
    "#import seaborn as sns"
   ]
  },
  {
   "cell_type": "code",
   "execution_count": 28,
   "id": "c596ad56",
   "metadata": {
    "ExecuteTime": {
     "end_time": "2022-08-25T00:44:02.148984Z",
     "start_time": "2022-08-25T00:44:02.074054Z"
    }
   },
   "outputs": [
    {
     "data": {
      "text/html": [
       "<div>\n",
       "<style scoped>\n",
       "    .dataframe tbody tr th:only-of-type {\n",
       "        vertical-align: middle;\n",
       "    }\n",
       "\n",
       "    .dataframe tbody tr th {\n",
       "        vertical-align: top;\n",
       "    }\n",
       "\n",
       "    .dataframe thead th {\n",
       "        text-align: right;\n",
       "    }\n",
       "</style>\n",
       "<table border=\"1\" class=\"dataframe\">\n",
       "  <thead>\n",
       "    <tr style=\"text-align: right;\">\n",
       "      <th></th>\n",
       "      <th>Girth</th>\n",
       "      <th>Height</th>\n",
       "      <th>Volume</th>\n",
       "    </tr>\n",
       "  </thead>\n",
       "  <tbody>\n",
       "    <tr>\n",
       "      <th>0</th>\n",
       "      <td>8.3</td>\n",
       "      <td>70</td>\n",
       "      <td>10.3</td>\n",
       "    </tr>\n",
       "    <tr>\n",
       "      <th>1</th>\n",
       "      <td>8.6</td>\n",
       "      <td>65</td>\n",
       "      <td>10.3</td>\n",
       "    </tr>\n",
       "    <tr>\n",
       "      <th>2</th>\n",
       "      <td>8.8</td>\n",
       "      <td>63</td>\n",
       "      <td>10.2</td>\n",
       "    </tr>\n",
       "    <tr>\n",
       "      <th>3</th>\n",
       "      <td>10.5</td>\n",
       "      <td>72</td>\n",
       "      <td>16.4</td>\n",
       "    </tr>\n",
       "    <tr>\n",
       "      <th>4</th>\n",
       "      <td>10.7</td>\n",
       "      <td>81</td>\n",
       "      <td>18.8</td>\n",
       "    </tr>\n",
       "  </tbody>\n",
       "</table>\n",
       "</div>"
      ],
      "text/plain": [
       "   Girth  Height  Volume\n",
       "0    8.3      70    10.3\n",
       "1    8.6      65    10.3\n",
       "2    8.8      63    10.2\n",
       "3   10.5      72    16.4\n",
       "4   10.7      81    18.8"
      ]
     },
     "execution_count": 28,
     "metadata": {},
     "output_type": "execute_result"
    }
   ],
   "source": [
    "#base de dados\n",
    "base = pd.read_csv('trees.csv') #dados de árvores\n",
    "base.head()"
   ]
  },
  {
   "cell_type": "markdown",
   "id": "9ad95809",
   "metadata": {},
   "source": [
    "### Gráfico Densidade matplotlib"
   ]
  },
  {
   "cell_type": "code",
   "execution_count": 29,
   "id": "54f21163",
   "metadata": {
    "ExecuteTime": {
     "end_time": "2022-08-25T00:44:02.307533Z",
     "start_time": "2022-08-25T00:44:02.149955Z"
    }
   },
   "outputs": [
    {
     "data": {
      "text/plain": [
       "array([[<AxesSubplot:title={'center':'Height'}>]], dtype=object)"
      ]
     },
     "execution_count": 29,
     "metadata": {},
     "output_type": "execute_result"
    },
    {
     "data": {
      "image/png": "[encoded data removed]",
      "text/plain": [
       "<Figure size 432x288 with 1 Axes>"
      ]
     },
     "metadata": {
      "needs_background": "light"
     },
     "output_type": "display_data"
    }
   ],
   "source": [
    "base.hist(column = 'Height') #modo simplificado"
   ]
  },
  {
   "cell_type": "code",
   "execution_count": 30,
   "id": "c363daa5",
   "metadata": {
    "ExecuteTime": {
     "end_time": "2022-08-25T00:44:02.417267Z",
     "start_time": "2022-08-25T00:44:02.308531Z"
    },
    "scrolled": true
   },
   "outputs": [
    {
     "data": {
      "text/plain": [
       "(array([3., 1., 2., 3., 2., 6., 2., 8., 1., 3.]),\n",
       " array([63. , 65.4, 67.8, 70.2, 72.6, 75. , 77.4, 79.8, 82.2, 84.6, 87. ]),\n",
       " <BarContainer object of 10 artists>)"
      ]
     },
     "execution_count": 30,
     "metadata": {},
     "output_type": "execute_result"
    },
    {
     "data": {
      "image/png": "[encoded data removed]",
      "text/plain": [
       "<Figure size 432x288 with 1 Axes>"
      ]
     },
     "metadata": {
      "needs_background": "light"
     },
     "output_type": "display_data"
    }
   ],
   "source": [
    "plt.hist(base.iloc[:,1]) #mesmo resultado do código acima usando iloc."
   ]
  },
  {
   "cell_type": "markdown",
   "id": "957fc7fa",
   "metadata": {},
   "source": [
    "### Gráfico Densidade Seaborn"
   ]
  },
  {
   "cell_type": "code",
   "execution_count": 31,
   "id": "acf5f82c",
   "metadata": {
    "ExecuteTime": {
     "end_time": "2022-08-25T00:44:02.510537Z",
     "start_time": "2022-08-25T00:44:02.418239Z"
    }
   },
   "outputs": [
    {
     "name": "stderr",
     "output_type": "stream",
     "text": [
      "C:\\Users\\Christyna Dias\\anaconda3\\lib\\site-packages\\seaborn\\distributions.py:2619: FutureWarning: `distplot` is a deprecated function and will be removed in a future version. Please adapt your code to use either `displot` (a figure-level function with similar flexibility) or `histplot` (an axes-level function for histograms).\n",
      "  warnings.warn(msg, FutureWarning)\n"
     ]
    },
    {
     "data": {
      "text/plain": [
       "<AxesSubplot:xlabel='Height'>"
      ]
     },
     "execution_count": 31,
     "metadata": {},
     "output_type": "execute_result"
    },
    {
     "data": {
      "image/png": "[encoded data removed]",
      "text/plain": [
       "<Figure size 432x288 with 1 Axes>"
      ]
     },
     "metadata": {
      "needs_background": "light"
     },
     "output_type": "display_data"
    }
   ],
   "source": [
    "sns.distplot(base.iloc[:,1], hist = True, kde = False,\n",
    "            bins = 6, color = 'blue',\n",
    "            hist_kws = {'edgecolor': 'black'})"
   ]
  },
  {
   "cell_type": "markdown",
   "id": "02252a12",
   "metadata": {},
   "source": [
    "- **hist:  True** - Gerar o histograma\n",
    "- **kde (estimativa de densidade do Kernel) = False** não vai gerar a linha de densidade.\n",
    "- **hist_kws** : cor das bordas\n",
    "- **bins = 6** . Número de eixo "
   ]
  },
  {
   "cell_type": "code",
   "execution_count": 32,
   "id": "cf1fd649",
   "metadata": {
    "ExecuteTime": {
     "end_time": "2022-08-25T00:44:02.620429Z",
     "start_time": "2022-08-25T00:44:02.511536Z"
    }
   },
   "outputs": [
    {
     "name": "stderr",
     "output_type": "stream",
     "text": [
      "C:\\Users\\Christyna Dias\\anaconda3\\lib\\site-packages\\seaborn\\distributions.py:2619: FutureWarning: `distplot` is a deprecated function and will be removed in a future version. Please adapt your code to use either `displot` (a figure-level function with similar flexibility) or `kdeplot` (an axes-level function for kernel density plots).\n",
      "  warnings.warn(msg, FutureWarning)\n"
     ]
    },
    {
     "data": {
      "text/plain": [
       "<AxesSubplot:xlabel='Height', ylabel='Density'>"
      ]
     },
     "execution_count": 32,
     "metadata": {},
     "output_type": "execute_result"
    },
    {
     "data": {
      "image/png": "[encoded data removed]",
      "text/plain": [
       "<Figure size 432x288 with 1 Axes>"
      ]
     },
     "metadata": {
      "needs_background": "light"
     },
     "output_type": "display_data"
    }
   ],
   "source": [
    "sns.distplot(base.iloc[:,1], hist = False, kde = True,\n",
    "           bins = 6, color = 'blue',\n",
    "           hist_kws={'edgecolor':'black'})"
   ]
  },
  {
   "cell_type": "code",
   "execution_count": 33,
   "id": "81f54dcd",
   "metadata": {
    "ExecuteTime": {
     "end_time": "2022-08-25T00:44:02.732202Z",
     "start_time": "2022-08-25T00:44:02.621427Z"
    }
   },
   "outputs": [
    {
     "name": "stderr",
     "output_type": "stream",
     "text": [
      "C:\\Users\\Christyna Dias\\anaconda3\\lib\\site-packages\\seaborn\\distributions.py:2619: FutureWarning: `distplot` is a deprecated function and will be removed in a future version. Please adapt your code to use either `displot` (a figure-level function with similar flexibility) or `histplot` (an axes-level function for histograms).\n",
      "  warnings.warn(msg, FutureWarning)\n"
     ]
    },
    {
     "data": {
      "text/plain": [
       "<AxesSubplot:xlabel='Height', ylabel='Density'>"
      ]
     },
     "execution_count": 33,
     "metadata": {},
     "output_type": "execute_result"
    },
    {
     "data": {
      "image/png": "[encoded data removed]",
      "text/plain": [
       "<Figure size 432x288 with 1 Axes>"
      ]
     },
     "metadata": {
      "needs_background": "light"
     },
     "output_type": "display_data"
    }
   ],
   "source": [
    "\n",
    "sns.distplot(base.iloc[:,1], hist = True, kde = True,\n",
    "           bins = 6, color = 'blue',\n",
    "           hist_kws={'edgecolor':'black'})"
   ]
  },
  {
   "cell_type": "markdown",
   "id": "9cc8abe2",
   "metadata": {},
   "source": [
    "- Linha de densidade **suaviza os dados**. Reduz os picos pela forma que é calculada. "
   ]
  },
  {
   "cell_type": "markdown",
   "id": "426d5c2b",
   "metadata": {},
   "source": [
    "## Gráfico Dispersão"
   ]
  },
  {
   "cell_type": "code",
   "execution_count": 34,
   "id": "b0660e79",
   "metadata": {
    "ExecuteTime": {
     "end_time": "2022-08-25T00:44:02.748087Z",
     "start_time": "2022-08-25T00:44:02.733128Z"
    }
   },
   "outputs": [],
   "source": [
    "#Não esquecer de importar\n",
    "#import pandas as pd\n",
    "#import matplotlib.pyplot as plt\n",
    "#import seaborn as sns"
   ]
  },
  {
   "cell_type": "code",
   "execution_count": 35,
   "id": "27ad08a1",
   "metadata": {
    "ExecuteTime": {
     "end_time": "2022-08-25T00:44:02.764046Z",
     "start_time": "2022-08-25T00:44:02.749086Z"
    }
   },
   "outputs": [
    {
     "data": {
      "text/html": [
       "<div>\n",
       "<style scoped>\n",
       "    .dataframe tbody tr th:only-of-type {\n",
       "        vertical-align: middle;\n",
       "    }\n",
       "\n",
       "    .dataframe tbody tr th {\n",
       "        vertical-align: top;\n",
       "    }\n",
       "\n",
       "    .dataframe thead th {\n",
       "        text-align: right;\n",
       "    }\n",
       "</style>\n",
       "<table border=\"1\" class=\"dataframe\">\n",
       "  <thead>\n",
       "    <tr style=\"text-align: right;\">\n",
       "      <th></th>\n",
       "      <th>Girth</th>\n",
       "      <th>Height</th>\n",
       "      <th>Volume</th>\n",
       "    </tr>\n",
       "  </thead>\n",
       "  <tbody>\n",
       "    <tr>\n",
       "      <th>0</th>\n",
       "      <td>8.3</td>\n",
       "      <td>70</td>\n",
       "      <td>10.3</td>\n",
       "    </tr>\n",
       "    <tr>\n",
       "      <th>1</th>\n",
       "      <td>8.6</td>\n",
       "      <td>65</td>\n",
       "      <td>10.3</td>\n",
       "    </tr>\n",
       "    <tr>\n",
       "      <th>2</th>\n",
       "      <td>8.8</td>\n",
       "      <td>63</td>\n",
       "      <td>10.2</td>\n",
       "    </tr>\n",
       "    <tr>\n",
       "      <th>3</th>\n",
       "      <td>10.5</td>\n",
       "      <td>72</td>\n",
       "      <td>16.4</td>\n",
       "    </tr>\n",
       "    <tr>\n",
       "      <th>4</th>\n",
       "      <td>10.7</td>\n",
       "      <td>81</td>\n",
       "      <td>18.8</td>\n",
       "    </tr>\n",
       "  </tbody>\n",
       "</table>\n",
       "</div>"
      ],
      "text/plain": [
       "   Girth  Height  Volume\n",
       "0    8.3      70    10.3\n",
       "1    8.6      65    10.3\n",
       "2    8.8      63    10.2\n",
       "3   10.5      72    16.4\n",
       "4   10.7      81    18.8"
      ]
     },
     "execution_count": 35,
     "metadata": {},
     "output_type": "execute_result"
    }
   ],
   "source": [
    "#carregamento da base de dados\n",
    "base = pd.read_csv('trees.csv')\n",
    "base.head()"
   ]
  },
  {
   "cell_type": "markdown",
   "id": "7c2eb608",
   "metadata": {},
   "source": [
    "### Usando Matplotlib"
   ]
  },
  {
   "cell_type": "markdown",
   "id": "d8156801",
   "metadata": {},
   "source": [
    "- As linhas de código abaixo servem para construir o Gráfico de Dispersão. O **método 'scatter'** é um método do matplotlib que para seu uso **se faz necessário a importação desta forma < matplotlib.pyplot >**. Só quando importei desta forma foi que consegui fazer gerar o gráfico. \n",
    "- Observar atentamente os parâmetros exigidos no **método scatter**.\n"
   ]
  },
  {
   "cell_type": "code",
   "execution_count": 36,
   "id": "77bd4963",
   "metadata": {
    "ExecuteTime": {
     "end_time": "2022-08-25T00:44:02.891732Z",
     "start_time": "2022-08-25T00:44:02.765042Z"
    }
   },
   "outputs": [
    {
     "data": {
      "text/plain": [
       "Text(0, 0.5, 'Circunferência')"
      ]
     },
     "execution_count": 36,
     "metadata": {},
     "output_type": "execute_result"
    },
    {
     "data": {
      "image/png": "[encoded data removed]",
      "text/plain": [
       "<Figure size 432x288 with 1 Axes>"
      ]
     },
     "metadata": {
      "needs_background": "light"
     },
     "output_type": "display_data"
    }
   ],
   "source": [
    "#construção do gráfico de dispersão considerando o volume e a dispersão.\n",
    "plt.scatter(base.Girth, base.Volume, color = 'blue', facecolors = 'none', marker = '*') \n",
    "plt.title('Árvores')\n",
    "plt.xlabel('Volume')\n",
    "plt.ylabel('Circunferência')"
   ]
  },
  {
   "cell_type": "markdown",
   "id": "0cf498a6",
   "metadata": {},
   "source": [
    "- Ao se usar o método **plot** ao invés de **scatter** o gráfico retorna com linhas conectando pontos. <br>\n",
    "VER ABAIXO"
   ]
  },
  {
   "cell_type": "code",
   "execution_count": 37,
   "id": "5200bdce",
   "metadata": {
    "ExecuteTime": {
     "end_time": "2022-08-25T00:44:03.003406Z",
     "start_time": "2022-08-25T00:44:02.892703Z"
    }
   },
   "outputs": [
    {
     "data": {
      "text/plain": [
       "Text(0, 0.5, 'Circunferência')"
      ]
     },
     "execution_count": 37,
     "metadata": {},
     "output_type": "execute_result"
    },
    {
     "data": {
      "image/png": "[encoded data removed]",
      "text/plain": [
       "<Figure size 432x288 with 1 Axes>"
      ]
     },
     "metadata": {
      "needs_background": "light"
     },
     "output_type": "display_data"
    }
   ],
   "source": [
    "plt.plot(base.Girth, base.Volume) \n",
    "plt.title('Árvores')\n",
    "plt.xlabel('Volume')\n",
    "plt.ylabel('Circunferência')"
   ]
  },
  {
   "cell_type": "markdown",
   "id": "ebfb38d4",
   "metadata": {},
   "source": [
    "### Usando Seaborn"
   ]
  },
  {
   "cell_type": "code",
   "execution_count": 38,
   "id": "550e707b",
   "metadata": {
    "ExecuteTime": {
     "end_time": "2022-08-25T00:44:03.019368Z",
     "start_time": "2022-08-25T00:44:03.004404Z"
    },
    "scrolled": true
   },
   "outputs": [
    {
     "data": {
      "text/html": [
       "<div>\n",
       "<style scoped>\n",
       "    .dataframe tbody tr th:only-of-type {\n",
       "        vertical-align: middle;\n",
       "    }\n",
       "\n",
       "    .dataframe tbody tr th {\n",
       "        vertical-align: top;\n",
       "    }\n",
       "\n",
       "    .dataframe thead th {\n",
       "        text-align: right;\n",
       "    }\n",
       "</style>\n",
       "<table border=\"1\" class=\"dataframe\">\n",
       "  <thead>\n",
       "    <tr style=\"text-align: right;\">\n",
       "      <th></th>\n",
       "      <th>Plant</th>\n",
       "      <th>Type</th>\n",
       "      <th>Treatment</th>\n",
       "      <th>conc</th>\n",
       "      <th>uptake</th>\n",
       "    </tr>\n",
       "  </thead>\n",
       "  <tbody>\n",
       "    <tr>\n",
       "      <th>0</th>\n",
       "      <td>Qn1</td>\n",
       "      <td>Quebec</td>\n",
       "      <td>nonchilled</td>\n",
       "      <td>95</td>\n",
       "      <td>16.0</td>\n",
       "    </tr>\n",
       "    <tr>\n",
       "      <th>1</th>\n",
       "      <td>Qn1</td>\n",
       "      <td>Quebec</td>\n",
       "      <td>nonchilled</td>\n",
       "      <td>175</td>\n",
       "      <td>30.4</td>\n",
       "    </tr>\n",
       "    <tr>\n",
       "      <th>2</th>\n",
       "      <td>Qn1</td>\n",
       "      <td>Quebec</td>\n",
       "      <td>nonchilled</td>\n",
       "      <td>250</td>\n",
       "      <td>34.8</td>\n",
       "    </tr>\n",
       "    <tr>\n",
       "      <th>3</th>\n",
       "      <td>Qn1</td>\n",
       "      <td>Quebec</td>\n",
       "      <td>nonchilled</td>\n",
       "      <td>350</td>\n",
       "      <td>37.2</td>\n",
       "    </tr>\n",
       "    <tr>\n",
       "      <th>4</th>\n",
       "      <td>Qn1</td>\n",
       "      <td>Quebec</td>\n",
       "      <td>nonchilled</td>\n",
       "      <td>500</td>\n",
       "      <td>35.3</td>\n",
       "    </tr>\n",
       "  </tbody>\n",
       "</table>\n",
       "</div>"
      ],
      "text/plain": [
       "  Plant    Type   Treatment  conc  uptake\n",
       "0   Qn1  Quebec  nonchilled    95    16.0\n",
       "1   Qn1  Quebec  nonchilled   175    30.4\n",
       "2   Qn1  Quebec  nonchilled   250    34.8\n",
       "3   Qn1  Quebec  nonchilled   350    37.2\n",
       "4   Qn1  Quebec  nonchilled   500    35.3"
      ]
     },
     "execution_count": 38,
     "metadata": {},
     "output_type": "execute_result"
    }
   ],
   "source": [
    "base3 = pd.read_csv('co2.csv')\n",
    "base3.head()"
   ]
  },
  {
   "cell_type": "markdown",
   "id": "d23ebb6f",
   "metadata": {
    "ExecuteTime": {
     "end_time": "2022-08-24T01:42:52.545878Z",
     "start_time": "2022-08-24T01:42:52.538895Z"
    }
   },
   "source": [
    "#### .regplot"
   ]
  },
  {
   "cell_type": "code",
   "execution_count": 39,
   "id": "2c97233d",
   "metadata": {
    "ExecuteTime": {
     "end_time": "2022-08-25T00:44:03.144229Z",
     "start_time": "2022-08-25T00:44:03.021359Z"
    },
    "scrolled": false
   },
   "outputs": [
    {
     "data": {
      "text/plain": [
       "<AxesSubplot:xlabel='Girth', ylabel='Volume'>"
      ]
     },
     "execution_count": 39,
     "metadata": {},
     "output_type": "execute_result"
    },
    {
     "data": {
      "image/png": "[encoded data removed]",
      "text/plain": [
       "<Figure size 432x288 with 1 Axes>"
      ]
     },
     "metadata": {
      "needs_background": "light"
     },
     "output_type": "display_data"
    }
   ],
   "source": [
    "#Usando o seaborn\n",
    "#sns.regplot(base.Girth, base.Volume, data = base, x_jitter = 0.3, fit_reg = False) Método aula\n",
    "sns.regplot(x = \"Girth\", y = \"Volume\", data = base, x_jitter = 0.3, fit_reg = False) #método mais atual"
   ]
  },
  {
   "cell_type": "markdown",
   "id": "a2c6be21",
   "metadata": {},
   "source": [
    "#### scatterplot"
   ]
  },
  {
   "cell_type": "markdown",
   "id": "d74a88fc",
   "metadata": {},
   "source": [
    "- parâmetro **jitter** (tremulação) serve para afastar aleatoriamente pontos sobrepostos. \n",
    "- parâmetro **fit_reg** serve para dehabilitar linha de tendência. Por defaut ela aparecerá. É necessário inserir o parâmetro com **False** para ela desabilitar."
   ]
  },
  {
   "cell_type": "code",
   "execution_count": 40,
   "id": "6c44a6ca",
   "metadata": {
    "ExecuteTime": {
     "end_time": "2022-08-25T00:44:03.313832Z",
     "start_time": "2022-08-25T00:44:03.146156Z"
    },
    "scrolled": true
   },
   "outputs": [
    {
     "data": {
      "text/plain": [
       "<AxesSubplot:xlabel='conc', ylabel='uptake'>"
      ]
     },
     "execution_count": 40,
     "metadata": {},
     "output_type": "execute_result"
    },
    {
     "data": {
      "image/png": "[encoded data removed]",
      "text/plain": [
       "<Figure size 432x288 with 1 Axes>"
      ]
     },
     "metadata": {
      "needs_background": "light"
     },
     "output_type": "display_data"
    }
   ],
   "source": [
    "#outro jeito Seaborn\n",
    "sns.scatterplot(data = base3, x= \"conc\", y= \"uptake\", hue = \"Type\")"
   ]
  },
  {
   "cell_type": "code",
   "execution_count": 41,
   "id": "9a60ffdd",
   "metadata": {
    "ExecuteTime": {
     "end_time": "2022-08-25T00:44:03.328840Z",
     "start_time": "2022-08-25T00:44:03.314830Z"
    }
   },
   "outputs": [],
   "source": [
    "# Seleção filtrando pelo Type.\n",
    "q = base3.loc[base3['Type'] == 'Quebec']\n",
    "m = base3.loc[base3['Type'] == 'Mississipi']"
   ]
  },
  {
   "cell_type": "code",
   "execution_count": 42,
   "id": "4362c013",
   "metadata": {
    "ExecuteTime": {
     "end_time": "2022-08-25T00:44:03.519686Z",
     "start_time": "2022-08-25T00:44:03.331832Z"
    }
   },
   "outputs": [
    {
     "data": {
      "image/png": "[encoded data removed]",
      "text/plain": [
       "<Figure size 432x288 with 2 Axes>"
      ]
     },
     "metadata": {
      "needs_background": "light"
     },
     "output_type": "display_data"
    }
   ],
   "source": [
    "plt.figure()\n",
    "plt.subplot(1,2,1)\n",
    "sns.scatterplot(data = q, x = \"conc\", y = \"uptake\").set_title('Quebec')\n",
    "plt.subplot(1,2,2)\n",
    "sns.scatterplot(data = m, x = \"conc\", y = \"uptake\").set_title('Mississipi')\n",
    "plt.tight_layout()"
   ]
  },
  {
   "cell_type": "code",
   "execution_count": 43,
   "id": "77bff135",
   "metadata": {
    "ExecuteTime": {
     "end_time": "2022-08-25T00:44:03.535600Z",
     "start_time": "2022-08-25T00:44:03.520610Z"
    }
   },
   "outputs": [],
   "source": [
    "# Seleção filtrando pelo Tratamento.\n",
    "ch = base3.loc[base3['Treatment'] == 'chilled']\n",
    "nc = base3.loc[base3['Treatment'] == 'nonchilled']"
   ]
  },
  {
   "cell_type": "code",
   "execution_count": 44,
   "id": "159ab374",
   "metadata": {
    "ExecuteTime": {
     "end_time": "2022-08-25T00:44:03.756966Z",
     "start_time": "2022-08-25T00:44:03.537566Z"
    }
   },
   "outputs": [
    {
     "data": {
      "image/png": "[encoded data removed]",
      "text/plain": [
       "<Figure size 432x288 with 2 Axes>"
      ]
     },
     "metadata": {
      "needs_background": "light"
     },
     "output_type": "display_data"
    }
   ],
   "source": [
    "plt.figure()\n",
    "plt.subplot(1,2,1)\n",
    "sns.scatterplot(data = ch, x = \"conc\", y = \"uptake\").set_title('Chilled')\n",
    "plt.subplot(1,2,2)\n",
    "sns.scatterplot(data = nc, x = \"conc\", y = \"uptake\").set_title('NonChilled')\n",
    "plt.tight_layout()"
   ]
  },
  {
   "cell_type": "markdown",
   "id": "5ea31a32",
   "metadata": {},
   "source": [
    "#### Exemplo 2. Cance Esofago"
   ]
  },
  {
   "cell_type": "code",
   "execution_count": 45,
   "id": "5dc4840c",
   "metadata": {
    "ExecuteTime": {
     "end_time": "2022-08-25T00:44:03.787884Z",
     "start_time": "2022-08-25T00:44:03.757978Z"
    }
   },
   "outputs": [
    {
     "data": {
      "text/html": [
       "<div>\n",
       "<style scoped>\n",
       "    .dataframe tbody tr th:only-of-type {\n",
       "        vertical-align: middle;\n",
       "    }\n",
       "\n",
       "    .dataframe tbody tr th {\n",
       "        vertical-align: top;\n",
       "    }\n",
       "\n",
       "    .dataframe thead th {\n",
       "        text-align: right;\n",
       "    }\n",
       "</style>\n",
       "<table border=\"1\" class=\"dataframe\">\n",
       "  <thead>\n",
       "    <tr style=\"text-align: right;\">\n",
       "      <th></th>\n",
       "      <th>agegp</th>\n",
       "      <th>alcgp</th>\n",
       "      <th>tobgp</th>\n",
       "      <th>ncases</th>\n",
       "      <th>ncontrols</th>\n",
       "    </tr>\n",
       "  </thead>\n",
       "  <tbody>\n",
       "    <tr>\n",
       "      <th>0</th>\n",
       "      <td>25-34</td>\n",
       "      <td>0-39g/day</td>\n",
       "      <td>0-9g/day</td>\n",
       "      <td>0</td>\n",
       "      <td>40</td>\n",
       "    </tr>\n",
       "    <tr>\n",
       "      <th>1</th>\n",
       "      <td>25-34</td>\n",
       "      <td>0-39g/day</td>\n",
       "      <td>10-19</td>\n",
       "      <td>0</td>\n",
       "      <td>10</td>\n",
       "    </tr>\n",
       "    <tr>\n",
       "      <th>2</th>\n",
       "      <td>25-34</td>\n",
       "      <td>0-39g/day</td>\n",
       "      <td>20-29</td>\n",
       "      <td>0</td>\n",
       "      <td>6</td>\n",
       "    </tr>\n",
       "    <tr>\n",
       "      <th>3</th>\n",
       "      <td>25-34</td>\n",
       "      <td>0-39g/day</td>\n",
       "      <td>30+</td>\n",
       "      <td>0</td>\n",
       "      <td>5</td>\n",
       "    </tr>\n",
       "    <tr>\n",
       "      <th>4</th>\n",
       "      <td>25-34</td>\n",
       "      <td>40-79</td>\n",
       "      <td>0-9g/day</td>\n",
       "      <td>0</td>\n",
       "      <td>27</td>\n",
       "    </tr>\n",
       "    <tr>\n",
       "      <th>...</th>\n",
       "      <td>...</td>\n",
       "      <td>...</td>\n",
       "      <td>...</td>\n",
       "      <td>...</td>\n",
       "      <td>...</td>\n",
       "    </tr>\n",
       "    <tr>\n",
       "      <th>83</th>\n",
       "      <td>75+</td>\n",
       "      <td>40-79</td>\n",
       "      <td>30+</td>\n",
       "      <td>1</td>\n",
       "      <td>1</td>\n",
       "    </tr>\n",
       "    <tr>\n",
       "      <th>84</th>\n",
       "      <td>75+</td>\n",
       "      <td>80-119</td>\n",
       "      <td>0-9g/day</td>\n",
       "      <td>1</td>\n",
       "      <td>1</td>\n",
       "    </tr>\n",
       "    <tr>\n",
       "      <th>85</th>\n",
       "      <td>75+</td>\n",
       "      <td>80-119</td>\n",
       "      <td>10-19</td>\n",
       "      <td>1</td>\n",
       "      <td>1</td>\n",
       "    </tr>\n",
       "    <tr>\n",
       "      <th>86</th>\n",
       "      <td>75+</td>\n",
       "      <td>120+</td>\n",
       "      <td>0-9g/day</td>\n",
       "      <td>2</td>\n",
       "      <td>2</td>\n",
       "    </tr>\n",
       "    <tr>\n",
       "      <th>87</th>\n",
       "      <td>75+</td>\n",
       "      <td>120+</td>\n",
       "      <td>10-19</td>\n",
       "      <td>1</td>\n",
       "      <td>1</td>\n",
       "    </tr>\n",
       "  </tbody>\n",
       "</table>\n",
       "<p>88 rows × 5 columns</p>\n",
       "</div>"
      ],
      "text/plain": [
       "    agegp      alcgp     tobgp  ncases  ncontrols\n",
       "0   25-34  0-39g/day  0-9g/day       0         40\n",
       "1   25-34  0-39g/day     10-19       0         10\n",
       "2   25-34  0-39g/day     20-29       0          6\n",
       "3   25-34  0-39g/day       30+       0          5\n",
       "4   25-34      40-79  0-9g/day       0         27\n",
       "..    ...        ...       ...     ...        ...\n",
       "83    75+      40-79       30+       1          1\n",
       "84    75+     80-119  0-9g/day       1          1\n",
       "85    75+     80-119     10-19       1          1\n",
       "86    75+       120+  0-9g/day       2          2\n",
       "87    75+       120+     10-19       1          1\n",
       "\n",
       "[88 rows x 5 columns]"
      ]
     },
     "execution_count": 45,
     "metadata": {},
     "output_type": "execute_result"
    }
   ],
   "source": [
    "base4 = pd.read_csv('esoph.csv')\n",
    "base4"
   ]
  },
  {
   "cell_type": "code",
   "execution_count": 46,
   "id": "8ebd70a9",
   "metadata": {
    "ExecuteTime": {
     "end_time": "2022-08-25T00:44:03.928349Z",
     "start_time": "2022-08-25T00:44:03.789879Z"
    },
    "scrolled": true
   },
   "outputs": [
    {
     "data": {
      "text/plain": [
       "<seaborn.axisgrid.FacetGrid at 0x1a0749b5ca0>"
      ]
     },
     "execution_count": 46,
     "metadata": {},
     "output_type": "execute_result"
    },
    {
     "data": {
      "image/png": "[encoded data removed]",
      "text/plain": [
       "<Figure size 360x360 with 1 Axes>"
      ]
     },
     "metadata": {
      "needs_background": "light"
     },
     "output_type": "display_data"
    }
   ],
   "source": [
    "sns.catplot(x = 'alcgp', y = 'ncontrols', data = base4, jitter = False)"
   ]
  },
  {
   "cell_type": "code",
   "execution_count": 47,
   "id": "05158fd7",
   "metadata": {
    "ExecuteTime": {
     "end_time": "2022-08-25T00:44:04.388379Z",
     "start_time": "2022-08-25T00:44:03.929277Z"
    }
   },
   "outputs": [
    {
     "data": {
      "text/plain": [
       "<seaborn.axisgrid.FacetGrid at 0x1a07484f730>"
      ]
     },
     "execution_count": 47,
     "metadata": {},
     "output_type": "execute_result"
    },
    {
     "data": {
      "image/png": "[encoded data removed]",
      "text/plain": [
       "<Figure size 1440x360 with 4 Axes>"
      ]
     },
     "metadata": {
      "needs_background": "light"
     },
     "output_type": "display_data"
    }
   ],
   "source": [
    "sns.catplot(x = 'alcgp', y = 'ncontrols', data = base4, col = 'tobgp')"
   ]
  },
  {
   "cell_type": "markdown",
   "id": "4eb4f2a1",
   "metadata": {},
   "source": [
    "- Os gráficos acima permite comparar os dados com a coluna tobgp."
   ]
  },
  {
   "cell_type": "markdown",
   "id": "fe8e0c58",
   "metadata": {},
   "source": [
    "### Adicionando Legendas"
   ]
  },
  {
   "cell_type": "code",
   "execution_count": 48,
   "id": "7050046c",
   "metadata": {
    "ExecuteTime": {
     "end_time": "2022-08-25T00:44:04.403339Z",
     "start_time": "2022-08-25T00:44:04.390396Z"
    },
    "scrolled": true
   },
   "outputs": [],
   "source": [
    "#Não esquecer de importar\n",
    "#import pantas as pd\n",
    "#import matplotlib.pyplot as plt"
   ]
  },
  {
   "cell_type": "code",
   "execution_count": 49,
   "id": "3234c4e2",
   "metadata": {
    "ExecuteTime": {
     "end_time": "2022-08-25T00:44:04.419297Z",
     "start_time": "2022-08-25T00:44:04.405341Z"
    }
   },
   "outputs": [
    {
     "data": {
      "text/html": [
       "<div>\n",
       "<style scoped>\n",
       "    .dataframe tbody tr th:only-of-type {\n",
       "        vertical-align: middle;\n",
       "    }\n",
       "\n",
       "    .dataframe tbody tr th {\n",
       "        vertical-align: top;\n",
       "    }\n",
       "\n",
       "    .dataframe thead th {\n",
       "        text-align: right;\n",
       "    }\n",
       "</style>\n",
       "<table border=\"1\" class=\"dataframe\">\n",
       "  <thead>\n",
       "    <tr style=\"text-align: right;\">\n",
       "      <th></th>\n",
       "      <th>Plant</th>\n",
       "      <th>Type</th>\n",
       "      <th>Treatment</th>\n",
       "      <th>conc</th>\n",
       "      <th>uptake</th>\n",
       "    </tr>\n",
       "  </thead>\n",
       "  <tbody>\n",
       "    <tr>\n",
       "      <th>0</th>\n",
       "      <td>Qn1</td>\n",
       "      <td>Quebec</td>\n",
       "      <td>nonchilled</td>\n",
       "      <td>95</td>\n",
       "      <td>16.0</td>\n",
       "    </tr>\n",
       "    <tr>\n",
       "      <th>1</th>\n",
       "      <td>Qn1</td>\n",
       "      <td>Quebec</td>\n",
       "      <td>nonchilled</td>\n",
       "      <td>175</td>\n",
       "      <td>30.4</td>\n",
       "    </tr>\n",
       "    <tr>\n",
       "      <th>2</th>\n",
       "      <td>Qn1</td>\n",
       "      <td>Quebec</td>\n",
       "      <td>nonchilled</td>\n",
       "      <td>250</td>\n",
       "      <td>34.8</td>\n",
       "    </tr>\n",
       "    <tr>\n",
       "      <th>3</th>\n",
       "      <td>Qn1</td>\n",
       "      <td>Quebec</td>\n",
       "      <td>nonchilled</td>\n",
       "      <td>350</td>\n",
       "      <td>37.2</td>\n",
       "    </tr>\n",
       "    <tr>\n",
       "      <th>4</th>\n",
       "      <td>Qn1</td>\n",
       "      <td>Quebec</td>\n",
       "      <td>nonchilled</td>\n",
       "      <td>500</td>\n",
       "      <td>35.3</td>\n",
       "    </tr>\n",
       "  </tbody>\n",
       "</table>\n",
       "</div>"
      ],
      "text/plain": [
       "  Plant    Type   Treatment  conc  uptake\n",
       "0   Qn1  Quebec  nonchilled    95    16.0\n",
       "1   Qn1  Quebec  nonchilled   175    30.4\n",
       "2   Qn1  Quebec  nonchilled   250    34.8\n",
       "3   Qn1  Quebec  nonchilled   350    37.2\n",
       "4   Qn1  Quebec  nonchilled   500    35.3"
      ]
     },
     "execution_count": 49,
     "metadata": {},
     "output_type": "execute_result"
    }
   ],
   "source": [
    "base3 = pd.read_csv('co2.csv')\n",
    "base3.head()"
   ]
  },
  {
   "cell_type": "markdown",
   "id": "2ca602f0",
   "metadata": {},
   "source": [
    "- o arquivo co2,csv precisa está no diretório em que esse notebook está para poder funcionar\n",
    "- a tabela mostra informações de plantas, o tipo de tratamento, e a concentração de co2"
   ]
  },
  {
   "cell_type": "code",
   "execution_count": 50,
   "id": "1fc60d0b",
   "metadata": {
    "ExecuteTime": {
     "end_time": "2022-08-25T00:44:04.703361Z",
     "start_time": "2022-08-25T00:44:04.422289Z"
    }
   },
   "outputs": [
    {
     "ename": "AttributeError",
     "evalue": "'DataFrame' object has no attribute 'conc'",
     "output_type": "error",
     "traceback": [
      "\u001b[1;31m---------------------------------------------------------------------------\u001b[0m",
      "\u001b[1;31mAttributeError\u001b[0m                            Traceback (most recent call last)",
      "\u001b[1;32mC:\\Users\\CHRIST~1\\AppData\\Local\\Temp/ipykernel_4388/830598763.py\u001b[0m in \u001b[0;36m<module>\u001b[1;34m\u001b[0m\n\u001b[0;32m      1\u001b[0m \u001b[1;31m#separar duas colunas distintas para se tornarem variáveis de um gráfico\u001b[0m\u001b[1;33m\u001b[0m\u001b[1;33m\u001b[0m\u001b[0m\n\u001b[1;32m----> 2\u001b[1;33m \u001b[0mx\u001b[0m \u001b[1;33m=\u001b[0m \u001b[0mbase\u001b[0m\u001b[1;33m.\u001b[0m\u001b[0mconc\u001b[0m\u001b[1;33m\u001b[0m\u001b[1;33m\u001b[0m\u001b[0m\n\u001b[0m\u001b[0;32m      3\u001b[0m \u001b[0my\u001b[0m \u001b[1;33m=\u001b[0m \u001b[0mbase\u001b[0m\u001b[1;33m.\u001b[0m\u001b[0muptake\u001b[0m\u001b[1;33m\u001b[0m\u001b[1;33m\u001b[0m\u001b[0m\n",
      "\u001b[1;32m~\\anaconda3\\lib\\site-packages\\pandas\\core\\generic.py\u001b[0m in \u001b[0;36m__getattr__\u001b[1;34m(self, name)\u001b[0m\n\u001b[0;32m   5485\u001b[0m         ):\n\u001b[0;32m   5486\u001b[0m             \u001b[1;32mreturn\u001b[0m \u001b[0mself\u001b[0m\u001b[1;33m[\u001b[0m\u001b[0mname\u001b[0m\u001b[1;33m]\u001b[0m\u001b[1;33m\u001b[0m\u001b[1;33m\u001b[0m\u001b[0m\n\u001b[1;32m-> 5487\u001b[1;33m         \u001b[1;32mreturn\u001b[0m \u001b[0mobject\u001b[0m\u001b[1;33m.\u001b[0m\u001b[0m__getattribute__\u001b[0m\u001b[1;33m(\u001b[0m\u001b[0mself\u001b[0m\u001b[1;33m,\u001b[0m \u001b[0mname\u001b[0m\u001b[1;33m)\u001b[0m\u001b[1;33m\u001b[0m\u001b[1;33m\u001b[0m\u001b[0m\n\u001b[0m\u001b[0;32m   5488\u001b[0m \u001b[1;33m\u001b[0m\u001b[0m\n\u001b[0;32m   5489\u001b[0m     \u001b[1;32mdef\u001b[0m \u001b[0m__setattr__\u001b[0m\u001b[1;33m(\u001b[0m\u001b[0mself\u001b[0m\u001b[1;33m,\u001b[0m \u001b[0mname\u001b[0m\u001b[1;33m:\u001b[0m \u001b[0mstr\u001b[0m\u001b[1;33m,\u001b[0m \u001b[0mvalue\u001b[0m\u001b[1;33m)\u001b[0m \u001b[1;33m->\u001b[0m \u001b[1;32mNone\u001b[0m\u001b[1;33m:\u001b[0m\u001b[1;33m\u001b[0m\u001b[1;33m\u001b[0m\u001b[0m\n",
      "\u001b[1;31mAttributeError\u001b[0m: 'DataFrame' object has no attribute 'conc'"
     ]
    }
   ],
   "source": [
    "#separar duas colunas distintas para se tornarem variáveis de um gráfico\n",
    "x = base.conc\n",
    "y = base.uptake"
   ]
  },
  {
   "cell_type": "code",
   "execution_count": null,
   "id": "016d2ca1",
   "metadata": {
    "ExecuteTime": {
     "end_time": "2022-08-25T00:44:04.704359Z",
     "start_time": "2022-08-25T00:44:04.704359Z"
    }
   },
   "outputs": [],
   "source": [
    "#tratamento da coluna Tratment, distinguindo entre 'nonchilled' e 'chilled'\n",
    "unicos = list(set(base.Treatment))\n",
    "unicos"
   ]
  },
  {
   "cell_type": "code",
   "execution_count": null,
   "id": "dad7b0bc",
   "metadata": {
    "ExecuteTime": {
     "end_time": "2022-08-25T00:44:04.705370Z",
     "start_time": "2022-08-25T00:44:04.705370Z"
    }
   },
   "outputs": [],
   "source": [
    "for i in range(len(unicos)): #função laço\n",
    "    indice = base.Treatment == unicos [i]\n",
    "    plt.scatter(x[indice], y[indice], label = unicos[i])\n",
    "plt.legend(loc = 'lower right') #posicionamento da legenda"
   ]
  },
  {
   "cell_type": "markdown",
   "id": "5a09ef97",
   "metadata": {},
   "source": [
    "### Divisão de tela."
   ]
  },
  {
   "cell_type": "markdown",
   "id": "e13c800a",
   "metadata": {},
   "source": [
    "Útil quando se quer comparar diferentes atributos de um mesmo conjunto de dados. Por exemplo, um gráfico de dispersão permite que se compare apenas 2 atributos. Mas com a técnica de divisão de tela, é possível comparar pares de 2 atributos."
   ]
  },
  {
   "cell_type": "code",
   "execution_count": null,
   "id": "663bc254",
   "metadata": {
    "ExecuteTime": {
     "end_time": "2022-08-25T00:44:04.707352Z",
     "start_time": "2022-08-25T00:44:04.707352Z"
    }
   },
   "outputs": [],
   "source": [
    "#Não esquecer de importar\n",
    "#import pandas as pd\n",
    "#import matplotlib.pyplot as plt\n"
   ]
  },
  {
   "cell_type": "code",
   "execution_count": null,
   "id": "07c6bc1a",
   "metadata": {
    "ExecuteTime": {
     "end_time": "2022-08-25T00:44:04.708350Z",
     "start_time": "2022-08-25T00:44:04.708350Z"
    }
   },
   "outputs": [],
   "source": [
    "base = pd.read_csv('trees.csv')\n",
    "base.head()"
   ]
  },
  {
   "cell_type": "code",
   "execution_count": null,
   "id": "4f90a4f1",
   "metadata": {
    "ExecuteTime": {
     "end_time": "2022-08-25T00:44:04.709347Z",
     "start_time": "2022-08-25T00:44:04.709347Z"
    }
   },
   "outputs": [],
   "source": [
    "#relaciona Girth com Volume\n",
    "plt.scatter(base.Girth, base.Volume)"
   ]
  },
  {
   "cell_type": "code",
   "execution_count": null,
   "id": "bdff28e3",
   "metadata": {
    "ExecuteTime": {
     "end_time": "2022-08-25T00:44:04.710343Z",
     "start_time": "2022-08-25T00:44:04.710343Z"
    }
   },
   "outputs": [],
   "source": [
    "#relaciona Girth com Height\n",
    "plt.scatter(base.Girth, base.Height)"
   ]
  },
  {
   "cell_type": "code",
   "execution_count": null,
   "id": "5ba3ce00",
   "metadata": {
    "ExecuteTime": {
     "end_time": "2022-08-25T00:44:04.711341Z",
     "start_time": "2022-08-25T00:44:04.711341Z"
    }
   },
   "outputs": [],
   "source": [
    "#relaciona Height com volume\n",
    "plt.scatter(base.Height, base.Volume)"
   ]
  },
  {
   "cell_type": "code",
   "execution_count": null,
   "id": "c6313529",
   "metadata": {
    "ExecuteTime": {
     "end_time": "2022-08-25T00:44:04.712337Z",
     "start_time": "2022-08-25T00:44:04.712337Z"
    }
   },
   "outputs": [],
   "source": [
    "#histograma volume\n",
    "plt.hist(base.Volume)"
   ]
  },
  {
   "cell_type": "code",
   "execution_count": null,
   "id": "78c16f55",
   "metadata": {
    "ExecuteTime": {
     "end_time": "2022-08-25T00:44:04.713337Z",
     "start_time": "2022-08-25T00:44:04.713337Z"
    },
    "scrolled": true
   },
   "outputs": [],
   "source": [
    "#dividindo a tela. imprimindo os gráficos juntos\n",
    "plt.figure(1) #cria o elemento 1, que é um gráfico (contendo outros gráficos como se pode entender adiante)\n",
    "plt.subplot(2,2,1)\n",
    "plt.scatter(base.Girth, base.Volume)\n",
    "plt.subplot(2,2,2)\n",
    "plt.scatter(base.Girth, base.Height)\n",
    "plt.subplot(2,2,3)\n",
    "plt.scatter(base.Height, base.Volume, marker = \"*\")\n",
    "plt.subplot(2,2,4)\n",
    "plt.hist(base.Volume)"
   ]
  },
  {
   "cell_type": "markdown",
   "id": "cbbbd682",
   "metadata": {},
   "source": [
    "- (2,2,1): 2 e 2 corresponde ao número de linhas e colunas. O Número 1 corresponde a posição do gráfico no elemento gerado."
   ]
  },
  {
   "cell_type": "markdown",
   "id": "85e1c92d",
   "metadata": {},
   "source": [
    "## Boxplot"
   ]
  },
  {
   "cell_type": "code",
   "execution_count": null,
   "id": "5b760586",
   "metadata": {
    "ExecuteTime": {
     "end_time": "2022-08-25T00:44:04.714334Z",
     "start_time": "2022-08-25T00:44:04.714334Z"
    }
   },
   "outputs": [],
   "source": [
    "#Não esquecer de importar\n",
    "#import pandas as pd\n",
    "#import matplotlib.pyplot as plt"
   ]
  },
  {
   "cell_type": "code",
   "execution_count": null,
   "id": "6c8f8e36",
   "metadata": {
    "ExecuteTime": {
     "end_time": "2022-08-25T00:44:04.715332Z",
     "start_time": "2022-08-25T00:44:04.715332Z"
    }
   },
   "outputs": [],
   "source": [
    "base = pd.read_csv('trees.csv')\n",
    "base.head()"
   ]
  },
  {
   "cell_type": "markdown",
   "id": "1f4093e4",
   "metadata": {},
   "source": [
    "É possível usar o gráfico Boxplot com vários atributos. No exemplos usa só a coluna Volume."
   ]
  },
  {
   "cell_type": "code",
   "execution_count": null,
   "id": "f634fbf3",
   "metadata": {
    "ExecuteTime": {
     "end_time": "2022-08-25T00:44:04.716328Z",
     "start_time": "2022-08-25T00:44:04.716328Z"
    }
   },
   "outputs": [],
   "source": [
    "plt.boxplot(base.Volume, vert = False, showfliers = False, notch = True, patch_artist = True)\n",
    "plt.title('Árvores')\n",
    "plt.xlabel('Volume')"
   ]
  },
  {
   "cell_type": "markdown",
   "id": "778ab50c",
   "metadata": {},
   "source": [
    "**plt.boxplot(base.Volume, vert = False, showfliers = False, notch = True, patch_artist = True)** <br>.\n",
    "- **base.Volume**: referência da coluna de dados usada. No caso 'Volume'\n",
    "- **vert = False**: O gráfico é gerado na forma HORIZONTAL\n",
    "- **showfliers = False**: Não mostra os pontos 'outliers'\n",
    "- **notch = True** : Cria um taglio. Um corte próximo a mediana. A linha vermelha\n",
    "- **patch_artist = True**: Preenche o boxplot com uma cor\n",
    "\n"
   ]
  },
  {
   "cell_type": "code",
   "execution_count": null,
   "id": "db2af642",
   "metadata": {
    "ExecuteTime": {
     "end_time": "2022-08-25T00:44:04.717326Z",
     "start_time": "2022-08-25T00:44:04.717326Z"
    }
   },
   "outputs": [],
   "source": [
    "plt.boxplot(base.)\n",
    "plt.title('Árvores')\n",
    "plt.xlabel('Dados')"
   ]
  },
  {
   "cell_type": "code",
   "execution_count": null,
   "id": "5592b477",
   "metadata": {
    "ExecuteTime": {
     "end_time": "2022-08-25T00:44:04.718323Z",
     "start_time": "2022-08-25T00:44:04.718323Z"
    }
   },
   "outputs": [],
   "source": [
    "plt.boxplot(base.Volume, vert = False)\n",
    "plt.boxplot(base.Girth, vert = False)\n",
    "plt.boxplot(base.Height, vert = False)\n",
    "plt.title('Árvores')\n",
    "plt.xlabel('Dados')"
   ]
  },
  {
   "cell_type": "markdown",
   "id": "c5631489",
   "metadata": {},
   "source": [
    "### Usando o Seaborn"
   ]
  },
  {
   "cell_type": "code",
   "execution_count": null,
   "id": "8d2c61c5",
   "metadata": {
    "ExecuteTime": {
     "end_time": "2022-08-25T00:44:04.719321Z",
     "start_time": "2022-08-25T00:44:04.719321Z"
    }
   },
   "outputs": [],
   "source": [
    "#Não esquecer de importar \n",
    "#import pandas as pd\n",
    "#import seaborn as srn"
   ]
  },
  {
   "cell_type": "code",
   "execution_count": null,
   "id": "dedc5c88",
   "metadata": {
    "ExecuteTime": {
     "end_time": "2022-08-25T00:44:04.720318Z",
     "start_time": "2022-08-25T00:44:04.720318Z"
    }
   },
   "outputs": [],
   "source": [
    "base = pd.read_csv('trees.csv')\n",
    "base.head()"
   ]
  },
  {
   "cell_type": "code",
   "execution_count": null,
   "id": "947ebbb7",
   "metadata": {
    "ExecuteTime": {
     "end_time": "2022-08-25T00:44:04.721316Z",
     "start_time": "2022-08-25T00:44:04.721316Z"
    },
    "scrolled": true
   },
   "outputs": [],
   "source": [
    "#sns.boxplot(base.Volume).set_title('Árvores')\n",
    "ax = sns.boxplot(x=\"day\", y=\"total_bill\", data=tips)"
   ]
  },
  {
   "cell_type": "code",
   "execution_count": null,
   "id": "80e27666",
   "metadata": {
    "ExecuteTime": {
     "end_time": "2022-08-25T00:44:04.722312Z",
     "start_time": "2022-08-25T00:44:04.722312Z"
    }
   },
   "outputs": [],
   "source": [
    "sns.boxplot(data = base)"
   ]
  },
  {
   "cell_type": "markdown",
   "id": "fa7a3d10",
   "metadata": {},
   "source": [
    "## Gráficos de Barras e de Setores"
   ]
  },
  {
   "cell_type": "code",
   "execution_count": null,
   "id": "3e891e75",
   "metadata": {
    "ExecuteTime": {
     "end_time": "2022-08-25T00:44:04.723308Z",
     "start_time": "2022-08-25T00:44:04.723308Z"
    }
   },
   "outputs": [],
   "source": [
    "#Não esquecer de importar\n",
    "#import pandas as pd"
   ]
  },
  {
   "cell_type": "code",
   "execution_count": null,
   "id": "5e257561",
   "metadata": {
    "ExecuteTime": {
     "end_time": "2022-08-25T00:44:04.724307Z",
     "start_time": "2022-08-25T00:44:04.724307Z"
    }
   },
   "outputs": [],
   "source": [
    "base = pd.read_csv('insect.csv')\n",
    "base.shape #retorna resumo de instâncias e atributos constante nos dados"
   ]
  },
  {
   "cell_type": "markdown",
   "id": "1d3fab0f",
   "metadata": {},
   "source": [
    " - Retornou que o dado em questão possui 72 linhas (instâncias) e 2 colunas (atributos)"
   ]
  },
  {
   "cell_type": "code",
   "execution_count": null,
   "id": "e0975c27",
   "metadata": {
    "ExecuteTime": {
     "end_time": "2022-08-25T00:44:04.724307Z",
     "start_time": "2022-08-25T00:44:04.724307Z"
    }
   },
   "outputs": [],
   "source": [
    "base.head()"
   ]
  },
  {
   "cell_type": "markdown",
   "id": "2f128822",
   "metadata": {},
   "source": [
    " - Para poder trabalhar com gráfico de setores (ou de pizza como é conhecido) e gráfico de barra, é necessário **consolidar esses dados**. Isto é, **agrupá-los**.\n",
    " - Isso irá significar que e necessário somar toda a contagem do Spray dos diversos tipos. Tipo um resumo a partir de uma das 2 categorias existentes nesse DF."
   ]
  },
  {
   "cell_type": "code",
   "execution_count": null,
   "id": "ee734d8f",
   "metadata": {
    "ExecuteTime": {
     "end_time": "2022-08-25T00:44:04.725304Z",
     "start_time": "2022-08-25T00:44:04.725304Z"
    }
   },
   "outputs": [],
   "source": [
    "agrupado = base.groupby(['spray'])['count'].sum() #função que agrupa e retorna o resumo  \n",
    "agrupado"
   ]
  },
  {
   "cell_type": "code",
   "execution_count": null,
   "id": "512becb6",
   "metadata": {
    "ExecuteTime": {
     "end_time": "2022-08-25T00:44:04.726302Z",
     "start_time": "2022-08-25T00:44:04.726302Z"
    },
    "scrolled": true
   },
   "outputs": [],
   "source": [
    "#Gráfico de barras com cor cinza\n",
    "agrupado.plot.bar(color = 'gray')"
   ]
  },
  {
   "cell_type": "code",
   "execution_count": null,
   "id": "0d937979",
   "metadata": {
    "ExecuteTime": {
     "end_time": "2022-08-25T00:44:04.728299Z",
     "start_time": "2022-08-25T00:44:04.728299Z"
    },
    "scrolled": true
   },
   "outputs": [],
   "source": [
    "#Gráfico de barra com cores diversas\n",
    "agrupado.plot.bar(color = ['blue', 'yellow', 'red', 'green', 'pink', 'orange'])"
   ]
  },
  {
   "cell_type": "code",
   "execution_count": null,
   "id": "57ef7ffa",
   "metadata": {
    "ExecuteTime": {
     "end_time": "2022-08-25T00:44:04.729294Z",
     "start_time": "2022-08-25T00:44:04.729294Z"
    },
    "scrolled": true
   },
   "outputs": [],
   "source": [
    "#Gráfico de Pizza\n",
    "agrupado.plot.pie()"
   ]
  },
  {
   "cell_type": "code",
   "execution_count": null,
   "id": "4939c6e3",
   "metadata": {
    "ExecuteTime": {
     "end_time": "2022-08-25T00:44:04.731288Z",
     "start_time": "2022-08-25T00:44:04.731288Z"
    }
   },
   "outputs": [],
   "source": [
    "#Gráfico de pizza com legenda\n",
    "agrupado.plot.pie(legend = True)"
   ]
  },
  {
   "cell_type": "markdown",
   "id": "c3847ba5",
   "metadata": {},
   "source": [
    "## Gráfico 3D"
   ]
  },
  {
   "cell_type": "markdown",
   "id": "3f68b4ef",
   "metadata": {},
   "source": [
    "- Usará 3 atributos (colunas) para gerar os pontos no gráfico.\n",
    "- Como resultado será um gráfico 3D estático"
   ]
  },
  {
   "cell_type": "code",
   "execution_count": 51,
   "id": "4283beb1",
   "metadata": {
    "ExecuteTime": {
     "end_time": "2022-08-25T00:44:12.465698Z",
     "start_time": "2022-08-25T00:44:12.451705Z"
    }
   },
   "outputs": [],
   "source": [
    "# Não esquecer de importar bibliotecas\n",
    "#import pandas as pd\n",
    "#import matplotlib.pyplot as plt\n",
    "from mpl_toolkits.mplot3d import axes3d"
   ]
  },
  {
   "cell_type": "code",
   "execution_count": 52,
   "id": "6d35c523",
   "metadata": {
    "ExecuteTime": {
     "end_time": "2022-08-25T00:45:57.300793Z",
     "start_time": "2022-08-25T00:45:57.275851Z"
    }
   },
   "outputs": [
    {
     "data": {
      "text/html": [
       "<div>\n",
       "<style scoped>\n",
       "    .dataframe tbody tr th:only-of-type {\n",
       "        vertical-align: middle;\n",
       "    }\n",
       "\n",
       "    .dataframe tbody tr th {\n",
       "        vertical-align: top;\n",
       "    }\n",
       "\n",
       "    .dataframe thead th {\n",
       "        text-align: right;\n",
       "    }\n",
       "</style>\n",
       "<table border=\"1\" class=\"dataframe\">\n",
       "  <thead>\n",
       "    <tr style=\"text-align: right;\">\n",
       "      <th></th>\n",
       "      <th>decrease</th>\n",
       "      <th>rowpos</th>\n",
       "      <th>colpos</th>\n",
       "      <th>treatment</th>\n",
       "    </tr>\n",
       "  </thead>\n",
       "  <tbody>\n",
       "    <tr>\n",
       "      <th>0</th>\n",
       "      <td>57</td>\n",
       "      <td>1</td>\n",
       "      <td>1</td>\n",
       "      <td>D</td>\n",
       "    </tr>\n",
       "    <tr>\n",
       "      <th>1</th>\n",
       "      <td>95</td>\n",
       "      <td>2</td>\n",
       "      <td>1</td>\n",
       "      <td>E</td>\n",
       "    </tr>\n",
       "    <tr>\n",
       "      <th>2</th>\n",
       "      <td>8</td>\n",
       "      <td>3</td>\n",
       "      <td>1</td>\n",
       "      <td>B</td>\n",
       "    </tr>\n",
       "    <tr>\n",
       "      <th>3</th>\n",
       "      <td>69</td>\n",
       "      <td>4</td>\n",
       "      <td>1</td>\n",
       "      <td>H</td>\n",
       "    </tr>\n",
       "    <tr>\n",
       "      <th>4</th>\n",
       "      <td>92</td>\n",
       "      <td>5</td>\n",
       "      <td>1</td>\n",
       "      <td>G</td>\n",
       "    </tr>\n",
       "    <tr>\n",
       "      <th>...</th>\n",
       "      <td>...</td>\n",
       "      <td>...</td>\n",
       "      <td>...</td>\n",
       "      <td>...</td>\n",
       "    </tr>\n",
       "    <tr>\n",
       "      <th>59</th>\n",
       "      <td>14</td>\n",
       "      <td>4</td>\n",
       "      <td>8</td>\n",
       "      <td>B</td>\n",
       "    </tr>\n",
       "    <tr>\n",
       "      <th>60</th>\n",
       "      <td>86</td>\n",
       "      <td>5</td>\n",
       "      <td>8</td>\n",
       "      <td>H</td>\n",
       "    </tr>\n",
       "    <tr>\n",
       "      <th>61</th>\n",
       "      <td>55</td>\n",
       "      <td>6</td>\n",
       "      <td>8</td>\n",
       "      <td>E</td>\n",
       "    </tr>\n",
       "    <tr>\n",
       "      <th>62</th>\n",
       "      <td>3</td>\n",
       "      <td>7</td>\n",
       "      <td>8</td>\n",
       "      <td>A</td>\n",
       "    </tr>\n",
       "    <tr>\n",
       "      <th>63</th>\n",
       "      <td>19</td>\n",
       "      <td>8</td>\n",
       "      <td>8</td>\n",
       "      <td>C</td>\n",
       "    </tr>\n",
       "  </tbody>\n",
       "</table>\n",
       "<p>64 rows × 4 columns</p>\n",
       "</div>"
      ],
      "text/plain": [
       "    decrease  rowpos  colpos treatment\n",
       "0         57       1       1         D\n",
       "1         95       2       1         E\n",
       "2          8       3       1         B\n",
       "3         69       4       1         H\n",
       "4         92       5       1         G\n",
       "..       ...     ...     ...       ...\n",
       "59        14       4       8         B\n",
       "60        86       5       8         H\n",
       "61        55       6       8         E\n",
       "62         3       7       8         A\n",
       "63        19       8       8         C\n",
       "\n",
       "[64 rows x 4 columns]"
      ]
     },
     "execution_count": 52,
     "metadata": {},
     "output_type": "execute_result"
    }
   ],
   "source": [
    "base5 = pd.read_csv('orchard.csv')\n",
    "base5"
   ]
  },
  {
   "cell_type": "code",
   "execution_count": 55,
   "id": "6be10bf4",
   "metadata": {
    "ExecuteTime": {
     "end_time": "2022-08-25T00:49:21.095428Z",
     "start_time": "2022-08-25T00:49:20.972475Z"
    }
   },
   "outputs": [
    {
     "data": {
      "text/plain": [
       "Text(0.5, 0, 'colpos')"
      ]
     },
     "execution_count": 55,
     "metadata": {},
     "output_type": "execute_result"
    },
    {
     "data": {
      "image/png": "[encoded data removed]",
      "text/plain": [
       "<Figure size 432x288 with 1 Axes>"
      ]
     },
     "metadata": {
      "needs_background": "light"
     },
     "output_type": "display_data"
    }
   ],
   "source": [
    "figura = plt.figure()\n",
    "eixo = figura.add_subplot(1, 1, 1, projection = '3d')\n",
    "eixo.scatter(base5.decrease, base5.rowpos, base5.colpos)\n",
    "eixo.set_xlabel('decrease')\n",
    "eixo.set_ylabel('rowpos')\n",
    "eixo.set_zlabel('colpos')"
   ]
  }
 ],
 "metadata": {
  "kernelspec": {
   "display_name": "Python 3 (ipykernel)",
   "language": "python",
   "name": "python3"
  },
  "language_info": {
   "codemirror_mode": {
    "name": "ipython",
    "version": 3
   },
   "file_extension": ".py",
   "mimetype": "text/x-python",
   "name": "python",
   "nbconvert_exporter": "python",
   "pygments_lexer": "ipython3",
   "version": "3.9.7"
  },
  "toc": {
   "base_numbering": 1,
   "nav_menu": {},
   "number_sections": true,
   "sideBar": true,
   "skip_h1_title": false,
   "title_cell": "Table of Contents",
   "title_sidebar": "Contents",
   "toc_cell": false,
   "toc_position": {
    "height": "790px",
    "left": "160px",
    "top": "83px",
    "width": "281.047px"
   },
   "toc_section_display": true,
   "toc_window_display": true
  }
 },
 "nbformat": 4,
 "nbformat_minor": 5
}
