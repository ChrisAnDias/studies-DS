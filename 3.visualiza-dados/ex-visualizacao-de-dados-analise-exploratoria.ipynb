{
 "cells": [
  {
   "cell_type": "markdown",
   "id": "e0a46e00",
   "metadata": {},
   "source": [
    "# Visualização de dados - análise exploratória"
   ]
  },
  {
   "cell_type": "markdown",
   "id": "45163427",
   "metadata": {},
   "source": [
    "- Também conhecida como **EDA** (Exploring Data Analyses), a técnica objetiva **analisar e investigar** conjuntos de dados e **resumir** suas principais características, muitas vezes **usando métodos de visualização de dados**.\n",
    "- Serve para **identificar o que os dados podem revelar** além da tarefa formal de modelagem ou teste de hipótese e proporciona uma melhor compreensão das variáveis do conjunto de dados e as **relações entre eles**."
   ]
  },
  {
   "cell_type": "markdown",
   "id": "1fd43be5",
   "metadata": {},
   "source": [
    "## Importações"
   ]
  },
  {
   "cell_type": "code",
   "execution_count": null,
   "id": "e0df07f4",
   "metadata": {
    "ExecuteTime": {
     "end_time": "2022-09-09T02:59:00.154587Z",
     "start_time": "2022-09-09T02:59:00.154587Z"
    }
   },
   "outputs": [],
   "source": [
    "import pandas as pd\n",
    "import numpy as np\n",
    "import matplotlib.pyplot as plt\n",
    "import seaborn as sns"
   ]
  },
  {
   "cell_type": "code",
   "execution_count": 40,
   "id": "a82de82d",
   "metadata": {
    "ExecuteTime": {
     "end_time": "2022-09-09T03:02:50.912450Z",
     "start_time": "2022-09-09T03:02:50.892504Z"
    }
   },
   "outputs": [
    {
     "data": {
      "text/html": [
       "<div>\n",
       "<style scoped>\n",
       "    .dataframe tbody tr th:only-of-type {\n",
       "        vertical-align: middle;\n",
       "    }\n",
       "\n",
       "    .dataframe tbody tr th {\n",
       "        vertical-align: top;\n",
       "    }\n",
       "\n",
       "    .dataframe thead th {\n",
       "        text-align: right;\n",
       "    }\n",
       "</style>\n",
       "<table border=\"1\" class=\"dataframe\">\n",
       "  <thead>\n",
       "    <tr style=\"text-align: right;\">\n",
       "      <th></th>\n",
       "      <th>CODIGO</th>\n",
       "      <th>MUNICIPIO</th>\n",
       "      <th>PIB</th>\n",
       "      <th>VALOREMPENHO</th>\n",
       "    </tr>\n",
       "  </thead>\n",
       "  <tbody>\n",
       "    <tr>\n",
       "      <th>0</th>\n",
       "      <td>106</td>\n",
       "      <td>SANTANA DO LIVRAMENTO</td>\n",
       "      <td>12240.76</td>\n",
       "      <td>1088666.10</td>\n",
       "    </tr>\n",
       "    <tr>\n",
       "      <th>1</th>\n",
       "      <td>113</td>\n",
       "      <td>SANTO ANGELO</td>\n",
       "      <td>16575.82</td>\n",
       "      <td>800669.92</td>\n",
       "    </tr>\n",
       "    <tr>\n",
       "      <th>2</th>\n",
       "      <td>118</td>\n",
       "      <td>SAO FRANCISCO DE ASSIS</td>\n",
       "      <td>12037.61</td>\n",
       "      <td>466122.80</td>\n",
       "    </tr>\n",
       "    <tr>\n",
       "      <th>3</th>\n",
       "      <td>13</td>\n",
       "      <td>CACAPAVA DO SUL</td>\n",
       "      <td>13674.54</td>\n",
       "      <td>485535.86</td>\n",
       "    </tr>\n",
       "    <tr>\n",
       "      <th>4</th>\n",
       "      <td>120</td>\n",
       "      <td>SAO GABRIEL</td>\n",
       "      <td>19912.38</td>\n",
       "      <td>533719.86</td>\n",
       "    </tr>\n",
       "    <tr>\n",
       "      <th>...</th>\n",
       "      <td>...</td>\n",
       "      <td>...</td>\n",
       "      <td>...</td>\n",
       "      <td>...</td>\n",
       "    </tr>\n",
       "    <tr>\n",
       "      <th>182</th>\n",
       "      <td>372</td>\n",
       "      <td>SANTA VITORIA DO PALMAR</td>\n",
       "      <td>27170.89</td>\n",
       "      <td>760.00</td>\n",
       "    </tr>\n",
       "    <tr>\n",
       "      <th>183</th>\n",
       "      <td>107</td>\n",
       "      <td>SANTA BARBARA DO SUL</td>\n",
       "      <td>29654.02</td>\n",
       "      <td>365.00</td>\n",
       "    </tr>\n",
       "    <tr>\n",
       "      <th>184</th>\n",
       "      <td>54</td>\n",
       "      <td>GETULIO VARGAS</td>\n",
       "      <td>16876.33</td>\n",
       "      <td>233.01</td>\n",
       "    </tr>\n",
       "    <tr>\n",
       "      <th>185</th>\n",
       "      <td>382</td>\n",
       "      <td>NOVA SANTA RITA</td>\n",
       "      <td>25938.38</td>\n",
       "      <td>310.58</td>\n",
       "    </tr>\n",
       "    <tr>\n",
       "      <th>186</th>\n",
       "      <td>60</td>\n",
       "      <td>GUARANI DAS MISSOES</td>\n",
       "      <td>24363.31</td>\n",
       "      <td>172.13</td>\n",
       "    </tr>\n",
       "  </tbody>\n",
       "</table>\n",
       "<p>187 rows × 4 columns</p>\n",
       "</div>"
      ],
      "text/plain": [
       "     CODIGO                MUNICIPIO       PIB  VALOREMPENHO\n",
       "0       106    SANTANA DO LIVRAMENTO  12240.76    1088666.10\n",
       "1       113             SANTO ANGELO  16575.82     800669.92\n",
       "2       118   SAO FRANCISCO DE ASSIS  12037.61     466122.80\n",
       "3        13          CACAPAVA DO SUL  13674.54     485535.86\n",
       "4       120              SAO GABRIEL  19912.38     533719.86\n",
       "..      ...                      ...       ...           ...\n",
       "182     372  SANTA VITORIA DO PALMAR  27170.89        760.00\n",
       "183     107     SANTA BARBARA DO SUL  29654.02        365.00\n",
       "184      54           GETULIO VARGAS  16876.33        233.01\n",
       "185     382          NOVA SANTA RITA  25938.38        310.58\n",
       "186      60      GUARANI DAS MISSOES  24363.31        172.13\n",
       "\n",
       "[187 rows x 4 columns]"
      ]
     },
     "execution_count": 40,
     "metadata": {},
     "output_type": "execute_result"
    }
   ],
   "source": [
    "bd = pd.read_csv('dados.csv', sep = ';')\n",
    "bd"
   ]
  },
  {
   "cell_type": "code",
   "execution_count": null,
   "id": "49abf075",
   "metadata": {
    "ExecuteTime": {
     "end_time": "2022-09-09T02:59:00.161568Z",
     "start_time": "2022-09-09T02:59:00.161568Z"
    },
    "scrolled": true
   },
   "outputs": [],
   "source": [
    "bd.info()"
   ]
  },
  {
   "cell_type": "markdown",
   "id": "5721baef",
   "metadata": {},
   "source": [
    "## Análises gerais"
   ]
  },
  {
   "cell_type": "markdown",
   "id": "6f69c2fa",
   "metadata": {},
   "source": [
    " - Será que tem algum campo de municipio vazio ou repetido?\n",
    " - Algum campo nulo ou zero nos atributos de PIB e Valor Empenho?"
   ]
  },
  {
   "cell_type": "code",
   "execution_count": null,
   "id": "e0e3124f",
   "metadata": {
    "ExecuteTime": {
     "end_time": "2022-09-09T02:59:00.164561Z",
     "start_time": "2022-09-09T02:59:00.164561Z"
    }
   },
   "outputs": [],
   "source": [
    "#verificação de células nulas\n",
    "bd.isnull().sum() "
   ]
  },
  {
   "cell_type": "markdown",
   "id": "42edc938",
   "metadata": {},
   "source": [
    "- não há campos nulos"
   ]
  },
  {
   "cell_type": "code",
   "execution_count": null,
   "id": "f4ce950c",
   "metadata": {
    "ExecuteTime": {
     "end_time": "2022-09-09T02:59:00.166555Z",
     "start_time": "2022-09-09T02:59:00.166555Z"
    },
    "scrolled": false
   },
   "outputs": [],
   "source": [
    "#verificação de dados repetido no código\n",
    "bd['CODIGO'].value_counts()"
   ]
  },
  {
   "cell_type": "code",
   "execution_count": null,
   "id": "9d182e23",
   "metadata": {
    "ExecuteTime": {
     "end_time": "2022-09-09T02:59:00.169549Z",
     "start_time": "2022-09-09T02:59:00.169549Z"
    }
   },
   "outputs": [],
   "source": [
    "#verificação de dados repetido no código\n",
    "bd['MUNICIPIO'].value_counts()"
   ]
  },
  {
   "cell_type": "code",
   "execution_count": null,
   "id": "0cd2d821",
   "metadata": {
    "ExecuteTime": {
     "end_time": "2022-09-09T02:59:00.172539Z",
     "start_time": "2022-09-09T02:59:00.172539Z"
    }
   },
   "outputs": [],
   "source": [
    "#verificação de dados repetido no código\n",
    "bd['PIB'].value_counts()"
   ]
  },
  {
   "cell_type": "code",
   "execution_count": null,
   "id": "7cf89aa1",
   "metadata": {
    "ExecuteTime": {
     "end_time": "2022-09-09T02:59:00.174533Z",
     "start_time": "2022-09-09T02:59:00.174533Z"
    }
   },
   "outputs": [],
   "source": [
    "#verificação de dados repetido no código\n",
    "bd['VALOREMPENHO'].value_counts()"
   ]
  },
  {
   "cell_type": "markdown",
   "id": "0f46ab67",
   "metadata": {},
   "source": [
    "- Há dados repetidos em cada atributo (coluna)"
   ]
  },
  {
   "cell_type": "markdown",
   "id": "877bc35a",
   "metadata": {},
   "source": [
    "## Análise PIB"
   ]
  },
  {
   "cell_type": "markdown",
   "id": "1a3725d1",
   "metadata": {},
   "source": [
    "- O que podemo inferir dos parâmetros estatísticos?\n",
    "- Qual município com o valor máx. do PIB\n",
    "- Qual município com o valor min. do PIB\n",
    "- O que pode ser inferido do desvio padrão?\n",
    "- Qual discrepância entre média e 50%"
   ]
  },
  {
   "cell_type": "code",
   "execution_count": null,
   "id": "1b3fb84d",
   "metadata": {
    "ExecuteTime": {
     "end_time": "2022-09-09T02:59:00.175530Z",
     "start_time": "2022-09-09T02:59:00.175530Z"
    }
   },
   "outputs": [],
   "source": [
    "bd['PIB'].describe()"
   ]
  },
  {
   "cell_type": "markdown",
   "id": "cdbf1a44",
   "metadata": {},
   "source": [
    "**mean** e **50%** não estão tão distantes"
   ]
  },
  {
   "cell_type": "code",
   "execution_count": 26,
   "id": "a990a432",
   "metadata": {
    "ExecuteTime": {
     "end_time": "2022-09-09T02:59:22.705876Z",
     "start_time": "2022-09-09T02:59:22.692937Z"
    }
   },
   "outputs": [
    {
     "data": {
      "text/html": [
       "<div>\n",
       "<style scoped>\n",
       "    .dataframe tbody tr th:only-of-type {\n",
       "        vertical-align: middle;\n",
       "    }\n",
       "\n",
       "    .dataframe tbody tr th {\n",
       "        vertical-align: top;\n",
       "    }\n",
       "\n",
       "    .dataframe thead th {\n",
       "        text-align: right;\n",
       "    }\n",
       "</style>\n",
       "<table border=\"1\" class=\"dataframe\">\n",
       "  <thead>\n",
       "    <tr style=\"text-align: right;\">\n",
       "      <th></th>\n",
       "      <th>CODIGO</th>\n",
       "      <th>MUNICIPIO</th>\n",
       "      <th>PIB</th>\n",
       "      <th>VALOREMPENHO</th>\n",
       "    </tr>\n",
       "  </thead>\n",
       "  <tbody>\n",
       "    <tr>\n",
       "      <th>49</th>\n",
       "      <td>149</td>\n",
       "      <td>TRIUNFO</td>\n",
       "      <td>223848.22</td>\n",
       "      <td>1442759.82</td>\n",
       "    </tr>\n",
       "  </tbody>\n",
       "</table>\n",
       "</div>"
      ],
      "text/plain": [
       "    CODIGO MUNICIPIO        PIB  VALOREMPENHO\n",
       "49     149   TRIUNFO  223848.22    1442759.82"
      ]
     },
     "execution_count": 26,
     "metadata": {},
     "output_type": "execute_result"
    }
   ],
   "source": [
    "bd[bd['PIB']==bd['PIB'].max()]"
   ]
  },
  {
   "cell_type": "code",
   "execution_count": 27,
   "id": "b4d2a394",
   "metadata": {
    "ExecuteTime": {
     "end_time": "2022-09-09T02:59:24.778555Z",
     "start_time": "2022-09-09T02:59:24.756546Z"
    },
    "scrolled": true
   },
   "outputs": [
    {
     "data": {
      "text/html": [
       "<div>\n",
       "<style scoped>\n",
       "    .dataframe tbody tr th:only-of-type {\n",
       "        vertical-align: middle;\n",
       "    }\n",
       "\n",
       "    .dataframe tbody tr th {\n",
       "        vertical-align: top;\n",
       "    }\n",
       "\n",
       "    .dataframe thead th {\n",
       "        text-align: right;\n",
       "    }\n",
       "</style>\n",
       "<table border=\"1\" class=\"dataframe\">\n",
       "  <thead>\n",
       "    <tr style=\"text-align: right;\">\n",
       "      <th></th>\n",
       "      <th>CODIGO</th>\n",
       "      <th>MUNICIPIO</th>\n",
       "      <th>PIB</th>\n",
       "      <th>VALOREMPENHO</th>\n",
       "    </tr>\n",
       "  </thead>\n",
       "  <tbody>\n",
       "    <tr>\n",
       "      <th>88</th>\n",
       "      <td>216</td>\n",
       "      <td>REDENTORA</td>\n",
       "      <td>8236.63</td>\n",
       "      <td>60134.0</td>\n",
       "    </tr>\n",
       "  </tbody>\n",
       "</table>\n",
       "</div>"
      ],
      "text/plain": [
       "    CODIGO  MUNICIPIO      PIB  VALOREMPENHO\n",
       "88     216  REDENTORA  8236.63       60134.0"
      ]
     },
     "execution_count": 27,
     "metadata": {},
     "output_type": "execute_result"
    }
   ],
   "source": [
    "bd[bd['PIB']==bd['PIB'].min()]"
   ]
  },
  {
   "cell_type": "code",
   "execution_count": 28,
   "id": "840966b7",
   "metadata": {
    "ExecuteTime": {
     "end_time": "2022-09-09T02:59:27.035348Z",
     "start_time": "2022-09-09T02:59:26.740769Z"
    }
   },
   "outputs": [
    {
     "data": {
      "text/plain": [
       "<seaborn.axisgrid.FacetGrid at 0x216eff55af0>"
      ]
     },
     "execution_count": 28,
     "metadata": {},
     "output_type": "execute_result"
    },
    {
     "data": {
      "image/png": "[encoded data removed]",
      "text/plain": [
       "<Figure size 360x360 with 1 Axes>"
      ]
     },
     "metadata": {},
     "output_type": "display_data"
    }
   ],
   "source": [
    "#Histograma PIB\n",
    "sns.displot(bd['PIB'])"
   ]
  },
  {
   "cell_type": "code",
   "execution_count": 29,
   "id": "6b573a84",
   "metadata": {
    "ExecuteTime": {
     "end_time": "2022-09-09T02:59:29.001726Z",
     "start_time": "2022-09-09T02:59:28.884808Z"
    },
    "scrolled": true
   },
   "outputs": [
    {
     "data": {
      "text/plain": [
       "Text(0.5, 1.0, 'PIB')"
      ]
     },
     "execution_count": 29,
     "metadata": {},
     "output_type": "execute_result"
    },
    {
     "data": {
      "image/png": "[encoded data removed]",
      "text/plain": [
       "<Figure size 792x504 with 1 Axes>"
      ]
     },
     "metadata": {},
     "output_type": "display_data"
    }
   ],
   "source": [
    "#Boxplot pode-se ver melhor os valores totalmente fora do conjunto concentrado de dados\n",
    "sns.set_theme(style=\"whitegrid\")\n",
    "sns.boxplot(x=bd[\"PIB\"]).set_title('PIB')"
   ]
  },
  {
   "cell_type": "markdown",
   "id": "829ed51c",
   "metadata": {},
   "source": [
    "- Se quero relacionar 2 colunas, será necessário agrupar as colunas e plotar um gráfico desse agrupado. "
   ]
  },
  {
   "cell_type": "code",
   "execution_count": 34,
   "id": "c5d8743b",
   "metadata": {
    "ExecuteTime": {
     "end_time": "2022-09-09T03:01:48.836245Z",
     "start_time": "2022-09-09T03:01:48.668501Z"
    }
   },
   "outputs": [
    {
     "data": {
      "text/plain": [
       "<AxesSubplot:xlabel='MUNICIPIO'>"
      ]
     },
     "execution_count": 34,
     "metadata": {},
     "output_type": "execute_result"
    },
    {
     "data": {
      "image/png": "[encoded data removed]",
      "text/plain": [
       "<Figure size 792x504 with 1 Axes>"
      ]
     },
     "metadata": {},
     "output_type": "display_data"
    }
   ],
   "source": [
    "agrup_pib_muni = bd.sort_values('PIB').head(10)\n",
    "agrup_pib_muni = agrup_pib_muni.iloc[:,1:3]\n",
    "agrup_pib_muni\n",
    "agrup_pib_muni.plot.bar(x='MUNICIPIO',y='PIB', color = 'red')"
   ]
  },
  {
   "cell_type": "markdown",
   "id": "b2db9c1c",
   "metadata": {},
   "source": [
    "## Análise ValorEmpenho"
   ]
  },
  {
   "cell_type": "code",
   "execution_count": 35,
   "id": "d85580a4",
   "metadata": {
    "ExecuteTime": {
     "end_time": "2022-09-09T03:02:12.765410Z",
     "start_time": "2022-09-09T03:02:12.757427Z"
    }
   },
   "outputs": [
    {
     "data": {
      "text/plain": [
       "count    1.870000e+02\n",
       "mean     1.299844e+05\n",
       "std      1.615491e+05\n",
       "min      1.721300e+02\n",
       "25%      5.251718e+04\n",
       "50%      8.422816e+04\n",
       "75%      1.538961e+05\n",
       "max      1.442760e+06\n",
       "Name: VALOREMPENHO, dtype: float64"
      ]
     },
     "execution_count": 35,
     "metadata": {},
     "output_type": "execute_result"
    }
   ],
   "source": [
    "bd['VALOREMPENHO'].describe()"
   ]
  },
  {
   "cell_type": "markdown",
   "id": "3d2a09e1",
   "metadata": {},
   "source": [
    " - A diferença entre 'mean' e o 50% é grande."
   ]
  },
  {
   "cell_type": "code",
   "execution_count": 36,
   "id": "3928bb8a",
   "metadata": {
    "ExecuteTime": {
     "end_time": "2022-09-09T03:02:14.707604Z",
     "start_time": "2022-09-09T03:02:14.692644Z"
    }
   },
   "outputs": [
    {
     "data": {
      "text/html": [
       "<div>\n",
       "<style scoped>\n",
       "    .dataframe tbody tr th:only-of-type {\n",
       "        vertical-align: middle;\n",
       "    }\n",
       "\n",
       "    .dataframe tbody tr th {\n",
       "        vertical-align: top;\n",
       "    }\n",
       "\n",
       "    .dataframe thead th {\n",
       "        text-align: right;\n",
       "    }\n",
       "</style>\n",
       "<table border=\"1\" class=\"dataframe\">\n",
       "  <thead>\n",
       "    <tr style=\"text-align: right;\">\n",
       "      <th></th>\n",
       "      <th>CODIGO</th>\n",
       "      <th>MUNICIPIO</th>\n",
       "      <th>PIB</th>\n",
       "      <th>VALOREMPENHO</th>\n",
       "    </tr>\n",
       "  </thead>\n",
       "  <tbody>\n",
       "    <tr>\n",
       "      <th>49</th>\n",
       "      <td>149</td>\n",
       "      <td>TRIUNFO</td>\n",
       "      <td>223848.22</td>\n",
       "      <td>1442759.82</td>\n",
       "    </tr>\n",
       "  </tbody>\n",
       "</table>\n",
       "</div>"
      ],
      "text/plain": [
       "    CODIGO MUNICIPIO        PIB  VALOREMPENHO\n",
       "49     149   TRIUNFO  223848.22    1442759.82"
      ]
     },
     "execution_count": 36,
     "metadata": {},
     "output_type": "execute_result"
    }
   ],
   "source": [
    "bd[bd['VALOREMPENHO']==bd['VALOREMPENHO'].max()]"
   ]
  },
  {
   "cell_type": "code",
   "execution_count": 37,
   "id": "e47db658",
   "metadata": {
    "ExecuteTime": {
     "end_time": "2022-09-09T03:02:16.586291Z",
     "start_time": "2022-09-09T03:02:16.572329Z"
    }
   },
   "outputs": [
    {
     "data": {
      "text/html": [
       "<div>\n",
       "<style scoped>\n",
       "    .dataframe tbody tr th:only-of-type {\n",
       "        vertical-align: middle;\n",
       "    }\n",
       "\n",
       "    .dataframe tbody tr th {\n",
       "        vertical-align: top;\n",
       "    }\n",
       "\n",
       "    .dataframe thead th {\n",
       "        text-align: right;\n",
       "    }\n",
       "</style>\n",
       "<table border=\"1\" class=\"dataframe\">\n",
       "  <thead>\n",
       "    <tr style=\"text-align: right;\">\n",
       "      <th></th>\n",
       "      <th>CODIGO</th>\n",
       "      <th>MUNICIPIO</th>\n",
       "      <th>PIB</th>\n",
       "      <th>VALOREMPENHO</th>\n",
       "    </tr>\n",
       "  </thead>\n",
       "  <tbody>\n",
       "    <tr>\n",
       "      <th>186</th>\n",
       "      <td>60</td>\n",
       "      <td>GUARANI DAS MISSOES</td>\n",
       "      <td>24363.31</td>\n",
       "      <td>172.13</td>\n",
       "    </tr>\n",
       "  </tbody>\n",
       "</table>\n",
       "</div>"
      ],
      "text/plain": [
       "     CODIGO            MUNICIPIO       PIB  VALOREMPENHO\n",
       "186      60  GUARANI DAS MISSOES  24363.31        172.13"
      ]
     },
     "execution_count": 37,
     "metadata": {},
     "output_type": "execute_result"
    }
   ],
   "source": [
    "bd[bd['VALOREMPENHO']==bd['VALOREMPENHO'].min()]"
   ]
  },
  {
   "cell_type": "markdown",
   "id": "9a85ea72",
   "metadata": {},
   "source": [
    "- Os municípios com o valor empenho máximo e mínimo diferem dos municípios com valor máximo e mínimo de PIB"
   ]
  },
  {
   "cell_type": "code",
   "execution_count": 38,
   "id": "7b94a2bc",
   "metadata": {
    "ExecuteTime": {
     "end_time": "2022-09-09T03:02:21.259426Z",
     "start_time": "2022-09-09T03:02:20.996539Z"
    }
   },
   "outputs": [
    {
     "data": {
      "text/plain": [
       "<seaborn.axisgrid.FacetGrid at 0x216f06590a0>"
      ]
     },
     "execution_count": 38,
     "metadata": {},
     "output_type": "execute_result"
    },
    {
     "data": {
      "image/png": "[encoded data removed]",
      "text/plain": [
       "<Figure size 360x360 with 1 Axes>"
      ]
     },
     "metadata": {},
     "output_type": "display_data"
    }
   ],
   "source": [
    "#Histograma\n",
    "sns.displot(bd['VALOREMPENHO'])"
   ]
  },
  {
   "cell_type": "markdown",
   "id": "d25d7062",
   "metadata": {},
   "source": [
    "- O gráfico histograma do ValorEmpenho parece com o histograma do PIB "
   ]
  },
  {
   "cell_type": "code",
   "execution_count": 39,
   "id": "d3b625c8",
   "metadata": {
    "ExecuteTime": {
     "end_time": "2022-09-09T03:02:23.505684Z",
     "start_time": "2022-09-09T03:02:23.372467Z"
    }
   },
   "outputs": [
    {
     "data": {
      "text/plain": [
       "Text(0.5, 1.0, 'VALOREMPENHO')"
      ]
     },
     "execution_count": 39,
     "metadata": {},
     "output_type": "execute_result"
    },
    {
     "data": {
      "image/png": "[encoded data removed]",
      "text/plain": [
       "<Figure size 792x504 with 1 Axes>"
      ]
     },
     "metadata": {},
     "output_type": "display_data"
    }
   ],
   "source": [
    "#Boxplot pode-se ver melhor os valores totalmente fora do conjunto concentrado de dados\n",
    "sns.set_theme(style=\"whitegrid\")\n",
    "sns.boxplot(x=bd[\"VALOREMPENHO\"]).set_title('VALOREMPENHO')"
   ]
  },
  {
   "cell_type": "code",
   "execution_count": 33,
   "id": "bef01c59",
   "metadata": {
    "ExecuteTime": {
     "end_time": "2022-09-09T03:01:42.716945Z",
     "start_time": "2022-09-09T03:01:42.548956Z"
    }
   },
   "outputs": [
    {
     "data": {
      "text/plain": [
       "<AxesSubplot:xlabel='MUNICIPIO'>"
      ]
     },
     "execution_count": 33,
     "metadata": {},
     "output_type": "execute_result"
    },
    {
     "data": {
      "image/png": "[encoded data removed]",
      "text/plain": [
       "<Figure size 792x504 with 1 Axes>"
      ]
     },
     "metadata": {},
     "output_type": "display_data"
    }
   ],
   "source": [
    "agrup_muni_valoremp = bd.sort_values('VALOREMPENHO').head(10)\n",
    "agrup_muni_valoremp = agrup_muni_valoremp.iloc[:,[1,3]]\n",
    "agrup_muni_valoremp\n",
    "agrup_muni_valoremp.plot.bar(x='MUNICIPIO',y='VALOREMPENHO', color = 'blue')"
   ]
  }
 ],
 "metadata": {
  "kernelspec": {
   "display_name": "Python 3 (ipykernel)",
   "language": "python",
   "name": "python3"
  },
  "language_info": {
   "codemirror_mode": {
    "name": "ipython",
    "version": 3
   },
   "file_extension": ".py",
   "mimetype": "text/x-python",
   "name": "python",
   "nbconvert_exporter": "python",
   "pygments_lexer": "ipython3",
   "version": "3.9.7"
  },
  "toc": {
   "base_numbering": 1,
   "nav_menu": {},
   "number_sections": true,
   "sideBar": true,
   "skip_h1_title": false,
   "title_cell": "Table of Contents",
   "title_sidebar": "Contents",
   "toc_cell": false,
   "toc_position": {
    "height": "calc(100% - 180px)",
    "left": "10px",
    "top": "150px",
    "width": "333px"
   },
   "toc_section_display": true,
   "toc_window_display": true
  }
 },
 "nbformat": 4,
 "nbformat_minor": 5
}
