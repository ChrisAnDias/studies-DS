{
 "cells": [
  {
   "cell_type": "markdown",
   "id": "11b8fa7e",
   "metadata": {},
   "source": [
    "# Prática Estatística - Fomação Cientista de Dados - Udemy"
   ]
  },
  {
   "cell_type": "code",
   "execution_count": 1,
   "id": "069295d3",
   "metadata": {
    "ExecuteTime": {
     "end_time": "2023-03-25T19:09:34.745910Z",
     "start_time": "2023-03-25T19:09:33.024951Z"
    }
   },
   "outputs": [],
   "source": [
    "import pandas as pd #para carregar os arquivos csv\n",
    "import numpy as np #para gerar números aleatórios"
   ]
  },
  {
   "cell_type": "markdown",
   "id": "ea64f43c",
   "metadata": {},
   "source": [
    "- A biblioteca **Pandas** é para trabalhar com dados em dorma de vetor, dados estruturados\n",
    "- A biblioteca **Numpy** é científica. Possui várias funções de cálculo"
   ]
  },
  {
   "cell_type": "markdown",
   "id": "e5676c8a",
   "metadata": {},
   "source": [
    "## Importação da base de dados"
   ]
  },
  {
   "cell_type": "markdown",
   "id": "840f576f",
   "metadata": {},
   "source": [
    "Sempre bom ter uma ideia de como está disponível os dados que se está importando. Por isso a linha de código abaixo. Deste modo é possível ver como estão nomeadas colunas, quantas são, como é o formato dos dados. "
   ]
  },
  {
   "cell_type": "code",
   "execution_count": 3,
   "id": "192ce37e",
   "metadata": {
    "ExecuteTime": {
     "end_time": "2023-03-25T19:18:04.726531Z",
     "start_time": "2023-03-25T19:18:04.702594Z"
    }
   },
   "outputs": [
    {
     "data": {
      "text/html": [
       "<div>\n",
       "<style scoped>\n",
       "    .dataframe tbody tr th:only-of-type {\n",
       "        vertical-align: middle;\n",
       "    }\n",
       "\n",
       "    .dataframe tbody tr th {\n",
       "        vertical-align: top;\n",
       "    }\n",
       "\n",
       "    .dataframe thead th {\n",
       "        text-align: right;\n",
       "    }\n",
       "</style>\n",
       "<table border=\"1\" class=\"dataframe\">\n",
       "  <thead>\n",
       "    <tr style=\"text-align: right;\">\n",
       "      <th></th>\n",
       "      <th>sepal length</th>\n",
       "      <th>sepal width</th>\n",
       "      <th>petal length</th>\n",
       "      <th>petal width</th>\n",
       "      <th>class</th>\n",
       "    </tr>\n",
       "  </thead>\n",
       "  <tbody>\n",
       "    <tr>\n",
       "      <th>0</th>\n",
       "      <td>5.1</td>\n",
       "      <td>3.5</td>\n",
       "      <td>1.4</td>\n",
       "      <td>0.2</td>\n",
       "      <td>Iris-setosa</td>\n",
       "    </tr>\n",
       "    <tr>\n",
       "      <th>1</th>\n",
       "      <td>4.9</td>\n",
       "      <td>3.0</td>\n",
       "      <td>1.4</td>\n",
       "      <td>0.2</td>\n",
       "      <td>Iris-setosa</td>\n",
       "    </tr>\n",
       "    <tr>\n",
       "      <th>2</th>\n",
       "      <td>4.7</td>\n",
       "      <td>3.2</td>\n",
       "      <td>1.3</td>\n",
       "      <td>0.2</td>\n",
       "      <td>Iris-setosa</td>\n",
       "    </tr>\n",
       "    <tr>\n",
       "      <th>3</th>\n",
       "      <td>4.6</td>\n",
       "      <td>3.1</td>\n",
       "      <td>1.5</td>\n",
       "      <td>0.2</td>\n",
       "      <td>Iris-setosa</td>\n",
       "    </tr>\n",
       "    <tr>\n",
       "      <th>4</th>\n",
       "      <td>5.0</td>\n",
       "      <td>3.6</td>\n",
       "      <td>1.4</td>\n",
       "      <td>0.2</td>\n",
       "      <td>Iris-setosa</td>\n",
       "    </tr>\n",
       "    <tr>\n",
       "      <th>...</th>\n",
       "      <td>...</td>\n",
       "      <td>...</td>\n",
       "      <td>...</td>\n",
       "      <td>...</td>\n",
       "      <td>...</td>\n",
       "    </tr>\n",
       "    <tr>\n",
       "      <th>145</th>\n",
       "      <td>6.7</td>\n",
       "      <td>3.0</td>\n",
       "      <td>5.2</td>\n",
       "      <td>2.3</td>\n",
       "      <td>Iris-virginica</td>\n",
       "    </tr>\n",
       "    <tr>\n",
       "      <th>146</th>\n",
       "      <td>6.3</td>\n",
       "      <td>2.5</td>\n",
       "      <td>5.0</td>\n",
       "      <td>1.9</td>\n",
       "      <td>Iris-virginica</td>\n",
       "    </tr>\n",
       "    <tr>\n",
       "      <th>147</th>\n",
       "      <td>6.5</td>\n",
       "      <td>3.0</td>\n",
       "      <td>5.2</td>\n",
       "      <td>2.0</td>\n",
       "      <td>Iris-virginica</td>\n",
       "    </tr>\n",
       "    <tr>\n",
       "      <th>148</th>\n",
       "      <td>6.2</td>\n",
       "      <td>3.4</td>\n",
       "      <td>5.4</td>\n",
       "      <td>2.3</td>\n",
       "      <td>Iris-virginica</td>\n",
       "    </tr>\n",
       "    <tr>\n",
       "      <th>149</th>\n",
       "      <td>5.9</td>\n",
       "      <td>3.0</td>\n",
       "      <td>5.1</td>\n",
       "      <td>1.8</td>\n",
       "      <td>Iris-virginica</td>\n",
       "    </tr>\n",
       "  </tbody>\n",
       "</table>\n",
       "<p>150 rows × 5 columns</p>\n",
       "</div>"
      ],
      "text/plain": [
       "     sepal length  sepal width  petal length  petal width           class\n",
       "0             5.1          3.5           1.4          0.2     Iris-setosa\n",
       "1             4.9          3.0           1.4          0.2     Iris-setosa\n",
       "2             4.7          3.2           1.3          0.2     Iris-setosa\n",
       "3             4.6          3.1           1.5          0.2     Iris-setosa\n",
       "4             5.0          3.6           1.4          0.2     Iris-setosa\n",
       "..            ...          ...           ...          ...             ...\n",
       "145           6.7          3.0           5.2          2.3  Iris-virginica\n",
       "146           6.3          2.5           5.0          1.9  Iris-virginica\n",
       "147           6.5          3.0           5.2          2.0  Iris-virginica\n",
       "148           6.2          3.4           5.4          2.3  Iris-virginica\n",
       "149           5.9          3.0           5.1          1.8  Iris-virginica\n",
       "\n",
       "[150 rows x 5 columns]"
      ]
     },
     "execution_count": 3,
     "metadata": {},
     "output_type": "execute_result"
    }
   ],
   "source": [
    "base = pd.read_csv('iris.csv')\n",
    "base"
   ]
  },
  {
   "cell_type": "code",
   "execution_count": 4,
   "id": "af779fb7",
   "metadata": {
    "ExecuteTime": {
     "end_time": "2023-03-25T19:21:16.385401Z",
     "start_time": "2023-03-25T19:21:16.378420Z"
    }
   },
   "outputs": [
    {
     "data": {
      "text/plain": [
       "(150, 5)"
      ]
     },
     "execution_count": 4,
     "metadata": {},
     "output_type": "execute_result"
    }
   ],
   "source": [
    "base.shape"
   ]
  },
  {
   "cell_type": "markdown",
   "id": "2346df19",
   "metadata": {},
   "source": [
    "## Amostragem "
   ]
  },
  {
   "cell_type": "markdown",
   "id": "a161c824",
   "metadata": {},
   "source": [
    "Minha intenção é retirar uma **amostra aleatória** do conjunto de dados importado, permitindo assim que todos os elementos do conjuntos tenham chances iguais de serem escolhidos. Assim, irei executar em ordem:\n",
    "\n",
    "1 - Gerar números aleatórios;<br>\n",
    "    \n",
    "    np.random.seed(2345)\n",
    "    \n",
    "  para gerar os mesmos elementos da aula fonte.\n",
    "    \n",
    "2 - Transformá-los em vetor;<br>\n",
    "\n",
    "    amostra = np.random.choice(a = [0, 1], size = 150, replace = True, \n",
    "                          p = [0.7, 0.3])\n",
    "\n",
    "guarda na variável de nome *amostra* vetor aleatório gerado de 'zeros' e 'uns', com 150 elementos, podendo os 'zeros' e 'uns' serem repetidos neste vetor, tendo a probabilidade do elemento '0' sair 70% e do elemento '1' sair 30%\n",
    "\n",
    "3 - Usá-los para selecionar os registros que serão escolhidos de Iris.\n",
    "\n",
    "    base_final = base.loc[amostra == 0]\n",
    "    \n",
    "\n"
   ]
  },
  {
   "cell_type": "code",
   "execution_count": 18,
   "id": "2b3e0707",
   "metadata": {
    "ExecuteTime": {
     "end_time": "2023-03-25T20:01:47.766959Z",
     "start_time": "2023-03-25T20:01:47.760976Z"
    }
   },
   "outputs": [
    {
     "data": {
      "text/plain": [
       "array([0, 0, 0, 0, 1, 0, 0, 0, 1, 0, 0, 1, 0, 1, 0, 0, 1, 0, 1, 1, 1, 0,\n",
       "       0, 1, 1, 1, 0, 1, 0, 0, 1, 0, 0, 1, 1, 0, 1, 0, 0, 0, 1, 0, 1, 0,\n",
       "       0, 0, 0, 0, 0, 0, 1, 1, 0, 0, 0, 0, 0, 0, 0, 0, 0, 1, 0, 0, 1, 0,\n",
       "       0, 1, 0, 0, 1, 0, 0, 0, 0, 1, 0, 1, 0, 0, 1, 1, 0, 0, 0, 0, 0, 0,\n",
       "       0, 0, 0, 0, 1, 0, 1, 1, 1, 1, 1, 1, 0, 0, 0, 0, 0, 0, 0, 0, 1, 0,\n",
       "       0, 0, 0, 0, 0, 0, 0, 0, 1, 0, 0, 0, 0, 0, 1, 1, 1, 0, 1, 0, 1, 1,\n",
       "       1, 0, 0, 0, 0, 0, 0, 0, 0, 1, 1, 0, 0, 1, 1, 0, 0, 1])"
      ]
     },
     "execution_count": 18,
     "metadata": {},
     "output_type": "execute_result"
    }
   ],
   "source": [
    "np.random.seed(2345) #esta linha de código deve sempre anteceder a linha de código que tem um método que tem elementos aleatórios\n",
    "amostra = np.random.choice(a = [0, 1], size = 150, replace = True, \n",
    "                          p = [0.7, 0.3])\n",
    "#len(amostra)\n",
    "#len([amostra == 1])\n",
    "#len([amostra == 0])\n",
    "amostra"
   ]
  },
  {
   "cell_type": "code",
   "execution_count": 15,
   "id": "83ba443a",
   "metadata": {
    "ExecuteTime": {
     "end_time": "2023-03-25T19:47:49.114851Z",
     "start_time": "2023-03-25T19:47:49.104877Z"
    }
   },
   "outputs": [
    {
     "data": {
      "text/plain": [
       "(101, 5)"
      ]
     },
     "execution_count": 15,
     "metadata": {},
     "output_type": "execute_result"
    }
   ],
   "source": [
    "#querendo formar uma base com 101 elementos\n",
    "base_final = base.loc[amostra == 0]\n",
    "base_final.shape"
   ]
  },
  {
   "cell_type": "code",
   "execution_count": 16,
   "id": "f612358d",
   "metadata": {
    "ExecuteTime": {
     "end_time": "2023-03-25T19:48:11.518318Z",
     "start_time": "2023-03-25T19:48:11.512332Z"
    }
   },
   "outputs": [
    {
     "data": {
      "text/plain": [
       "(49, 5)"
      ]
     },
     "execution_count": 16,
     "metadata": {},
     "output_type": "execute_result"
    }
   ],
   "source": [
    "#querendo formar uma base com 49 elementos\n",
    "base_final2 = base.loc[amostra == 1]\n",
    "base_final2.shape"
   ]
  }
 ],
 "metadata": {
  "kernelspec": {
   "display_name": "Python 3 (ipykernel)",
   "language": "python",
   "name": "python3"
  },
  "language_info": {
   "codemirror_mode": {
    "name": "ipython",
    "version": 3
   },
   "file_extension": ".py",
   "mimetype": "text/x-python",
   "name": "python",
   "nbconvert_exporter": "python",
   "pygments_lexer": "ipython3",
   "version": "3.9.7"
  },
  "toc": {
   "base_numbering": 1,
   "nav_menu": {},
   "number_sections": true,
   "sideBar": true,
   "skip_h1_title": false,
   "title_cell": "Table of Contents",
   "title_sidebar": "Contents",
   "toc_cell": false,
   "toc_position": {},
   "toc_section_display": true,
   "toc_window_display": false
  }
 },
 "nbformat": 4,
 "nbformat_minor": 5
}
