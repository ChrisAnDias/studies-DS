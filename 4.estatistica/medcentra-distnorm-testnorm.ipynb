{
 "cells": [
  {
   "cell_type": "markdown",
   "id": "74853a4f",
   "metadata": {},
   "source": [
    "Prática de Estatística I - Curso Formação Cientista de Dados 2023 - Udemy"
   ]
  },
  {
   "cell_type": "markdown",
   "id": "5c814f48",
   "metadata": {},
   "source": [
    "# Importação de bibliotecas comuns"
   ]
  },
  {
   "cell_type": "code",
   "execution_count": 1,
   "id": "d179a6a3",
   "metadata": {
    "ExecuteTime": {
     "end_time": "2023-04-03T17:22:52.782290Z",
     "start_time": "2023-04-03T17:22:52.378857Z"
    }
   },
   "outputs": [],
   "source": [
    "import numpy as np\n",
    "from scipy import stats"
   ]
  },
  {
   "cell_type": "markdown",
   "id": "f2881d0a",
   "metadata": {},
   "source": [
    "Além da famosa biblioteca **Numpy**, será utilizada uma função da biblioteca **Scipy**. <br>\n",
    "Uma boa documentação (ou explicação de documentação) em português é [Documentação Scipy](https://tmfilho.github.io/pyestbook/math/03_scip.html)"
   ]
  },
  {
   "cell_type": "markdown",
   "id": "7347e9e1",
   "metadata": {},
   "source": [
    "# Medidas de Centralidade"
   ]
  },
  {
   "cell_type": "markdown",
   "id": "7a4f9d44",
   "metadata": {},
   "source": [
    "## Problemática"
   ]
  },
  {
   "cell_type": "markdown",
   "id": "6e3f2dba",
   "metadata": {},
   "source": [
    "O objetivo aqui é praticar alguns métodos para extrair medidas de centralidade de um conjunto de dados. <br>\n",
    "Para isso, uma variável será criada com alguns valores correspondendo à salários de jogadores de futebol. A partir dessa variável criada, será extraído algumas medidas de centralidade. "
   ]
  },
  {
   "cell_type": "code",
   "execution_count": 2,
   "id": "98fb2606",
   "metadata": {
    "ExecuteTime": {
     "end_time": "2023-04-03T17:26:38.942661Z",
     "start_time": "2023-04-03T17:26:38.922714Z"
    }
   },
   "outputs": [
    {
     "data": {
      "text/plain": [
       "181111.11111111112"
      ]
     },
     "execution_count": 2,
     "metadata": {},
     "output_type": "execute_result"
    }
   ],
   "source": [
    "jogadores = [40000,18000,12000,250000,30000,140000,300000,40000,800000]\n",
    "np.mean(jogadores)"
   ]
  },
  {
   "cell_type": "code",
   "execution_count": 9,
   "id": "8e7c38fc",
   "metadata": {
    "ExecuteTime": {
     "end_time": "2023-04-03T17:39:08.535726Z",
     "start_time": "2023-04-03T17:39:08.519766Z"
    }
   },
   "outputs": [
    {
     "data": {
      "text/plain": [
       "40000.0"
      ]
     },
     "execution_count": 9,
     "metadata": {},
     "output_type": "execute_result"
    }
   ],
   "source": [
    "#média de salários\n",
    "np.median(jogadores)"
   ]
  },
  {
   "cell_type": "code",
   "execution_count": 10,
   "id": "346a06a7",
   "metadata": {
    "ExecuteTime": {
     "end_time": "2023-04-03T17:39:18.907743Z",
     "start_time": "2023-04-03T17:39:18.887610Z"
    }
   },
   "outputs": [
    {
     "data": {
      "text/plain": [
       "array([ 12000.,  30000.,  40000., 250000., 800000.])"
      ]
     },
     "execution_count": 10,
     "metadata": {},
     "output_type": "execute_result"
    }
   ],
   "source": [
    "#extração dos quartis\n",
    "quartis = np.quantile(jogadores, [0, 0.25, 0.5, 0.75, 1])\n",
    "quartis "
   ]
  },
  {
   "cell_type": "code",
   "execution_count": 11,
   "id": "72e894e0",
   "metadata": {
    "ExecuteTime": {
     "end_time": "2023-04-03T17:39:29.152537Z",
     "start_time": "2023-04-03T17:39:29.135552Z"
    }
   },
   "outputs": [
    {
     "data": {
      "text/plain": [
       "255307.87514511007"
      ]
     },
     "execution_count": 11,
     "metadata": {},
     "output_type": "execute_result"
    }
   ],
   "source": [
    "#extração do esvio padrão\n",
    "np.std(jogadores, ddof=1)"
   ]
  },
  {
   "cell_type": "code",
   "execution_count": 13,
   "id": "ad0bfa03",
   "metadata": {
    "ExecuteTime": {
     "end_time": "2023-04-03T18:32:11.412346Z",
     "start_time": "2023-04-03T18:32:11.402402Z"
    }
   },
   "outputs": [
    {
     "data": {
      "text/plain": [
       "DescribeResult(nobs=9, minmax=(12000, 800000), mean=181111.11111111112, variance=65182111111.11111, skewness=1.758635899846188, kurtosis=1.9572075427527729)"
      ]
     },
     "execution_count": 13,
     "metadata": {},
     "output_type": "execute_result"
    }
   ],
   "source": [
    "#Função da biblioteca Scipy que retorna algumas informações que pode ser úteis, evitando linhas de códigos anteriores (ver documentação)\n",
    "stats.describe(jogadores)"
   ]
  },
  {
   "cell_type": "code",
   "execution_count": 14,
   "id": "f729c1de",
   "metadata": {
    "ExecuteTime": {
     "end_time": "2023-04-03T18:32:41.403098Z",
     "start_time": "2023-04-03T18:32:41.388138Z"
    }
   },
   "outputs": [
    {
     "data": {
      "text/plain": [
       "13.5"
      ]
     },
     "execution_count": 14,
     "metadata": {},
     "output_type": "execute_result"
    }
   ],
   "source": [
    "dados = [22,10,12,14,13,15]\n",
    "np.median(dados)"
   ]
  },
  {
   "cell_type": "markdown",
   "id": "8217d2c0",
   "metadata": {},
   "source": [
    "# Distribuição Normal"
   ]
  },
  {
   "cell_type": "markdown",
   "id": "9b618e88",
   "metadata": {},
   "source": [
    "## Problemática"
   ]
  },
  {
   "cell_type": "markdown",
   "id": "fde0e0a8",
   "metadata": {},
   "source": [
    "Uma cesta possui um conjunto de objetos. Esse conjunto de objetos possui média de 8 e desvio padrão de 2. Qual a probabilidade de se tirar um objeto que o peso é menor que 6 quilos? E maior que 6 quilos? E menor que 6 e maior que 10 quilos? E menor que 10 e maior que 8 quilos? <br>\n",
    "Será necessário a utilização da biblioteca **Scipy**, a função **norm**.<br>\n",
    "<br>\n",
    "\n",
    "- **cdf** uma dado a esquerda, menor que \n",
    "- **sf** um dado a direita, maior que "
   ]
  },
  {
   "cell_type": "code",
   "execution_count": 15,
   "id": "8d897748",
   "metadata": {
    "ExecuteTime": {
     "end_time": "2023-04-03T18:43:49.445499Z",
     "start_time": "2023-04-03T18:43:49.429513Z"
    }
   },
   "outputs": [],
   "source": [
    "from scipy.stats import norm"
   ]
  },
  {
   "cell_type": "code",
   "execution_count": 18,
   "id": "43f1135e",
   "metadata": {
    "ExecuteTime": {
     "end_time": "2023-04-03T19:06:32.953840Z",
     "start_time": "2023-04-03T19:06:32.936884Z"
    }
   },
   "outputs": [
    {
     "data": {
      "text/plain": [
       "0.15865525393145707"
      ]
     },
     "execution_count": 18,
     "metadata": {},
     "output_type": "execute_result"
    }
   ],
   "source": [
    "#menor que 6 quilos\n",
    "norm.cdf(6,8,2)"
   ]
  },
  {
   "cell_type": "code",
   "execution_count": 21,
   "id": "f7d6cac2",
   "metadata": {
    "ExecuteTime": {
     "end_time": "2023-04-03T19:07:22.252478Z",
     "start_time": "2023-04-03T19:07:22.233500Z"
    }
   },
   "outputs": [
    {
     "data": {
      "text/plain": [
       "0.8413447460685429"
      ]
     },
     "execution_count": 21,
     "metadata": {},
     "output_type": "execute_result"
    }
   ],
   "source": [
    "#maior que 6 quilos\n",
    "#norm.sf(6,8,2)\n",
    "1-norm.cdf(6,8,2)"
   ]
  },
  {
   "cell_type": "code",
   "execution_count": 22,
   "id": "0b9421ae",
   "metadata": {
    "ExecuteTime": {
     "end_time": "2023-04-03T19:09:30.641095Z",
     "start_time": "2023-04-03T19:09:30.602516Z"
    }
   },
   "outputs": [
    {
     "data": {
      "text/plain": [
       "0.31731050786291415"
      ]
     },
     "execution_count": 22,
     "metadata": {},
     "output_type": "execute_result"
    }
   ],
   "source": [
    "#menor que 6, maior que 10 quilos\n",
    "norm.cdf(6,8,2) + norm.sf(10,8,2)"
   ]
  },
  {
   "cell_type": "code",
   "execution_count": 23,
   "id": "8efa68bb",
   "metadata": {
    "ExecuteTime": {
     "end_time": "2023-04-03T19:12:22.474351Z",
     "start_time": "2023-04-03T19:12:22.458423Z"
    }
   },
   "outputs": [
    {
     "data": {
      "text/plain": [
       "0.3413447460685429"
      ]
     },
     "execution_count": 23,
     "metadata": {},
     "output_type": "execute_result"
    }
   ],
   "source": [
    "#menor que 10 e maior que 8 quilos\n",
    "norm.cdf(10,8,2)-norm.cdf(8,8,2)"
   ]
  },
  {
   "cell_type": "markdown",
   "id": "d9bab4bb",
   "metadata": {},
   "source": [
    "## Explicando a função"
   ]
  },
  {
   "cell_type": "markdown",
   "id": "785e8bc9",
   "metadata": {},
   "source": [
    "¹**valor referência**: O valor que ser quer saber se é maior que ele, ou menor que ele. <br>\n",
    "_\n",
    "\n",
    "**cdf**: Usado para quando se quer saber um dado *menor que* <br>\n",
    "\n",
    "    norm.cdf(valor referência, media, desviopadrão) \n",
    "<br>\n",
    "\n",
    "**sf**: Usado para quando se quer saber um dado *maior que* <br>\n",
    "\n",
    "    norm.sf(valor referência, media, desvio padrão)"
   ]
  }
 ],
 "metadata": {
  "kernelspec": {
   "display_name": "Python 3 (ipykernel)",
   "language": "python",
   "name": "python3"
  },
  "language_info": {
   "codemirror_mode": {
    "name": "ipython",
    "version": 3
   },
   "file_extension": ".py",
   "mimetype": "text/x-python",
   "name": "python",
   "nbconvert_exporter": "python",
   "pygments_lexer": "ipython3",
   "version": "3.9.7"
  },
  "toc": {
   "base_numbering": 1,
   "nav_menu": {},
   "number_sections": true,
   "sideBar": true,
   "skip_h1_title": false,
   "title_cell": "Table of Contents",
   "title_sidebar": "Contents",
   "toc_cell": false,
   "toc_position": {
    "height": "calc(100% - 180px)",
    "left": "10px",
    "top": "150px",
    "width": "426.667px"
   },
   "toc_section_display": true,
   "toc_window_display": true
  }
 },
 "nbformat": 4,
 "nbformat_minor": 5
}
