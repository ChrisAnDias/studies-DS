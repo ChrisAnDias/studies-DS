{
 "cells": [
  {
   "cell_type": "markdown",
   "id": "735b0e7a",
   "metadata": {},
   "source": [
    "Prática de Estatística I - Curso Formação Cientista de Dados 2023 - Udemy"
   ]
  },
  {
   "cell_type": "markdown",
   "id": "b648d7ef",
   "metadata": {},
   "source": [
    "# Importação de bibliotecas"
   ]
  },
  {
   "cell_type": "code",
   "execution_count": 25,
   "id": "00c1431b",
   "metadata": {
    "ExecuteTime": {
     "end_time": "2023-03-26T23:12:36.180264Z",
     "start_time": "2023-03-26T23:12:33.992913Z"
    }
   },
   "outputs": [],
   "source": [
    "import pandas as pd #para carregar os arquivos csv\n",
    "import numpy as np #para gerar números aleatórios\n",
    "from math import ceil #retorna o maior valor do resultado de uma divisão de um número real\n",
    "from sklearn.model_selection import train_test_split"
   ]
  },
  {
   "cell_type": "markdown",
   "id": "28f65fd3",
   "metadata": {},
   "source": [
    "- A biblioteca **Pandas** é para trabalhar com dados em dorma de vetor, dados estruturados\n",
    "- A biblioteca **Numpy** é científica. Possui várias funções de cálculo"
   ]
  },
  {
   "cell_type": "markdown",
   "id": "ee3d873b",
   "metadata": {},
   "source": [
    "# Amostragem Simples"
   ]
  },
  {
   "cell_type": "markdown",
   "id": "a4d6f0d8",
   "metadata": {},
   "source": [
    "## Importação da base de dados"
   ]
  },
  {
   "cell_type": "markdown",
   "id": "873bea03",
   "metadata": {},
   "source": [
    "Sempre bom ter uma ideia de como está disponível os dados que se está importando. Por isso a linha de código abaixo. Deste modo é possível ver como estão nomeadas colunas, quantas são, como é o formato dos dados. "
   ]
  },
  {
   "cell_type": "code",
   "execution_count": 2,
   "id": "59eae0aa",
   "metadata": {
    "ExecuteTime": {
     "end_time": "2023-03-26T23:04:27.121846Z",
     "start_time": "2023-03-26T23:04:27.060354Z"
    }
   },
   "outputs": [
    {
     "data": {
      "text/html": [
       "<div>\n",
       "<style scoped>\n",
       "    .dataframe tbody tr th:only-of-type {\n",
       "        vertical-align: middle;\n",
       "    }\n",
       "\n",
       "    .dataframe tbody tr th {\n",
       "        vertical-align: top;\n",
       "    }\n",
       "\n",
       "    .dataframe thead th {\n",
       "        text-align: right;\n",
       "    }\n",
       "</style>\n",
       "<table border=\"1\" class=\"dataframe\">\n",
       "  <thead>\n",
       "    <tr style=\"text-align: right;\">\n",
       "      <th></th>\n",
       "      <th>sepal length</th>\n",
       "      <th>sepal width</th>\n",
       "      <th>petal length</th>\n",
       "      <th>petal width</th>\n",
       "      <th>class</th>\n",
       "    </tr>\n",
       "  </thead>\n",
       "  <tbody>\n",
       "    <tr>\n",
       "      <th>0</th>\n",
       "      <td>5.1</td>\n",
       "      <td>3.5</td>\n",
       "      <td>1.4</td>\n",
       "      <td>0.2</td>\n",
       "      <td>Iris-setosa</td>\n",
       "    </tr>\n",
       "    <tr>\n",
       "      <th>1</th>\n",
       "      <td>4.9</td>\n",
       "      <td>3.0</td>\n",
       "      <td>1.4</td>\n",
       "      <td>0.2</td>\n",
       "      <td>Iris-setosa</td>\n",
       "    </tr>\n",
       "    <tr>\n",
       "      <th>2</th>\n",
       "      <td>4.7</td>\n",
       "      <td>3.2</td>\n",
       "      <td>1.3</td>\n",
       "      <td>0.2</td>\n",
       "      <td>Iris-setosa</td>\n",
       "    </tr>\n",
       "    <tr>\n",
       "      <th>3</th>\n",
       "      <td>4.6</td>\n",
       "      <td>3.1</td>\n",
       "      <td>1.5</td>\n",
       "      <td>0.2</td>\n",
       "      <td>Iris-setosa</td>\n",
       "    </tr>\n",
       "    <tr>\n",
       "      <th>4</th>\n",
       "      <td>5.0</td>\n",
       "      <td>3.6</td>\n",
       "      <td>1.4</td>\n",
       "      <td>0.2</td>\n",
       "      <td>Iris-setosa</td>\n",
       "    </tr>\n",
       "    <tr>\n",
       "      <th>...</th>\n",
       "      <td>...</td>\n",
       "      <td>...</td>\n",
       "      <td>...</td>\n",
       "      <td>...</td>\n",
       "      <td>...</td>\n",
       "    </tr>\n",
       "    <tr>\n",
       "      <th>145</th>\n",
       "      <td>6.7</td>\n",
       "      <td>3.0</td>\n",
       "      <td>5.2</td>\n",
       "      <td>2.3</td>\n",
       "      <td>Iris-virginica</td>\n",
       "    </tr>\n",
       "    <tr>\n",
       "      <th>146</th>\n",
       "      <td>6.3</td>\n",
       "      <td>2.5</td>\n",
       "      <td>5.0</td>\n",
       "      <td>1.9</td>\n",
       "      <td>Iris-virginica</td>\n",
       "    </tr>\n",
       "    <tr>\n",
       "      <th>147</th>\n",
       "      <td>6.5</td>\n",
       "      <td>3.0</td>\n",
       "      <td>5.2</td>\n",
       "      <td>2.0</td>\n",
       "      <td>Iris-virginica</td>\n",
       "    </tr>\n",
       "    <tr>\n",
       "      <th>148</th>\n",
       "      <td>6.2</td>\n",
       "      <td>3.4</td>\n",
       "      <td>5.4</td>\n",
       "      <td>2.3</td>\n",
       "      <td>Iris-virginica</td>\n",
       "    </tr>\n",
       "    <tr>\n",
       "      <th>149</th>\n",
       "      <td>5.9</td>\n",
       "      <td>3.0</td>\n",
       "      <td>5.1</td>\n",
       "      <td>1.8</td>\n",
       "      <td>Iris-virginica</td>\n",
       "    </tr>\n",
       "  </tbody>\n",
       "</table>\n",
       "<p>150 rows × 5 columns</p>\n",
       "</div>"
      ],
      "text/plain": [
       "     sepal length  sepal width  petal length  petal width           class\n",
       "0             5.1          3.5           1.4          0.2     Iris-setosa\n",
       "1             4.9          3.0           1.4          0.2     Iris-setosa\n",
       "2             4.7          3.2           1.3          0.2     Iris-setosa\n",
       "3             4.6          3.1           1.5          0.2     Iris-setosa\n",
       "4             5.0          3.6           1.4          0.2     Iris-setosa\n",
       "..            ...          ...           ...          ...             ...\n",
       "145           6.7          3.0           5.2          2.3  Iris-virginica\n",
       "146           6.3          2.5           5.0          1.9  Iris-virginica\n",
       "147           6.5          3.0           5.2          2.0  Iris-virginica\n",
       "148           6.2          3.4           5.4          2.3  Iris-virginica\n",
       "149           5.9          3.0           5.1          1.8  Iris-virginica\n",
       "\n",
       "[150 rows x 5 columns]"
      ]
     },
     "execution_count": 2,
     "metadata": {},
     "output_type": "execute_result"
    }
   ],
   "source": [
    "base = pd.read_csv('iris.csv')\n",
    "base"
   ]
  },
  {
   "cell_type": "code",
   "execution_count": 3,
   "id": "cca27190",
   "metadata": {
    "ExecuteTime": {
     "end_time": "2023-03-26T23:04:27.137811Z",
     "start_time": "2023-03-26T23:04:27.123840Z"
    }
   },
   "outputs": [
    {
     "data": {
      "text/plain": [
       "(150, 5)"
      ]
     },
     "execution_count": 3,
     "metadata": {},
     "output_type": "execute_result"
    }
   ],
   "source": [
    "base.shape"
   ]
  },
  {
   "cell_type": "markdown",
   "id": "d4e86b78",
   "metadata": {},
   "source": [
    "## Amostragem "
   ]
  },
  {
   "cell_type": "markdown",
   "id": "5a462989",
   "metadata": {},
   "source": [
    "Minha intenção é retirar uma **amostra aleatória** do conjunto de dados importado, permitindo assim que todos os elementos do conjuntos tenham chances iguais de serem escolhidos. Assim, irei executar em ordem:\n",
    "\n",
    "1 - Gerar números aleatórios;<br>\n",
    "    \n",
    "    np.random.seed(2345)\n",
    "    \n",
    "  para gerar os mesmos elementos da aula fonte.\n",
    "    \n",
    "2 - Transformá-los em vetor;<br>\n",
    "\n",
    "    amostra = np.random.choice(a = [0, 1], size = 150, replace = True, \n",
    "                          p = [0.7, 0.3])\n",
    "\n",
    "guarda na variável de nome *amostra* vetor aleatório gerado de 'zeros' e 'uns', com 150 elementos, podendo os 'zeros' e 'uns' serem repetidos neste vetor, tendo a probabilidade do elemento '0' sair 70% e do elemento '1' sair 30%\n",
    "\n",
    "3 - Usá-los para selecionar os registros que serão escolhidos de Iris.\n",
    "\n",
    "    base_final = base.loc[amostra == 0]\n",
    "    \n",
    "\n"
   ]
  },
  {
   "cell_type": "code",
   "execution_count": 13,
   "id": "7b8681a2",
   "metadata": {
    "ExecuteTime": {
     "end_time": "2023-03-26T23:05:03.880292Z",
     "start_time": "2023-03-26T23:05:03.873309Z"
    }
   },
   "outputs": [
    {
     "data": {
      "text/plain": [
       "array([0, 0, 0, 0, 1, 0, 0, 0, 1, 0, 0, 1, 0, 1, 0, 0, 1, 0, 1, 1, 1, 0,\n",
       "       0, 1, 1, 1, 0, 1, 0, 0, 1, 0, 0, 1, 1, 0, 1, 0, 0, 0, 1, 0, 1, 0,\n",
       "       0, 0, 0, 0, 0, 0, 1, 1, 0, 0, 0, 0, 0, 0, 0, 0, 0, 1, 0, 0, 1, 0,\n",
       "       0, 1, 0, 0, 1, 0, 0, 0, 0, 1, 0, 1, 0, 0, 1, 1, 0, 0, 0, 0, 0, 0,\n",
       "       0, 0, 0, 0, 1, 0, 1, 1, 1, 1, 1, 1, 0, 0, 0, 0, 0, 0, 0, 0, 1, 0,\n",
       "       0, 0, 0, 0, 0, 0, 0, 0, 1, 0, 0, 0, 0, 0, 1, 1, 1, 0, 1, 0, 1, 1,\n",
       "       1, 0, 0, 0, 0, 0, 0, 0, 0, 1, 1, 0, 0, 1, 1, 0, 0, 1])"
      ]
     },
     "execution_count": 13,
     "metadata": {},
     "output_type": "execute_result"
    }
   ],
   "source": [
    "np.random.seed(2345) #esta linha de código deve sempre anteceder a linha de código que tem um método que tem elementos aleatórios\n",
    "amostra = np.random.choice(a = [0, 1], size = 150, replace = True, \n",
    "                          p = [0.7, 0.3])\n",
    "#len(amostra)\n",
    "#len(amostra[amostra == 1])\n",
    "#len(amostra[amostra == 0])\n",
    "amostra"
   ]
  },
  {
   "cell_type": "code",
   "execution_count": 5,
   "id": "c7de6dd2",
   "metadata": {
    "ExecuteTime": {
     "end_time": "2023-03-26T23:04:27.182847Z",
     "start_time": "2023-03-26T23:04:27.173871Z"
    }
   },
   "outputs": [
    {
     "data": {
      "text/plain": [
       "(101, 5)"
      ]
     },
     "execution_count": 5,
     "metadata": {},
     "output_type": "execute_result"
    }
   ],
   "source": [
    "#querendo formar uma base com 101 elementos\n",
    "base_final = base.loc[amostra == 0]\n",
    "base_final.shape"
   ]
  },
  {
   "cell_type": "code",
   "execution_count": 6,
   "id": "6081c529",
   "metadata": {
    "ExecuteTime": {
     "end_time": "2023-03-26T23:04:27.198806Z",
     "start_time": "2023-03-26T23:04:27.183846Z"
    }
   },
   "outputs": [
    {
     "data": {
      "text/plain": [
       "(49, 5)"
      ]
     },
     "execution_count": 6,
     "metadata": {},
     "output_type": "execute_result"
    }
   ],
   "source": [
    "#querendo formar uma base com 49 elementos\n",
    "base_final2 = base.loc[amostra == 1]\n",
    "base_final2.shape"
   ]
  },
  {
   "cell_type": "markdown",
   "id": "d9ec00d8",
   "metadata": {},
   "source": [
    "# Amostragem sistemática"
   ]
  },
  {
   "cell_type": "markdown",
   "id": "d4570cd2",
   "metadata": {},
   "source": [
    "**Do que se trata?** <br>\n",
    "\n",
    "Trata-se do caso de quando, para formar um conjunto de seleção aleatório, escolhe-se um elemento de forma aleatória e a partir dele, a cada 'n' elementos, escolhe-se um outro elemento. Seguindo a sequência. Retirando de forma sistemática os elementos que irão compor conjunto da amostra. <br>\n",
    "<br>\n",
    "\n",
    "**Passo-a-passo para obtenção da amostra sistemática:** <br>\n",
    "\n",
    "- Usando o **mesmo conjunto de dados 'Iris'**, em que se conhece o total de elementos (150), pretende-se **obter uma amostra de 15 elementos** gerados aleatoriamente de forma sistemática. Para isso, é necessário **definir um intervalo** (k) de quantos em quantos elementos serão retirados o elemento para a amosrta. Daí a necessidade da função 'ceil'. <br>\n",
    "- Definido o k, é possível então gerar o primeiro elemento aleatório, que será a partir do qual se dará prosseguimento ao processo de amostragem.\n",
    "- Em seguida, gera-se um vetor com os 15 elementos, definindo a posição dos elementos que serão retirados do banco de dados Iris. \n",
    "- Por último, usando a biblioteca pandas [.loc], retira da base de dados os elementos correspondentes aos sorteados na etapa anterior. "
   ]
  },
  {
   "cell_type": "code",
   "execution_count": 20,
   "id": "eacc9b81",
   "metadata": {
    "ExecuteTime": {
     "end_time": "2023-03-26T23:06:23.982694Z",
     "start_time": "2023-03-26T23:06:23.975712Z"
    }
   },
   "outputs": [
    {
     "name": "stdout",
     "output_type": "stream",
     "text": [
      "10\n"
     ]
    }
   ],
   "source": [
    "populacao = 150\n",
    "amostra2 = 15\n",
    "k = ceil(populacao / amostra2)\n",
    "print(k)"
   ]
  },
  {
   "cell_type": "code",
   "execution_count": 21,
   "id": "55483022",
   "metadata": {
    "ExecuteTime": {
     "end_time": "2023-03-26T23:06:26.306719Z",
     "start_time": "2023-03-26T23:06:26.287767Z"
    }
   },
   "outputs": [
    {
     "name": "stdout",
     "output_type": "stream",
     "text": [
      "[9]\n"
     ]
    }
   ],
   "source": [
    "r = np.random.randint(low = 1, high = k+1, size = 1)\n",
    "print(r)"
   ]
  },
  {
   "cell_type": "code",
   "execution_count": 22,
   "id": "de9ff385",
   "metadata": {
    "ExecuteTime": {
     "end_time": "2023-03-26T23:06:28.610503Z",
     "start_time": "2023-03-26T23:06:28.591556Z"
    }
   },
   "outputs": [
    {
     "name": "stdout",
     "output_type": "stream",
     "text": [
      "[9, 19, 29, 39, 49, 59, 69, 79, 89, 99, 109, 119, 129, 139, 149]\n"
     ]
    }
   ],
   "source": [
    "acumulador = r[0]\n",
    "sorteados = []\n",
    "for i in range(amostra2):\n",
    "    sorteados.append(acumulador)\n",
    "    acumulador += k\n",
    "print(sorteados)"
   ]
  },
  {
   "cell_type": "code",
   "execution_count": 10,
   "id": "38fa4ec5",
   "metadata": {
    "ExecuteTime": {
     "end_time": "2023-03-26T23:04:27.275167Z",
     "start_time": "2023-03-26T23:04:27.261206Z"
    }
   },
   "outputs": [
    {
     "data": {
      "text/plain": [
       "15"
      ]
     },
     "execution_count": 10,
     "metadata": {},
     "output_type": "execute_result"
    }
   ],
   "source": [
    "len(sorteados)"
   ]
  },
  {
   "cell_type": "code",
   "execution_count": 24,
   "id": "41193001",
   "metadata": {
    "ExecuteTime": {
     "end_time": "2023-03-26T23:10:58.720455Z",
     "start_time": "2023-03-26T23:10:58.687545Z"
    }
   },
   "outputs": [
    {
     "data": {
      "text/html": [
       "<div>\n",
       "<style scoped>\n",
       "    .dataframe tbody tr th:only-of-type {\n",
       "        vertical-align: middle;\n",
       "    }\n",
       "\n",
       "    .dataframe tbody tr th {\n",
       "        vertical-align: top;\n",
       "    }\n",
       "\n",
       "    .dataframe thead th {\n",
       "        text-align: right;\n",
       "    }\n",
       "</style>\n",
       "<table border=\"1\" class=\"dataframe\">\n",
       "  <thead>\n",
       "    <tr style=\"text-align: right;\">\n",
       "      <th></th>\n",
       "      <th>sepal length</th>\n",
       "      <th>sepal width</th>\n",
       "      <th>petal length</th>\n",
       "      <th>petal width</th>\n",
       "      <th>class</th>\n",
       "    </tr>\n",
       "  </thead>\n",
       "  <tbody>\n",
       "    <tr>\n",
       "      <th>9</th>\n",
       "      <td>4.9</td>\n",
       "      <td>3.1</td>\n",
       "      <td>1.5</td>\n",
       "      <td>0.1</td>\n",
       "      <td>Iris-setosa</td>\n",
       "    </tr>\n",
       "    <tr>\n",
       "      <th>19</th>\n",
       "      <td>5.1</td>\n",
       "      <td>3.8</td>\n",
       "      <td>1.5</td>\n",
       "      <td>0.3</td>\n",
       "      <td>Iris-setosa</td>\n",
       "    </tr>\n",
       "    <tr>\n",
       "      <th>29</th>\n",
       "      <td>4.7</td>\n",
       "      <td>3.2</td>\n",
       "      <td>1.6</td>\n",
       "      <td>0.2</td>\n",
       "      <td>Iris-setosa</td>\n",
       "    </tr>\n",
       "    <tr>\n",
       "      <th>39</th>\n",
       "      <td>5.1</td>\n",
       "      <td>3.4</td>\n",
       "      <td>1.5</td>\n",
       "      <td>0.2</td>\n",
       "      <td>Iris-setosa</td>\n",
       "    </tr>\n",
       "    <tr>\n",
       "      <th>49</th>\n",
       "      <td>5.0</td>\n",
       "      <td>3.3</td>\n",
       "      <td>1.4</td>\n",
       "      <td>0.2</td>\n",
       "      <td>Iris-setosa</td>\n",
       "    </tr>\n",
       "    <tr>\n",
       "      <th>59</th>\n",
       "      <td>5.2</td>\n",
       "      <td>2.7</td>\n",
       "      <td>3.9</td>\n",
       "      <td>1.4</td>\n",
       "      <td>Iris-versicolor</td>\n",
       "    </tr>\n",
       "    <tr>\n",
       "      <th>69</th>\n",
       "      <td>5.6</td>\n",
       "      <td>2.5</td>\n",
       "      <td>3.9</td>\n",
       "      <td>1.1</td>\n",
       "      <td>Iris-versicolor</td>\n",
       "    </tr>\n",
       "    <tr>\n",
       "      <th>79</th>\n",
       "      <td>5.7</td>\n",
       "      <td>2.6</td>\n",
       "      <td>3.5</td>\n",
       "      <td>1.0</td>\n",
       "      <td>Iris-versicolor</td>\n",
       "    </tr>\n",
       "    <tr>\n",
       "      <th>89</th>\n",
       "      <td>5.5</td>\n",
       "      <td>2.5</td>\n",
       "      <td>4.0</td>\n",
       "      <td>1.3</td>\n",
       "      <td>Iris-versicolor</td>\n",
       "    </tr>\n",
       "    <tr>\n",
       "      <th>99</th>\n",
       "      <td>5.7</td>\n",
       "      <td>2.8</td>\n",
       "      <td>4.1</td>\n",
       "      <td>1.3</td>\n",
       "      <td>Iris-versicolor</td>\n",
       "    </tr>\n",
       "    <tr>\n",
       "      <th>109</th>\n",
       "      <td>7.2</td>\n",
       "      <td>3.6</td>\n",
       "      <td>6.1</td>\n",
       "      <td>2.5</td>\n",
       "      <td>Iris-virginica</td>\n",
       "    </tr>\n",
       "    <tr>\n",
       "      <th>119</th>\n",
       "      <td>6.0</td>\n",
       "      <td>2.2</td>\n",
       "      <td>5.0</td>\n",
       "      <td>1.5</td>\n",
       "      <td>Iris-virginica</td>\n",
       "    </tr>\n",
       "    <tr>\n",
       "      <th>129</th>\n",
       "      <td>7.2</td>\n",
       "      <td>3.0</td>\n",
       "      <td>5.8</td>\n",
       "      <td>1.6</td>\n",
       "      <td>Iris-virginica</td>\n",
       "    </tr>\n",
       "    <tr>\n",
       "      <th>139</th>\n",
       "      <td>6.9</td>\n",
       "      <td>3.1</td>\n",
       "      <td>5.4</td>\n",
       "      <td>2.1</td>\n",
       "      <td>Iris-virginica</td>\n",
       "    </tr>\n",
       "    <tr>\n",
       "      <th>149</th>\n",
       "      <td>5.9</td>\n",
       "      <td>3.0</td>\n",
       "      <td>5.1</td>\n",
       "      <td>1.8</td>\n",
       "      <td>Iris-virginica</td>\n",
       "    </tr>\n",
       "  </tbody>\n",
       "</table>\n",
       "</div>"
      ],
      "text/plain": [
       "     sepal length  sepal width  petal length  petal width            class\n",
       "9             4.9          3.1           1.5          0.1      Iris-setosa\n",
       "19            5.1          3.8           1.5          0.3      Iris-setosa\n",
       "29            4.7          3.2           1.6          0.2      Iris-setosa\n",
       "39            5.1          3.4           1.5          0.2      Iris-setosa\n",
       "49            5.0          3.3           1.4          0.2      Iris-setosa\n",
       "59            5.2          2.7           3.9          1.4  Iris-versicolor\n",
       "69            5.6          2.5           3.9          1.1  Iris-versicolor\n",
       "79            5.7          2.6           3.5          1.0  Iris-versicolor\n",
       "89            5.5          2.5           4.0          1.3  Iris-versicolor\n",
       "99            5.7          2.8           4.1          1.3  Iris-versicolor\n",
       "109           7.2          3.6           6.1          2.5   Iris-virginica\n",
       "119           6.0          2.2           5.0          1.5   Iris-virginica\n",
       "129           7.2          3.0           5.8          1.6   Iris-virginica\n",
       "139           6.9          3.1           5.4          2.1   Iris-virginica\n",
       "149           5.9          3.0           5.1          1.8   Iris-virginica"
      ]
     },
     "execution_count": 24,
     "metadata": {},
     "output_type": "execute_result"
    }
   ],
   "source": [
    "base3 = pd.read_csv('iris.csv')\n",
    "base_final3=base.loc[sorteados]\n",
    "base_final3 #amostra sistemática"
   ]
  },
  {
   "cell_type": "markdown",
   "id": "6869ca4e",
   "metadata": {},
   "source": [
    "# Amostragem estratificada"
   ]
  },
  {
   "cell_type": "markdown",
   "id": "b3a2e230",
   "metadata": {},
   "source": [
    "Serão dois conjunto de dados que serão trabalhados para retirar amostragem estratificada: <br>\n",
    "1) Iris: possui a **classe** balanceada. Possui 50 registros de cada classe. <br>\n",
    "2) Infert: possui a **classe** desbalanceada. O objetivo é gerar uma amostra estratificada com representatividade proporcional tomando como base a coluna *education*. <br>\n",
    "\n"
   ]
  },
  {
   "cell_type": "markdown",
   "id": "0f4c0f11",
   "metadata": {},
   "source": [
    "## Classe balanceada"
   ]
  },
  {
   "cell_type": "code",
   "execution_count": null,
   "id": "609ca9e3",
   "metadata": {},
   "outputs": [],
   "source": []
  },
  {
   "cell_type": "code",
   "execution_count": 29,
   "id": "1e541b1e",
   "metadata": {
    "ExecuteTime": {
     "end_time": "2023-03-26T23:31:01.477005Z",
     "start_time": "2023-03-26T23:31:01.457059Z"
    }
   },
   "outputs": [
    {
     "data": {
      "text/plain": [
       "Iris-setosa        50\n",
       "Iris-versicolor    50\n",
       "Iris-virginica     50\n",
       "Name: class, dtype: int64"
      ]
     },
     "execution_count": 29,
     "metadata": {},
     "output_type": "execute_result"
    }
   ],
   "source": [
    "iris = pd.read_csv('iris.csv')\n",
    "iris['class'].value_counts()"
   ]
  },
  {
   "cell_type": "markdown",
   "id": "4957ea8e",
   "metadata": {},
   "source": [
    "- Com o objetivo de **extratificar** a amostra, isto é, escolher de cada classe uma quantidade (no caso 50% de cada classe) para compor a amostra, não esquecendo de permitir que todos os elementos de cada classe tenham chances iguais de serem escohidas, o código abaixo deve ser executado "
   ]
  },
  {
   "cell_type": "code",
   "execution_count": 30,
   "id": "d2780dae",
   "metadata": {
    "ExecuteTime": {
     "end_time": "2023-03-26T23:36:18.833419Z",
     "start_time": "2023-03-26T23:36:18.817433Z"
    }
   },
   "outputs": [
    {
     "data": {
      "text/plain": [
       "Iris-versicolor    25\n",
       "Iris-virginica     25\n",
       "Iris-setosa        25\n",
       "Name: class, dtype: int64"
      ]
     },
     "execution_count": 30,
     "metadata": {},
     "output_type": "execute_result"
    }
   ],
   "source": [
    "x, _, y, _ = train_test_split(iris.iloc[:,0:4], iris.iloc[:,4],\n",
    "                             test_size = 0.5, stratify = iris.iloc[:,4])\n",
    "y.value_counts()"
   ]
  },
  {
   "cell_type": "markdown",
   "id": "c710ead8",
   "metadata": {},
   "source": [
    "**Explicando a função:**<br>\n",
    "- A função *train_test_split* retorna 4 valores. Como precisamos de 2 valores, os outros foram substituídos por '_'. <br>\n",
    "- *iris.iloc[:,0:4]*, parâmetro dentro do *train_test_split* percorre todas as linhas e colunas do arquivo. É chamada também de **variável previsores**. <br>\n",
    "- *iris.iloc[:,4]*, parâmetro dentro do *train_test_split* é a variável dependente. Indica que percorre todas as linhas mas determina a coluna 4 como sendo a coluna em que se quer concentrar (ou classificar). <br>\n",
    "- *test_size* em 0.5 indica que quer dividir as classes pelas metade (50%). <br>\n",
    "- *stratify = iris.iloc[:,4]* indica que vai estratificar os elementos baseados no parâmetro 2 \n",
    "<br>\n",
    "\n",
    "**OBS:** Se tivesse sido gerado simplesmente uma amostra de 50% do conjunto Iris, sem as especificações que foram feitas, poderia ter ocorrido de ter uma quantidade maior em *versicolor* ou menor em *setosa*. Enfim, seria algo desigual. Diferente do resultado obtido em que cada classe aparece com 25 (que é 50% dos dados referêntes a cada classe)"
   ]
  },
  {
   "cell_type": "markdown",
   "id": "63e032e9",
   "metadata": {},
   "source": [
    "## Classe desbalanceada"
   ]
  },
  {
   "cell_type": "code",
   "execution_count": 31,
   "id": "8174c5ea",
   "metadata": {
    "ExecuteTime": {
     "end_time": "2023-03-26T23:55:35.617651Z",
     "start_time": "2023-03-26T23:55:35.593717Z"
    }
   },
   "outputs": [
    {
     "data": {
      "text/html": [
       "<div>\n",
       "<style scoped>\n",
       "    .dataframe tbody tr th:only-of-type {\n",
       "        vertical-align: middle;\n",
       "    }\n",
       "\n",
       "    .dataframe tbody tr th {\n",
       "        vertical-align: top;\n",
       "    }\n",
       "\n",
       "    .dataframe thead th {\n",
       "        text-align: right;\n",
       "    }\n",
       "</style>\n",
       "<table border=\"1\" class=\"dataframe\">\n",
       "  <thead>\n",
       "    <tr style=\"text-align: right;\">\n",
       "      <th></th>\n",
       "      <th>Unnamed: 0</th>\n",
       "      <th>education</th>\n",
       "      <th>age</th>\n",
       "      <th>parity</th>\n",
       "      <th>induced</th>\n",
       "      <th>case</th>\n",
       "      <th>spontaneous</th>\n",
       "      <th>stratum</th>\n",
       "      <th>pooled.stratum</th>\n",
       "    </tr>\n",
       "  </thead>\n",
       "  <tbody>\n",
       "    <tr>\n",
       "      <th>0</th>\n",
       "      <td>1</td>\n",
       "      <td>0-5yrs</td>\n",
       "      <td>26</td>\n",
       "      <td>6</td>\n",
       "      <td>1</td>\n",
       "      <td>1</td>\n",
       "      <td>2</td>\n",
       "      <td>1</td>\n",
       "      <td>3</td>\n",
       "    </tr>\n",
       "    <tr>\n",
       "      <th>1</th>\n",
       "      <td>2</td>\n",
       "      <td>0-5yrs</td>\n",
       "      <td>42</td>\n",
       "      <td>1</td>\n",
       "      <td>1</td>\n",
       "      <td>1</td>\n",
       "      <td>0</td>\n",
       "      <td>2</td>\n",
       "      <td>1</td>\n",
       "    </tr>\n",
       "    <tr>\n",
       "      <th>2</th>\n",
       "      <td>3</td>\n",
       "      <td>0-5yrs</td>\n",
       "      <td>39</td>\n",
       "      <td>6</td>\n",
       "      <td>2</td>\n",
       "      <td>1</td>\n",
       "      <td>0</td>\n",
       "      <td>3</td>\n",
       "      <td>4</td>\n",
       "    </tr>\n",
       "    <tr>\n",
       "      <th>3</th>\n",
       "      <td>4</td>\n",
       "      <td>0-5yrs</td>\n",
       "      <td>34</td>\n",
       "      <td>4</td>\n",
       "      <td>2</td>\n",
       "      <td>1</td>\n",
       "      <td>0</td>\n",
       "      <td>4</td>\n",
       "      <td>2</td>\n",
       "    </tr>\n",
       "    <tr>\n",
       "      <th>4</th>\n",
       "      <td>5</td>\n",
       "      <td>6-11yrs</td>\n",
       "      <td>35</td>\n",
       "      <td>3</td>\n",
       "      <td>1</td>\n",
       "      <td>1</td>\n",
       "      <td>1</td>\n",
       "      <td>5</td>\n",
       "      <td>32</td>\n",
       "    </tr>\n",
       "    <tr>\n",
       "      <th>...</th>\n",
       "      <td>...</td>\n",
       "      <td>...</td>\n",
       "      <td>...</td>\n",
       "      <td>...</td>\n",
       "      <td>...</td>\n",
       "      <td>...</td>\n",
       "      <td>...</td>\n",
       "      <td>...</td>\n",
       "      <td>...</td>\n",
       "    </tr>\n",
       "    <tr>\n",
       "      <th>243</th>\n",
       "      <td>244</td>\n",
       "      <td>12+ yrs</td>\n",
       "      <td>31</td>\n",
       "      <td>1</td>\n",
       "      <td>0</td>\n",
       "      <td>0</td>\n",
       "      <td>1</td>\n",
       "      <td>79</td>\n",
       "      <td>45</td>\n",
       "    </tr>\n",
       "    <tr>\n",
       "      <th>244</th>\n",
       "      <td>245</td>\n",
       "      <td>12+ yrs</td>\n",
       "      <td>34</td>\n",
       "      <td>1</td>\n",
       "      <td>0</td>\n",
       "      <td>0</td>\n",
       "      <td>0</td>\n",
       "      <td>80</td>\n",
       "      <td>47</td>\n",
       "    </tr>\n",
       "    <tr>\n",
       "      <th>245</th>\n",
       "      <td>246</td>\n",
       "      <td>12+ yrs</td>\n",
       "      <td>35</td>\n",
       "      <td>2</td>\n",
       "      <td>2</td>\n",
       "      <td>0</td>\n",
       "      <td>0</td>\n",
       "      <td>81</td>\n",
       "      <td>54</td>\n",
       "    </tr>\n",
       "    <tr>\n",
       "      <th>246</th>\n",
       "      <td>247</td>\n",
       "      <td>12+ yrs</td>\n",
       "      <td>29</td>\n",
       "      <td>1</td>\n",
       "      <td>0</td>\n",
       "      <td>0</td>\n",
       "      <td>1</td>\n",
       "      <td>82</td>\n",
       "      <td>43</td>\n",
       "    </tr>\n",
       "    <tr>\n",
       "      <th>247</th>\n",
       "      <td>248</td>\n",
       "      <td>12+ yrs</td>\n",
       "      <td>23</td>\n",
       "      <td>1</td>\n",
       "      <td>0</td>\n",
       "      <td>0</td>\n",
       "      <td>1</td>\n",
       "      <td>83</td>\n",
       "      <td>40</td>\n",
       "    </tr>\n",
       "  </tbody>\n",
       "</table>\n",
       "<p>248 rows × 9 columns</p>\n",
       "</div>"
      ],
      "text/plain": [
       "     Unnamed: 0 education  age  parity  induced  case  spontaneous  stratum  \\\n",
       "0             1    0-5yrs   26       6        1     1            2        1   \n",
       "1             2    0-5yrs   42       1        1     1            0        2   \n",
       "2             3    0-5yrs   39       6        2     1            0        3   \n",
       "3             4    0-5yrs   34       4        2     1            0        4   \n",
       "4             5   6-11yrs   35       3        1     1            1        5   \n",
       "..          ...       ...  ...     ...      ...   ...          ...      ...   \n",
       "243         244   12+ yrs   31       1        0     0            1       79   \n",
       "244         245   12+ yrs   34       1        0     0            0       80   \n",
       "245         246   12+ yrs   35       2        2     0            0       81   \n",
       "246         247   12+ yrs   29       1        0     0            1       82   \n",
       "247         248   12+ yrs   23       1        0     0            1       83   \n",
       "\n",
       "     pooled.stratum  \n",
       "0                 3  \n",
       "1                 1  \n",
       "2                 4  \n",
       "3                 2  \n",
       "4                32  \n",
       "..              ...  \n",
       "243              45  \n",
       "244              47  \n",
       "245              54  \n",
       "246              43  \n",
       "247              40  \n",
       "\n",
       "[248 rows x 9 columns]"
      ]
     },
     "execution_count": 31,
     "metadata": {},
     "output_type": "execute_result"
    }
   ],
   "source": [
    "infert = pd.read_csv('infert.csv')\n",
    "infert"
   ]
  },
  {
   "cell_type": "code",
   "execution_count": 33,
   "id": "f9454322",
   "metadata": {
    "ExecuteTime": {
     "end_time": "2023-03-26T23:59:35.884723Z",
     "start_time": "2023-03-26T23:59:35.865821Z"
    }
   },
   "outputs": [
    {
     "data": {
      "text/plain": [
       "6-11yrs    120\n",
       "12+ yrs    116\n",
       "0-5yrs      12\n",
       "Name: education, dtype: int64"
      ]
     },
     "execution_count": 33,
     "metadata": {},
     "output_type": "execute_result"
    }
   ],
   "source": [
    "infert['education'].value_counts()"
   ]
  },
  {
   "cell_type": "code",
   "execution_count": 36,
   "id": "3bc093d6",
   "metadata": {
    "ExecuteTime": {
     "end_time": "2023-03-27T00:01:40.702352Z",
     "start_time": "2023-03-27T00:01:40.689387Z"
    }
   },
   "outputs": [
    {
     "data": {
      "text/plain": [
       "6-11yrs    48\n",
       "12+ yrs    46\n",
       "0-5yrs      5\n",
       "Name: education, dtype: int64"
      ]
     },
     "execution_count": 36,
     "metadata": {},
     "output_type": "execute_result"
    }
   ],
   "source": [
    "x1, _, y1, _ = train_test_split(infert.iloc[:,2:9], infert.iloc[:,1],\n",
    "                             test_size = 0.6, stratify = infert.iloc[:,1])\n",
    "y1.value_counts()"
   ]
  },
  {
   "cell_type": "markdown",
   "id": "9e30aa4e",
   "metadata": {},
   "source": [
    "**Explicando a função:**<br>\n",
    "- A fórmula tem a mesma construção da fórmula na seção *balanceada*.<br>\n",
    "- O objetivo é gerar uma amostra de 40%, estratificada. Por essa razão o *test_size* é de 0.6. <br>\n",
    "- O resultado obtido é 40% de cada classe, de maneira **proporcional**"
   ]
  }
 ],
 "metadata": {
  "kernelspec": {
   "display_name": "Python 3 (ipykernel)",
   "language": "python",
   "name": "python3"
  },
  "language_info": {
   "codemirror_mode": {
    "name": "ipython",
    "version": 3
   },
   "file_extension": ".py",
   "mimetype": "text/x-python",
   "name": "python",
   "nbconvert_exporter": "python",
   "pygments_lexer": "ipython3",
   "version": "3.9.7"
  },
  "toc": {
   "base_numbering": 1,
   "nav_menu": {},
   "number_sections": true,
   "sideBar": true,
   "skip_h1_title": false,
   "title_cell": "Table of Contents",
   "title_sidebar": "Contents",
   "toc_cell": false,
   "toc_position": {
    "height": "calc(100% - 180px)",
    "left": "10px",
    "top": "150px",
    "width": "426.667px"
   },
   "toc_section_display": true,
   "toc_window_display": true
  }
 },
 "nbformat": 4,
 "nbformat_minor": 5
}
