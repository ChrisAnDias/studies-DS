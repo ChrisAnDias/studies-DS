{
 "cells": [
  {
   "cell_type": "markdown",
   "id": "7ecb5698",
   "metadata": {},
   "source": [
    "Prática de Estatística I - Curso Formação Cientista de Dados 2023 - Udemy"
   ]
  },
  {
   "cell_type": "markdown",
   "id": "621096e8",
   "metadata": {},
   "source": [
    "# Importação de bibliotecas"
   ]
  },
  {
   "cell_type": "code",
   "execution_count": 20,
   "id": "372652bb",
   "metadata": {
    "ExecuteTime": {
     "end_time": "2023-03-26T02:41:15.708280Z",
     "start_time": "2023-03-26T02:41:15.673833Z"
    }
   },
   "outputs": [],
   "source": [
    "import pandas as pd #para carregar os arquivos csv\n",
    "import numpy as np #para gerar números aleatórios\n",
    "from math import ceil #retorna o maior valor do resultado de uma divisão de um número real"
   ]
  },
  {
   "cell_type": "markdown",
   "id": "ba0acb8c",
   "metadata": {},
   "source": [
    "- A biblioteca **Pandas** é para trabalhar com dados em dorma de vetor, dados estruturados\n",
    "- A biblioteca **Numpy** é científica. Possui várias funções de cálculo"
   ]
  },
  {
   "cell_type": "markdown",
   "id": "dab51241",
   "metadata": {},
   "source": [
    "# Amostragem Simples"
   ]
  },
  {
   "cell_type": "markdown",
   "id": "6fa6e919",
   "metadata": {},
   "source": [
    "## Importação da base de dados"
   ]
  },
  {
   "cell_type": "markdown",
   "id": "a1692521",
   "metadata": {},
   "source": [
    "Sempre bom ter uma ideia de como está disponível os dados que se está importando. Por isso a linha de código abaixo. Deste modo é possível ver como estão nomeadas colunas, quantas são, como é o formato dos dados. "
   ]
  },
  {
   "cell_type": "code",
   "execution_count": 3,
   "id": "32c12ff2",
   "metadata": {
    "ExecuteTime": {
     "end_time": "2023-03-25T19:18:04.726531Z",
     "start_time": "2023-03-25T19:18:04.702594Z"
    }
   },
   "outputs": [
    {
     "data": {
      "text/html": [
       "<div>\n",
       "<style scoped>\n",
       "    .dataframe tbody tr th:only-of-type {\n",
       "        vertical-align: middle;\n",
       "    }\n",
       "\n",
       "    .dataframe tbody tr th {\n",
       "        vertical-align: top;\n",
       "    }\n",
       "\n",
       "    .dataframe thead th {\n",
       "        text-align: right;\n",
       "    }\n",
       "</style>\n",
       "<table border=\"1\" class=\"dataframe\">\n",
       "  <thead>\n",
       "    <tr style=\"text-align: right;\">\n",
       "      <th></th>\n",
       "      <th>sepal length</th>\n",
       "      <th>sepal width</th>\n",
       "      <th>petal length</th>\n",
       "      <th>petal width</th>\n",
       "      <th>class</th>\n",
       "    </tr>\n",
       "  </thead>\n",
       "  <tbody>\n",
       "    <tr>\n",
       "      <th>0</th>\n",
       "      <td>5.1</td>\n",
       "      <td>3.5</td>\n",
       "      <td>1.4</td>\n",
       "      <td>0.2</td>\n",
       "      <td>Iris-setosa</td>\n",
       "    </tr>\n",
       "    <tr>\n",
       "      <th>1</th>\n",
       "      <td>4.9</td>\n",
       "      <td>3.0</td>\n",
       "      <td>1.4</td>\n",
       "      <td>0.2</td>\n",
       "      <td>Iris-setosa</td>\n",
       "    </tr>\n",
       "    <tr>\n",
       "      <th>2</th>\n",
       "      <td>4.7</td>\n",
       "      <td>3.2</td>\n",
       "      <td>1.3</td>\n",
       "      <td>0.2</td>\n",
       "      <td>Iris-setosa</td>\n",
       "    </tr>\n",
       "    <tr>\n",
       "      <th>3</th>\n",
       "      <td>4.6</td>\n",
       "      <td>3.1</td>\n",
       "      <td>1.5</td>\n",
       "      <td>0.2</td>\n",
       "      <td>Iris-setosa</td>\n",
       "    </tr>\n",
       "    <tr>\n",
       "      <th>4</th>\n",
       "      <td>5.0</td>\n",
       "      <td>3.6</td>\n",
       "      <td>1.4</td>\n",
       "      <td>0.2</td>\n",
       "      <td>Iris-setosa</td>\n",
       "    </tr>\n",
       "    <tr>\n",
       "      <th>...</th>\n",
       "      <td>...</td>\n",
       "      <td>...</td>\n",
       "      <td>...</td>\n",
       "      <td>...</td>\n",
       "      <td>...</td>\n",
       "    </tr>\n",
       "    <tr>\n",
       "      <th>145</th>\n",
       "      <td>6.7</td>\n",
       "      <td>3.0</td>\n",
       "      <td>5.2</td>\n",
       "      <td>2.3</td>\n",
       "      <td>Iris-virginica</td>\n",
       "    </tr>\n",
       "    <tr>\n",
       "      <th>146</th>\n",
       "      <td>6.3</td>\n",
       "      <td>2.5</td>\n",
       "      <td>5.0</td>\n",
       "      <td>1.9</td>\n",
       "      <td>Iris-virginica</td>\n",
       "    </tr>\n",
       "    <tr>\n",
       "      <th>147</th>\n",
       "      <td>6.5</td>\n",
       "      <td>3.0</td>\n",
       "      <td>5.2</td>\n",
       "      <td>2.0</td>\n",
       "      <td>Iris-virginica</td>\n",
       "    </tr>\n",
       "    <tr>\n",
       "      <th>148</th>\n",
       "      <td>6.2</td>\n",
       "      <td>3.4</td>\n",
       "      <td>5.4</td>\n",
       "      <td>2.3</td>\n",
       "      <td>Iris-virginica</td>\n",
       "    </tr>\n",
       "    <tr>\n",
       "      <th>149</th>\n",
       "      <td>5.9</td>\n",
       "      <td>3.0</td>\n",
       "      <td>5.1</td>\n",
       "      <td>1.8</td>\n",
       "      <td>Iris-virginica</td>\n",
       "    </tr>\n",
       "  </tbody>\n",
       "</table>\n",
       "<p>150 rows × 5 columns</p>\n",
       "</div>"
      ],
      "text/plain": [
       "     sepal length  sepal width  petal length  petal width           class\n",
       "0             5.1          3.5           1.4          0.2     Iris-setosa\n",
       "1             4.9          3.0           1.4          0.2     Iris-setosa\n",
       "2             4.7          3.2           1.3          0.2     Iris-setosa\n",
       "3             4.6          3.1           1.5          0.2     Iris-setosa\n",
       "4             5.0          3.6           1.4          0.2     Iris-setosa\n",
       "..            ...          ...           ...          ...             ...\n",
       "145           6.7          3.0           5.2          2.3  Iris-virginica\n",
       "146           6.3          2.5           5.0          1.9  Iris-virginica\n",
       "147           6.5          3.0           5.2          2.0  Iris-virginica\n",
       "148           6.2          3.4           5.4          2.3  Iris-virginica\n",
       "149           5.9          3.0           5.1          1.8  Iris-virginica\n",
       "\n",
       "[150 rows x 5 columns]"
      ]
     },
     "execution_count": 3,
     "metadata": {},
     "output_type": "execute_result"
    }
   ],
   "source": [
    "base = pd.read_csv('iris.csv')\n",
    "base"
   ]
  },
  {
   "cell_type": "code",
   "execution_count": 4,
   "id": "2a3f7a24",
   "metadata": {
    "ExecuteTime": {
     "end_time": "2023-03-25T19:21:16.385401Z",
     "start_time": "2023-03-25T19:21:16.378420Z"
    }
   },
   "outputs": [
    {
     "data": {
      "text/plain": [
       "(150, 5)"
      ]
     },
     "execution_count": 4,
     "metadata": {},
     "output_type": "execute_result"
    }
   ],
   "source": [
    "base.shape"
   ]
  },
  {
   "cell_type": "markdown",
   "id": "607de11c",
   "metadata": {},
   "source": [
    "## Amostragem "
   ]
  },
  {
   "cell_type": "markdown",
   "id": "041ea5a0",
   "metadata": {},
   "source": [
    "Minha intenção é retirar uma **amostra aleatória** do conjunto de dados importado, permitindo assim que todos os elementos do conjuntos tenham chances iguais de serem escolhidos. Assim, irei executar em ordem:\n",
    "\n",
    "1 - Gerar números aleatórios;<br>\n",
    "    \n",
    "    np.random.seed(2345)\n",
    "    \n",
    "  para gerar os mesmos elementos da aula fonte.\n",
    "    \n",
    "2 - Transformá-los em vetor;<br>\n",
    "\n",
    "    amostra = np.random.choice(a = [0, 1], size = 150, replace = True, \n",
    "                          p = [0.7, 0.3])\n",
    "\n",
    "guarda na variável de nome *amostra* vetor aleatório gerado de 'zeros' e 'uns', com 150 elementos, podendo os 'zeros' e 'uns' serem repetidos neste vetor, tendo a probabilidade do elemento '0' sair 70% e do elemento '1' sair 30%\n",
    "\n",
    "3 - Usá-los para selecionar os registros que serão escolhidos de Iris.\n",
    "\n",
    "    base_final = base.loc[amostra == 0]\n",
    "    \n",
    "\n"
   ]
  },
  {
   "cell_type": "code",
   "execution_count": 18,
   "id": "b8b11220",
   "metadata": {
    "ExecuteTime": {
     "end_time": "2023-03-25T20:01:47.766959Z",
     "start_time": "2023-03-25T20:01:47.760976Z"
    }
   },
   "outputs": [
    {
     "data": {
      "text/plain": [
       "array([0, 0, 0, 0, 1, 0, 0, 0, 1, 0, 0, 1, 0, 1, 0, 0, 1, 0, 1, 1, 1, 0,\n",
       "       0, 1, 1, 1, 0, 1, 0, 0, 1, 0, 0, 1, 1, 0, 1, 0, 0, 0, 1, 0, 1, 0,\n",
       "       0, 0, 0, 0, 0, 0, 1, 1, 0, 0, 0, 0, 0, 0, 0, 0, 0, 1, 0, 0, 1, 0,\n",
       "       0, 1, 0, 0, 1, 0, 0, 0, 0, 1, 0, 1, 0, 0, 1, 1, 0, 0, 0, 0, 0, 0,\n",
       "       0, 0, 0, 0, 1, 0, 1, 1, 1, 1, 1, 1, 0, 0, 0, 0, 0, 0, 0, 0, 1, 0,\n",
       "       0, 0, 0, 0, 0, 0, 0, 0, 1, 0, 0, 0, 0, 0, 1, 1, 1, 0, 1, 0, 1, 1,\n",
       "       1, 0, 0, 0, 0, 0, 0, 0, 0, 1, 1, 0, 0, 1, 1, 0, 0, 1])"
      ]
     },
     "execution_count": 18,
     "metadata": {},
     "output_type": "execute_result"
    }
   ],
   "source": [
    "np.random.seed(2345) #esta linha de código deve sempre anteceder a linha de código que tem um método que tem elementos aleatórios\n",
    "amostra = np.random.choice(a = [0, 1], size = 150, replace = True, \n",
    "                          p = [0.7, 0.3])\n",
    "#len(amostra)\n",
    "#len([amostra == 1])\n",
    "#len([amostra == 0])\n",
    "amostra"
   ]
  },
  {
   "cell_type": "code",
   "execution_count": 15,
   "id": "19a7a647",
   "metadata": {
    "ExecuteTime": {
     "end_time": "2023-03-25T19:47:49.114851Z",
     "start_time": "2023-03-25T19:47:49.104877Z"
    }
   },
   "outputs": [
    {
     "data": {
      "text/plain": [
       "(101, 5)"
      ]
     },
     "execution_count": 15,
     "metadata": {},
     "output_type": "execute_result"
    }
   ],
   "source": [
    "#querendo formar uma base com 101 elementos\n",
    "base_final = base.loc[amostra == 0]\n",
    "base_final.shape"
   ]
  },
  {
   "cell_type": "code",
   "execution_count": 19,
   "id": "45e5a0f5",
   "metadata": {
    "ExecuteTime": {
     "end_time": "2023-03-26T02:36:59.655980Z",
     "start_time": "2023-03-26T02:36:59.585354Z"
    }
   },
   "outputs": [
    {
     "data": {
      "text/plain": [
       "(49, 5)"
      ]
     },
     "execution_count": 19,
     "metadata": {},
     "output_type": "execute_result"
    }
   ],
   "source": [
    "#querendo formar uma base com 49 elementos\n",
    "base_final2 = base.loc[amostra == 1]\n",
    "base_final2.shape"
   ]
  },
  {
   "cell_type": "markdown",
   "id": "5f01e70b",
   "metadata": {},
   "source": [
    "# Amostragem sistemática"
   ]
  },
  {
   "cell_type": "markdown",
   "id": "f5ccd283",
   "metadata": {},
   "source": [
    "**Do que se trata?** <br>\n",
    "\n",
    "Trata-se do caso de quando, para formar um conjunto de seleção aleatório, escolhe-se um elemento de forma aleatória e a partir dele, a cada 'n' elementos, escolhe-se um outro elemento. Seguindo a sequência. Retirando de forma sistemática os elementos que irão compor conjunto da amostra. <br>\n",
    "<br>\n",
    "**Passo-a-passo para obtenção da amostra sistemática:** <br>\n",
    "- Usando o **mesmo conjunto de dados 'Iris'**, em que se conhece o total de elementos (150), pretende-se **obter uma amostra de 15 elementos** gerados aleatoriamente de forma sistemática. Para isso, é necessário **definir um intervalo** (k) de quantos em quantos elementos serão retirados o elemento para a amosrta. Daí a necessidade da função 'ceil'. <br>\n",
    "- Definido o k, é possível então gerar o primeiro elemento aleatório, que será a partir do qual se dará prosseguimento ao processo de amostragem.\n",
    "- Em seguida, gera-se um vetor com os 15 elementos, definindo a posição dos elementos que serão retirados do banco de dados Iris. \n",
    "- Por último, usando a biblioteca pandas [.loc], retira da base de dados os elementos correspondentes aos sorteados na etapa anterior. "
   ]
  },
  {
   "cell_type": "code",
   "execution_count": 21,
   "id": "41595a4f",
   "metadata": {
    "ExecuteTime": {
     "end_time": "2023-03-26T02:47:53.235386Z",
     "start_time": "2023-03-26T02:47:53.056638Z"
    }
   },
   "outputs": [
    {
     "name": "stdout",
     "output_type": "stream",
     "text": [
      "10\n"
     ]
    }
   ],
   "source": [
    "populacao = 150\n",
    "amostra = 15\n",
    "k = ceil(populacao / amostra)\n",
    "print(k)"
   ]
  },
  {
   "cell_type": "code",
   "execution_count": 27,
   "id": "32fd1909",
   "metadata": {
    "ExecuteTime": {
     "end_time": "2023-03-26T02:55:24.255988Z",
     "start_time": "2023-03-26T02:55:24.251002Z"
    }
   },
   "outputs": [
    {
     "name": "stdout",
     "output_type": "stream",
     "text": [
      "[2]\n"
     ]
    }
   ],
   "source": [
    "r = np.random.randint(low = 1, high = k+1, size = 1)\n",
    "print(r)"
   ]
  },
  {
   "cell_type": "code",
   "execution_count": 28,
   "id": "6cae37a0",
   "metadata": {
    "ExecuteTime": {
     "end_time": "2023-03-26T02:55:26.390996Z",
     "start_time": "2023-03-26T02:55:26.386012Z"
    }
   },
   "outputs": [
    {
     "name": "stdout",
     "output_type": "stream",
     "text": [
      "[2, 12, 22, 32, 42, 52, 62, 72, 82, 92, 102, 112, 122, 132, 142]\n"
     ]
    }
   ],
   "source": [
    "acumulador = r[0]\n",
    "sorteados = []\n",
    "for i in range(amostra):\n",
    "    sorteados.append(acumulador)\n",
    "    acumulador += k\n",
    "print(sorteados)"
   ]
  },
  {
   "cell_type": "code",
   "execution_count": 24,
   "id": "0297e947",
   "metadata": {
    "ExecuteTime": {
     "end_time": "2023-03-26T02:53:35.330207Z",
     "start_time": "2023-03-26T02:53:35.322217Z"
    }
   },
   "outputs": [
    {
     "data": {
      "text/plain": [
       "15"
      ]
     },
     "execution_count": 24,
     "metadata": {},
     "output_type": "execute_result"
    }
   ],
   "source": [
    "len(sorteados)"
   ]
  },
  {
   "cell_type": "code",
   "execution_count": 29,
   "id": "62519967",
   "metadata": {
    "ExecuteTime": {
     "end_time": "2023-03-26T02:55:30.766319Z",
     "start_time": "2023-03-26T02:55:30.698107Z"
    }
   },
   "outputs": [
    {
     "data": {
      "text/html": [
       "<div>\n",
       "<style scoped>\n",
       "    .dataframe tbody tr th:only-of-type {\n",
       "        vertical-align: middle;\n",
       "    }\n",
       "\n",
       "    .dataframe tbody tr th {\n",
       "        vertical-align: top;\n",
       "    }\n",
       "\n",
       "    .dataframe thead th {\n",
       "        text-align: right;\n",
       "    }\n",
       "</style>\n",
       "<table border=\"1\" class=\"dataframe\">\n",
       "  <thead>\n",
       "    <tr style=\"text-align: right;\">\n",
       "      <th></th>\n",
       "      <th>sepal length</th>\n",
       "      <th>sepal width</th>\n",
       "      <th>petal length</th>\n",
       "      <th>petal width</th>\n",
       "      <th>class</th>\n",
       "    </tr>\n",
       "  </thead>\n",
       "  <tbody>\n",
       "    <tr>\n",
       "      <th>2</th>\n",
       "      <td>4.7</td>\n",
       "      <td>3.2</td>\n",
       "      <td>1.3</td>\n",
       "      <td>0.2</td>\n",
       "      <td>Iris-setosa</td>\n",
       "    </tr>\n",
       "    <tr>\n",
       "      <th>12</th>\n",
       "      <td>4.8</td>\n",
       "      <td>3.0</td>\n",
       "      <td>1.4</td>\n",
       "      <td>0.1</td>\n",
       "      <td>Iris-setosa</td>\n",
       "    </tr>\n",
       "    <tr>\n",
       "      <th>22</th>\n",
       "      <td>4.6</td>\n",
       "      <td>3.6</td>\n",
       "      <td>1.0</td>\n",
       "      <td>0.2</td>\n",
       "      <td>Iris-setosa</td>\n",
       "    </tr>\n",
       "    <tr>\n",
       "      <th>32</th>\n",
       "      <td>5.2</td>\n",
       "      <td>4.1</td>\n",
       "      <td>1.5</td>\n",
       "      <td>0.1</td>\n",
       "      <td>Iris-setosa</td>\n",
       "    </tr>\n",
       "    <tr>\n",
       "      <th>42</th>\n",
       "      <td>4.4</td>\n",
       "      <td>3.2</td>\n",
       "      <td>1.3</td>\n",
       "      <td>0.2</td>\n",
       "      <td>Iris-setosa</td>\n",
       "    </tr>\n",
       "    <tr>\n",
       "      <th>52</th>\n",
       "      <td>6.9</td>\n",
       "      <td>3.1</td>\n",
       "      <td>4.9</td>\n",
       "      <td>1.5</td>\n",
       "      <td>Iris-versicolor</td>\n",
       "    </tr>\n",
       "    <tr>\n",
       "      <th>62</th>\n",
       "      <td>6.0</td>\n",
       "      <td>2.2</td>\n",
       "      <td>4.0</td>\n",
       "      <td>1.0</td>\n",
       "      <td>Iris-versicolor</td>\n",
       "    </tr>\n",
       "    <tr>\n",
       "      <th>72</th>\n",
       "      <td>6.3</td>\n",
       "      <td>2.5</td>\n",
       "      <td>4.9</td>\n",
       "      <td>1.5</td>\n",
       "      <td>Iris-versicolor</td>\n",
       "    </tr>\n",
       "    <tr>\n",
       "      <th>82</th>\n",
       "      <td>5.8</td>\n",
       "      <td>2.7</td>\n",
       "      <td>3.9</td>\n",
       "      <td>1.2</td>\n",
       "      <td>Iris-versicolor</td>\n",
       "    </tr>\n",
       "    <tr>\n",
       "      <th>92</th>\n",
       "      <td>5.8</td>\n",
       "      <td>2.6</td>\n",
       "      <td>4.0</td>\n",
       "      <td>1.2</td>\n",
       "      <td>Iris-versicolor</td>\n",
       "    </tr>\n",
       "    <tr>\n",
       "      <th>102</th>\n",
       "      <td>7.1</td>\n",
       "      <td>3.0</td>\n",
       "      <td>5.9</td>\n",
       "      <td>2.1</td>\n",
       "      <td>Iris-virginica</td>\n",
       "    </tr>\n",
       "    <tr>\n",
       "      <th>112</th>\n",
       "      <td>6.8</td>\n",
       "      <td>3.0</td>\n",
       "      <td>5.5</td>\n",
       "      <td>2.1</td>\n",
       "      <td>Iris-virginica</td>\n",
       "    </tr>\n",
       "    <tr>\n",
       "      <th>122</th>\n",
       "      <td>7.7</td>\n",
       "      <td>2.8</td>\n",
       "      <td>6.7</td>\n",
       "      <td>2.0</td>\n",
       "      <td>Iris-virginica</td>\n",
       "    </tr>\n",
       "    <tr>\n",
       "      <th>132</th>\n",
       "      <td>6.4</td>\n",
       "      <td>2.8</td>\n",
       "      <td>5.6</td>\n",
       "      <td>2.2</td>\n",
       "      <td>Iris-virginica</td>\n",
       "    </tr>\n",
       "    <tr>\n",
       "      <th>142</th>\n",
       "      <td>5.8</td>\n",
       "      <td>2.7</td>\n",
       "      <td>5.1</td>\n",
       "      <td>1.9</td>\n",
       "      <td>Iris-virginica</td>\n",
       "    </tr>\n",
       "  </tbody>\n",
       "</table>\n",
       "</div>"
      ],
      "text/plain": [
       "     sepal length  sepal width  petal length  petal width            class\n",
       "2             4.7          3.2           1.3          0.2      Iris-setosa\n",
       "12            4.8          3.0           1.4          0.1      Iris-setosa\n",
       "22            4.6          3.6           1.0          0.2      Iris-setosa\n",
       "32            5.2          4.1           1.5          0.1      Iris-setosa\n",
       "42            4.4          3.2           1.3          0.2      Iris-setosa\n",
       "52            6.9          3.1           4.9          1.5  Iris-versicolor\n",
       "62            6.0          2.2           4.0          1.0  Iris-versicolor\n",
       "72            6.3          2.5           4.9          1.5  Iris-versicolor\n",
       "82            5.8          2.7           3.9          1.2  Iris-versicolor\n",
       "92            5.8          2.6           4.0          1.2  Iris-versicolor\n",
       "102           7.1          3.0           5.9          2.1   Iris-virginica\n",
       "112           6.8          3.0           5.5          2.1   Iris-virginica\n",
       "122           7.7          2.8           6.7          2.0   Iris-virginica\n",
       "132           6.4          2.8           5.6          2.2   Iris-virginica\n",
       "142           5.8          2.7           5.1          1.9   Iris-virginica"
      ]
     },
     "execution_count": 29,
     "metadata": {},
     "output_type": "execute_result"
    }
   ],
   "source": [
    "base3 = pd.read_csv('iris.csv')\n",
    "base_final3=base.loc[sorteados]\n",
    "base_final3 #amostra sistemática"
   ]
  }
 ],
 "metadata": {
  "kernelspec": {
   "display_name": "Python 3 (ipykernel)",
   "language": "python",
   "name": "python3"
  },
  "language_info": {
   "codemirror_mode": {
    "name": "ipython",
    "version": 3
   },
   "file_extension": ".py",
   "mimetype": "text/x-python",
   "name": "python",
   "nbconvert_exporter": "python",
   "pygments_lexer": "ipython3",
   "version": "3.9.7"
  },
  "toc": {
   "base_numbering": 1,
   "nav_menu": {},
   "number_sections": true,
   "sideBar": true,
   "skip_h1_title": false,
   "title_cell": "Table of Contents",
   "title_sidebar": "Contents",
   "toc_cell": false,
   "toc_position": {
    "height": "calc(100% - 180px)",
    "left": "10px",
    "top": "150px",
    "width": "426.667px"
   },
   "toc_section_display": true,
   "toc_window_display": true
  }
 },
 "nbformat": 4,
 "nbformat_minor": 5
}
