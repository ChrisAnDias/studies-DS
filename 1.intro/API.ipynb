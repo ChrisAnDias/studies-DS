{
 "cells": [
  {
   "cell_type": "markdown",
   "id": "8f51bd2c",
   "metadata": {},
   "source": [
    "# API"
   ]
  },
  {
   "cell_type": "markdown",
   "id": "46501b2d",
   "metadata": {},
   "source": [
    "- Para ter acesso aos dados de uma API, será necessário usar uma biblioteca externa ao python, e portanto será necessário instalá-la. \n",
    "- A biblioteca se trata da **request()**"
   ]
  },
  {
   "cell_type": "code",
   "execution_count": 1,
   "id": "3ce7490b",
   "metadata": {
    "ExecuteTime": {
     "end_time": "2022-09-17T10:28:34.584332Z",
     "start_time": "2022-09-17T10:28:31.689950Z"
    }
   },
   "outputs": [
    {
     "name": "stdout",
     "output_type": "stream",
     "text": [
      "Requirement already satisfied: requests in c:\\users\\christyna dias\\anaconda3\\lib\\site-packages (2.26.0)\n",
      "Requirement already satisfied: urllib3<1.27,>=1.21.1 in c:\\users\\christyna dias\\anaconda3\\lib\\site-packages (from requests) (1.26.7)\n",
      "Requirement already satisfied: charset-normalizer~=2.0.0 in c:\\users\\christyna dias\\anaconda3\\lib\\site-packages (from requests) (2.0.4)\n",
      "Requirement already satisfied: idna<4,>=2.5 in c:\\users\\christyna dias\\anaconda3\\lib\\site-packages (from requests) (3.2)\n",
      "Requirement already satisfied: certifi>=2017.4.17 in c:\\users\\christyna dias\\anaconda3\\lib\\site-packages (from requests) (2021.10.8)\n"
     ]
    }
   ],
   "source": [
    "!pip install requests"
   ]
  },
  {
   "cell_type": "code",
   "execution_count": 3,
   "id": "f3b8aeb9",
   "metadata": {
    "ExecuteTime": {
     "end_time": "2022-09-17T10:29:05.222471Z",
     "start_time": "2022-09-17T10:29:05.119658Z"
    }
   },
   "outputs": [],
   "source": [
    "import requests"
   ]
  },
  {
   "cell_type": "code",
   "execution_count": 6,
   "id": "1efa8317",
   "metadata": {
    "ExecuteTime": {
     "end_time": "2022-09-17T10:42:17.854939Z",
     "start_time": "2022-09-17T10:42:17.203853Z"
    }
   },
   "outputs": [
    {
     "name": "stdout",
     "output_type": "stream",
     "text": [
      "200\n"
     ]
    }
   ],
   "source": [
    "url = 'https://api.exchangerate-api.com/v6/latest'\n",
    "\n",
    "req = requests.get(url)\n",
    "\n",
    "print(req.status_code)"
   ]
  },
  {
   "cell_type": "code",
   "execution_count": 7,
   "id": "28f83add",
   "metadata": {
    "ExecuteTime": {
     "end_time": "2022-09-17T10:42:49.522828Z",
     "start_time": "2022-09-17T10:42:49.511889Z"
    }
   },
   "outputs": [
    {
     "name": "stdout",
     "output_type": "stream",
     "text": [
      "{'result': 'success', 'provider': 'https://www.exchangerate-api.com', 'documentation': 'https://www.exchangerate-api.com/docs/free', 'terms_of_use': 'https://www.exchangerate-api.com/terms', 'time_last_update_unix': 1663372952, 'time_last_update_utc': 'Sat, 17 Sep 2022 00:02:32 +0000', 'time_next_update_unix': 1663460302, 'time_next_update_utc': 'Sun, 18 Sep 2022 00:18:22 +0000', 'time_eol_unix': 0, 'base_code': 'USD', 'rates': {'USD': 1, 'AED': 3.6725, 'AFN': 87.915575, 'ALL': 116.849262, 'AMD': 415.903975, 'ANG': 1.79, 'AOA': 432.558182, 'ARS': 142.158347, 'AUD': 1.490955, 'AWG': 1.79, 'AZN': 1.694522, 'BAM': 1.956594, 'BBD': 2, 'BDT': 102.865959, 'BGN': 1.957683, 'BHD': 0.376, 'BIF': 2034.602244, 'BMD': 1, 'BND': 1.406723, 'BOB': 6.890013, 'BRL': 5.260612, 'BSD': 1, 'BTN': 79.693684, 'BWP': 13.133557, 'BYN': 2.61934, 'BZD': 2, 'CAD': 1.327276, 'CDF': 2028.038653, 'CHF': 0.963934, 'CLP': 923.401903, 'CNY': 7.001207, 'COP': 4386.277587, 'CRC': 633.81451, 'CUP': 24, 'CVE': 110.308091, 'CZK': 24.515634, 'DJF': 177.721, 'DKK': 7.463295, 'DOP': 53.208117, 'DZD': 140.657344, 'EGP': 19.372021, 'ERN': 15, 'ETB': 52.647756, 'EUR': 1.000396, 'FJD': 2.240431, 'FKP': 0.876742, 'FOK': 7.463295, 'GBP': 0.876749, 'GEL': 2.822581, 'GGP': 0.876742, 'GHS': 10.308224, 'GIP': 0.876742, 'GMD': 55.413062, 'GNF': 8596.128878, 'GTQ': 7.763401, 'GYD': 207.832722, 'HKD': 7.852618, 'HNL': 24.701791, 'HRK': 7.537444, 'HTG': 117.430552, 'HUF': 404.576171, 'IDR': 14915.539634, 'ILS': 3.431298, 'IMP': 0.876742, 'INR': 79.694936, 'IQD': 1449.949449, 'IRR': 41965.315479, 'ISK': 138.845952, 'JEP': 0.876742, 'JMD': 152.019028, 'JOD': 0.709, 'JPY': 143.109031, 'KES': 121.146528, 'KGS': 81.678408, 'KHR': 4081.292493, 'KID': 1.490943, 'KMF': 492.160008, 'KRW': 1386.754601, 'KWD': 0.29963, 'KYD': 0.833333, 'KZT': 475.079898, 'LAK': 18160.715406, 'LBP': 1507.5, 'LKR': 358.758331, 'LRD': 153.200724, 'LSL': 17.612609, 'LYD': 4.891086, 'MAD': 10.727799, 'MDL': 19.353434, 'MGA': 4127.419211, 'MKD': 61.485342, 'MMK': 2799.693014, 'MNT': 3219.126452, 'MOP': 8.088175, 'MRU': 37.547891, 'MUR': 44.78883, 'MVR': 15.400729, 'MWK': 1032.792477, 'MXN': 20.082355, 'MYR': 4.52248, 'MZN': 64.202882, 'NAD': 17.612609, 'NGN': 426.406742, 'NIO': 35.999224, 'NOK': 10.219172, 'NPR': 127.509894, 'NZD': 1.672994, 'OMR': 0.384497, 'PAB': 1, 'PEN': 3.877216, 'PGK': 3.506903, 'PHP': 57.308154, 'PKR': 233.469687, 'PLN': 4.710341, 'PYG': 6921.904644, 'QAR': 3.64, 'RON': 4.919916, 'RSD': 117.280097, 'RUB': 60.201425, 'RWF': 1065.225499, 'SAR': 3.75, 'SBD': 8.028036, 'SCR': 13.013733, 'SDG': 569.585739, 'SEK': 10.768254, 'SGD': 1.40674, 'SHP': 0.876742, 'SLE': 14.353169, 'SLL': 14353.169322, 'SOS': 564.731845, 'SRD': 26.835257, 'SSP': 645.438948, 'STN': 24.509574, 'SYP': 2484.516153, 'SZL': 17.612609, 'THB': 36.973391, 'TJS': 10.230487, 'TMT': 3.497408, 'TND': 2.890361, 'TOP': 2.364959, 'TRY': 18.228592, 'TTD': 6.756756, 'TVD': 1.490943, 'TWD': 31.224305, 'TZS': 2338.609305, 'UAH': 37.225909, 'UGX': 3810.786529, 'UYU': 40.613081, 'UZS': 10938.63615, 'VES': 8.0508, 'VND': 23642.029072, 'VUV': 117.053053, 'WST': 2.667225, 'XAF': 656.213343, 'XCD': 2.7, 'XDR': 0.773878, 'XOF': 656.213343, 'XPF': 119.378634, 'YER': 249.084078, 'ZAR': 17.612792, 'ZMW': 15.609384, 'ZWL': 603.737426}}\n"
     ]
    }
   ],
   "source": [
    "dados = req.json()\n",
    "\n",
    "print(dados)"
   ]
  },
  {
   "cell_type": "code",
   "execution_count": 8,
   "id": "8b956d6f",
   "metadata": {
    "ExecuteTime": {
     "end_time": "2022-09-17T10:45:25.962667Z",
     "start_time": "2022-09-17T10:45:21.602407Z"
    }
   },
   "outputs": [
    {
     "name": "stdout",
     "output_type": "stream",
     "text": [
      "Informe o valor em reais a ser convertido\n",
      "100\n",
      "R$100.0 em dólar valem US$19.01\n"
     ]
    }
   ],
   "source": [
    "valor_reais = float(input('Informe o valor em reais a ser convertido\\n'))\n",
    "cotacao = dados['rates']['BRL']\n",
    "print(f'R${valor_reais} em dólar valem US${(valor_reais / cotacao):.2f}')"
   ]
  }
 ],
 "metadata": {
  "kernelspec": {
   "display_name": "Python 3 (ipykernel)",
   "language": "python",
   "name": "python3"
  },
  "language_info": {
   "codemirror_mode": {
    "name": "ipython",
    "version": 3
   },
   "file_extension": ".py",
   "mimetype": "text/x-python",
   "name": "python",
   "nbconvert_exporter": "python",
   "pygments_lexer": "ipython3",
   "version": "3.9.7"
  },
  "toc": {
   "base_numbering": 1,
   "nav_menu": {},
   "number_sections": true,
   "sideBar": true,
   "skip_h1_title": false,
   "title_cell": "Table of Contents",
   "title_sidebar": "Contents",
   "toc_cell": false,
   "toc_position": {},
   "toc_section_display": true,
   "toc_window_display": false
  }
 },
 "nbformat": 4,
 "nbformat_minor": 5
}
