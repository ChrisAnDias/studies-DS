{
 "cells": [
  {
   "cell_type": "markdown",
   "id": "f3c0e668",
   "metadata": {},
   "source": [
    "# Como instalar a extensão para visualizar o sumário no notebook e otras cocitas mas"
   ]
  },
  {
   "cell_type": "markdown",
   "id": "f16d35c7",
   "metadata": {},
   "source": [
    "- Abri o Anaconda Promt:\n",
    "> Menu iniciar. Digitar na pesquisa 'ana'. Encontrar o Anaconda Prompt. Enter\n",
    "- Colar o código abaixo **(com Shift+Insert)**, um de cada vez, dando enter após a primeira linha de código\n",
    "> conda install -c conda-forge jupyter_contrib_nbextensions <br> conda install -c conda-forge jupyter_nbextensions_configurator\n",
    "<br> jupyter contrib nbextension install --user\n",
    "- No prompt, digitar **jupyter notebook** (abrindo assim o notebook do jupyter\n",
    "- Ir na aba **Nbextensions**, desmarcar o **disab configu...** e marcar apenas os nome abaixo:\n",
    ">Highlight selected words <br> Table of contents <br> Execution time <br> Zen mode <br> Live Markdown Preview <br> Autopep8\n",
    "- Fim. Abrir um notebook que vai estar lá os novos botões.\n",
    "- FELICIDADESSSSS\n",
    "- CRÉDITOS A GABRIEL BELO\n"
   ]
  }
 ],
 "metadata": {
  "kernelspec": {
   "display_name": "Python 3 (ipykernel)",
   "language": "python",
   "name": "python3"
  },
  "language_info": {
   "codemirror_mode": {
    "name": "ipython",
    "version": 3
   },
   "file_extension": ".py",
   "mimetype": "text/x-python",
   "name": "python",
   "nbconvert_exporter": "python",
   "pygments_lexer": "ipython3",
   "version": "3.9.7"
  },
  "toc": {
   "base_numbering": 1,
   "nav_menu": {},
   "number_sections": true,
   "sideBar": true,
   "skip_h1_title": false,
   "title_cell": "Table of Contents",
   "title_sidebar": "Contents",
   "toc_cell": false,
   "toc_position": {},
   "toc_section_display": true,
   "toc_window_display": false
  }
 },
 "nbformat": 4,
 "nbformat_minor": 5
}
