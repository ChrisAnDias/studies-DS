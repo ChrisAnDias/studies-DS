{
 "cells": [
  {
   "cell_type": "markdown",
   "id": "9ff3bbf7",
   "metadata": {},
   "source": [
    "# For"
   ]
  },
  {
   "cell_type": "markdown",
   "id": "7136901c",
   "metadata": {},
   "source": [
    "- Laço de repetição especializado em *iterar* sobbre objetos.\n",
    "- **Iterar**: *navegar sobre um objeto que seja passível de navegação (tupla, lista, dicionário).*\n",
    "- Aceita o Break e Continue\n",
    "- **Aplicação 1**: Precisa navegar em uma estrutura dados navegável (tupla, lista, dicionário).\n",
    "- **Aplicação 2**: Quando se tem um sequência de tarefas que precisa ser repetida por um número pré-definido de vezes."
   ]
  },
  {
   "cell_type": "code",
   "execution_count": 1,
   "id": "1e500f2e",
   "metadata": {
    "ExecuteTime": {
     "end_time": "2022-09-14T02:52:30.464298Z",
     "start_time": "2022-09-14T02:52:30.443355Z"
    }
   },
   "outputs": [
    {
     "name": "stdout",
     "output_type": "stream",
     "text": [
      "São Paulo\n",
      "Londres\n",
      "Tóqui\n",
      "Paris\n"
     ]
    }
   ],
   "source": [
    "nomecidades = ['São Paulo', 'Londres', 'Tóqui', 'Paris']\n",
    "for nome in nomecidades: #a palavra 'nome' nessa linha representa cada elemento da variável na linha acima\n",
    "    print(nome)"
   ]
  },
  {
   "cell_type": "code",
   "execution_count": 2,
   "id": "5cfdfa8c",
   "metadata": {
    "ExecuteTime": {
     "end_time": "2022-09-14T02:53:41.725543Z",
     "start_time": "2022-09-14T02:53:41.711581Z"
    }
   },
   "outputs": [
    {
     "name": "stdout",
     "output_type": "stream",
     "text": [
      "São Paulo\n",
      "Londres\n",
      "Tóqui\n",
      "Paris\n"
     ]
    }
   ],
   "source": [
    "#comparação usando o while\n",
    "contador = 0\n",
    "nomecidades = ['São Paulo', 'Londres', 'Tóqui', 'Paris']\n",
    "while contador < len(nomecidades):\n",
    "    print(nomecidades[contador])\n",
    "    contador = contador + 1"
   ]
  },
  {
   "cell_type": "code",
   "execution_count": 3,
   "id": "499afd07",
   "metadata": {
    "ExecuteTime": {
     "end_time": "2022-09-14T02:54:43.123933Z",
     "start_time": "2022-09-14T02:54:43.111993Z"
    }
   },
   "outputs": [
    {
     "name": "stdout",
     "output_type": "stream",
     "text": [
      "São Paulo\n",
      "Londres\n",
      "Tóqui\n",
      "Paris\n"
     ]
    }
   ],
   "source": [
    "nomecidades = 'São Paulo', 'Londres', 'Tóqui', 'Paris'\n",
    "for nome in nomecidades: #a palavra 'nome' nessa linha representa cada elemento da variável na linha acima\n",
    "    print(nome)"
   ]
  },
  {
   "cell_type": "code",
   "execution_count": 4,
   "id": "396ea0d9",
   "metadata": {
    "ExecuteTime": {
     "end_time": "2022-09-14T02:56:34.139183Z",
     "start_time": "2022-09-14T02:56:34.130210Z"
    }
   },
   "outputs": [
    {
     "name": "stdout",
     "output_type": "stream",
     "text": [
      "nome: São Paulo\n",
      "estado: São Paulo\n",
      "populacaomilhoes: 12.2\n"
     ]
    }
   ],
   "source": [
    "cidade = {\n",
    "    'nome':'São Paulo',\n",
    "    'estado':'São Paulo',\n",
    "    'populacaomilhoes': 12.2\n",
    "}\n",
    "for chave in cidade: #a palavra 'chave' nessa linha representa cada elemento da variável na linha acima\n",
    "    print(f'{chave}: {cidade[chave]}')"
   ]
  },
  {
   "cell_type": "code",
   "execution_count": 5,
   "id": "a613a6b8",
   "metadata": {
    "ExecuteTime": {
     "end_time": "2022-09-14T02:57:30.676171Z",
     "start_time": "2022-09-14T02:57:30.671182Z"
    }
   },
   "outputs": [
    {
     "name": "stdout",
     "output_type": "stream",
     "text": [
      "['São Paulo', 'Londres', 'Tóqui', 'Paris']\n"
     ]
    }
   ],
   "source": [
    "nomecidades = ['São Paulo', 'Londres', 'Tóqui', 'Paris']\n",
    "for nome in nomecidades: #a palavra 'nome' nessa linha representa cada elemento da variável na linha acima\n",
    "    nome = 'Rio de Janeiro' \n",
    "print(nomecidades)"
   ]
  },
  {
   "cell_type": "markdown",
   "id": "ff2a0dc8",
   "metadata": {},
   "source": [
    "- O que 'deveria' acontecer quando atribuo à variável 'nome' o valor 'Rio de Janeiro', seria toda a lista 'nomecidade' virar ['Rio de Janeiro', 'Rio de Janeiro' ...], mas não acontece prq a variável que atribuo dentro da identação é uma cópia. \n",
    "- A alterção que se faz dentro da identação fica dentro. Não muda a estrutura propriamente dita"
   ]
  },
  {
   "cell_type": "markdown",
   "id": "a6e932e8",
   "metadata": {},
   "source": [
    "## Função range() - Alterar elementos da lista usando o for"
   ]
  },
  {
   "cell_type": "code",
   "execution_count": 6,
   "id": "5498ae34",
   "metadata": {
    "ExecuteTime": {
     "end_time": "2022-09-14T03:03:25.983981Z",
     "start_time": "2022-09-14T03:03:25.978992Z"
    }
   },
   "outputs": [
    {
     "name": "stdout",
     "output_type": "stream",
     "text": [
      "0\n",
      "1\n",
      "2\n",
      "3\n"
     ]
    }
   ],
   "source": [
    "for posicao in range(len(nomecidades)):\n",
    "    print(posicao)"
   ]
  },
  {
   "cell_type": "code",
   "execution_count": 7,
   "id": "5fd0c9c4",
   "metadata": {
    "ExecuteTime": {
     "end_time": "2022-09-14T03:04:29.296444Z",
     "start_time": "2022-09-14T03:04:29.279490Z"
    }
   },
   "outputs": [
    {
     "name": "stdout",
     "output_type": "stream",
     "text": [
      "['Rio de Janeiro', 'Rio de Janeiro', 'Rio de Janeiro', 'Rio de Janeiro']\n"
     ]
    }
   ],
   "source": [
    "for posicao in range(len(nomecidades)):\n",
    "    nomecidades [posicao] = 'Rio de Janeiro'\n",
    "print(nomecidades)"
   ]
  },
  {
   "cell_type": "markdown",
   "id": "6d36d1bb",
   "metadata": {},
   "source": [
    "## Outras utilizações "
   ]
  },
  {
   "cell_type": "code",
   "execution_count": 8,
   "id": "b6ec840e",
   "metadata": {
    "ExecuteTime": {
     "end_time": "2022-09-14T03:07:58.202436Z",
     "start_time": "2022-09-14T03:07:58.187476Z"
    }
   },
   "outputs": [
    {
     "name": "stdout",
     "output_type": "stream",
     "text": [
      "[0, 1, 2, 3, 4, 5, 6, 7, 8, 9]\n",
      "[2, 3, 4, 5, 6, 7, 8, 9]\n",
      "[2, 4, 6, 8]\n"
     ]
    }
   ],
   "source": [
    "print(list(range(10)))\n",
    "print(list(range(2, 10)))\n",
    "print(list(range(2,10,2)))"
   ]
  }
 ],
 "metadata": {
  "kernelspec": {
   "display_name": "Python 3 (ipykernel)",
   "language": "python",
   "name": "python3"
  },
  "language_info": {
   "codemirror_mode": {
    "name": "ipython",
    "version": 3
   },
   "file_extension": ".py",
   "mimetype": "text/x-python",
   "name": "python",
   "nbconvert_exporter": "python",
   "pygments_lexer": "ipython3",
   "version": "3.9.7"
  },
  "toc": {
   "base_numbering": 1,
   "nav_menu": {},
   "number_sections": true,
   "sideBar": true,
   "skip_h1_title": false,
   "title_cell": "Table of Contents",
   "title_sidebar": "Contents",
   "toc_cell": false,
   "toc_position": {},
   "toc_section_display": true,
   "toc_window_display": false
  }
 },
 "nbformat": 4,
 "nbformat_minor": 5
}
