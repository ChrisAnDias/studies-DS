{
 "cells": [
  {
   "cell_type": "markdown",
   "id": "36786fdd",
   "metadata": {},
   "source": [
    "# Estrutua de Repetição"
   ]
  },
  {
   "cell_type": "markdown",
   "id": "d8869acf",
   "metadata": {},
   "source": [
    "- Uso do while para executar essa repetição.\n",
    "- Uso comum do **contador**.\n",
    "- Cuidado que se deve tomar é para não entrar no loop infinito. Isso significa **não implementar o contador**."
   ]
  },
  {
   "cell_type": "code",
   "execution_count": 1,
   "id": "d01f2640",
   "metadata": {
    "ExecuteTime": {
     "end_time": "2022-09-10T14:13:13.299694Z",
     "start_time": "2022-09-10T14:13:13.284733Z"
    }
   },
   "outputs": [
    {
     "name": "stdout",
     "output_type": "stream",
     "text": [
      "1 item limpo\n",
      "2 itens limpos\n",
      "3 itens limpos\n",
      "4 itens limpos\n",
      "5 itens limpos\n",
      "6 itens limpos\n",
      "7 itens limpos\n",
      "8 itens limpos\n",
      "9 itens limpos\n",
      "10 itens limpos\n",
      "Fim da repetição do bloco while\n"
     ]
    }
   ],
   "source": [
    "contador = 0\n",
    "while contador < 10:\n",
    "    contador = contador + 1\n",
    "    if contador == 1:\n",
    "        print(contador, 'item limpo')\n",
    "    else:\n",
    "        print(contador, 'itens limpos')\n",
    "\n",
    "print('Fim da repetição do bloco while')"
   ]
  },
  {
   "cell_type": "code",
   "execution_count": 2,
   "id": "01c79ee9",
   "metadata": {
    "ExecuteTime": {
     "end_time": "2022-09-10T14:16:00.182027Z",
     "start_time": "2022-09-10T14:16:00.171035Z"
    }
   },
   "outputs": [
    {
     "name": "stdout",
     "output_type": "stream",
     "text": [
      "1 item limpo\n",
      "2 itens limpos\n",
      "3 itens limpos\n",
      "4 itens limpos\n",
      "5 itens limpos\n",
      "6 itens limpos\n",
      "7 itens limpos\n",
      "8 itens limpos\n",
      "9 itens limpos\n",
      "10 itens limpos\n",
      "Fim da repetição do bloco while\n"
     ]
    }
   ],
   "source": [
    "#método não tradicional e não recomendado de chegar ao mesmo resultado acima\n",
    "contador = 0\n",
    "while True:\n",
    "    if contador < 10:\n",
    "        contador = contador + 1\n",
    "        if contador == 1:\n",
    "            print(contador, 'item limpo')\n",
    "        else:\n",
    "            print(contador, 'itens limpos')\n",
    "    else:\n",
    "        break\n",
    "        \n",
    "print('Fim da repetição do bloco while')"
   ]
  },
  {
   "cell_type": "markdown",
   "id": "e5821252",
   "metadata": {},
   "source": [
    "## Validação de entrada"
   ]
  },
  {
   "cell_type": "markdown",
   "id": "cf46f5b7",
   "metadata": {},
   "source": [
    "- Ao invés do *contador*, se quero usar um valor recebido pelo usuário. "
   ]
  },
  {
   "cell_type": "code",
   "execution_count": 3,
   "id": "ca72f39c",
   "metadata": {
    "ExecuteTime": {
     "end_time": "2022-09-10T14:24:22.184867Z",
     "start_time": "2022-09-10T14:24:08.811761Z"
    }
   },
   "outputs": [
    {
     "name": "stdout",
     "output_type": "stream",
     "text": [
      "Digite a sua senha: bolinha123\n",
      "Senha inválida. Tente novamente,letscode\n",
      "Senha inválida. Tente novamente,LetsCode\n",
      "Acesso permitido\n"
     ]
    }
   ],
   "source": [
    "texto = input('Digite a sua senha: ')\n",
    "\n",
    "while texto != 'LetsCode':\n",
    "    texto = input('Senha inválida. Tente novamente,')\n",
    "\n",
    "print('Acesso permitido')"
   ]
  },
  {
   "cell_type": "markdown",
   "id": "57f34d15",
   "metadata": {},
   "source": [
    "## Controle de execução de um loop"
   ]
  },
  {
   "cell_type": "markdown",
   "id": "56f7caa7",
   "metadata": {},
   "source": [
    "- Se eu quero que na contagem um valor não seja impresso. Uso o **continue**.\n",
    "- O **continue** pula o valor ao qual a condição se refere. Como abaixo. "
   ]
  },
  {
   "cell_type": "code",
   "execution_count": 4,
   "id": "e9eb8f2e",
   "metadata": {
    "ExecuteTime": {
     "end_time": "2022-09-10T14:27:18.903063Z",
     "start_time": "2022-09-10T14:27:18.893090Z"
    }
   },
   "outputs": [
    {
     "name": "stdout",
     "output_type": "stream",
     "text": [
      "2 itens limpos\n",
      "3 itens limpos\n",
      "4 itens limpos\n",
      "5 itens limpos\n",
      "6 itens limpos\n",
      "7 itens limpos\n",
      "8 itens limpos\n",
      "9 itens limpos\n",
      "10 itens limpos\n",
      "Fim da repetição do bloco while\n"
     ]
    }
   ],
   "source": [
    "contador = 0\n",
    "while contador < 10:\n",
    "    contador = contador + 1\n",
    "    if contador == 1:\n",
    "        continue        \n",
    "    print(contador, 'itens limpos')\n",
    "\n",
    "print('Fim da repetição do bloco while')"
   ]
  }
 ],
 "metadata": {
  "kernelspec": {
   "display_name": "Python 3 (ipykernel)",
   "language": "python",
   "name": "python3"
  },
  "language_info": {
   "codemirror_mode": {
    "name": "ipython",
    "version": 3
   },
   "file_extension": ".py",
   "mimetype": "text/x-python",
   "name": "python",
   "nbconvert_exporter": "python",
   "pygments_lexer": "ipython3",
   "version": "3.9.7"
  },
  "toc": {
   "base_numbering": 1,
   "nav_menu": {},
   "number_sections": true,
   "sideBar": true,
   "skip_h1_title": false,
   "title_cell": "Table of Contents",
   "title_sidebar": "Contents",
   "toc_cell": false,
   "toc_position": {},
   "toc_section_display": true,
   "toc_window_display": false
  }
 },
 "nbformat": 4,
 "nbformat_minor": 5
}
