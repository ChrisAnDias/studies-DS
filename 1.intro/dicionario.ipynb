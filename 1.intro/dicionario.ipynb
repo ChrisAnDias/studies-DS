{
 "cells": [
  {
   "cell_type": "markdown",
   "id": "69edc8d0",
   "metadata": {},
   "source": [
    "# Dicionário"
   ]
  },
  {
   "cell_type": "markdown",
   "id": "c081373c",
   "metadata": {},
   "source": [
    "- Definição: Coleção associativa desordenada\n",
    "- Operação de mapeamento. \n",
    "- Chave e valor. Pares.\n",
    "- Estrutura de dados mais flexível"
   ]
  },
  {
   "cell_type": "markdown",
   "id": "2eb2a648",
   "metadata": {},
   "source": [
    "## Formato"
   ]
  },
  {
   "cell_type": "code",
   "execution_count": 1,
   "id": "0feb4bde",
   "metadata": {
    "ExecuteTime": {
     "end_time": "2022-09-14T02:31:33.695532Z",
     "start_time": "2022-09-14T02:31:33.682457Z"
    }
   },
   "outputs": [],
   "source": [
    "dadoscidade = {\n",
    "    'nome': 'São Paulo',\n",
    "    'estado':'São Paulo',\n",
    "    'area_km2': 1521,\n",
    "    'populacao_milhoes': 12.18\n",
    "}"
   ]
  },
  {
   "cell_type": "code",
   "execution_count": 2,
   "id": "c06b29d9",
   "metadata": {
    "ExecuteTime": {
     "end_time": "2022-09-14T02:31:43.251506Z",
     "start_time": "2022-09-14T02:31:43.231591Z"
    }
   },
   "outputs": [
    {
     "name": "stdout",
     "output_type": "stream",
     "text": [
      "<class 'dict'>\n"
     ]
    }
   ],
   "source": [
    "print(type(dadoscidade))"
   ]
  },
  {
   "cell_type": "code",
   "execution_count": 3,
   "id": "bd978a14",
   "metadata": {
    "ExecuteTime": {
     "end_time": "2022-09-14T02:31:51.584208Z",
     "start_time": "2022-09-14T02:31:51.574242Z"
    }
   },
   "outputs": [
    {
     "name": "stdout",
     "output_type": "stream",
     "text": [
      "{'nome': 'São Paulo', 'estado': 'São Paulo', 'area_km2': 1521, 'populacao_milhoes': 12.18}\n"
     ]
    }
   ],
   "source": [
    "print(dadoscidade)"
   ]
  },
  {
   "cell_type": "code",
   "execution_count": 4,
   "id": "9d2dd7bd",
   "metadata": {
    "ExecuteTime": {
     "end_time": "2022-09-14T02:33:08.101835Z",
     "start_time": "2022-09-14T02:33:08.086848Z"
    }
   },
   "outputs": [
    {
     "name": "stdout",
     "output_type": "stream",
     "text": [
      "{'nome': 'São Paulo', 'estado': 'São Paulo', 'area_km2': 1521, 'populacao_milhoes': 12.18, 'pais': 'Brasil'}\n"
     ]
    }
   ],
   "source": [
    "dadoscidade['pais'] = 'Brasil'\n",
    "print(dadoscidade)"
   ]
  },
  {
   "cell_type": "code",
   "execution_count": 5,
   "id": "3cb81d3b",
   "metadata": {
    "ExecuteTime": {
     "end_time": "2022-09-14T02:33:30.311999Z",
     "start_time": "2022-09-14T02:33:30.303024Z"
    }
   },
   "outputs": [
    {
     "name": "stdout",
     "output_type": "stream",
     "text": [
      "São Paulo\n"
     ]
    }
   ],
   "source": [
    "print(dadoscidade['nome'])"
   ]
  },
  {
   "cell_type": "code",
   "execution_count": 6,
   "id": "74c50506",
   "metadata": {
    "ExecuteTime": {
     "end_time": "2022-09-14T02:33:58.063467Z",
     "start_time": "2022-09-14T02:33:58.054489Z"
    },
    "scrolled": true
   },
   "outputs": [
    {
     "name": "stdout",
     "output_type": "stream",
     "text": [
      "{'nome': 'São Paulo', 'estado': 'São Paulo', 'area_km2': 1500, 'populacao_milhoes': 12.18, 'pais': 'Brasil'}\n"
     ]
    }
   ],
   "source": [
    "dadoscidade['area_km2'] = 1500\n",
    "print(dadoscidade)"
   ]
  },
  {
   "cell_type": "markdown",
   "id": "48358335",
   "metadata": {},
   "source": [
    "## Método Copy()"
   ]
  },
  {
   "cell_type": "code",
   "execution_count": 7,
   "id": "6e37f1c2",
   "metadata": {
    "ExecuteTime": {
     "end_time": "2022-09-14T02:35:03.544440Z",
     "start_time": "2022-09-14T02:35:03.534467Z"
    }
   },
   "outputs": [],
   "source": [
    "dadoscidade2 = dadoscidade"
   ]
  },
  {
   "cell_type": "code",
   "execution_count": 8,
   "id": "d9b5ec4f",
   "metadata": {
    "ExecuteTime": {
     "end_time": "2022-09-14T02:35:32.836991Z",
     "start_time": "2022-09-14T02:35:32.831007Z"
    }
   },
   "outputs": [
    {
     "name": "stdout",
     "output_type": "stream",
     "text": [
      "{'nome': 'Santos', 'estado': 'São Paulo', 'area_km2': 1500, 'populacao_milhoes': 12.18, 'pais': 'Brasil'}\n",
      "{'nome': 'Santos', 'estado': 'São Paulo', 'area_km2': 1500, 'populacao_milhoes': 12.18, 'pais': 'Brasil'}\n"
     ]
    }
   ],
   "source": [
    "dadoscidade2['nome'] = 'Santos'\n",
    "print(dadoscidade2)\n",
    "print(dadoscidade)"
   ]
  },
  {
   "cell_type": "code",
   "execution_count": 9,
   "id": "ea59e090",
   "metadata": {
    "ExecuteTime": {
     "end_time": "2022-09-14T02:36:02.597196Z",
     "start_time": "2022-09-14T02:36:02.591212Z"
    }
   },
   "outputs": [],
   "source": [
    "dadoscidade3 = dadoscidade.copy()"
   ]
  },
  {
   "cell_type": "code",
   "execution_count": 11,
   "id": "d11e7fad",
   "metadata": {
    "ExecuteTime": {
     "end_time": "2022-09-14T02:36:44.028478Z",
     "start_time": "2022-09-14T02:36:44.022521Z"
    }
   },
   "outputs": [
    {
     "name": "stdout",
     "output_type": "stream",
     "text": [
      "{'nome': 'Santos', 'estado': 'Rio de Janeiro', 'area_km2': 1500, 'populacao_milhoes': 12.18, 'pais': 'Brasil'}\n",
      "{'nome': 'Santos', 'estado': 'São Paulo', 'area_km2': 1500, 'populacao_milhoes': 12.18, 'pais': 'Brasil'}\n"
     ]
    }
   ],
   "source": [
    "dadoscidade3['estado'] = 'Rio de Janeiro'\n",
    "print(dadoscidade3)\n",
    "print(dadoscidade)"
   ]
  },
  {
   "cell_type": "markdown",
   "id": "c10f0fff",
   "metadata": {},
   "source": [
    "## Método Update"
   ]
  },
  {
   "cell_type": "code",
   "execution_count": 12,
   "id": "e1c68938",
   "metadata": {
    "ExecuteTime": {
     "end_time": "2022-09-14T02:39:41.122396Z",
     "start_time": "2022-09-14T02:39:41.110427Z"
    }
   },
   "outputs": [
    {
     "name": "stdout",
     "output_type": "stream",
     "text": [
      "{'nome': 'Santos', 'estado': 'São Paulo', 'area_km2': 1500, 'populacao_milhoes': 12.18, 'pais': 'Brasil', 'populacaomilhoes': 15, 'fundacao': '25/01/1554'}\n"
     ]
    }
   ],
   "source": [
    "novosdados = {\n",
    "    'populacaomilhoes': 15,\n",
    "    'fundacao': '25/01/1554'\n",
    "}\n",
    "\n",
    "dadoscidade.update(novosdados)\n",
    "print(dadoscidade)"
   ]
  },
  {
   "cell_type": "markdown",
   "id": "0b52fcc5",
   "metadata": {},
   "source": [
    "- Se eu tentar fazer o python retornar uma chave que não existe no dicionário, ele retornará um *Keyerror*"
   ]
  },
  {
   "cell_type": "code",
   "execution_count": 13,
   "id": "0317a773",
   "metadata": {
    "ExecuteTime": {
     "end_time": "2022-09-14T02:39:54.817679Z",
     "start_time": "2022-09-14T02:39:54.656113Z"
    }
   },
   "outputs": [
    {
     "ename": "KeyError",
     "evalue": "'prefeito'",
     "output_type": "error",
     "traceback": [
      "\u001b[1;31m---------------------------------------------------------------------------\u001b[0m",
      "\u001b[1;31mKeyError\u001b[0m                                  Traceback (most recent call last)",
      "\u001b[1;32mC:\\Users\\CHRIST~1\\AppData\\Local\\Temp/ipykernel_5752/3675419745.py\u001b[0m in \u001b[0;36m<module>\u001b[1;34m\u001b[0m\n\u001b[1;32m----> 1\u001b[1;33m \u001b[0mdadoscidade\u001b[0m\u001b[1;33m[\u001b[0m\u001b[1;34m'prefeito'\u001b[0m\u001b[1;33m]\u001b[0m\u001b[1;33m\u001b[0m\u001b[1;33m\u001b[0m\u001b[0m\n\u001b[0m",
      "\u001b[1;31mKeyError\u001b[0m: 'prefeito'"
     ]
    }
   ],
   "source": [
    "dadoscidade['prefeito']"
   ]
  },
  {
   "cell_type": "markdown",
   "id": "f87353ab",
   "metadata": {},
   "source": [
    "- Para resolver isso, temos o método **GET**"
   ]
  },
  {
   "cell_type": "markdown",
   "id": "33e4ec8a",
   "metadata": {},
   "source": [
    "## Método Get"
   ]
  },
  {
   "cell_type": "code",
   "execution_count": 15,
   "id": "169f5772",
   "metadata": {
    "ExecuteTime": {
     "end_time": "2022-09-14T02:43:01.561195Z",
     "start_time": "2022-09-14T02:43:01.551221Z"
    }
   },
   "outputs": [
    {
     "name": "stdout",
     "output_type": "stream",
     "text": [
      "None\n"
     ]
    }
   ],
   "source": [
    "print(dadoscidade.get('prefeito'))"
   ]
  },
  {
   "cell_type": "markdown",
   "id": "062bc9aa",
   "metadata": {},
   "source": [
    "## Transformar dicionário em listas"
   ]
  },
  {
   "cell_type": "code",
   "execution_count": 16,
   "id": "9006be1d",
   "metadata": {
    "ExecuteTime": {
     "end_time": "2022-09-14T02:44:53.837824Z",
     "start_time": "2022-09-14T02:44:53.821865Z"
    }
   },
   "outputs": [
    {
     "name": "stdout",
     "output_type": "stream",
     "text": [
      "dict_keys(['nome', 'estado', 'area_km2', 'populacao_milhoes', 'pais', 'populacaomilhoes', 'fundacao'])\n",
      "------------------\n",
      "dict_values(['Santos', 'São Paulo', 1500, 12.18, 'Brasil', 15, '25/01/1554'])\n",
      "------------------\n",
      "dict_items([('nome', 'Santos'), ('estado', 'São Paulo'), ('area_km2', 1500), ('populacao_milhoes', 12.18), ('pais', 'Brasil'), ('populacaomilhoes', 15), ('fundacao', '25/01/1554')])\n"
     ]
    }
   ],
   "source": [
    "print(dadoscidade.keys())\n",
    "print('------------------')\n",
    "print(dadoscidade.values())\n",
    "print('------------------')\n",
    "print(dadoscidade.items())"
   ]
  }
 ],
 "metadata": {
  "kernelspec": {
   "display_name": "Python 3 (ipykernel)",
   "language": "python",
   "name": "python3"
  },
  "language_info": {
   "codemirror_mode": {
    "name": "ipython",
    "version": 3
   },
   "file_extension": ".py",
   "mimetype": "text/x-python",
   "name": "python",
   "nbconvert_exporter": "python",
   "pygments_lexer": "ipython3",
   "version": "3.9.7"
  },
  "toc": {
   "base_numbering": 1,
   "nav_menu": {},
   "number_sections": true,
   "sideBar": true,
   "skip_h1_title": false,
   "title_cell": "Table of Contents",
   "title_sidebar": "Contents",
   "toc_cell": false,
   "toc_position": {},
   "toc_section_display": true,
   "toc_window_display": false
  }
 },
 "nbformat": 4,
 "nbformat_minor": 5
}
