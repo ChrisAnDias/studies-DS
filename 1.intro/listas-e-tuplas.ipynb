{
 "cells": [
  {
   "cell_type": "markdown",
   "id": "caed9847",
   "metadata": {},
   "source": [
    "# Listas "
   ]
  },
  {
   "cell_type": "markdown",
   "id": "2c377347",
   "metadata": {},
   "source": [
    "- Coleção ou sequência ordenada de valores\n",
    "- Indexação de base zero. Isto é, a contagem do python começa no zero. "
   ]
  },
  {
   "cell_type": "markdown",
   "id": "e7877021",
   "metadata": {},
   "source": [
    "## Declaração de uma lista"
   ]
  },
  {
   "cell_type": "code",
   "execution_count": 3,
   "id": "3e6d8dba",
   "metadata": {
    "ExecuteTime": {
     "end_time": "2022-09-13T01:30:38.116720Z",
     "start_time": "2022-09-13T01:30:38.111733Z"
    }
   },
   "outputs": [
    {
     "name": "stdout",
     "output_type": "stream",
     "text": [
      "['Brasil', 'Argendina', 'China', 'Canadá', 'Japão']\n"
     ]
    }
   ],
   "source": [
    "nomespaises = ['Brasil','Argendina','China','Canadá','Japão']\n",
    "print(nomespaises)"
   ]
  },
  {
   "cell_type": "markdown",
   "id": "a832752b",
   "metadata": {},
   "source": [
    "## Len"
   ]
  },
  {
   "cell_type": "code",
   "execution_count": 5,
   "id": "dedc6511",
   "metadata": {
    "ExecuteTime": {
     "end_time": "2022-09-13T01:31:11.630722Z",
     "start_time": "2022-09-13T01:31:11.616759Z"
    }
   },
   "outputs": [
    {
     "name": "stdout",
     "output_type": "stream",
     "text": [
      "Tamanho da Lista: 5\n"
     ]
    }
   ],
   "source": [
    "print('Tamanho da Lista:', len(nomespaises))"
   ]
  },
  {
   "cell_type": "markdown",
   "id": "74428b21",
   "metadata": {},
   "source": [
    "## Acessando elementos da lista"
   ]
  },
  {
   "cell_type": "code",
   "execution_count": 6,
   "id": "1b7d89cb",
   "metadata": {
    "ExecuteTime": {
     "end_time": "2022-09-13T01:31:33.611252Z",
     "start_time": "2022-09-13T01:31:33.592304Z"
    }
   },
   "outputs": [
    {
     "name": "stdout",
     "output_type": "stream",
     "text": [
      "País:  Japão\n"
     ]
    }
   ],
   "source": [
    "print('País: ', nomespaises[4])"
   ]
  },
  {
   "cell_type": "code",
   "execution_count": 7,
   "id": "7f2c654a",
   "metadata": {
    "ExecuteTime": {
     "end_time": "2022-09-13T01:31:58.955272Z",
     "start_time": "2022-09-13T01:31:58.937319Z"
    }
   },
   "outputs": [
    {
     "name": "stdout",
     "output_type": "stream",
     "text": [
      "País:  Japão\n"
     ]
    }
   ],
   "source": [
    "print('País: ', nomespaises[-1])"
   ]
  },
  {
   "cell_type": "markdown",
   "id": "c8439b84",
   "metadata": {},
   "source": [
    "- O python permite índices negativos, que funcionam de trás pra frente"
   ]
  },
  {
   "cell_type": "markdown",
   "id": "12e7c78a",
   "metadata": {},
   "source": [
    "## Muda um elemento da lista"
   ]
  },
  {
   "cell_type": "code",
   "execution_count": 8,
   "id": "88f4e7bc",
   "metadata": {
    "ExecuteTime": {
     "end_time": "2022-09-13T01:32:20.630402Z",
     "start_time": "2022-09-13T01:32:20.624420Z"
    }
   },
   "outputs": [],
   "source": [
    "nomespaises[4] =  'Colombia'"
   ]
  },
  {
   "cell_type": "code",
   "execution_count": 10,
   "id": "7ee96f06",
   "metadata": {
    "ExecuteTime": {
     "end_time": "2022-09-13T01:32:43.583099Z",
     "start_time": "2022-09-13T01:32:43.576142Z"
    }
   },
   "outputs": [
    {
     "name": "stdout",
     "output_type": "stream",
     "text": [
      "País:  Colombia\n",
      "['Brasil', 'Argendina', 'China', 'Canadá', 'Colombia']\n"
     ]
    }
   ],
   "source": [
    "print('País: ', nomespaises[4])\n",
    "print(nomespaises)"
   ]
  },
  {
   "cell_type": "code",
   "execution_count": 11,
   "id": "c955cd56",
   "metadata": {
    "ExecuteTime": {
     "end_time": "2022-09-13T01:33:07.438093Z",
     "start_time": "2022-09-13T01:33:07.289451Z"
    },
    "scrolled": true
   },
   "outputs": [
    {
     "ename": "IndexError",
     "evalue": "list assignment index out of range",
     "output_type": "error",
     "traceback": [
      "\u001b[1;31m---------------------------------------------------------------------------\u001b[0m",
      "\u001b[1;31mIndexError\u001b[0m                                Traceback (most recent call last)",
      "\u001b[1;32mC:\\Users\\CHRIST~1\\AppData\\Local\\Temp/ipykernel_6296/1481381542.py\u001b[0m in \u001b[0;36m<module>\u001b[1;34m\u001b[0m\n\u001b[1;32m----> 1\u001b[1;33m \u001b[0mnomespaises\u001b[0m\u001b[1;33m[\u001b[0m\u001b[1;36m5\u001b[0m\u001b[1;33m]\u001b[0m \u001b[1;33m=\u001b[0m  \u001b[1;34m'Chile'\u001b[0m\u001b[1;33m\u001b[0m\u001b[1;33m\u001b[0m\u001b[0m\n\u001b[0m",
      "\u001b[1;31mIndexError\u001b[0m: list assignment index out of range"
     ]
    }
   ],
   "source": [
    "nomespaises[5] =  'Chile'"
   ]
  },
  {
   "cell_type": "markdown",
   "id": "f911eb23",
   "metadata": {},
   "source": [
    "- A sintaxe acima, aparentemente com a ideia de introduzir um elemento à lista, é errada e retornará error"
   ]
  },
  {
   "cell_type": "markdown",
   "id": "6709abde",
   "metadata": {},
   "source": [
    "## Slicing (fatiamento)"
   ]
  },
  {
   "cell_type": "markdown",
   "id": "8d4d3c8c",
   "metadata": {},
   "source": [
    "- Permite que reatribua ou acesse mais de um elemento da lista por vez\n",
    "- Lembrando que no python a contagem começa do zero. E o último valor especificado não entra na lista."
   ]
  },
  {
   "cell_type": "code",
   "execution_count": 13,
   "id": "7b84db58",
   "metadata": {
    "ExecuteTime": {
     "end_time": "2022-09-13T01:37:58.790456Z",
     "start_time": "2022-09-13T01:37:58.775475Z"
    }
   },
   "outputs": [
    {
     "name": "stdout",
     "output_type": "stream",
     "text": [
      "['Argendina', 'China']\n"
     ]
    }
   ],
   "source": [
    "print(nomespaises[1:3])"
   ]
  },
  {
   "cell_type": "code",
   "execution_count": 14,
   "id": "5bf4b8ac",
   "metadata": {
    "ExecuteTime": {
     "end_time": "2022-09-13T01:38:15.646524Z",
     "start_time": "2022-09-13T01:38:15.640568Z"
    }
   },
   "outputs": [
    {
     "name": "stdout",
     "output_type": "stream",
     "text": [
      "['Argendina', 'China', 'Canadá']\n"
     ]
    }
   ],
   "source": [
    "print(nomespaises[1:-1])"
   ]
  },
  {
   "cell_type": "code",
   "execution_count": 15,
   "id": "1091f6eb",
   "metadata": {
    "ExecuteTime": {
     "end_time": "2022-09-13T01:38:32.884593Z",
     "start_time": "2022-09-13T01:38:32.880598Z"
    }
   },
   "outputs": [
    {
     "name": "stdout",
     "output_type": "stream",
     "text": [
      "['China', 'Canadá', 'Colombia']\n"
     ]
    }
   ],
   "source": [
    "print(nomespaises[2:])"
   ]
  },
  {
   "cell_type": "code",
   "execution_count": 16,
   "id": "9b5f32f8",
   "metadata": {
    "ExecuteTime": {
     "end_time": "2022-09-13T01:38:56.218072Z",
     "start_time": "2022-09-13T01:38:56.209095Z"
    }
   },
   "outputs": [
    {
     "name": "stdout",
     "output_type": "stream",
     "text": [
      "['Brasil', 'Argendina', 'China']\n"
     ]
    }
   ],
   "source": [
    "print(nomespaises[:3])"
   ]
  },
  {
   "cell_type": "code",
   "execution_count": 17,
   "id": "cec4ebb8",
   "metadata": {
    "ExecuteTime": {
     "end_time": "2022-09-13T01:39:12.173043Z",
     "start_time": "2022-09-13T01:39:12.169054Z"
    }
   },
   "outputs": [
    {
     "name": "stdout",
     "output_type": "stream",
     "text": [
      "['Brasil', 'Argendina', 'China', 'Canadá', 'Colombia']\n"
     ]
    }
   ],
   "source": [
    "print(nomespaises[:])"
   ]
  },
  {
   "cell_type": "code",
   "execution_count": 18,
   "id": "1d7349e4",
   "metadata": {
    "ExecuteTime": {
     "end_time": "2022-09-13T01:40:03.988549Z",
     "start_time": "2022-09-13T01:40:03.976554Z"
    }
   },
   "outputs": [
    {
     "name": "stdout",
     "output_type": "stream",
     "text": [
      "['Brasil', 'China', 'Colombia']\n"
     ]
    }
   ],
   "source": [
    "print(nomespaises[::2])"
   ]
  },
  {
   "cell_type": "markdown",
   "id": "6cb939a5",
   "metadata": {},
   "source": [
    "### Determinação do Step"
   ]
  },
  {
   "cell_type": "markdown",
   "id": "94aff84d",
   "metadata": {},
   "source": [
    "- De quanto em quanto será contado a lista"
   ]
  },
  {
   "cell_type": "code",
   "execution_count": 19,
   "id": "5bdca2ff",
   "metadata": {
    "ExecuteTime": {
     "end_time": "2022-09-13T01:40:36.098036Z",
     "start_time": "2022-09-13T01:40:36.081080Z"
    },
    "scrolled": true
   },
   "outputs": [
    {
     "name": "stdout",
     "output_type": "stream",
     "text": [
      "['Colombia', 'Canadá', 'China', 'Argendina', 'Brasil']\n"
     ]
    }
   ],
   "source": [
    "print(nomespaises[::-1])"
   ]
  },
  {
   "cell_type": "markdown",
   "id": "67258554",
   "metadata": {},
   "source": [
    "## in e non in (buscando elemento na lista)"
   ]
  },
  {
   "cell_type": "code",
   "execution_count": 20,
   "id": "70f4b8a7",
   "metadata": {
    "ExecuteTime": {
     "end_time": "2022-09-13T01:41:10.982264Z",
     "start_time": "2022-09-13T01:41:10.969299Z"
    }
   },
   "outputs": [
    {
     "name": "stdout",
     "output_type": "stream",
     "text": [
      "True\n"
     ]
    }
   ],
   "source": [
    "print('Brasil' in nomespaises)"
   ]
  },
  {
   "cell_type": "code",
   "execution_count": 21,
   "id": "1e276100",
   "metadata": {
    "ExecuteTime": {
     "end_time": "2022-09-13T01:41:32.252662Z",
     "start_time": "2022-09-13T01:41:32.248707Z"
    }
   },
   "outputs": [
    {
     "name": "stdout",
     "output_type": "stream",
     "text": [
      "False\n"
     ]
    }
   ],
   "source": [
    "print('Brasil' not in nomespaises)"
   ]
  },
  {
   "cell_type": "markdown",
   "id": "c38cc798",
   "metadata": {},
   "source": [
    "## Adicionar elementos na lista"
   ]
  },
  {
   "cell_type": "code",
   "execution_count": 23,
   "id": "d4e01fd8",
   "metadata": {
    "ExecuteTime": {
     "end_time": "2022-09-13T01:42:01.683071Z",
     "start_time": "2022-09-13T01:42:01.665119Z"
    }
   },
   "outputs": [],
   "source": [
    "listacapitais = []"
   ]
  },
  {
   "cell_type": "markdown",
   "id": "b2ac9f78",
   "metadata": {},
   "source": [
    "### Método appen"
   ]
  },
  {
   "cell_type": "code",
   "execution_count": 24,
   "id": "ab5e5c2f",
   "metadata": {
    "ExecuteTime": {
     "end_time": "2022-09-13T01:45:34.484819Z",
     "start_time": "2022-09-13T01:45:34.479832Z"
    }
   },
   "outputs": [
    {
     "name": "stdout",
     "output_type": "stream",
     "text": [
      "['Brasília', 'Buenos Aires', 'Pequim', 'Bogotá']\n"
     ]
    }
   ],
   "source": [
    "listacapitais.append('Brasília')\n",
    "listacapitais.append('Buenos Aires')\n",
    "listacapitais.append('Pequim')\n",
    "listacapitais.append('Bogotá')\n",
    "\n",
    "print(listacapitais)"
   ]
  },
  {
   "cell_type": "markdown",
   "id": "f1847801",
   "metadata": {},
   "source": [
    "- O método **appen** adiciona ao final da lista."
   ]
  },
  {
   "cell_type": "markdown",
   "id": "3684ed62",
   "metadata": {},
   "source": [
    "### Método Insert"
   ]
  },
  {
   "cell_type": "markdown",
   "id": "7a730490",
   "metadata": {},
   "source": [
    " - Adiciona numa posição especifiada"
   ]
  },
  {
   "cell_type": "code",
   "execution_count": 25,
   "id": "4ed33f4f",
   "metadata": {
    "ExecuteTime": {
     "end_time": "2022-09-13T01:47:20.459873Z",
     "start_time": "2022-09-13T01:47:20.441894Z"
    }
   },
   "outputs": [
    {
     "name": "stdout",
     "output_type": "stream",
     "text": [
      "['Brasília', 'Buenos Aires', 'Paris', 'Pequim', 'Bogotá']\n"
     ]
    }
   ],
   "source": [
    "listacapitais.insert(2, 'Paris')\n",
    "print(listacapitais)"
   ]
  },
  {
   "cell_type": "markdown",
   "id": "ac8603ee",
   "metadata": {},
   "source": [
    "## Deletar elemento da lista"
   ]
  },
  {
   "cell_type": "markdown",
   "id": "4253222f",
   "metadata": {},
   "source": [
    "### Método Remove"
   ]
  },
  {
   "cell_type": "markdown",
   "id": "b82f2270",
   "metadata": {},
   "source": [
    "- Remove o **elemento** especificado no parâmetro."
   ]
  },
  {
   "cell_type": "code",
   "execution_count": 26,
   "id": "02829e18",
   "metadata": {
    "ExecuteTime": {
     "end_time": "2022-09-13T01:48:37.668288Z",
     "start_time": "2022-09-13T01:48:37.649311Z"
    }
   },
   "outputs": [
    {
     "name": "stdout",
     "output_type": "stream",
     "text": [
      "['Brasília', 'Paris', 'Pequim', 'Bogotá']\n"
     ]
    }
   ],
   "source": [
    "listacapitais.remove('Buenos Aires')\n",
    "print(listacapitais)"
   ]
  },
  {
   "cell_type": "markdown",
   "id": "28297035",
   "metadata": {},
   "source": [
    "### Método POP"
   ]
  },
  {
   "cell_type": "markdown",
   "id": "5dbd4aac",
   "metadata": {},
   "source": [
    "- Remove a **posição** especificada no parâmetro"
   ]
  },
  {
   "cell_type": "code",
   "execution_count": 28,
   "id": "e4ae8842",
   "metadata": {
    "ExecuteTime": {
     "end_time": "2022-09-13T01:56:24.128818Z",
     "start_time": "2022-09-13T01:56:24.121837Z"
    }
   },
   "outputs": [
    {
     "name": "stdout",
     "output_type": "stream",
     "text": [
      "['Brasília', 'Paris', 'Bogotá'] Pequim\n"
     ]
    }
   ],
   "source": [
    "removido = listacapitais.pop(2)\n",
    "print(listacapitais, removido)"
   ]
  },
  {
   "cell_type": "markdown",
   "id": "78bf3708",
   "metadata": {},
   "source": [
    "# Tuplas"
   ]
  },
  {
   "cell_type": "markdown",
   "id": "bf459cec",
   "metadata": {},
   "source": [
    "- **Menos flexível** que a *Lista*\n",
    "- Uma vez definida a tupla, **não se pode mais alterar essa estrutura**\n",
    "- Possui **implementações e operações especiais** que a lista não atende\n",
    "- **Menor em questão de armazenamento**, por ter essa característica rígida"
   ]
  },
  {
   "cell_type": "markdown",
   "id": "8be7a438",
   "metadata": {},
   "source": [
    "## Declaração de uma Tupla"
   ]
  },
  {
   "cell_type": "code",
   "execution_count": 30,
   "id": "ca5145d2",
   "metadata": {
    "ExecuteTime": {
     "end_time": "2022-09-13T02:04:26.415424Z",
     "start_time": "2022-09-13T02:04:26.402469Z"
    }
   },
   "outputs": [
    {
     "name": "stdout",
     "output_type": "stream",
     "text": [
      "('Brasil', 'Argentina', 'China', 'Canadá', 'Japão') <class 'tuple'>\n"
     ]
    }
   ],
   "source": [
    "nomespaisesT = ('Brasil','Argentina','China','Canadá','Japão')\n",
    "print(nomespaisesT, type(nomespaisesT))"
   ]
  },
  {
   "cell_type": "code",
   "execution_count": 31,
   "id": "072a6e0e",
   "metadata": {
    "ExecuteTime": {
     "end_time": "2022-09-13T02:04:42.055392Z",
     "start_time": "2022-09-13T02:04:42.042428Z"
    }
   },
   "outputs": [
    {
     "name": "stdout",
     "output_type": "stream",
     "text": [
      "('Brasil', 'Argentina', 'China', 'Canadá', 'Japão') <class 'tuple'>\n"
     ]
    }
   ],
   "source": [
    "nomespaisesT = 'Brasil','Argentina','China','Canadá','Japão'\n",
    "print(nomespaisesT, type(nomespaisesT))"
   ]
  },
  {
   "cell_type": "code",
   "execution_count": 32,
   "id": "a2fac195",
   "metadata": {
    "ExecuteTime": {
     "end_time": "2022-09-13T02:05:23.602865Z",
     "start_time": "2022-09-13T02:05:23.586906Z"
    }
   },
   "outputs": [
    {
     "name": "stdout",
     "output_type": "stream",
     "text": [
      "('São Paulo',) <class 'tuple'>\n"
     ]
    }
   ],
   "source": [
    "nomeestado = 'São Paulo',\n",
    "print(nomeestado, type(nomeestado))"
   ]
  },
  {
   "cell_type": "markdown",
   "id": "3a3f8bbf",
   "metadata": {},
   "source": [
    "## Operações da lista que funcionam"
   ]
  },
  {
   "cell_type": "code",
   "execution_count": 33,
   "id": "22a9b352",
   "metadata": {
    "ExecuteTime": {
     "end_time": "2022-09-13T02:05:37.461654Z",
     "start_time": "2022-09-13T02:05:37.449689Z"
    }
   },
   "outputs": [
    {
     "data": {
      "text/plain": [
       "5"
      ]
     },
     "execution_count": 33,
     "metadata": {},
     "output_type": "execute_result"
    }
   ],
   "source": [
    "len(nomespaisesT) #operações"
   ]
  },
  {
   "cell_type": "code",
   "execution_count": 34,
   "id": "8083c17d",
   "metadata": {
    "ExecuteTime": {
     "end_time": "2022-09-13T02:05:55.943373Z",
     "start_time": "2022-09-13T02:05:55.930408Z"
    }
   },
   "outputs": [
    {
     "data": {
      "text/plain": [
       "'Brasil'"
      ]
     },
     "execution_count": 34,
     "metadata": {},
     "output_type": "execute_result"
    }
   ],
   "source": [
    "nomespaisesT[0] #operações"
   ]
  },
  {
   "cell_type": "markdown",
   "id": "7599be41",
   "metadata": {},
   "source": [
    "## Unpacking"
   ]
  },
  {
   "cell_type": "markdown",
   "id": "fba4b02b",
   "metadata": {},
   "source": [
    "- Permite que seja atribuído variáveis aos elementos constantes na tupla da forma especificada abaixo."
   ]
  },
  {
   "cell_type": "code",
   "execution_count": 35,
   "id": "3060d75c",
   "metadata": {
    "ExecuteTime": {
     "end_time": "2022-09-13T02:08:20.615927Z",
     "start_time": "2022-09-13T02:08:20.610952Z"
    }
   },
   "outputs": [
    {
     "name": "stdout",
     "output_type": "stream",
     "text": [
      "Brasil China Japão\n"
     ]
    }
   ],
   "source": [
    "b, a, c, ca, j = nomespaisesT\n",
    "print(b, c, j)"
   ]
  },
  {
   "cell_type": "code",
   "execution_count": 36,
   "id": "37f1c82a",
   "metadata": {
    "ExecuteTime": {
     "end_time": "2022-09-13T02:10:38.165996Z",
     "start_time": "2022-09-13T02:10:38.147048Z"
    }
   },
   "outputs": [
    {
     "name": "stdout",
     "output_type": "stream",
     "text": [
      "Brasil Argentina China Canadá Japão\n"
     ]
    }
   ],
   "source": [
    "print(*nomespaisesT)"
   ]
  },
  {
   "cell_type": "markdown",
   "id": "76a73eb2",
   "metadata": {},
   "source": [
    "- O código acima retorna a tupla *desempacotada*. "
   ]
  }
 ],
 "metadata": {
  "kernelspec": {
   "display_name": "Python 3 (ipykernel)",
   "language": "python",
   "name": "python3"
  },
  "language_info": {
   "codemirror_mode": {
    "name": "ipython",
    "version": 3
   },
   "file_extension": ".py",
   "mimetype": "text/x-python",
   "name": "python",
   "nbconvert_exporter": "python",
   "pygments_lexer": "ipython3",
   "version": "3.9.7"
  },
  "toc": {
   "base_numbering": 1,
   "nav_menu": {},
   "number_sections": true,
   "sideBar": true,
   "skip_h1_title": false,
   "title_cell": "Table of Contents",
   "title_sidebar": "Contents",
   "toc_cell": false,
   "toc_position": {
    "height": "calc(100% - 180px)",
    "left": "10px",
    "top": "150px",
    "width": "376px"
   },
   "toc_section_display": true,
   "toc_window_display": true
  }
 },
 "nbformat": 4,
 "nbformat_minor": 5
}
