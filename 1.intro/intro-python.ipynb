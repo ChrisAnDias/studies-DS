{
 "cells": [
  {
   "cell_type": "markdown",
   "id": "99595766",
   "metadata": {},
   "source": [
    "# Link para MarkDown"
   ]
  },
  {
   "cell_type": "markdown",
   "id": "1d801a73",
   "metadata": {},
   "source": [
    "__[Data Camp Tutorial](https://www.datacamp.com/community/tutorials/markdown-in-jupyter-notebook)__\n",
    "<br>\n",
    "__[GitHub Markdown Cheatsheet](https://github.com/adam-p/markdown-here/wiki/Markdown-Cheatsheet)__"
   ]
  },
  {
   "cell_type": "markdown",
   "id": "bc4ed802",
   "metadata": {
    "ExecuteTime": {
     "end_time": "2022-01-17T02:04:28.668114Z",
     "start_time": "2022-01-17T02:04:28.663127Z"
    }
   },
   "source": [
    "# Variáveis e Objetos"
   ]
  },
  {
   "cell_type": "markdown",
   "id": "3ac7df75",
   "metadata": {},
   "source": [
    "As variáveis podem ser de tipos:\n",
    "- **Inteiro**: Números sem pontos\n",
    "- **Float**: Números com pontos\n",
    "- **String**: Palavras. Sempre entre aspas\n",
    "- **Lógica**: True e False\n",
    "<br>---------------\n",
    "<br>\n",
    "Ordem de precedência nas contas do python: <br>\n",
    "1 - (): O que estiver dentro dos parênteses <br>\n",
    "2 - ** (exponenciação) <br>\n",
    "3 - * , / , // , % : Multiplicação, Divisão, Divisão parte inteira, Módulo respectivamente <br>\n",
    "4 - + , - : Soma e Subtração\n",
    "<br>\n",
    "\n",
    "> Por padrão **a variável** no python é uma **string**. "
   ]
  },
  {
   "cell_type": "markdown",
   "id": "f908467a",
   "metadata": {},
   "source": [
    "# Estruturas de Decisão"
   ]
  },
  {
   "cell_type": "markdown",
   "id": "28c7d918",
   "metadata": {},
   "source": [
    "Trata-se de estruturas que levam o **if** e **else**."
   ]
  },
  {
   "cell_type": "code",
   "execution_count": 2,
   "id": "1e7f5361",
   "metadata": {
    "ExecuteTime": {
     "end_time": "2022-01-18T00:56:45.533592Z",
     "start_time": "2022-01-18T00:56:43.777288Z"
    }
   },
   "outputs": [
    {
     "name": "stdout",
     "output_type": "stream",
     "text": [
      "Digite a nota do aluno:5\n",
      "Reprovado\n"
     ]
    }
   ],
   "source": [
    "nota = int(input('Digite a nota do aluno:'))\n",
    "if nota >= 7:\n",
    "    print('Aprovado! Parabéns!')\n",
    "else:\n",
    "    print('Reprovado')\n",
    "    "
   ]
  },
  {
   "cell_type": "code",
   "execution_count": 3,
   "id": "96dfc0fa",
   "metadata": {
    "ExecuteTime": {
     "end_time": "2022-01-18T00:57:45.954039Z",
     "start_time": "2022-01-18T00:57:45.949052Z"
    }
   },
   "outputs": [
    {
     "name": "stdout",
     "output_type": "stream",
     "text": [
      "Aprovado\n"
     ]
    }
   ],
   "source": [
    "nota = 7\n",
    "if nota <= 4:\n",
    "    print('Reprovado')\n",
    "elif nota > 4 and nota <=6:\n",
    "    print('Exame')\n",
    "else:\n",
    "    print('Aprovado')"
   ]
  },
  {
   "cell_type": "markdown",
   "id": "e7db73b1",
   "metadata": {},
   "source": [
    "# Listas\n"
   ]
  },
  {
   "cell_type": "markdown",
   "id": "edec350b",
   "metadata": {},
   "source": [
    "<li> Cria-se uma lista quando se insere elementos entre colchetes '[]' ou atribui a um objeto a função 'list' com valores entre os parênteses do 'list'.</li>\n",
    "<li> Em uma lista pode contar diversos elementos diferentes </li>\n",
    "\n"
   ]
  },
  {
   "cell_type": "code",
   "execution_count": 1,
   "id": "f2f7c1be",
   "metadata": {
    "ExecuteTime": {
     "end_time": "2022-01-06T00:37:36.243901Z",
     "start_time": "2022-01-06T00:37:36.235923Z"
    }
   },
   "outputs": [
    {
     "name": "stdout",
     "output_type": "stream",
     "text": [
      "[12, [1, 2, 3, 4, 5], 'a']\n"
     ]
    }
   ],
   "source": [
    "#lista com lista\n",
    "lst3 = [12,[1,2,3,4,5],\"a\"]\n",
    "print(lst3)"
   ]
  },
  {
   "cell_type": "code",
   "execution_count": 8,
   "id": "55c349f0",
   "metadata": {},
   "outputs": [
    {
     "name": "stdout",
     "output_type": "stream",
     "text": [
      "[0, 1, 2, 3, 4, 5, 6, 7, 8, 9]\n"
     ]
    }
   ],
   "source": [
    "#criando lista com range\n",
    "lst4 = list(range(0,10))\n",
    "print(lst4)"
   ]
  },
  {
   "cell_type": "markdown",
   "id": "48eb42d5",
   "metadata": {},
   "source": [
    "> O Python inicia a contagem com 0 e ignora o último número do delimitador, <b>subtraindo 1"
   ]
  },
  {
   "cell_type": "code",
   "execution_count": null,
   "id": "dcbf7222",
   "metadata": {},
   "outputs": [],
   "source": [
    "#comprimento da lista\n",
    "print(len(lst))"
   ]
  },
  {
   "cell_type": "code",
   "execution_count": null,
   "id": "c9b6331d",
   "metadata": {},
   "outputs": [],
   "source": [
    "#acessando elemento\n",
    "print(lst3[0])\n",
    "#posiçõo 1 é uma lista\n",
    "print(lst3[1])\n",
    "#alterando posição\n",
    "lst3[0] = 4\n",
    "print(lst)"
   ]
  },
  {
   "cell_type": "code",
   "execution_count": null,
   "id": "05ce8dc4",
   "metadata": {},
   "outputs": [],
   "source": [
    "#percorrendo lista\n",
    "for n in range(0, len(lst4)):\n",
    "    print(lst4[n]+1)"
   ]
  },
  {
   "cell_type": "markdown",
   "id": "1516b59b",
   "metadata": {},
   "source": [
    "# Dicionários"
   ]
  },
  {
   "cell_type": "markdown",
   "id": "f89528f1",
   "metadata": {},
   "source": [
    "- Conjunto de chave / valor associado\n",
    "- Declarado por chave '{}' e separado por dois pontos ':'\n",
    "- Pode repedir dados"
   ]
  },
  {
   "cell_type": "code",
   "execution_count": 6,
   "id": "a6c6b6f4",
   "metadata": {
    "scrolled": true
   },
   "outputs": [
    {
     "name": "stdout",
     "output_type": "stream",
     "text": [
      "6.0\n"
     ]
    },
    {
     "data": {
      "text/plain": [
       "dict_values([6.0, 8.0, 6.5])"
      ]
     },
     "execution_count": 6,
     "metadata": {},
     "output_type": "execute_result"
    }
   ],
   "source": [
    "Notas = {'João': 6.0, 'Maria': 8.0, 'Pedro': 6.5} #definindo notas\n",
    "print (Notas['João']) #retorna o valor associado à chave João\n",
    "Notas.keys() #retorna todas as chaves\n",
    "Notas.values() #retorna todos os valores\n",
    "\n"
   ]
  },
  {
   "cell_type": "code",
   "execution_count": 7,
   "id": "a83898ae",
   "metadata": {
    "scrolled": true
   },
   "outputs": [
    {
     "name": "stdout",
     "output_type": "stream",
     "text": [
      "True\n",
      "False\n"
     ]
    }
   ],
   "source": [
    "print ('João' in Notas) #retorna valor lógico que diz True os False para esse print\n",
    "print ('Débora' in Notas)"
   ]
  },
  {
   "cell_type": "code",
   "execution_count": 8,
   "id": "dd10d3fe",
   "metadata": {},
   "outputs": [
    {
     "name": "stdout",
     "output_type": "stream",
     "text": [
      "{'Maria': 8.0, 'Pedro': 6.5}\n"
     ]
    }
   ],
   "source": [
    "#Deleta um elemento do dicionários\n",
    "del Notas['João']\n",
    "print (Notas)"
   ]
  },
  {
   "cell_type": "code",
   "execution_count": 9,
   "id": "85df8c3f",
   "metadata": {},
   "outputs": [
    {
     "name": "stdout",
     "output_type": "stream",
     "text": [
      "{'Maria': 8.0, 'Pedro': 6.5, 'Ana': 9}\n"
     ]
    }
   ],
   "source": [
    "#Adiciona um elemento ao dicinário\n",
    "Notas['Ana'] = 9\n",
    "print(Notas)"
   ]
  },
  {
   "cell_type": "code",
   "execution_count": 18,
   "id": "be69ed15",
   "metadata": {},
   "outputs": [
    {
     "data": {
      "text/plain": [
       "'Não encontrado!'"
      ]
     },
     "execution_count": 18,
     "metadata": {},
     "output_type": "execute_result"
    }
   ],
   "source": [
    "#Encontra um elemento e seu valor associado no dicionário\n",
    "Notas.get('Ana','Não Encontrado!')\n",
    "Notas.get('Deb','Não encontrado!')"
   ]
  },
  {
   "cell_type": "markdown",
   "id": "a3f35cf3",
   "metadata": {},
   "source": [
    "# Sets"
   ]
  },
  {
   "cell_type": "markdown",
   "id": "4ff84c0a",
   "metadata": {},
   "source": [
    "- Conjunto **não ordenados** e **não repetidos** de elementos\n",
    "- Sintaxe é a chave '{}'"
   ]
  },
  {
   "cell_type": "code",
   "execution_count": 19,
   "id": "63dea3f9",
   "metadata": {},
   "outputs": [
    {
     "name": "stdout",
     "output_type": "stream",
     "text": [
      "{'Sqoop', 'Spark', 'Hive'}\n"
     ]
    }
   ],
   "source": [
    "#Criando um set\n",
    "bigdata = {'Spark', 'Hive','Sqoop'}\n",
    "print(bigdata)"
   ]
  },
  {
   "cell_type": "code",
   "execution_count": 20,
   "id": "77216d9d",
   "metadata": {},
   "outputs": [
    {
     "name": "stdout",
     "output_type": "stream",
     "text": [
      "True\n"
     ]
    }
   ],
   "source": [
    "#Verificando a existência de um elemento ao set\n",
    "print('Spark' in bigdata)"
   ]
  },
  {
   "cell_type": "code",
   "execution_count": 21,
   "id": "26b911e3",
   "metadata": {},
   "outputs": [
    {
     "data": {
      "text/plain": [
       "{'Hadoop', 'Hive', 'Spark', 'Sqoop'}"
      ]
     },
     "execution_count": 21,
     "metadata": {},
     "output_type": "execute_result"
    }
   ],
   "source": [
    "#Adicionando elemento ao Set\n",
    "bigdata.add('Hadoop')\n",
    "bigdata"
   ]
  },
  {
   "cell_type": "code",
   "execution_count": 22,
   "id": "ef51c2f5",
   "metadata": {
    "scrolled": true
   },
   "outputs": [
    {
     "name": "stdout",
     "output_type": "stream",
     "text": [
      "4\n"
     ]
    }
   ],
   "source": [
    "#Comprimento do set\n",
    "print(len(bigdata))"
   ]
  },
  {
   "cell_type": "markdown",
   "id": "52bdb2df",
   "metadata": {},
   "source": [
    "# Tuplas"
   ]
  },
  {
   "cell_type": "markdown",
   "id": "567c242e",
   "metadata": {},
   "source": [
    "- São listas que **não podem ser alteradas**.\n",
    "- Sintaxe são os parênteses '()'"
   ]
  },
  {
   "cell_type": "code",
   "execution_count": 23,
   "id": "3c2040c8",
   "metadata": {},
   "outputs": [
    {
     "data": {
      "text/plain": [
       "(1, 2, 3, 4, 5, 6, 7)"
      ]
     },
     "execution_count": 23,
     "metadata": {},
     "output_type": "execute_result"
    }
   ],
   "source": [
    "#Criando uma tupla\n",
    "tupla = (1,2,3,4,5,6,7)\n",
    "tupla"
   ]
  },
  {
   "cell_type": "code",
   "execution_count": 24,
   "id": "2007f28d",
   "metadata": {},
   "outputs": [
    {
     "data": {
      "text/plain": [
       "{(0, 1): 0, (1, 2): 1, (2, 3): 2, (3, 4): 3}"
      ]
     },
     "execution_count": 24,
     "metadata": {},
     "output_type": "execute_result"
    }
   ],
   "source": [
    "#Criando um dicionário em que cada posição recebe uma tupla\n",
    "dic2 = {(0,1):0,(1,2):1,(2,3):2,(3,4):3}\n",
    "dic2"
   ]
  },
  {
   "cell_type": "code",
   "execution_count": null,
   "id": "b3ffa267",
   "metadata": {},
   "outputs": [],
   "source": [
    "# print(type(Notas))\n",
    "print(type(bigdata))\n",
    "print(type(tupla))"
   ]
  },
  {
   "cell_type": "markdown",
   "id": "09dc7fc7",
   "metadata": {},
   "source": [
    "# Numpy"
   ]
  },
  {
   "cell_type": "markdown",
   "id": "2b00e37f",
   "metadata": {},
   "source": [
    "- Matriz multidimensional de **tamanho fixo** com o **mesmo tipo** de dados."
   ]
  },
  {
   "cell_type": "code",
   "execution_count": 1,
   "id": "4ebda8ee",
   "metadata": {
    "ExecuteTime": {
     "end_time": "2022-01-13T07:44:00.056402Z",
     "start_time": "2022-01-13T07:43:59.609597Z"
    }
   },
   "outputs": [
    {
     "name": "stdout",
     "output_type": "stream",
     "text": [
      "[12 34 22 43  2  1]\n",
      "int32\n",
      "<class 'numpy.ndarray'>\n"
     ]
    }
   ],
   "source": [
    "import numpy as np\n",
    "a = np.array([12,34,22,43,2,1])\n",
    "print(a)\n",
    "print(a.dtype) #verificando o tipo de matriz\n",
    "print(type(a))"
   ]
  },
  {
   "cell_type": "markdown",
   "id": "f25e9990",
   "metadata": {},
   "source": [
    "> **np.array**: indicação de criação de matriz <br>\n",
    "> **.dtype**: indicação para saber o tipo da matriz <br>\n",
    "> **type(nome da matriz)**: outra maneira de saber o tipo da matriz"
   ]
  },
  {
   "cell_type": "code",
   "execution_count": 2,
   "id": "074eaec3",
   "metadata": {
    "ExecuteTime": {
     "end_time": "2022-01-13T07:44:00.065378Z",
     "start_time": "2022-01-13T07:44:00.058397Z"
    }
   },
   "outputs": [
    {
     "name": "stdout",
     "output_type": "stream",
     "text": [
      "[1. 2. 3.]\n",
      "<class 'numpy.ndarray'>\n",
      "[1 2 3]\n",
      "<class 'numpy.ndarray'>\n"
     ]
    }
   ],
   "source": [
    "mtfloat = np.array([1,2,3], dtype = np.float64) #criando uma array do tipo float\n",
    "print(mtfloat)\n",
    "print(type(mtfloat))\n",
    "mtint = np.array([1,2,3], dtype = np.int32) #criando uma array do tipo inteiro\n",
    "print(mtint)\n",
    "print(type(mtint))"
   ]
  },
  {
   "cell_type": "markdown",
   "id": "740361bf",
   "metadata": {},
   "source": [
    "> **np.float64**: indicação de criação de matriz do tipo **float** <br>\n",
    "> **np.int32**: indicação de criação de matriz do tipo **inteiro**."
   ]
  },
  {
   "cell_type": "code",
   "execution_count": 3,
   "id": "87dfdda5",
   "metadata": {
    "ExecuteTime": {
     "end_time": "2022-01-13T07:44:00.074355Z",
     "start_time": "2022-01-13T07:44:00.066376Z"
    }
   },
   "outputs": [
    {
     "name": "stdout",
     "output_type": "stream",
     "text": [
      "[ 1.4       3.6      -5.1       9.42      4.999999]\n",
      "[ 1  3 -5  9  4]\n"
     ]
    }
   ],
   "source": [
    "#mudando o tipo de array\n",
    "mtnew = np.array([1.4, 3.6, -5.1, 9.42, 4.999999]) #criando uma array do tipo float\n",
    "print(mtnew)\n",
    "'''quanto tranformados de float para inteiros, os números são truncados. \n",
    "Ou seja, é eliminado todo número depois da vígula'''\n",
    "mtnewint = mtnew.astype(np.int32) #criando a array anterior dessa vez em números inteiros\n",
    "print(mtnewint)"
   ]
  },
  {
   "cell_type": "markdown",
   "id": "8ac8bf65",
   "metadata": {},
   "source": [
    "> nomedamatriz **.astype**: indicação de \"como tipo\". Transformação do tipo dos elementos de uma matriz"
   ]
  },
  {
   "cell_type": "code",
   "execution_count": 4,
   "id": "7d73c0fc",
   "metadata": {
    "ExecuteTime": {
     "end_time": "2022-01-13T07:44:00.084329Z",
     "start_time": "2022-01-13T07:44:00.077346Z"
    }
   },
   "outputs": [
    {
     "name": "stdout",
     "output_type": "stream",
     "text": [
      "[1 2 3 4]\n",
      "[1. 2. 3. 4.]\n"
     ]
    }
   ],
   "source": [
    "#Fazendo o inverso do código anterior\n",
    "mt5 = np.array([1, 2, 3, 4]) #criando array de números inteiros\n",
    "print(mt5)\n",
    "mt6 = mt5.astype(float) #transformando array anterior em float\n",
    "print(mt6)"
   ]
  },
  {
   "cell_type": "code",
   "execution_count": 5,
   "id": "609805e1",
   "metadata": {
    "ExecuteTime": {
     "end_time": "2022-01-13T07:44:00.094301Z",
     "start_time": "2022-01-13T07:44:00.086323Z"
    }
   },
   "outputs": [
    {
     "name": "stdout",
     "output_type": "stream",
     "text": [
      "[[ 7  2 23]\n",
      " [12 27  4]\n",
      " [ 5 34 23]]\n"
     ]
    }
   ],
   "source": [
    "#criando Matriz bidimensional\n",
    "mt7 = np.array([[7,2,23],[12,27,4],[5,34,23]])\n",
    "print(mt7)"
   ]
  },
  {
   "cell_type": "code",
   "execution_count": 6,
   "id": "ec6e1115",
   "metadata": {
    "ExecuteTime": {
     "end_time": "2022-01-13T07:44:00.104274Z",
     "start_time": "2022-01-13T07:44:00.095297Z"
    }
   },
   "outputs": [
    {
     "name": "stdout",
     "output_type": "stream",
     "text": [
      "[[         0 1072693248]\n",
      " [         0 1073741824]\n",
      " [         0 1074266112]]\n",
      "---------\n",
      "[[0. 0. 0.]\n",
      " [0. 0. 0.]\n",
      " [0. 0. 0.]\n",
      " [0. 0. 0.]]\n",
      "---------\n",
      "[[1. 1. 1. 1. 1. 1. 1.]\n",
      " [1. 1. 1. 1. 1. 1. 1.]\n",
      " [1. 1. 1. 1. 1. 1. 1.]\n",
      " [1. 1. 1. 1. 1. 1. 1.]\n",
      " [1. 1. 1. 1. 1. 1. 1.]]\n",
      "---------\n",
      "[[1. 0. 0. 0. 0.]\n",
      " [0. 1. 0. 0. 0.]\n",
      " [0. 0. 1. 0. 0.]\n",
      " [0. 0. 0. 1. 0.]\n",
      " [0. 0. 0. 0. 1.]]\n"
     ]
    }
   ],
   "source": [
    "#arrays vazios TIPIFICADOS\n",
    "vazio = np.empty([3,2], dtype = int) #empty aqui significa que não serão inicializadas.Não que são vazias\n",
    "print(vazio)\n",
    "print('---------')\n",
    "#criando matriz com valores zeros\n",
    "zeros = np.zeros([4,3])\n",
    "print(zeros)\n",
    "print('---------')\n",
    "#criando matrizes com valores um\n",
    "um = np.ones([5,7])\n",
    "print(um)\n",
    "print('---------')\n",
    "#criando matriz unitária (diagonais um e todos os outros valores zeros)\n",
    "diagonal = np.eye(5)\n",
    "print(diagonal)"
   ]
  },
  {
   "cell_type": "markdown",
   "id": "6077d700",
   "metadata": {},
   "source": [
    "> **np.zeros** : cria matriz com todos os seus valores como zero. Precisa inticar nos parêntese um parde números que representa a quantidade de linhas e colunas que deve ter a matriz. Ex. **np.zeros**([2,1]) indica que irá criar uma matriz de 2 linhas e 1 coluna com todos os seus valores em zero"
   ]
  },
  {
   "cell_type": "code",
   "execution_count": 7,
   "id": "9a6237ff",
   "metadata": {
    "ExecuteTime": {
     "end_time": "2022-01-13T07:44:00.117240Z",
     "start_time": "2022-01-13T07:44:00.106269Z"
    },
    "scrolled": true
   },
   "outputs": [
    {
     "name": "stdout",
     "output_type": "stream",
     "text": [
      "[0.03321301 0.4945437  0.35983216 0.66663421 0.21521596]\n",
      "--------\n",
      "[ 1.00293802 -0.6850717  -0.08331075  0.13010931  1.13245224]\n",
      "--------\n",
      "[[4.24500886 2.37085857 8.34341524 9.57699065]\n",
      " [3.96815162 1.69630684 1.83776052 6.54364209]\n",
      " [3.00775616 4.23515579 4.66164969 9.47445118]]\n"
     ]
    }
   ],
   "source": [
    "#criação de valores aleatórios entre ZERO e UM\n",
    "ale = np.random.random((5)) #cria 5 valores aletórios\n",
    "print(ale)\n",
    "print('--------')\n",
    "ale2 = np.random.randn((5)) #cria 5 valores em distribuição normal contendo negativos\n",
    "print(ale2)\n",
    "print('--------')\n",
    "ale3 = (10*np.random.random((3,4))) #cria matriz 3x4 de valores aleatórios que foram multiplicados por 10\n",
    "print(ale3)"
   ]
  },
  {
   "cell_type": "markdown",
   "id": "211999d4",
   "metadata": {},
   "source": [
    "> **np.random.random((x))**: cria \"x\" valores aleatórios _entre zero e um_ <br>\n",
    "**np.random.randn(y)**: cria \"y\" valores em DISTRIBUIÇÃO NORMAL contendo negativos"
   ]
  },
  {
   "cell_type": "code",
   "execution_count": 8,
   "id": "6fbd037f",
   "metadata": {
    "ExecuteTime": {
     "end_time": "2022-01-13T07:44:00.128210Z",
     "start_time": "2022-01-13T07:44:00.118236Z"
    }
   },
   "outputs": [
    {
     "name": "stdout",
     "output_type": "stream",
     "text": [
      "[0.51182162 0.9504637  0.14415961]\n",
      "[[8 9 2 3]\n",
      " [8 4 2 8]\n",
      " [2 4 6 5]]\n"
     ]
    }
   ],
   "source": [
    "#outra forma de criar números aleatórios\n",
    "gnr = np.random.default_rng(1) #uso de semente. se usar o 2 ao invés de um, os números gerados mudam.\n",
    "ale5 = gnr.random(3) #gera 3 números alatórios\n",
    "print (ale5)\n",
    "ale6 = gnr.integers(10, size=(3,4)) #gerar inteiros de zero à 10\n",
    "print(ale6)\n",
    "#o uso desse método permite que os números aleatórios gerados sejam OS MESMOS ainda q eu volte a rodar esse código\n",
    "#gnr é a semente. Então todo código que tem esse gnr na frente foi gerado através dessa semente\n",
    "#isso implica que o ale6 será um número gerado que podem ser inteiros até 10 e será uma matriz de 3 linhas e 4 col"
   ]
  },
  {
   "cell_type": "markdown",
   "id": "730b3a7c",
   "metadata": {},
   "source": [
    "> **np.random.default_rng(x)**: cria uma 'semente'. Um conjunto de dados aos quais preciso referenciar. <br>\n",
    "**gnr.random(y)**: gera y números aleatórios da semente <br>\n",
    "**gnr.integers((z), size=(j,g))**: gera uma matriz de números interiso de 0 a z, com j linhas e g colunas.\n",
    "    "
   ]
  },
  {
   "cell_type": "code",
   "execution_count": 9,
   "id": "d3560322",
   "metadata": {
    "ExecuteTime": {
     "end_time": "2022-01-13T07:44:00.138183Z",
     "start_time": "2022-01-13T07:44:00.129207Z"
    },
    "scrolled": true
   },
   "outputs": [
    {
     "name": "stdout",
     "output_type": "stream",
     "text": [
      "[11 12 13 14 15 16 17 18 19 20]\n"
     ]
    }
   ],
   "source": [
    "#remove repedições do vetor\n",
    "j = np.array([11, 12, 13, 14, 15, 16, 17, 12, 13, 11, 18, 19, 20])\n",
    "j = np.unique(j)\n",
    "print(j)"
   ]
  },
  {
   "cell_type": "markdown",
   "id": "3ab9ec67",
   "metadata": {},
   "source": [
    "> **np.unique**: remove valores repetidos da sequencia de números."
   ]
  },
  {
   "cell_type": "code",
   "execution_count": 10,
   "id": "6e3a0c17",
   "metadata": {
    "ExecuteTime": {
     "end_time": "2022-01-13T07:44:00.147159Z",
     "start_time": "2022-01-13T07:44:00.140178Z"
    },
    "scrolled": false
   },
   "outputs": [
    {
     "name": "stdout",
     "output_type": "stream",
     "text": [
      "[[17 22 43]\n",
      " [27 25 14]\n",
      " [15 24 32]]\n",
      "22\n",
      "(3, 3)\n"
     ]
    }
   ],
   "source": [
    "#criando matriz BIDIMENSIONAL k\n",
    "k = np.array([[17,22,43],[27,25,14],[15,24,32]]) #criando a matriz\n",
    "print(k)\n",
    "print(k[0][1]) #retorna o elemento da matriz da linha zero, e posição 1\n",
    "print(k.shape) #retorna o formato da matriz"
   ]
  },
  {
   "cell_type": "markdown",
   "id": "7af30885",
   "metadata": {},
   "source": [
    "> **print(k[i][j])**: retorna o elemento da matriz da posição de linha 'i' e coluna 'j' <br>\n",
    "**print(k.shape)**: retorna o formado da matriz"
   ]
  },
  {
   "cell_type": "code",
   "execution_count": 11,
   "id": "1d3da5dd",
   "metadata": {
    "ExecuteTime": {
     "end_time": "2022-01-13T07:44:00.160125Z",
     "start_time": "2022-01-13T07:44:00.149155Z"
    }
   },
   "outputs": [
    {
     "name": "stdout",
     "output_type": "stream",
     "text": [
      "43\n",
      "14\n",
      "219\n",
      "24.333333333333332\n",
      "8.615231988880057\n"
     ]
    }
   ],
   "source": [
    "#Funções matemáticas aplicadas à matriz do código anterior\n",
    "print(k.max()) #retorna o maior valor da matriz\n",
    "print(k.min()) #retorna o menor valor \n",
    "print(k.sum()) #retorna a soma dos valores da matriz\n",
    "print(k.mean()) #retorna o valor da média dos valores da matriz\n",
    "print(k.std()) #retorna o valor do desvio padrão (standart seviation) dos valores da matriz"
   ]
  },
  {
   "cell_type": "code",
   "execution_count": 12,
   "id": "dd0fb4dd",
   "metadata": {
    "ExecuteTime": {
     "end_time": "2022-01-13T07:44:00.169102Z",
     "start_time": "2022-01-13T07:44:00.162119Z"
    }
   },
   "outputs": [
    {
     "name": "stdout",
     "output_type": "stream",
     "text": [
      "[1. 2. 3. 4. 5. 6.]\n",
      "[2.71828183e+00 5.45981500e+01 8.10308393e+03 8.88611052e+06\n",
      " 7.20048993e+10 4.31123155e+15]\n"
     ]
    }
   ],
   "source": [
    "#funções universais aplicadas a TODOS os elementos\n",
    "k1 = np.array([1, 4, 9, 16, 25, 36]) #criando uma matriz\n",
    "print(np.sqrt(k1)) #retorna a raiz quadrada de todos os elementos da matriz\n",
    "print(np.exp(k1)) #retorna o valor exponencial de todos os elementos da matriz"
   ]
  },
  {
   "cell_type": "code",
   "execution_count": 13,
   "id": "04550828",
   "metadata": {
    "ExecuteTime": {
     "end_time": "2022-01-13T07:44:00.179073Z",
     "start_time": "2022-01-13T07:44:00.171095Z"
    }
   },
   "outputs": [
    {
     "name": "stdout",
     "output_type": "stream",
     "text": [
      "2\n",
      "--------\n",
      "[1 2]\n",
      "--------\n",
      "[2 3 4 5 6]\n",
      "--------\n",
      "[4 5 6]\n"
     ]
    }
   ],
   "source": [
    "#EXTRAÇÃO DE ELEMENTOS\n",
    "m = np.array([1, 2, 3, 4, 5, 6]) #criando uma matriz\n",
    "print(m[1]) #retorna o 2º elemento da matriz\n",
    "print('--------')\n",
    "print(m[0:2]) #retorna a partir do elemento na posição zero, até a 2º posição\n",
    "print('--------')\n",
    "print(m[1:]) #retorna do elemento que consta na posição 1, ate o final da matriz\n",
    "print('--------')\n",
    "print(m[-3:]) #retorna do antipenúltimo valor até o final da matriz"
   ]
  },
  {
   "cell_type": "code",
   "execution_count": 15,
   "id": "a92d43c9",
   "metadata": {
    "ExecuteTime": {
     "end_time": "2022-01-13T07:54:13.620450Z",
     "start_time": "2022-01-13T07:54:13.613466Z"
    },
    "scrolled": true
   },
   "outputs": [
    {
     "name": "stdout",
     "output_type": "stream",
     "text": [
      "[[4 5]\n",
      " [6 1]\n",
      " [7 4]]\n",
      "---------\n",
      "[4 5]\n",
      "---------\n",
      "[6 1]\n",
      "---------\n",
      "[7 4]\n",
      "---------\n",
      "[4 6 7]\n",
      "---------\n",
      "[5 1 4]\n"
     ]
    }
   ],
   "source": [
    "#Extração de linhas e colunas\n",
    "l = np.array([[4, 5], [6, 1], [7, 4]])\n",
    "print(l)\n",
    "print('---------')\n",
    "l_linha_1 = l[0, :] #retorna os elementos da primeira linha e todas as colunas\n",
    "print(l_linha_1)\n",
    "print('---------')\n",
    "l_linha_2 = l[1, :] #retorna os elementos da 2ºlinha e todas as colunas\n",
    "print(l_linha_2)\n",
    "print('---------')\n",
    "l_linha_3 = l[2, :] #retorna os elementos da 3ºlinha e todas as colunas\n",
    "print(l_linha_3)\n",
    "print('---------')\n",
    "l_coluna_1 = l[:, 0] #retorna todas as linhas, 1ºcoluna\n",
    "print(l_coluna_1)\n",
    "print('---------')\n",
    "l_coluna_2 = l[:, 1] #retorna todas as linhas, 2º coluna\n",
    "print(l_coluna_2)"
   ]
  },
  {
   "cell_type": "code",
   "execution_count": 16,
   "id": "3da6f23e",
   "metadata": {
    "ExecuteTime": {
     "end_time": "2022-01-13T08:00:06.428783Z",
     "start_time": "2022-01-13T08:00:06.421802Z"
    }
   },
   "outputs": [
    {
     "name": "stdout",
     "output_type": "stream",
     "text": [
      "[[2 3]\n",
      " [4 5]]\n",
      "--------\n",
      "[[1 2]\n",
      " [3 4]]\n",
      "---------\n",
      "[[3 3]\n",
      " [5 5]\n",
      " [7 7]]\n"
     ]
    }
   ],
   "source": [
    "#Adição e Multiplicação de matrizes\n",
    "n = np.array([[1, 2], [3, 4]])\n",
    "o = np.array([[1, 1], [1, 1]])\n",
    "res1 = n+o\n",
    "print(res1)\n",
    "print('--------')\n",
    "res2 = n*o\n",
    "print(res2)\n",
    "print('---------')\n",
    "p = np.array([[1, 2],[3, 4], [5, 6]])\n",
    "q = np.array([[2, 1]])\n",
    "print(p+q) #mesmo tendo dimensões diferentes, ela soma cada elemento da matriz p aos elementos da matriz q."
   ]
  },
  {
   "cell_type": "code",
   "execution_count": 17,
   "id": "fc49da52",
   "metadata": {
    "ExecuteTime": {
     "end_time": "2022-01-13T08:03:42.802728Z",
     "start_time": "2022-01-13T08:03:42.797741Z"
    }
   },
   "outputs": [
    {
     "name": "stdout",
     "output_type": "stream",
     "text": [
      "[[ 0  1  2  3  4]\n",
      " [ 5  6  7  8  9]\n",
      " [10 11 12 13 14]]\n",
      "---------\n",
      "[[ 0  5 10]\n",
      " [ 1  6 11]\n",
      " [ 2  7 12]\n",
      " [ 3  8 13]\n",
      " [ 4  9 14]]\n"
     ]
    }
   ],
   "source": [
    "#transposição de matrizes. As linhas tornam-se colunas\n",
    "f = np.arange(15).reshape((3, 5)) #cria uma matriz de 15 elementos com 3 linhas e 5 colunas\n",
    "print(f)\n",
    "print('---------')\n",
    "s = f.T #fórmula para transpor\n",
    "print(s)"
   ]
  },
  {
   "cell_type": "code",
   "execution_count": 18,
   "id": "42942622",
   "metadata": {
    "ExecuteTime": {
     "end_time": "2022-01-13T08:06:28.499027Z",
     "start_time": "2022-01-13T08:06:28.493043Z"
    }
   },
   "outputs": [
    {
     "name": "stdout",
     "output_type": "stream",
     "text": [
      "[[ 0  1  2  3  4]\n",
      " [ 5  6  7  8  9]\n",
      " [10 11 12 13 14]]\n",
      "---------\n",
      "[[ 0  5 10]\n",
      " [ 1  6 11]\n",
      " [ 2  7 12]\n",
      " [ 3  8 13]\n",
      " [ 4  9 14]]\n"
     ]
    }
   ],
   "source": [
    "#transposição de matrizes. Outra forma\n",
    "r = np.arange(15).reshape(3, 5)\n",
    "print(r)\n",
    "print('---------')\n",
    "s = r.transpose((1, 0)) #usa a ferramente transpose\n",
    "print(s)"
   ]
  },
  {
   "cell_type": "code",
   "execution_count": 19,
   "id": "51a5864a",
   "metadata": {
    "ExecuteTime": {
     "end_time": "2022-01-13T08:12:48.243770Z",
     "start_time": "2022-01-13T08:12:48.238783Z"
    }
   },
   "outputs": [
    {
     "name": "stdout",
     "output_type": "stream",
     "text": [
      "[[ 0.71615315 -0.6166679   0.23674764 -0.38803677]\n",
      " [ 0.22649352  1.80102855 -0.90688355  0.8250228 ]\n",
      " [-0.17489324  0.14927046 -1.26671308 -0.09091908]\n",
      " [ 1.33922034  1.40690799  0.6460581  -0.2498743 ]]\n",
      "[[ True False  True False]\n",
      " [ True  True False  True]\n",
      " [False  True False False]\n",
      " [ True  True  True False]]\n",
      "[[ 1 -1  1 -1]\n",
      " [ 1  1 -1  1]\n",
      " [-1  1 -1 -1]\n",
      " [ 1  1  1 -1]]\n"
     ]
    }
   ],
   "source": [
    "#expressões lógicas\n",
    "v = np.random.randn(4, 4) #retorna matriz com valores aleatórios positivos e negativos\n",
    "print(v)\n",
    "x = (v > 0)\n",
    "print(x) #retorna em True e False uma matriz. Indicando o teste lógico de cada elemento da matriz\n",
    "z = np.where(x > 0, 1, -1) #retorna uma matriz com valores de 1 para os elementos de x que sejam maior que zero \n",
    "# e -1 para valores da matriz que naõ sejam maior que zero\n",
    "print(z)\n"
   ]
  },
  {
   "cell_type": "markdown",
   "id": "8db8301c",
   "metadata": {},
   "source": [
    "# Pandas"
   ]
  },
  {
   "cell_type": "markdown",
   "id": "6cb01f40",
   "metadata": {},
   "source": [
    "- Também é uma biblioteca do python. \n",
    "- Permite que trate dados tabulares (**dados em forma de linhas e colunas**). Podendo ser de tipos diferentes dados em diferentes colunas. \n",
    "\n",
    "> Exemplo: Uma coluna do tipo data. Outra do tipo texto. Outra do tipo inteiros. etc\n",
    "\n",
    "- Possui 2 objetos principais: **Data Frame** e **Series**\n",
    "- **Data frame** : uma tabela de um banco de dados\n",
    "- **Series**: dados em série. Como se fosse uma coluna de DataFrame\n",
    "- O Pantas tem um metódo para tratamento de dados que é considerado mais fácil."
   ]
  },
  {
   "cell_type": "code",
   "execution_count": 2,
   "id": "0570ad57",
   "metadata": {
    "ExecuteTime": {
     "end_time": "2022-01-19T22:51:31.223229Z",
     "start_time": "2022-01-19T22:51:29.856146Z"
    }
   },
   "outputs": [],
   "source": [
    "import pandas as pd"
   ]
  },
  {
   "cell_type": "code",
   "execution_count": 13,
   "id": "aa24ea45",
   "metadata": {
    "ExecuteTime": {
     "end_time": "2022-01-18T01:33:38.518521Z",
     "start_time": "2022-01-18T01:33:38.513534Z"
    }
   },
   "outputs": [
    {
     "data": {
      "text/plain": [
       "'C:\\\\Users\\\\Pichau\\\\Downloads\\\\Chris\\\\Curso Cientista de Dados Udemy\\\\Estudos'"
      ]
     },
     "execution_count": 13,
     "metadata": {},
     "output_type": "execute_result"
    }
   ],
   "source": [
    "pwd #indica onde o jupyter notebook está buscando os arquivos"
   ]
  },
  {
   "cell_type": "code",
   "execution_count": 3,
   "id": "691f150d",
   "metadata": {
    "ExecuteTime": {
     "end_time": "2022-01-19T22:51:34.749265Z",
     "start_time": "2022-01-19T22:51:34.703403Z"
    }
   },
   "outputs": [
    {
     "data": {
      "text/plain": [
       "(1000, 21)"
      ]
     },
     "execution_count": 3,
     "metadata": {},
     "output_type": "execute_result"
    }
   ],
   "source": [
    "dados = pd.read_csv('Credit.csv') #carrega arquivos para dataframe pandas\n",
    "dados.shape #formato.1000 linas e 21 colunas. Sempre 1ºlinhas e 2ºcolunas"
   ]
  },
  {
   "cell_type": "code",
   "execution_count": 5,
   "id": "545bf159",
   "metadata": {
    "ExecuteTime": {
     "end_time": "2022-01-19T22:53:36.760088Z",
     "start_time": "2022-01-19T22:53:36.720225Z"
    },
    "scrolled": true
   },
   "outputs": [
    {
     "data": {
      "text/html": [
       "<div>\n",
       "<style scoped>\n",
       "    .dataframe tbody tr th:only-of-type {\n",
       "        vertical-align: middle;\n",
       "    }\n",
       "\n",
       "    .dataframe tbody tr th {\n",
       "        vertical-align: top;\n",
       "    }\n",
       "\n",
       "    .dataframe thead th {\n",
       "        text-align: right;\n",
       "    }\n",
       "</style>\n",
       "<table border=\"1\" class=\"dataframe\">\n",
       "  <thead>\n",
       "    <tr style=\"text-align: right;\">\n",
       "      <th></th>\n",
       "      <th>duration</th>\n",
       "      <th>credit_amount</th>\n",
       "      <th>installment_commitment</th>\n",
       "      <th>residence_since</th>\n",
       "      <th>age</th>\n",
       "      <th>existing_credits</th>\n",
       "      <th>num_dependents</th>\n",
       "    </tr>\n",
       "  </thead>\n",
       "  <tbody>\n",
       "    <tr>\n",
       "      <th>count</th>\n",
       "      <td>1000.000000</td>\n",
       "      <td>1000.000000</td>\n",
       "      <td>1000.000000</td>\n",
       "      <td>1000.000000</td>\n",
       "      <td>1000.000000</td>\n",
       "      <td>1000.000000</td>\n",
       "      <td>1000.000000</td>\n",
       "    </tr>\n",
       "    <tr>\n",
       "      <th>mean</th>\n",
       "      <td>20.903000</td>\n",
       "      <td>3271.258000</td>\n",
       "      <td>2.973000</td>\n",
       "      <td>2.845000</td>\n",
       "      <td>35.546000</td>\n",
       "      <td>1.407000</td>\n",
       "      <td>1.155000</td>\n",
       "    </tr>\n",
       "    <tr>\n",
       "      <th>std</th>\n",
       "      <td>12.058814</td>\n",
       "      <td>2822.736876</td>\n",
       "      <td>1.118715</td>\n",
       "      <td>1.103718</td>\n",
       "      <td>11.375469</td>\n",
       "      <td>0.577654</td>\n",
       "      <td>0.362086</td>\n",
       "    </tr>\n",
       "    <tr>\n",
       "      <th>min</th>\n",
       "      <td>4.000000</td>\n",
       "      <td>250.000000</td>\n",
       "      <td>1.000000</td>\n",
       "      <td>1.000000</td>\n",
       "      <td>19.000000</td>\n",
       "      <td>1.000000</td>\n",
       "      <td>1.000000</td>\n",
       "    </tr>\n",
       "    <tr>\n",
       "      <th>25%</th>\n",
       "      <td>12.000000</td>\n",
       "      <td>1365.500000</td>\n",
       "      <td>2.000000</td>\n",
       "      <td>2.000000</td>\n",
       "      <td>27.000000</td>\n",
       "      <td>1.000000</td>\n",
       "      <td>1.000000</td>\n",
       "    </tr>\n",
       "    <tr>\n",
       "      <th>50%</th>\n",
       "      <td>18.000000</td>\n",
       "      <td>2319.500000</td>\n",
       "      <td>3.000000</td>\n",
       "      <td>3.000000</td>\n",
       "      <td>33.000000</td>\n",
       "      <td>1.000000</td>\n",
       "      <td>1.000000</td>\n",
       "    </tr>\n",
       "    <tr>\n",
       "      <th>75%</th>\n",
       "      <td>24.000000</td>\n",
       "      <td>3972.250000</td>\n",
       "      <td>4.000000</td>\n",
       "      <td>4.000000</td>\n",
       "      <td>42.000000</td>\n",
       "      <td>2.000000</td>\n",
       "      <td>1.000000</td>\n",
       "    </tr>\n",
       "    <tr>\n",
       "      <th>max</th>\n",
       "      <td>72.000000</td>\n",
       "      <td>18424.000000</td>\n",
       "      <td>4.000000</td>\n",
       "      <td>4.000000</td>\n",
       "      <td>75.000000</td>\n",
       "      <td>4.000000</td>\n",
       "      <td>2.000000</td>\n",
       "    </tr>\n",
       "  </tbody>\n",
       "</table>\n",
       "</div>"
      ],
      "text/plain": [
       "          duration  credit_amount  installment_commitment  residence_since  \\\n",
       "count  1000.000000    1000.000000             1000.000000      1000.000000   \n",
       "mean     20.903000    3271.258000                2.973000         2.845000   \n",
       "std      12.058814    2822.736876                1.118715         1.103718   \n",
       "min       4.000000     250.000000                1.000000         1.000000   \n",
       "25%      12.000000    1365.500000                2.000000         2.000000   \n",
       "50%      18.000000    2319.500000                3.000000         3.000000   \n",
       "75%      24.000000    3972.250000                4.000000         4.000000   \n",
       "max      72.000000   18424.000000                4.000000         4.000000   \n",
       "\n",
       "               age  existing_credits  num_dependents  \n",
       "count  1000.000000       1000.000000     1000.000000  \n",
       "mean     35.546000          1.407000        1.155000  \n",
       "std      11.375469          0.577654        0.362086  \n",
       "min      19.000000          1.000000        1.000000  \n",
       "25%      27.000000          1.000000        1.000000  \n",
       "50%      33.000000          1.000000        1.000000  \n",
       "75%      42.000000          2.000000        1.000000  \n",
       "max      75.000000          4.000000        2.000000  "
      ]
     },
     "execution_count": 5,
     "metadata": {},
     "output_type": "execute_result"
    }
   ],
   "source": [
    "dados.describe() #resumo estatístico de colunas numéricas"
   ]
  },
  {
   "cell_type": "code",
   "execution_count": 6,
   "id": "ce674bc4",
   "metadata": {
    "ExecuteTime": {
     "end_time": "2022-01-19T22:53:39.601959Z",
     "start_time": "2022-01-19T22:53:39.575028Z"
    },
    "scrolled": true
   },
   "outputs": [
    {
     "data": {
      "text/html": [
       "<div>\n",
       "<style scoped>\n",
       "    .dataframe tbody tr th:only-of-type {\n",
       "        vertical-align: middle;\n",
       "    }\n",
       "\n",
       "    .dataframe tbody tr th {\n",
       "        vertical-align: top;\n",
       "    }\n",
       "\n",
       "    .dataframe thead th {\n",
       "        text-align: right;\n",
       "    }\n",
       "</style>\n",
       "<table border=\"1\" class=\"dataframe\">\n",
       "  <thead>\n",
       "    <tr style=\"text-align: right;\">\n",
       "      <th></th>\n",
       "      <th>checking_status</th>\n",
       "      <th>credit_history</th>\n",
       "      <th>purpose</th>\n",
       "      <th>savings_status</th>\n",
       "      <th>employment</th>\n",
       "      <th>personal_status</th>\n",
       "      <th>other_parties</th>\n",
       "      <th>property_magnitude</th>\n",
       "      <th>other_payment_plans</th>\n",
       "      <th>housing</th>\n",
       "      <th>job</th>\n",
       "      <th>own_telephone</th>\n",
       "      <th>foreign_worker</th>\n",
       "      <th>class</th>\n",
       "    </tr>\n",
       "  </thead>\n",
       "  <tbody>\n",
       "    <tr>\n",
       "      <th>count</th>\n",
       "      <td>1000</td>\n",
       "      <td>1000</td>\n",
       "      <td>1000</td>\n",
       "      <td>1000</td>\n",
       "      <td>1000</td>\n",
       "      <td>1000</td>\n",
       "      <td>1000</td>\n",
       "      <td>1000</td>\n",
       "      <td>1000</td>\n",
       "      <td>1000</td>\n",
       "      <td>1000</td>\n",
       "      <td>1000</td>\n",
       "      <td>1000</td>\n",
       "      <td>1000</td>\n",
       "    </tr>\n",
       "    <tr>\n",
       "      <th>unique</th>\n",
       "      <td>4</td>\n",
       "      <td>5</td>\n",
       "      <td>10</td>\n",
       "      <td>5</td>\n",
       "      <td>5</td>\n",
       "      <td>4</td>\n",
       "      <td>3</td>\n",
       "      <td>4</td>\n",
       "      <td>3</td>\n",
       "      <td>3</td>\n",
       "      <td>4</td>\n",
       "      <td>2</td>\n",
       "      <td>2</td>\n",
       "      <td>2</td>\n",
       "    </tr>\n",
       "    <tr>\n",
       "      <th>top</th>\n",
       "      <td>'no checking'</td>\n",
       "      <td>'existing paid'</td>\n",
       "      <td>radio/tv</td>\n",
       "      <td>&lt;100</td>\n",
       "      <td>1&lt;=X&lt;4</td>\n",
       "      <td>'male single'</td>\n",
       "      <td>none</td>\n",
       "      <td>car</td>\n",
       "      <td>none</td>\n",
       "      <td>own</td>\n",
       "      <td>skilled</td>\n",
       "      <td>none</td>\n",
       "      <td>yes</td>\n",
       "      <td>good</td>\n",
       "    </tr>\n",
       "    <tr>\n",
       "      <th>freq</th>\n",
       "      <td>394</td>\n",
       "      <td>530</td>\n",
       "      <td>280</td>\n",
       "      <td>603</td>\n",
       "      <td>339</td>\n",
       "      <td>548</td>\n",
       "      <td>907</td>\n",
       "      <td>332</td>\n",
       "      <td>814</td>\n",
       "      <td>713</td>\n",
       "      <td>630</td>\n",
       "      <td>596</td>\n",
       "      <td>963</td>\n",
       "      <td>700</td>\n",
       "    </tr>\n",
       "  </tbody>\n",
       "</table>\n",
       "</div>"
      ],
      "text/plain": [
       "       checking_status   credit_history   purpose savings_status employment  \\\n",
       "count             1000             1000      1000           1000       1000   \n",
       "unique               4                5        10              5          5   \n",
       "top      'no checking'  'existing paid'  radio/tv           <100     1<=X<4   \n",
       "freq               394              530       280            603        339   \n",
       "\n",
       "       personal_status other_parties property_magnitude other_payment_plans  \\\n",
       "count             1000          1000               1000                1000   \n",
       "unique               4             3                  4                   3   \n",
       "top      'male single'          none                car                none   \n",
       "freq               548           907                332                 814   \n",
       "\n",
       "       housing      job own_telephone foreign_worker class  \n",
       "count     1000     1000          1000           1000  1000  \n",
       "unique       3        4             2              2     2  \n",
       "top        own  skilled          none            yes  good  \n",
       "freq       713      630           596            963   700  "
      ]
     },
     "execution_count": 6,
     "metadata": {},
     "output_type": "execute_result"
    }
   ],
   "source": [
    "dados.describe(include='O') #resumo estatístico de colunas objeto"
   ]
  },
  {
   "cell_type": "code",
   "execution_count": 7,
   "id": "e94bbac3",
   "metadata": {
    "ExecuteTime": {
     "end_time": "2022-01-19T22:55:13.501579Z",
     "start_time": "2022-01-19T22:55:13.471974Z"
    }
   },
   "outputs": [
    {
     "name": "stdout",
     "output_type": "stream",
     "text": [
      "<class 'pandas.core.frame.DataFrame'>\n",
      "RangeIndex: 1000 entries, 0 to 999\n",
      "Data columns (total 21 columns):\n",
      " #   Column                  Non-Null Count  Dtype \n",
      "---  ------                  --------------  ----- \n",
      " 0   checking_status         1000 non-null   object\n",
      " 1   duration                1000 non-null   int64 \n",
      " 2   credit_history          1000 non-null   object\n",
      " 3   purpose                 1000 non-null   object\n",
      " 4   credit_amount           1000 non-null   int64 \n",
      " 5   savings_status          1000 non-null   object\n",
      " 6   employment              1000 non-null   object\n",
      " 7   installment_commitment  1000 non-null   int64 \n",
      " 8   personal_status         1000 non-null   object\n",
      " 9   other_parties           1000 non-null   object\n",
      " 10  residence_since         1000 non-null   int64 \n",
      " 11  property_magnitude      1000 non-null   object\n",
      " 12  age                     1000 non-null   int64 \n",
      " 13  other_payment_plans     1000 non-null   object\n",
      " 14  housing                 1000 non-null   object\n",
      " 15  existing_credits        1000 non-null   int64 \n",
      " 16  job                     1000 non-null   object\n",
      " 17  num_dependents          1000 non-null   int64 \n",
      " 18  own_telephone           1000 non-null   object\n",
      " 19  foreign_worker          1000 non-null   object\n",
      " 20  class                   1000 non-null   object\n",
      "dtypes: int64(7), object(14)\n",
      "memory usage: 164.2+ KB\n"
     ]
    }
   ],
   "source": [
    "dados.info() #resumo de informações dos dados"
   ]
  },
  {
   "cell_type": "code",
   "execution_count": 8,
   "id": "b2d219fb",
   "metadata": {
    "ExecuteTime": {
     "end_time": "2022-01-19T23:01:16.187371Z",
     "start_time": "2022-01-19T23:01:16.150470Z"
    }
   },
   "outputs": [
    {
     "data": {
      "text/html": [
       "<div>\n",
       "<style scoped>\n",
       "    .dataframe tbody tr th:only-of-type {\n",
       "        vertical-align: middle;\n",
       "    }\n",
       "\n",
       "    .dataframe tbody tr th {\n",
       "        vertical-align: top;\n",
       "    }\n",
       "\n",
       "    .dataframe thead th {\n",
       "        text-align: right;\n",
       "    }\n",
       "</style>\n",
       "<table border=\"1\" class=\"dataframe\">\n",
       "  <thead>\n",
       "    <tr style=\"text-align: right;\">\n",
       "      <th></th>\n",
       "      <th>checking_status</th>\n",
       "      <th>duration</th>\n",
       "      <th>credit_history</th>\n",
       "      <th>purpose</th>\n",
       "      <th>credit_amount</th>\n",
       "      <th>savings_status</th>\n",
       "      <th>employment</th>\n",
       "      <th>installment_commitment</th>\n",
       "      <th>personal_status</th>\n",
       "      <th>other_parties</th>\n",
       "      <th>...</th>\n",
       "      <th>property_magnitude</th>\n",
       "      <th>age</th>\n",
       "      <th>other_payment_plans</th>\n",
       "      <th>housing</th>\n",
       "      <th>existing_credits</th>\n",
       "      <th>job</th>\n",
       "      <th>num_dependents</th>\n",
       "      <th>own_telephone</th>\n",
       "      <th>foreign_worker</th>\n",
       "      <th>class</th>\n",
       "    </tr>\n",
       "  </thead>\n",
       "  <tbody>\n",
       "    <tr>\n",
       "      <th>0</th>\n",
       "      <td>&lt;0</td>\n",
       "      <td>6</td>\n",
       "      <td>'critical/other existing credit'</td>\n",
       "      <td>radio/tv</td>\n",
       "      <td>1169</td>\n",
       "      <td>'no known savings'</td>\n",
       "      <td>&gt;=7</td>\n",
       "      <td>4</td>\n",
       "      <td>'male single'</td>\n",
       "      <td>none</td>\n",
       "      <td>...</td>\n",
       "      <td>'real estate'</td>\n",
       "      <td>67</td>\n",
       "      <td>none</td>\n",
       "      <td>own</td>\n",
       "      <td>2</td>\n",
       "      <td>skilled</td>\n",
       "      <td>1</td>\n",
       "      <td>yes</td>\n",
       "      <td>yes</td>\n",
       "      <td>good</td>\n",
       "    </tr>\n",
       "    <tr>\n",
       "      <th>1</th>\n",
       "      <td>0&lt;=X&lt;200</td>\n",
       "      <td>48</td>\n",
       "      <td>'existing paid'</td>\n",
       "      <td>radio/tv</td>\n",
       "      <td>5951</td>\n",
       "      <td>&lt;100</td>\n",
       "      <td>1&lt;=X&lt;4</td>\n",
       "      <td>2</td>\n",
       "      <td>'female div/dep/mar'</td>\n",
       "      <td>none</td>\n",
       "      <td>...</td>\n",
       "      <td>'real estate'</td>\n",
       "      <td>22</td>\n",
       "      <td>none</td>\n",
       "      <td>own</td>\n",
       "      <td>1</td>\n",
       "      <td>skilled</td>\n",
       "      <td>1</td>\n",
       "      <td>none</td>\n",
       "      <td>yes</td>\n",
       "      <td>bad</td>\n",
       "    </tr>\n",
       "    <tr>\n",
       "      <th>2</th>\n",
       "      <td>'no checking'</td>\n",
       "      <td>12</td>\n",
       "      <td>'critical/other existing credit'</td>\n",
       "      <td>education</td>\n",
       "      <td>2096</td>\n",
       "      <td>&lt;100</td>\n",
       "      <td>4&lt;=X&lt;7</td>\n",
       "      <td>2</td>\n",
       "      <td>'male single'</td>\n",
       "      <td>none</td>\n",
       "      <td>...</td>\n",
       "      <td>'real estate'</td>\n",
       "      <td>49</td>\n",
       "      <td>none</td>\n",
       "      <td>own</td>\n",
       "      <td>1</td>\n",
       "      <td>'unskilled resident'</td>\n",
       "      <td>2</td>\n",
       "      <td>none</td>\n",
       "      <td>yes</td>\n",
       "      <td>good</td>\n",
       "    </tr>\n",
       "    <tr>\n",
       "      <th>3</th>\n",
       "      <td>&lt;0</td>\n",
       "      <td>42</td>\n",
       "      <td>'existing paid'</td>\n",
       "      <td>furniture/equipment</td>\n",
       "      <td>7882</td>\n",
       "      <td>&lt;100</td>\n",
       "      <td>4&lt;=X&lt;7</td>\n",
       "      <td>2</td>\n",
       "      <td>'male single'</td>\n",
       "      <td>guarantor</td>\n",
       "      <td>...</td>\n",
       "      <td>'life insurance'</td>\n",
       "      <td>45</td>\n",
       "      <td>none</td>\n",
       "      <td>'for free'</td>\n",
       "      <td>1</td>\n",
       "      <td>skilled</td>\n",
       "      <td>2</td>\n",
       "      <td>none</td>\n",
       "      <td>yes</td>\n",
       "      <td>good</td>\n",
       "    </tr>\n",
       "    <tr>\n",
       "      <th>4</th>\n",
       "      <td>&lt;0</td>\n",
       "      <td>24</td>\n",
       "      <td>'delayed previously'</td>\n",
       "      <td>'new car'</td>\n",
       "      <td>4870</td>\n",
       "      <td>&lt;100</td>\n",
       "      <td>1&lt;=X&lt;4</td>\n",
       "      <td>3</td>\n",
       "      <td>'male single'</td>\n",
       "      <td>none</td>\n",
       "      <td>...</td>\n",
       "      <td>'no known property'</td>\n",
       "      <td>53</td>\n",
       "      <td>none</td>\n",
       "      <td>'for free'</td>\n",
       "      <td>2</td>\n",
       "      <td>skilled</td>\n",
       "      <td>2</td>\n",
       "      <td>none</td>\n",
       "      <td>yes</td>\n",
       "      <td>bad</td>\n",
       "    </tr>\n",
       "    <tr>\n",
       "      <th>...</th>\n",
       "      <td>...</td>\n",
       "      <td>...</td>\n",
       "      <td>...</td>\n",
       "      <td>...</td>\n",
       "      <td>...</td>\n",
       "      <td>...</td>\n",
       "      <td>...</td>\n",
       "      <td>...</td>\n",
       "      <td>...</td>\n",
       "      <td>...</td>\n",
       "      <td>...</td>\n",
       "      <td>...</td>\n",
       "      <td>...</td>\n",
       "      <td>...</td>\n",
       "      <td>...</td>\n",
       "      <td>...</td>\n",
       "      <td>...</td>\n",
       "      <td>...</td>\n",
       "      <td>...</td>\n",
       "      <td>...</td>\n",
       "      <td>...</td>\n",
       "    </tr>\n",
       "    <tr>\n",
       "      <th>995</th>\n",
       "      <td>'no checking'</td>\n",
       "      <td>12</td>\n",
       "      <td>'existing paid'</td>\n",
       "      <td>furniture/equipment</td>\n",
       "      <td>1736</td>\n",
       "      <td>&lt;100</td>\n",
       "      <td>4&lt;=X&lt;7</td>\n",
       "      <td>3</td>\n",
       "      <td>'female div/dep/mar'</td>\n",
       "      <td>none</td>\n",
       "      <td>...</td>\n",
       "      <td>'real estate'</td>\n",
       "      <td>31</td>\n",
       "      <td>none</td>\n",
       "      <td>own</td>\n",
       "      <td>1</td>\n",
       "      <td>'unskilled resident'</td>\n",
       "      <td>1</td>\n",
       "      <td>none</td>\n",
       "      <td>yes</td>\n",
       "      <td>good</td>\n",
       "    </tr>\n",
       "    <tr>\n",
       "      <th>996</th>\n",
       "      <td>&lt;0</td>\n",
       "      <td>30</td>\n",
       "      <td>'existing paid'</td>\n",
       "      <td>'used car'</td>\n",
       "      <td>3857</td>\n",
       "      <td>&lt;100</td>\n",
       "      <td>1&lt;=X&lt;4</td>\n",
       "      <td>4</td>\n",
       "      <td>'male div/sep'</td>\n",
       "      <td>none</td>\n",
       "      <td>...</td>\n",
       "      <td>'life insurance'</td>\n",
       "      <td>40</td>\n",
       "      <td>none</td>\n",
       "      <td>own</td>\n",
       "      <td>1</td>\n",
       "      <td>'high qualif/self emp/mgmt'</td>\n",
       "      <td>1</td>\n",
       "      <td>yes</td>\n",
       "      <td>yes</td>\n",
       "      <td>good</td>\n",
       "    </tr>\n",
       "    <tr>\n",
       "      <th>997</th>\n",
       "      <td>'no checking'</td>\n",
       "      <td>12</td>\n",
       "      <td>'existing paid'</td>\n",
       "      <td>radio/tv</td>\n",
       "      <td>804</td>\n",
       "      <td>&lt;100</td>\n",
       "      <td>&gt;=7</td>\n",
       "      <td>4</td>\n",
       "      <td>'male single'</td>\n",
       "      <td>none</td>\n",
       "      <td>...</td>\n",
       "      <td>car</td>\n",
       "      <td>38</td>\n",
       "      <td>none</td>\n",
       "      <td>own</td>\n",
       "      <td>1</td>\n",
       "      <td>skilled</td>\n",
       "      <td>1</td>\n",
       "      <td>none</td>\n",
       "      <td>yes</td>\n",
       "      <td>good</td>\n",
       "    </tr>\n",
       "    <tr>\n",
       "      <th>998</th>\n",
       "      <td>&lt;0</td>\n",
       "      <td>45</td>\n",
       "      <td>'existing paid'</td>\n",
       "      <td>radio/tv</td>\n",
       "      <td>1845</td>\n",
       "      <td>&lt;100</td>\n",
       "      <td>1&lt;=X&lt;4</td>\n",
       "      <td>4</td>\n",
       "      <td>'male single'</td>\n",
       "      <td>none</td>\n",
       "      <td>...</td>\n",
       "      <td>'no known property'</td>\n",
       "      <td>23</td>\n",
       "      <td>none</td>\n",
       "      <td>'for free'</td>\n",
       "      <td>1</td>\n",
       "      <td>skilled</td>\n",
       "      <td>1</td>\n",
       "      <td>yes</td>\n",
       "      <td>yes</td>\n",
       "      <td>bad</td>\n",
       "    </tr>\n",
       "    <tr>\n",
       "      <th>999</th>\n",
       "      <td>0&lt;=X&lt;200</td>\n",
       "      <td>45</td>\n",
       "      <td>'critical/other existing credit'</td>\n",
       "      <td>'used car'</td>\n",
       "      <td>4576</td>\n",
       "      <td>100&lt;=X&lt;500</td>\n",
       "      <td>unemployed</td>\n",
       "      <td>3</td>\n",
       "      <td>'male single'</td>\n",
       "      <td>none</td>\n",
       "      <td>...</td>\n",
       "      <td>car</td>\n",
       "      <td>27</td>\n",
       "      <td>none</td>\n",
       "      <td>own</td>\n",
       "      <td>1</td>\n",
       "      <td>skilled</td>\n",
       "      <td>1</td>\n",
       "      <td>none</td>\n",
       "      <td>yes</td>\n",
       "      <td>good</td>\n",
       "    </tr>\n",
       "  </tbody>\n",
       "</table>\n",
       "<p>1000 rows × 21 columns</p>\n",
       "</div>"
      ],
      "text/plain": [
       "    checking_status  duration                    credit_history  \\\n",
       "0                <0         6  'critical/other existing credit'   \n",
       "1          0<=X<200        48                   'existing paid'   \n",
       "2     'no checking'        12  'critical/other existing credit'   \n",
       "3                <0        42                   'existing paid'   \n",
       "4                <0        24              'delayed previously'   \n",
       "..              ...       ...                               ...   \n",
       "995   'no checking'        12                   'existing paid'   \n",
       "996              <0        30                   'existing paid'   \n",
       "997   'no checking'        12                   'existing paid'   \n",
       "998              <0        45                   'existing paid'   \n",
       "999        0<=X<200        45  'critical/other existing credit'   \n",
       "\n",
       "                 purpose  credit_amount      savings_status  employment  \\\n",
       "0               radio/tv           1169  'no known savings'         >=7   \n",
       "1               radio/tv           5951                <100      1<=X<4   \n",
       "2              education           2096                <100      4<=X<7   \n",
       "3    furniture/equipment           7882                <100      4<=X<7   \n",
       "4              'new car'           4870                <100      1<=X<4   \n",
       "..                   ...            ...                 ...         ...   \n",
       "995  furniture/equipment           1736                <100      4<=X<7   \n",
       "996           'used car'           3857                <100      1<=X<4   \n",
       "997             radio/tv            804                <100         >=7   \n",
       "998             radio/tv           1845                <100      1<=X<4   \n",
       "999           'used car'           4576          100<=X<500  unemployed   \n",
       "\n",
       "     installment_commitment       personal_status other_parties  ...  \\\n",
       "0                         4         'male single'          none  ...   \n",
       "1                         2  'female div/dep/mar'          none  ...   \n",
       "2                         2         'male single'          none  ...   \n",
       "3                         2         'male single'     guarantor  ...   \n",
       "4                         3         'male single'          none  ...   \n",
       "..                      ...                   ...           ...  ...   \n",
       "995                       3  'female div/dep/mar'          none  ...   \n",
       "996                       4        'male div/sep'          none  ...   \n",
       "997                       4         'male single'          none  ...   \n",
       "998                       4         'male single'          none  ...   \n",
       "999                       3         'male single'          none  ...   \n",
       "\n",
       "      property_magnitude age  other_payment_plans     housing  \\\n",
       "0          'real estate'  67                 none         own   \n",
       "1          'real estate'  22                 none         own   \n",
       "2          'real estate'  49                 none         own   \n",
       "3       'life insurance'  45                 none  'for free'   \n",
       "4    'no known property'  53                 none  'for free'   \n",
       "..                   ...  ..                  ...         ...   \n",
       "995        'real estate'  31                 none         own   \n",
       "996     'life insurance'  40                 none         own   \n",
       "997                  car  38                 none         own   \n",
       "998  'no known property'  23                 none  'for free'   \n",
       "999                  car  27                 none         own   \n",
       "\n",
       "    existing_credits                          job num_dependents  \\\n",
       "0                  2                      skilled              1   \n",
       "1                  1                      skilled              1   \n",
       "2                  1         'unskilled resident'              2   \n",
       "3                  1                      skilled              2   \n",
       "4                  2                      skilled              2   \n",
       "..               ...                          ...            ...   \n",
       "995                1         'unskilled resident'              1   \n",
       "996                1  'high qualif/self emp/mgmt'              1   \n",
       "997                1                      skilled              1   \n",
       "998                1                      skilled              1   \n",
       "999                1                      skilled              1   \n",
       "\n",
       "     own_telephone foreign_worker class  \n",
       "0              yes            yes  good  \n",
       "1             none            yes   bad  \n",
       "2             none            yes  good  \n",
       "3             none            yes  good  \n",
       "4             none            yes   bad  \n",
       "..             ...            ...   ...  \n",
       "995           none            yes  good  \n",
       "996            yes            yes  good  \n",
       "997           none            yes  good  \n",
       "998            yes            yes   bad  \n",
       "999           none            yes  good  \n",
       "\n",
       "[1000 rows x 21 columns]"
      ]
     },
     "execution_count": 8,
     "metadata": {},
     "output_type": "execute_result"
    }
   ],
   "source": [
    "dados #os dados totais"
   ]
  },
  {
   "cell_type": "code",
   "execution_count": 13,
   "id": "55846b59",
   "metadata": {
    "ExecuteTime": {
     "end_time": "2022-01-19T23:13:19.939925Z",
     "start_time": "2022-01-19T23:13:19.815268Z"
    }
   },
   "outputs": [
    {
     "data": {
      "text/plain": [
       "<AxesSubplot:>"
      ]
     },
     "execution_count": 13,
     "metadata": {},
     "output_type": "execute_result"
    },
    {
     "data": {
      "image/png": "[encoded data removed]",
      "text/plain": [
       "<Figure size 720x360 with 1 Axes>"
      ]
     },
     "metadata": {
      "needs_background": "light"
     },
     "output_type": "display_data"
    }
   ],
   "source": [
    "dados.duration.plot(figsize=[10,5]) #plotando uma coluna do dado. A coluna 'duration'."
   ]
  },
  {
   "cell_type": "code",
   "execution_count": 25,
   "id": "00240191",
   "metadata": {
    "ExecuteTime": {
     "end_time": "2022-01-19T23:19:22.813056Z",
     "start_time": "2022-01-19T23:19:22.719176Z"
    }
   },
   "outputs": [
    {
     "data": {
      "text/plain": [
       "<AxesSubplot:>"
      ]
     },
     "execution_count": 25,
     "metadata": {},
     "output_type": "execute_result"
    },
    {
     "data": {
      "image/png": "[encoded data removed]",
      "text/plain": [
       "<Figure size 432x288 with 1 Axes>"
      ]
     },
     "metadata": {
      "needs_background": "light"
     },
     "output_type": "display_data"
    }
   ],
   "source": [
    "dados.personal_status.value_counts().plot(kind=\"barh\") #plotando uma coluna do dado. A coluna 'personal_status'."
   ]
  },
  {
   "cell_type": "code",
   "execution_count": 15,
   "id": "1889a988",
   "metadata": {
    "ExecuteTime": {
     "end_time": "2022-01-19T23:14:42.496212Z",
     "start_time": "2022-01-19T23:14:41.149505Z"
    }
   },
   "outputs": [],
   "source": [
    "import seaborn as sns #importando seaborn. Que possibilita visualização de dados em tabelas de maneira mais fluida"
   ]
  },
  {
   "cell_type": "code",
   "execution_count": 16,
   "id": "0af9bddb",
   "metadata": {
    "ExecuteTime": {
     "end_time": "2022-01-19T23:15:26.360054Z",
     "start_time": "2022-01-19T23:15:26.238380Z"
    },
    "scrolled": true
   },
   "outputs": [
    {
     "name": "stderr",
     "output_type": "stream",
     "text": [
      "C:\\Users\\Christyna Dias\\anaconda3\\lib\\site-packages\\seaborn\\_decorators.py:36: FutureWarning: Pass the following variable as a keyword arg: x. From version 0.12, the only valid positional argument will be `data`, and passing other arguments without an explicit keyword will result in an error or misinterpretation.\n",
      "  warnings.warn(\n"
     ]
    },
    {
     "data": {
      "text/plain": [
       "<AxesSubplot:xlabel='purpose', ylabel='count'>"
      ]
     },
     "execution_count": 16,
     "metadata": {},
     "output_type": "execute_result"
    },
    {
     "data": {
      "image/png": "[encoded data removed]",
      "text/plain": [
       "<Figure size 432x288 with 1 Axes>"
      ]
     },
     "metadata": {
      "needs_background": "light"
     },
     "output_type": "display_data"
    }
   ],
   "source": [
    "sns.countplot(dados.purpose)"
   ]
  },
  {
   "cell_type": "code",
   "execution_count": 26,
   "id": "ad963a49",
   "metadata": {
    "ExecuteTime": {
     "end_time": "2022-01-20T00:42:25.899009Z",
     "start_time": "2022-01-20T00:42:25.842158Z"
    }
   },
   "outputs": [
    {
     "data": {
      "text/html": [
       "<div>\n",
       "<style scoped>\n",
       "    .dataframe tbody tr th:only-of-type {\n",
       "        vertical-align: middle;\n",
       "    }\n",
       "\n",
       "    .dataframe tbody tr th {\n",
       "        vertical-align: top;\n",
       "    }\n",
       "\n",
       "    .dataframe thead th {\n",
       "        text-align: right;\n",
       "    }\n",
       "</style>\n",
       "<table border=\"1\" class=\"dataframe\">\n",
       "  <thead>\n",
       "    <tr style=\"text-align: right;\">\n",
       "      <th></th>\n",
       "      <th>checking_status</th>\n",
       "      <th>duration</th>\n",
       "      <th>credit_history</th>\n",
       "      <th>purpose</th>\n",
       "      <th>credit_amount</th>\n",
       "      <th>savings_status</th>\n",
       "      <th>employment</th>\n",
       "      <th>installment_commitment</th>\n",
       "      <th>personal_status</th>\n",
       "      <th>other_parties</th>\n",
       "      <th>...</th>\n",
       "      <th>property_magnitude</th>\n",
       "      <th>age</th>\n",
       "      <th>other_payment_plans</th>\n",
       "      <th>housing</th>\n",
       "      <th>existing_credits</th>\n",
       "      <th>job</th>\n",
       "      <th>num_dependents</th>\n",
       "      <th>own_telephone</th>\n",
       "      <th>foreign_worker</th>\n",
       "      <th>class</th>\n",
       "    </tr>\n",
       "  </thead>\n",
       "  <tbody>\n",
       "    <tr>\n",
       "      <th>0</th>\n",
       "      <td>&lt;0</td>\n",
       "      <td>6</td>\n",
       "      <td>'critical/other existing credit'</td>\n",
       "      <td>radio/tv</td>\n",
       "      <td>1169</td>\n",
       "      <td>'no known savings'</td>\n",
       "      <td>&gt;=7</td>\n",
       "      <td>4</td>\n",
       "      <td>'male single'</td>\n",
       "      <td>none</td>\n",
       "      <td>...</td>\n",
       "      <td>'real estate'</td>\n",
       "      <td>67</td>\n",
       "      <td>none</td>\n",
       "      <td>own</td>\n",
       "      <td>2</td>\n",
       "      <td>skilled</td>\n",
       "      <td>1</td>\n",
       "      <td>yes</td>\n",
       "      <td>yes</td>\n",
       "      <td>good</td>\n",
       "    </tr>\n",
       "    <tr>\n",
       "      <th>1</th>\n",
       "      <td>0&lt;=X&lt;200</td>\n",
       "      <td>48</td>\n",
       "      <td>'existing paid'</td>\n",
       "      <td>radio/tv</td>\n",
       "      <td>5951</td>\n",
       "      <td>&lt;100</td>\n",
       "      <td>1&lt;=X&lt;4</td>\n",
       "      <td>2</td>\n",
       "      <td>'female div/dep/mar'</td>\n",
       "      <td>none</td>\n",
       "      <td>...</td>\n",
       "      <td>'real estate'</td>\n",
       "      <td>22</td>\n",
       "      <td>none</td>\n",
       "      <td>own</td>\n",
       "      <td>1</td>\n",
       "      <td>skilled</td>\n",
       "      <td>1</td>\n",
       "      <td>none</td>\n",
       "      <td>yes</td>\n",
       "      <td>bad</td>\n",
       "    </tr>\n",
       "    <tr>\n",
       "      <th>2</th>\n",
       "      <td>'no checking'</td>\n",
       "      <td>12</td>\n",
       "      <td>'critical/other existing credit'</td>\n",
       "      <td>education</td>\n",
       "      <td>2096</td>\n",
       "      <td>&lt;100</td>\n",
       "      <td>4&lt;=X&lt;7</td>\n",
       "      <td>2</td>\n",
       "      <td>'male single'</td>\n",
       "      <td>none</td>\n",
       "      <td>...</td>\n",
       "      <td>'real estate'</td>\n",
       "      <td>49</td>\n",
       "      <td>none</td>\n",
       "      <td>own</td>\n",
       "      <td>1</td>\n",
       "      <td>'unskilled resident'</td>\n",
       "      <td>2</td>\n",
       "      <td>none</td>\n",
       "      <td>yes</td>\n",
       "      <td>good</td>\n",
       "    </tr>\n",
       "    <tr>\n",
       "      <th>3</th>\n",
       "      <td>&lt;0</td>\n",
       "      <td>42</td>\n",
       "      <td>'existing paid'</td>\n",
       "      <td>furniture/equipment</td>\n",
       "      <td>7882</td>\n",
       "      <td>&lt;100</td>\n",
       "      <td>4&lt;=X&lt;7</td>\n",
       "      <td>2</td>\n",
       "      <td>'male single'</td>\n",
       "      <td>guarantor</td>\n",
       "      <td>...</td>\n",
       "      <td>'life insurance'</td>\n",
       "      <td>45</td>\n",
       "      <td>none</td>\n",
       "      <td>'for free'</td>\n",
       "      <td>1</td>\n",
       "      <td>skilled</td>\n",
       "      <td>2</td>\n",
       "      <td>none</td>\n",
       "      <td>yes</td>\n",
       "      <td>good</td>\n",
       "    </tr>\n",
       "    <tr>\n",
       "      <th>4</th>\n",
       "      <td>&lt;0</td>\n",
       "      <td>24</td>\n",
       "      <td>'delayed previously'</td>\n",
       "      <td>'new car'</td>\n",
       "      <td>4870</td>\n",
       "      <td>&lt;100</td>\n",
       "      <td>1&lt;=X&lt;4</td>\n",
       "      <td>3</td>\n",
       "      <td>'male single'</td>\n",
       "      <td>none</td>\n",
       "      <td>...</td>\n",
       "      <td>'no known property'</td>\n",
       "      <td>53</td>\n",
       "      <td>none</td>\n",
       "      <td>'for free'</td>\n",
       "      <td>2</td>\n",
       "      <td>skilled</td>\n",
       "      <td>2</td>\n",
       "      <td>none</td>\n",
       "      <td>yes</td>\n",
       "      <td>bad</td>\n",
       "    </tr>\n",
       "  </tbody>\n",
       "</table>\n",
       "<p>5 rows × 21 columns</p>\n",
       "</div>"
      ],
      "text/plain": [
       "  checking_status  duration                    credit_history  \\\n",
       "0              <0         6  'critical/other existing credit'   \n",
       "1        0<=X<200        48                   'existing paid'   \n",
       "2   'no checking'        12  'critical/other existing credit'   \n",
       "3              <0        42                   'existing paid'   \n",
       "4              <0        24              'delayed previously'   \n",
       "\n",
       "               purpose  credit_amount      savings_status employment  \\\n",
       "0             radio/tv           1169  'no known savings'        >=7   \n",
       "1             radio/tv           5951                <100     1<=X<4   \n",
       "2            education           2096                <100     4<=X<7   \n",
       "3  furniture/equipment           7882                <100     4<=X<7   \n",
       "4            'new car'           4870                <100     1<=X<4   \n",
       "\n",
       "   installment_commitment       personal_status other_parties  ...  \\\n",
       "0                       4         'male single'          none  ...   \n",
       "1                       2  'female div/dep/mar'          none  ...   \n",
       "2                       2         'male single'          none  ...   \n",
       "3                       2         'male single'     guarantor  ...   \n",
       "4                       3         'male single'          none  ...   \n",
       "\n",
       "    property_magnitude age  other_payment_plans     housing existing_credits  \\\n",
       "0        'real estate'  67                 none         own                2   \n",
       "1        'real estate'  22                 none         own                1   \n",
       "2        'real estate'  49                 none         own                1   \n",
       "3     'life insurance'  45                 none  'for free'                1   \n",
       "4  'no known property'  53                 none  'for free'                2   \n",
       "\n",
       "                    job num_dependents  own_telephone foreign_worker class  \n",
       "0               skilled              1            yes            yes  good  \n",
       "1               skilled              1           none            yes   bad  \n",
       "2  'unskilled resident'              2           none            yes  good  \n",
       "3               skilled              2           none            yes  good  \n",
       "4               skilled              2           none            yes   bad  \n",
       "\n",
       "[5 rows x 21 columns]"
      ]
     },
     "execution_count": 26,
     "metadata": {},
     "output_type": "execute_result"
    }
   ],
   "source": [
    "dados.head() #mostra os primeiros 5 registros"
   ]
  },
  {
   "cell_type": "code",
   "execution_count": 27,
   "id": "4a6c8322",
   "metadata": {
    "ExecuteTime": {
     "end_time": "2022-01-20T01:50:22.264770Z",
     "start_time": "2022-01-20T01:50:22.236841Z"
    }
   },
   "outputs": [
    {
     "data": {
      "text/html": [
       "<div>\n",
       "<style scoped>\n",
       "    .dataframe tbody tr th:only-of-type {\n",
       "        vertical-align: middle;\n",
       "    }\n",
       "\n",
       "    .dataframe tbody tr th {\n",
       "        vertical-align: top;\n",
       "    }\n",
       "\n",
       "    .dataframe thead th {\n",
       "        text-align: right;\n",
       "    }\n",
       "</style>\n",
       "<table border=\"1\" class=\"dataframe\">\n",
       "  <thead>\n",
       "    <tr style=\"text-align: right;\">\n",
       "      <th></th>\n",
       "      <th>checking_status</th>\n",
       "      <th>duration</th>\n",
       "      <th>credit_history</th>\n",
       "      <th>purpose</th>\n",
       "      <th>credit_amount</th>\n",
       "      <th>savings_status</th>\n",
       "      <th>employment</th>\n",
       "      <th>installment_commitment</th>\n",
       "      <th>personal_status</th>\n",
       "      <th>other_parties</th>\n",
       "      <th>...</th>\n",
       "      <th>property_magnitude</th>\n",
       "      <th>age</th>\n",
       "      <th>other_payment_plans</th>\n",
       "      <th>housing</th>\n",
       "      <th>existing_credits</th>\n",
       "      <th>job</th>\n",
       "      <th>num_dependents</th>\n",
       "      <th>own_telephone</th>\n",
       "      <th>foreign_worker</th>\n",
       "      <th>class</th>\n",
       "    </tr>\n",
       "  </thead>\n",
       "  <tbody>\n",
       "    <tr>\n",
       "      <th>996</th>\n",
       "      <td>&lt;0</td>\n",
       "      <td>30</td>\n",
       "      <td>'existing paid'</td>\n",
       "      <td>'used car'</td>\n",
       "      <td>3857</td>\n",
       "      <td>&lt;100</td>\n",
       "      <td>1&lt;=X&lt;4</td>\n",
       "      <td>4</td>\n",
       "      <td>'male div/sep'</td>\n",
       "      <td>none</td>\n",
       "      <td>...</td>\n",
       "      <td>'life insurance'</td>\n",
       "      <td>40</td>\n",
       "      <td>none</td>\n",
       "      <td>own</td>\n",
       "      <td>1</td>\n",
       "      <td>'high qualif/self emp/mgmt'</td>\n",
       "      <td>1</td>\n",
       "      <td>yes</td>\n",
       "      <td>yes</td>\n",
       "      <td>good</td>\n",
       "    </tr>\n",
       "    <tr>\n",
       "      <th>997</th>\n",
       "      <td>'no checking'</td>\n",
       "      <td>12</td>\n",
       "      <td>'existing paid'</td>\n",
       "      <td>radio/tv</td>\n",
       "      <td>804</td>\n",
       "      <td>&lt;100</td>\n",
       "      <td>&gt;=7</td>\n",
       "      <td>4</td>\n",
       "      <td>'male single'</td>\n",
       "      <td>none</td>\n",
       "      <td>...</td>\n",
       "      <td>car</td>\n",
       "      <td>38</td>\n",
       "      <td>none</td>\n",
       "      <td>own</td>\n",
       "      <td>1</td>\n",
       "      <td>skilled</td>\n",
       "      <td>1</td>\n",
       "      <td>none</td>\n",
       "      <td>yes</td>\n",
       "      <td>good</td>\n",
       "    </tr>\n",
       "    <tr>\n",
       "      <th>998</th>\n",
       "      <td>&lt;0</td>\n",
       "      <td>45</td>\n",
       "      <td>'existing paid'</td>\n",
       "      <td>radio/tv</td>\n",
       "      <td>1845</td>\n",
       "      <td>&lt;100</td>\n",
       "      <td>1&lt;=X&lt;4</td>\n",
       "      <td>4</td>\n",
       "      <td>'male single'</td>\n",
       "      <td>none</td>\n",
       "      <td>...</td>\n",
       "      <td>'no known property'</td>\n",
       "      <td>23</td>\n",
       "      <td>none</td>\n",
       "      <td>'for free'</td>\n",
       "      <td>1</td>\n",
       "      <td>skilled</td>\n",
       "      <td>1</td>\n",
       "      <td>yes</td>\n",
       "      <td>yes</td>\n",
       "      <td>bad</td>\n",
       "    </tr>\n",
       "    <tr>\n",
       "      <th>999</th>\n",
       "      <td>0&lt;=X&lt;200</td>\n",
       "      <td>45</td>\n",
       "      <td>'critical/other existing credit'</td>\n",
       "      <td>'used car'</td>\n",
       "      <td>4576</td>\n",
       "      <td>100&lt;=X&lt;500</td>\n",
       "      <td>unemployed</td>\n",
       "      <td>3</td>\n",
       "      <td>'male single'</td>\n",
       "      <td>none</td>\n",
       "      <td>...</td>\n",
       "      <td>car</td>\n",
       "      <td>27</td>\n",
       "      <td>none</td>\n",
       "      <td>own</td>\n",
       "      <td>1</td>\n",
       "      <td>skilled</td>\n",
       "      <td>1</td>\n",
       "      <td>none</td>\n",
       "      <td>yes</td>\n",
       "      <td>good</td>\n",
       "    </tr>\n",
       "  </tbody>\n",
       "</table>\n",
       "<p>4 rows × 21 columns</p>\n",
       "</div>"
      ],
      "text/plain": [
       "    checking_status  duration                    credit_history     purpose  \\\n",
       "996              <0        30                   'existing paid'  'used car'   \n",
       "997   'no checking'        12                   'existing paid'    radio/tv   \n",
       "998              <0        45                   'existing paid'    radio/tv   \n",
       "999        0<=X<200        45  'critical/other existing credit'  'used car'   \n",
       "\n",
       "     credit_amount savings_status  employment  installment_commitment  \\\n",
       "996           3857           <100      1<=X<4                       4   \n",
       "997            804           <100         >=7                       4   \n",
       "998           1845           <100      1<=X<4                       4   \n",
       "999           4576     100<=X<500  unemployed                       3   \n",
       "\n",
       "    personal_status other_parties  ...   property_magnitude age  \\\n",
       "996  'male div/sep'          none  ...     'life insurance'  40   \n",
       "997   'male single'          none  ...                  car  38   \n",
       "998   'male single'          none  ...  'no known property'  23   \n",
       "999   'male single'          none  ...                  car  27   \n",
       "\n",
       "     other_payment_plans     housing existing_credits  \\\n",
       "996                 none         own                1   \n",
       "997                 none         own                1   \n",
       "998                 none  'for free'                1   \n",
       "999                 none         own                1   \n",
       "\n",
       "                             job num_dependents  own_telephone foreign_worker  \\\n",
       "996  'high qualif/self emp/mgmt'              1            yes            yes   \n",
       "997                      skilled              1           none            yes   \n",
       "998                      skilled              1            yes            yes   \n",
       "999                      skilled              1           none            yes   \n",
       "\n",
       "    class  \n",
       "996  good  \n",
       "997  good  \n",
       "998   bad  \n",
       "999  good  \n",
       "\n",
       "[4 rows x 21 columns]"
      ]
     },
     "execution_count": 27,
     "metadata": {},
     "output_type": "execute_result"
    }
   ],
   "source": [
    "dados.tail(4) #inserindo um número dentro do parêntese indico um parâmetro. Quero ver os ultimos 4 registros"
   ]
  },
  {
   "cell_type": "code",
   "execution_count": 30,
   "id": "db27b98a",
   "metadata": {
    "ExecuteTime": {
     "end_time": "2022-01-20T01:51:51.403760Z",
     "start_time": "2022-01-20T01:51:51.380822Z"
    }
   },
   "outputs": [
    {
     "data": {
      "text/html": [
       "<div>\n",
       "<style scoped>\n",
       "    .dataframe tbody tr th:only-of-type {\n",
       "        vertical-align: middle;\n",
       "    }\n",
       "\n",
       "    .dataframe tbody tr th {\n",
       "        vertical-align: top;\n",
       "    }\n",
       "\n",
       "    .dataframe thead th {\n",
       "        text-align: right;\n",
       "    }\n",
       "</style>\n",
       "<table border=\"1\" class=\"dataframe\">\n",
       "  <thead>\n",
       "    <tr style=\"text-align: right;\">\n",
       "      <th></th>\n",
       "      <th>duration</th>\n",
       "      <th>purpose</th>\n",
       "    </tr>\n",
       "  </thead>\n",
       "  <tbody>\n",
       "    <tr>\n",
       "      <th>0</th>\n",
       "      <td>6</td>\n",
       "      <td>radio/tv</td>\n",
       "    </tr>\n",
       "    <tr>\n",
       "      <th>1</th>\n",
       "      <td>48</td>\n",
       "      <td>radio/tv</td>\n",
       "    </tr>\n",
       "    <tr>\n",
       "      <th>2</th>\n",
       "      <td>12</td>\n",
       "      <td>education</td>\n",
       "    </tr>\n",
       "    <tr>\n",
       "      <th>3</th>\n",
       "      <td>42</td>\n",
       "      <td>furniture/equipment</td>\n",
       "    </tr>\n",
       "    <tr>\n",
       "      <th>4</th>\n",
       "      <td>24</td>\n",
       "      <td>'new car'</td>\n",
       "    </tr>\n",
       "    <tr>\n",
       "      <th>...</th>\n",
       "      <td>...</td>\n",
       "      <td>...</td>\n",
       "    </tr>\n",
       "    <tr>\n",
       "      <th>995</th>\n",
       "      <td>12</td>\n",
       "      <td>furniture/equipment</td>\n",
       "    </tr>\n",
       "    <tr>\n",
       "      <th>996</th>\n",
       "      <td>30</td>\n",
       "      <td>'used car'</td>\n",
       "    </tr>\n",
       "    <tr>\n",
       "      <th>997</th>\n",
       "      <td>12</td>\n",
       "      <td>radio/tv</td>\n",
       "    </tr>\n",
       "    <tr>\n",
       "      <th>998</th>\n",
       "      <td>45</td>\n",
       "      <td>radio/tv</td>\n",
       "    </tr>\n",
       "    <tr>\n",
       "      <th>999</th>\n",
       "      <td>45</td>\n",
       "      <td>'used car'</td>\n",
       "    </tr>\n",
       "  </tbody>\n",
       "</table>\n",
       "<p>1000 rows × 2 columns</p>\n",
       "</div>"
      ],
      "text/plain": [
       "     duration              purpose\n",
       "0           6             radio/tv\n",
       "1          48             radio/tv\n",
       "2          12            education\n",
       "3          42  furniture/equipment\n",
       "4          24            'new car'\n",
       "..        ...                  ...\n",
       "995        12  furniture/equipment\n",
       "996        30           'used car'\n",
       "997        12             radio/tv\n",
       "998        45             radio/tv\n",
       "999        45           'used car'\n",
       "\n",
       "[1000 rows x 2 columns]"
      ]
     },
     "execution_count": 30,
     "metadata": {},
     "output_type": "execute_result"
    }
   ],
   "source": [
    "dados[['duration','purpose']] #quando quero ver apenas uma coluna. Mostra apenas a coluna dentro do colchete"
   ]
  },
  {
   "cell_type": "code",
   "execution_count": 31,
   "id": "5a2a8f66",
   "metadata": {
    "ExecuteTime": {
     "end_time": "2022-01-20T01:53:27.340558Z",
     "start_time": "2022-01-20T01:53:27.308616Z"
    }
   },
   "outputs": [
    {
     "data": {
      "text/html": [
       "<div>\n",
       "<style scoped>\n",
       "    .dataframe tbody tr th:only-of-type {\n",
       "        vertical-align: middle;\n",
       "    }\n",
       "\n",
       "    .dataframe tbody tr th {\n",
       "        vertical-align: top;\n",
       "    }\n",
       "\n",
       "    .dataframe thead th {\n",
       "        text-align: right;\n",
       "    }\n",
       "</style>\n",
       "<table border=\"1\" class=\"dataframe\">\n",
       "  <thead>\n",
       "    <tr style=\"text-align: right;\">\n",
       "      <th></th>\n",
       "      <th>checking_status</th>\n",
       "      <th>duration</th>\n",
       "      <th>credit_history</th>\n",
       "      <th>purpose</th>\n",
       "      <th>credit_amount</th>\n",
       "      <th>savings_status</th>\n",
       "      <th>employment</th>\n",
       "      <th>installment_commitment</th>\n",
       "      <th>personal_status</th>\n",
       "      <th>other_parties</th>\n",
       "      <th>...</th>\n",
       "      <th>property_magnitude</th>\n",
       "      <th>age</th>\n",
       "      <th>other_payment_plans</th>\n",
       "      <th>housing</th>\n",
       "      <th>existing_credits</th>\n",
       "      <th>job</th>\n",
       "      <th>num_dependents</th>\n",
       "      <th>own_telephone</th>\n",
       "      <th>foreign_worker</th>\n",
       "      <th>class</th>\n",
       "    </tr>\n",
       "  </thead>\n",
       "  <tbody>\n",
       "    <tr>\n",
       "      <th>1</th>\n",
       "      <td>0&lt;=X&lt;200</td>\n",
       "      <td>48</td>\n",
       "      <td>'existing paid'</td>\n",
       "      <td>radio/tv</td>\n",
       "      <td>5951</td>\n",
       "      <td>&lt;100</td>\n",
       "      <td>1&lt;=X&lt;4</td>\n",
       "      <td>2</td>\n",
       "      <td>'female div/dep/mar'</td>\n",
       "      <td>none</td>\n",
       "      <td>...</td>\n",
       "      <td>'real estate'</td>\n",
       "      <td>22</td>\n",
       "      <td>none</td>\n",
       "      <td>own</td>\n",
       "      <td>1</td>\n",
       "      <td>skilled</td>\n",
       "      <td>1</td>\n",
       "      <td>none</td>\n",
       "      <td>yes</td>\n",
       "      <td>bad</td>\n",
       "    </tr>\n",
       "    <tr>\n",
       "      <th>2</th>\n",
       "      <td>'no checking'</td>\n",
       "      <td>12</td>\n",
       "      <td>'critical/other existing credit'</td>\n",
       "      <td>education</td>\n",
       "      <td>2096</td>\n",
       "      <td>&lt;100</td>\n",
       "      <td>4&lt;=X&lt;7</td>\n",
       "      <td>2</td>\n",
       "      <td>'male single'</td>\n",
       "      <td>none</td>\n",
       "      <td>...</td>\n",
       "      <td>'real estate'</td>\n",
       "      <td>49</td>\n",
       "      <td>none</td>\n",
       "      <td>own</td>\n",
       "      <td>1</td>\n",
       "      <td>'unskilled resident'</td>\n",
       "      <td>2</td>\n",
       "      <td>none</td>\n",
       "      <td>yes</td>\n",
       "      <td>good</td>\n",
       "    </tr>\n",
       "    <tr>\n",
       "      <th>3</th>\n",
       "      <td>&lt;0</td>\n",
       "      <td>42</td>\n",
       "      <td>'existing paid'</td>\n",
       "      <td>furniture/equipment</td>\n",
       "      <td>7882</td>\n",
       "      <td>&lt;100</td>\n",
       "      <td>4&lt;=X&lt;7</td>\n",
       "      <td>2</td>\n",
       "      <td>'male single'</td>\n",
       "      <td>guarantor</td>\n",
       "      <td>...</td>\n",
       "      <td>'life insurance'</td>\n",
       "      <td>45</td>\n",
       "      <td>none</td>\n",
       "      <td>'for free'</td>\n",
       "      <td>1</td>\n",
       "      <td>skilled</td>\n",
       "      <td>2</td>\n",
       "      <td>none</td>\n",
       "      <td>yes</td>\n",
       "      <td>good</td>\n",
       "    </tr>\n",
       "  </tbody>\n",
       "</table>\n",
       "<p>3 rows × 21 columns</p>\n",
       "</div>"
      ],
      "text/plain": [
       "  checking_status  duration                    credit_history  \\\n",
       "1        0<=X<200        48                   'existing paid'   \n",
       "2   'no checking'        12  'critical/other existing credit'   \n",
       "3              <0        42                   'existing paid'   \n",
       "\n",
       "               purpose  credit_amount savings_status employment  \\\n",
       "1             radio/tv           5951           <100     1<=X<4   \n",
       "2            education           2096           <100     4<=X<7   \n",
       "3  furniture/equipment           7882           <100     4<=X<7   \n",
       "\n",
       "   installment_commitment       personal_status other_parties  ...  \\\n",
       "1                       2  'female div/dep/mar'          none  ...   \n",
       "2                       2         'male single'          none  ...   \n",
       "3                       2         'male single'     guarantor  ...   \n",
       "\n",
       "   property_magnitude age  other_payment_plans     housing existing_credits  \\\n",
       "1       'real estate'  22                 none         own                1   \n",
       "2       'real estate'  49                 none         own                1   \n",
       "3    'life insurance'  45                 none  'for free'                1   \n",
       "\n",
       "                    job num_dependents  own_telephone foreign_worker class  \n",
       "1               skilled              1           none            yes   bad  \n",
       "2  'unskilled resident'              2           none            yes  good  \n",
       "3               skilled              2           none            yes  good  \n",
       "\n",
       "[3 rows x 21 columns]"
      ]
     },
     "execution_count": 31,
     "metadata": {},
     "output_type": "execute_result"
    }
   ],
   "source": [
    "dados.loc[1:3] #mostra todas as colunas entre 1 e 3 (ou linhas?) \n",
    "#método loc filtra dados"
   ]
  },
  {
   "cell_type": "code",
   "execution_count": 33,
   "id": "3c04e78f",
   "metadata": {
    "ExecuteTime": {
     "end_time": "2022-01-20T01:54:02.441612Z",
     "start_time": "2022-01-20T01:54:02.412688Z"
    }
   },
   "outputs": [
    {
     "data": {
      "text/html": [
       "<div>\n",
       "<style scoped>\n",
       "    .dataframe tbody tr th:only-of-type {\n",
       "        vertical-align: middle;\n",
       "    }\n",
       "\n",
       "    .dataframe tbody tr th {\n",
       "        vertical-align: top;\n",
       "    }\n",
       "\n",
       "    .dataframe thead th {\n",
       "        text-align: right;\n",
       "    }\n",
       "</style>\n",
       "<table border=\"1\" class=\"dataframe\">\n",
       "  <thead>\n",
       "    <tr style=\"text-align: right;\">\n",
       "      <th></th>\n",
       "      <th>checking_status</th>\n",
       "      <th>duration</th>\n",
       "      <th>credit_history</th>\n",
       "      <th>purpose</th>\n",
       "      <th>credit_amount</th>\n",
       "      <th>savings_status</th>\n",
       "      <th>employment</th>\n",
       "      <th>installment_commitment</th>\n",
       "      <th>personal_status</th>\n",
       "      <th>other_parties</th>\n",
       "      <th>...</th>\n",
       "      <th>property_magnitude</th>\n",
       "      <th>age</th>\n",
       "      <th>other_payment_plans</th>\n",
       "      <th>housing</th>\n",
       "      <th>existing_credits</th>\n",
       "      <th>job</th>\n",
       "      <th>num_dependents</th>\n",
       "      <th>own_telephone</th>\n",
       "      <th>foreign_worker</th>\n",
       "      <th>class</th>\n",
       "    </tr>\n",
       "  </thead>\n",
       "  <tbody>\n",
       "    <tr>\n",
       "      <th>1</th>\n",
       "      <td>0&lt;=X&lt;200</td>\n",
       "      <td>48</td>\n",
       "      <td>'existing paid'</td>\n",
       "      <td>radio/tv</td>\n",
       "      <td>5951</td>\n",
       "      <td>&lt;100</td>\n",
       "      <td>1&lt;=X&lt;4</td>\n",
       "      <td>2</td>\n",
       "      <td>'female div/dep/mar'</td>\n",
       "      <td>none</td>\n",
       "      <td>...</td>\n",
       "      <td>'real estate'</td>\n",
       "      <td>22</td>\n",
       "      <td>none</td>\n",
       "      <td>own</td>\n",
       "      <td>1</td>\n",
       "      <td>skilled</td>\n",
       "      <td>1</td>\n",
       "      <td>none</td>\n",
       "      <td>yes</td>\n",
       "      <td>bad</td>\n",
       "    </tr>\n",
       "    <tr>\n",
       "      <th>3</th>\n",
       "      <td>&lt;0</td>\n",
       "      <td>42</td>\n",
       "      <td>'existing paid'</td>\n",
       "      <td>furniture/equipment</td>\n",
       "      <td>7882</td>\n",
       "      <td>&lt;100</td>\n",
       "      <td>4&lt;=X&lt;7</td>\n",
       "      <td>2</td>\n",
       "      <td>'male single'</td>\n",
       "      <td>guarantor</td>\n",
       "      <td>...</td>\n",
       "      <td>'life insurance'</td>\n",
       "      <td>45</td>\n",
       "      <td>none</td>\n",
       "      <td>'for free'</td>\n",
       "      <td>1</td>\n",
       "      <td>skilled</td>\n",
       "      <td>2</td>\n",
       "      <td>none</td>\n",
       "      <td>yes</td>\n",
       "      <td>good</td>\n",
       "    </tr>\n",
       "  </tbody>\n",
       "</table>\n",
       "<p>2 rows × 21 columns</p>\n",
       "</div>"
      ],
      "text/plain": [
       "  checking_status  duration   credit_history              purpose  \\\n",
       "1        0<=X<200        48  'existing paid'             radio/tv   \n",
       "3              <0        42  'existing paid'  furniture/equipment   \n",
       "\n",
       "   credit_amount savings_status employment  installment_commitment  \\\n",
       "1           5951           <100     1<=X<4                       2   \n",
       "3           7882           <100     4<=X<7                       2   \n",
       "\n",
       "        personal_status other_parties  ...  property_magnitude age  \\\n",
       "1  'female div/dep/mar'          none  ...       'real estate'  22   \n",
       "3         'male single'     guarantor  ...    'life insurance'  45   \n",
       "\n",
       "   other_payment_plans     housing existing_credits      job num_dependents  \\\n",
       "1                 none         own                1  skilled              1   \n",
       "3                 none  'for free'                1  skilled              2   \n",
       "\n",
       "   own_telephone foreign_worker class  \n",
       "1           none            yes   bad  \n",
       "3           none            yes  good  \n",
       "\n",
       "[2 rows x 21 columns]"
      ]
     },
     "execution_count": 33,
     "metadata": {},
     "output_type": "execute_result"
    }
   ],
   "source": [
    "dados.loc[[1,3]] #mostra as linhas 1 E 3"
   ]
  },
  {
   "cell_type": "code",
   "execution_count": 35,
   "id": "8e4d435c",
   "metadata": {
    "ExecuteTime": {
     "end_time": "2022-01-20T01:57:04.894396Z",
     "start_time": "2022-01-20T01:57:04.851540Z"
    }
   },
   "outputs": [
    {
     "data": {
      "text/html": [
       "<div>\n",
       "<style scoped>\n",
       "    .dataframe tbody tr th:only-of-type {\n",
       "        vertical-align: middle;\n",
       "    }\n",
       "\n",
       "    .dataframe tbody tr th {\n",
       "        vertical-align: top;\n",
       "    }\n",
       "\n",
       "    .dataframe thead th {\n",
       "        text-align: right;\n",
       "    }\n",
       "</style>\n",
       "<table border=\"1\" class=\"dataframe\">\n",
       "  <thead>\n",
       "    <tr style=\"text-align: right;\">\n",
       "      <th></th>\n",
       "      <th>checking_status</th>\n",
       "      <th>duration</th>\n",
       "      <th>credit_history</th>\n",
       "      <th>purpose</th>\n",
       "      <th>credit_amount</th>\n",
       "      <th>savings_status</th>\n",
       "      <th>employment</th>\n",
       "      <th>installment_commitment</th>\n",
       "      <th>personal_status</th>\n",
       "      <th>other_parties</th>\n",
       "      <th>...</th>\n",
       "      <th>property_magnitude</th>\n",
       "      <th>age</th>\n",
       "      <th>other_payment_plans</th>\n",
       "      <th>housing</th>\n",
       "      <th>existing_credits</th>\n",
       "      <th>job</th>\n",
       "      <th>num_dependents</th>\n",
       "      <th>own_telephone</th>\n",
       "      <th>foreign_worker</th>\n",
       "      <th>class</th>\n",
       "    </tr>\n",
       "  </thead>\n",
       "  <tbody>\n",
       "    <tr>\n",
       "      <th>0</th>\n",
       "      <td>&lt;0</td>\n",
       "      <td>6</td>\n",
       "      <td>'critical/other existing credit'</td>\n",
       "      <td>radio/tv</td>\n",
       "      <td>1169</td>\n",
       "      <td>'no known savings'</td>\n",
       "      <td>&gt;=7</td>\n",
       "      <td>4</td>\n",
       "      <td>'male single'</td>\n",
       "      <td>none</td>\n",
       "      <td>...</td>\n",
       "      <td>'real estate'</td>\n",
       "      <td>67</td>\n",
       "      <td>none</td>\n",
       "      <td>own</td>\n",
       "      <td>2</td>\n",
       "      <td>skilled</td>\n",
       "      <td>1</td>\n",
       "      <td>yes</td>\n",
       "      <td>yes</td>\n",
       "      <td>good</td>\n",
       "    </tr>\n",
       "    <tr>\n",
       "      <th>1</th>\n",
       "      <td>0&lt;=X&lt;200</td>\n",
       "      <td>48</td>\n",
       "      <td>'existing paid'</td>\n",
       "      <td>radio/tv</td>\n",
       "      <td>5951</td>\n",
       "      <td>&lt;100</td>\n",
       "      <td>1&lt;=X&lt;4</td>\n",
       "      <td>2</td>\n",
       "      <td>'female div/dep/mar'</td>\n",
       "      <td>none</td>\n",
       "      <td>...</td>\n",
       "      <td>'real estate'</td>\n",
       "      <td>22</td>\n",
       "      <td>none</td>\n",
       "      <td>own</td>\n",
       "      <td>1</td>\n",
       "      <td>skilled</td>\n",
       "      <td>1</td>\n",
       "      <td>none</td>\n",
       "      <td>yes</td>\n",
       "      <td>bad</td>\n",
       "    </tr>\n",
       "    <tr>\n",
       "      <th>8</th>\n",
       "      <td>'no checking'</td>\n",
       "      <td>12</td>\n",
       "      <td>'existing paid'</td>\n",
       "      <td>radio/tv</td>\n",
       "      <td>3059</td>\n",
       "      <td>&gt;=1000</td>\n",
       "      <td>4&lt;=X&lt;7</td>\n",
       "      <td>2</td>\n",
       "      <td>'male div/sep'</td>\n",
       "      <td>none</td>\n",
       "      <td>...</td>\n",
       "      <td>'real estate'</td>\n",
       "      <td>61</td>\n",
       "      <td>none</td>\n",
       "      <td>own</td>\n",
       "      <td>1</td>\n",
       "      <td>'unskilled resident'</td>\n",
       "      <td>1</td>\n",
       "      <td>none</td>\n",
       "      <td>yes</td>\n",
       "      <td>good</td>\n",
       "    </tr>\n",
       "    <tr>\n",
       "      <th>12</th>\n",
       "      <td>0&lt;=X&lt;200</td>\n",
       "      <td>12</td>\n",
       "      <td>'existing paid'</td>\n",
       "      <td>radio/tv</td>\n",
       "      <td>1567</td>\n",
       "      <td>&lt;100</td>\n",
       "      <td>1&lt;=X&lt;4</td>\n",
       "      <td>1</td>\n",
       "      <td>'female div/dep/mar'</td>\n",
       "      <td>none</td>\n",
       "      <td>...</td>\n",
       "      <td>car</td>\n",
       "      <td>22</td>\n",
       "      <td>none</td>\n",
       "      <td>own</td>\n",
       "      <td>1</td>\n",
       "      <td>skilled</td>\n",
       "      <td>1</td>\n",
       "      <td>yes</td>\n",
       "      <td>yes</td>\n",
       "      <td>good</td>\n",
       "    </tr>\n",
       "    <tr>\n",
       "      <th>15</th>\n",
       "      <td>&lt;0</td>\n",
       "      <td>24</td>\n",
       "      <td>'existing paid'</td>\n",
       "      <td>radio/tv</td>\n",
       "      <td>1282</td>\n",
       "      <td>100&lt;=X&lt;500</td>\n",
       "      <td>1&lt;=X&lt;4</td>\n",
       "      <td>4</td>\n",
       "      <td>'female div/dep/mar'</td>\n",
       "      <td>none</td>\n",
       "      <td>...</td>\n",
       "      <td>car</td>\n",
       "      <td>32</td>\n",
       "      <td>none</td>\n",
       "      <td>own</td>\n",
       "      <td>1</td>\n",
       "      <td>'unskilled resident'</td>\n",
       "      <td>1</td>\n",
       "      <td>none</td>\n",
       "      <td>yes</td>\n",
       "      <td>bad</td>\n",
       "    </tr>\n",
       "    <tr>\n",
       "      <th>...</th>\n",
       "      <td>...</td>\n",
       "      <td>...</td>\n",
       "      <td>...</td>\n",
       "      <td>...</td>\n",
       "      <td>...</td>\n",
       "      <td>...</td>\n",
       "      <td>...</td>\n",
       "      <td>...</td>\n",
       "      <td>...</td>\n",
       "      <td>...</td>\n",
       "      <td>...</td>\n",
       "      <td>...</td>\n",
       "      <td>...</td>\n",
       "      <td>...</td>\n",
       "      <td>...</td>\n",
       "      <td>...</td>\n",
       "      <td>...</td>\n",
       "      <td>...</td>\n",
       "      <td>...</td>\n",
       "      <td>...</td>\n",
       "      <td>...</td>\n",
       "    </tr>\n",
       "    <tr>\n",
       "      <th>989</th>\n",
       "      <td>0&lt;=X&lt;200</td>\n",
       "      <td>24</td>\n",
       "      <td>'critical/other existing credit'</td>\n",
       "      <td>radio/tv</td>\n",
       "      <td>1743</td>\n",
       "      <td>&lt;100</td>\n",
       "      <td>&gt;=7</td>\n",
       "      <td>4</td>\n",
       "      <td>'male single'</td>\n",
       "      <td>none</td>\n",
       "      <td>...</td>\n",
       "      <td>'life insurance'</td>\n",
       "      <td>48</td>\n",
       "      <td>none</td>\n",
       "      <td>own</td>\n",
       "      <td>2</td>\n",
       "      <td>'unskilled resident'</td>\n",
       "      <td>1</td>\n",
       "      <td>none</td>\n",
       "      <td>yes</td>\n",
       "      <td>good</td>\n",
       "    </tr>\n",
       "    <tr>\n",
       "      <th>991</th>\n",
       "      <td>'no checking'</td>\n",
       "      <td>15</td>\n",
       "      <td>'all paid'</td>\n",
       "      <td>radio/tv</td>\n",
       "      <td>1569</td>\n",
       "      <td>100&lt;=X&lt;500</td>\n",
       "      <td>&gt;=7</td>\n",
       "      <td>4</td>\n",
       "      <td>'male single'</td>\n",
       "      <td>none</td>\n",
       "      <td>...</td>\n",
       "      <td>car</td>\n",
       "      <td>34</td>\n",
       "      <td>bank</td>\n",
       "      <td>own</td>\n",
       "      <td>1</td>\n",
       "      <td>'unskilled resident'</td>\n",
       "      <td>2</td>\n",
       "      <td>none</td>\n",
       "      <td>yes</td>\n",
       "      <td>good</td>\n",
       "    </tr>\n",
       "    <tr>\n",
       "      <th>992</th>\n",
       "      <td>&lt;0</td>\n",
       "      <td>18</td>\n",
       "      <td>'existing paid'</td>\n",
       "      <td>radio/tv</td>\n",
       "      <td>1936</td>\n",
       "      <td>'no known savings'</td>\n",
       "      <td>4&lt;=X&lt;7</td>\n",
       "      <td>2</td>\n",
       "      <td>'male mar/wid'</td>\n",
       "      <td>none</td>\n",
       "      <td>...</td>\n",
       "      <td>car</td>\n",
       "      <td>23</td>\n",
       "      <td>none</td>\n",
       "      <td>rent</td>\n",
       "      <td>2</td>\n",
       "      <td>'unskilled resident'</td>\n",
       "      <td>1</td>\n",
       "      <td>none</td>\n",
       "      <td>yes</td>\n",
       "      <td>good</td>\n",
       "    </tr>\n",
       "    <tr>\n",
       "      <th>997</th>\n",
       "      <td>'no checking'</td>\n",
       "      <td>12</td>\n",
       "      <td>'existing paid'</td>\n",
       "      <td>radio/tv</td>\n",
       "      <td>804</td>\n",
       "      <td>&lt;100</td>\n",
       "      <td>&gt;=7</td>\n",
       "      <td>4</td>\n",
       "      <td>'male single'</td>\n",
       "      <td>none</td>\n",
       "      <td>...</td>\n",
       "      <td>car</td>\n",
       "      <td>38</td>\n",
       "      <td>none</td>\n",
       "      <td>own</td>\n",
       "      <td>1</td>\n",
       "      <td>skilled</td>\n",
       "      <td>1</td>\n",
       "      <td>none</td>\n",
       "      <td>yes</td>\n",
       "      <td>good</td>\n",
       "    </tr>\n",
       "    <tr>\n",
       "      <th>998</th>\n",
       "      <td>&lt;0</td>\n",
       "      <td>45</td>\n",
       "      <td>'existing paid'</td>\n",
       "      <td>radio/tv</td>\n",
       "      <td>1845</td>\n",
       "      <td>&lt;100</td>\n",
       "      <td>1&lt;=X&lt;4</td>\n",
       "      <td>4</td>\n",
       "      <td>'male single'</td>\n",
       "      <td>none</td>\n",
       "      <td>...</td>\n",
       "      <td>'no known property'</td>\n",
       "      <td>23</td>\n",
       "      <td>none</td>\n",
       "      <td>'for free'</td>\n",
       "      <td>1</td>\n",
       "      <td>skilled</td>\n",
       "      <td>1</td>\n",
       "      <td>yes</td>\n",
       "      <td>yes</td>\n",
       "      <td>bad</td>\n",
       "    </tr>\n",
       "  </tbody>\n",
       "</table>\n",
       "<p>280 rows × 21 columns</p>\n",
       "</div>"
      ],
      "text/plain": [
       "    checking_status  duration                    credit_history   purpose  \\\n",
       "0                <0         6  'critical/other existing credit'  radio/tv   \n",
       "1          0<=X<200        48                   'existing paid'  radio/tv   \n",
       "8     'no checking'        12                   'existing paid'  radio/tv   \n",
       "12         0<=X<200        12                   'existing paid'  radio/tv   \n",
       "15               <0        24                   'existing paid'  radio/tv   \n",
       "..              ...       ...                               ...       ...   \n",
       "989        0<=X<200        24  'critical/other existing credit'  radio/tv   \n",
       "991   'no checking'        15                        'all paid'  radio/tv   \n",
       "992              <0        18                   'existing paid'  radio/tv   \n",
       "997   'no checking'        12                   'existing paid'  radio/tv   \n",
       "998              <0        45                   'existing paid'  radio/tv   \n",
       "\n",
       "     credit_amount      savings_status employment  installment_commitment  \\\n",
       "0             1169  'no known savings'        >=7                       4   \n",
       "1             5951                <100     1<=X<4                       2   \n",
       "8             3059              >=1000     4<=X<7                       2   \n",
       "12            1567                <100     1<=X<4                       1   \n",
       "15            1282          100<=X<500     1<=X<4                       4   \n",
       "..             ...                 ...        ...                     ...   \n",
       "989           1743                <100        >=7                       4   \n",
       "991           1569          100<=X<500        >=7                       4   \n",
       "992           1936  'no known savings'     4<=X<7                       2   \n",
       "997            804                <100        >=7                       4   \n",
       "998           1845                <100     1<=X<4                       4   \n",
       "\n",
       "          personal_status other_parties  ...   property_magnitude age  \\\n",
       "0           'male single'          none  ...        'real estate'  67   \n",
       "1    'female div/dep/mar'          none  ...        'real estate'  22   \n",
       "8          'male div/sep'          none  ...        'real estate'  61   \n",
       "12   'female div/dep/mar'          none  ...                  car  22   \n",
       "15   'female div/dep/mar'          none  ...                  car  32   \n",
       "..                    ...           ...  ...                  ...  ..   \n",
       "989         'male single'          none  ...     'life insurance'  48   \n",
       "991         'male single'          none  ...                  car  34   \n",
       "992        'male mar/wid'          none  ...                  car  23   \n",
       "997         'male single'          none  ...                  car  38   \n",
       "998         'male single'          none  ...  'no known property'  23   \n",
       "\n",
       "     other_payment_plans     housing existing_credits                   job  \\\n",
       "0                   none         own                2               skilled   \n",
       "1                   none         own                1               skilled   \n",
       "8                   none         own                1  'unskilled resident'   \n",
       "12                  none         own                1               skilled   \n",
       "15                  none         own                1  'unskilled resident'   \n",
       "..                   ...         ...              ...                   ...   \n",
       "989                 none         own                2  'unskilled resident'   \n",
       "991                 bank         own                1  'unskilled resident'   \n",
       "992                 none        rent                2  'unskilled resident'   \n",
       "997                 none         own                1               skilled   \n",
       "998                 none  'for free'                1               skilled   \n",
       "\n",
       "    num_dependents  own_telephone foreign_worker class  \n",
       "0                1            yes            yes  good  \n",
       "1                1           none            yes   bad  \n",
       "8                1           none            yes  good  \n",
       "12               1            yes            yes  good  \n",
       "15               1           none            yes   bad  \n",
       "..             ...            ...            ...   ...  \n",
       "989              1           none            yes  good  \n",
       "991              2           none            yes  good  \n",
       "992              1           none            yes  good  \n",
       "997              1           none            yes  good  \n",
       "998              1            yes            yes   bad  \n",
       "\n",
       "[280 rows x 21 columns]"
      ]
     },
     "execution_count": 35,
     "metadata": {},
     "output_type": "execute_result"
    }
   ],
   "source": [
    "dados.loc[dados['purpose'] == 'radio/tv'] #retorna apenas os dados que tem em seu valor na coluna purpose a \n",
    "#descrição de radio/tv"
   ]
  },
  {
   "cell_type": "code",
   "execution_count": 36,
   "id": "afe7ea2f",
   "metadata": {
    "ExecuteTime": {
     "end_time": "2022-01-20T01:58:22.130352Z",
     "start_time": "2022-01-20T01:58:22.101428Z"
    }
   },
   "outputs": [
    {
     "data": {
      "text/html": [
       "<div>\n",
       "<style scoped>\n",
       "    .dataframe tbody tr th:only-of-type {\n",
       "        vertical-align: middle;\n",
       "    }\n",
       "\n",
       "    .dataframe tbody tr th {\n",
       "        vertical-align: top;\n",
       "    }\n",
       "\n",
       "    .dataframe thead th {\n",
       "        text-align: right;\n",
       "    }\n",
       "</style>\n",
       "<table border=\"1\" class=\"dataframe\">\n",
       "  <thead>\n",
       "    <tr style=\"text-align: right;\">\n",
       "      <th></th>\n",
       "      <th>checking_status</th>\n",
       "      <th>duration</th>\n",
       "      <th>credit_history</th>\n",
       "      <th>purpose</th>\n",
       "      <th>credit_amount</th>\n",
       "      <th>savings_status</th>\n",
       "      <th>employment</th>\n",
       "      <th>installment_commitment</th>\n",
       "      <th>personal_status</th>\n",
       "      <th>other_parties</th>\n",
       "      <th>...</th>\n",
       "      <th>property_magnitude</th>\n",
       "      <th>age</th>\n",
       "      <th>other_payment_plans</th>\n",
       "      <th>housing</th>\n",
       "      <th>existing_credits</th>\n",
       "      <th>job</th>\n",
       "      <th>num_dependents</th>\n",
       "      <th>own_telephone</th>\n",
       "      <th>foreign_worker</th>\n",
       "      <th>class</th>\n",
       "    </tr>\n",
       "  </thead>\n",
       "  <tbody>\n",
       "    <tr>\n",
       "      <th>915</th>\n",
       "      <td>0&lt;=X&lt;200</td>\n",
       "      <td>48</td>\n",
       "      <td>'no credits/all paid'</td>\n",
       "      <td>other</td>\n",
       "      <td>18424</td>\n",
       "      <td>&lt;100</td>\n",
       "      <td>1&lt;=X&lt;4</td>\n",
       "      <td>1</td>\n",
       "      <td>'female div/dep/mar'</td>\n",
       "      <td>none</td>\n",
       "      <td>...</td>\n",
       "      <td>'life insurance'</td>\n",
       "      <td>32</td>\n",
       "      <td>bank</td>\n",
       "      <td>own</td>\n",
       "      <td>1</td>\n",
       "      <td>'high qualif/self emp/mgmt'</td>\n",
       "      <td>1</td>\n",
       "      <td>yes</td>\n",
       "      <td>no</td>\n",
       "      <td>bad</td>\n",
       "    </tr>\n",
       "  </tbody>\n",
       "</table>\n",
       "<p>1 rows × 21 columns</p>\n",
       "</div>"
      ],
      "text/plain": [
       "    checking_status  duration         credit_history purpose  credit_amount  \\\n",
       "915        0<=X<200        48  'no credits/all paid'   other          18424   \n",
       "\n",
       "    savings_status employment  installment_commitment       personal_status  \\\n",
       "915           <100     1<=X<4                       1  'female div/dep/mar'   \n",
       "\n",
       "    other_parties  ...  property_magnitude age  other_payment_plans housing  \\\n",
       "915          none  ...    'life insurance'  32                 bank     own   \n",
       "\n",
       "    existing_credits                          job num_dependents  \\\n",
       "915                1  'high qualif/self emp/mgmt'              1   \n",
       "\n",
       "     own_telephone foreign_worker class  \n",
       "915            yes             no   bad  \n",
       "\n",
       "[1 rows x 21 columns]"
      ]
     },
     "execution_count": 36,
     "metadata": {},
     "output_type": "execute_result"
    }
   ],
   "source": [
    "dados.loc[dados['credit_amount']> 18000] #retorna a linha cujo valor descrito em credit_amount seja maior que 18000"
   ]
  },
  {
   "cell_type": "code",
   "execution_count": 38,
   "id": "5304194b",
   "metadata": {
    "ExecuteTime": {
     "end_time": "2022-01-20T02:00:25.255381Z",
     "start_time": "2022-01-20T02:00:25.235433Z"
    }
   },
   "outputs": [
    {
     "name": "stdout",
     "output_type": "stream",
     "text": [
      "    checking_status  duration                    credit_history  \\\n",
      "0                <0         6  'critical/other existing credit'   \n",
      "1          0<=X<200        48                   'existing paid'   \n",
      "2     'no checking'        12  'critical/other existing credit'   \n",
      "3                <0        42                   'existing paid'   \n",
      "4                <0        24              'delayed previously'   \n",
      "..              ...       ...                               ...   \n",
      "995   'no checking'        12                   'existing paid'   \n",
      "996              <0        30                   'existing paid'   \n",
      "997   'no checking'        12                   'existing paid'   \n",
      "998              <0        45                   'existing paid'   \n",
      "999        0<=X<200        45  'critical/other existing credit'   \n",
      "\n",
      "                 purpose  credit_amount      savings_status  employment  \\\n",
      "0               radio/tv           1169  'no known savings'         >=7   \n",
      "1               radio/tv           5951                <100      1<=X<4   \n",
      "2              education           2096                <100      4<=X<7   \n",
      "3    furniture/equipment           7882                <100      4<=X<7   \n",
      "4              'new car'           4870                <100      1<=X<4   \n",
      "..                   ...            ...                 ...         ...   \n",
      "995  furniture/equipment           1736                <100      4<=X<7   \n",
      "996           'used car'           3857                <100      1<=X<4   \n",
      "997             radio/tv            804                <100         >=7   \n",
      "998             radio/tv           1845                <100      1<=X<4   \n",
      "999           'used car'           4576          100<=X<500  unemployed   \n",
      "\n",
      "     installment_commitment       personal_status other_parties  ...  \\\n",
      "0                         4         'male single'          none  ...   \n",
      "1                         2  'female div/dep/mar'          none  ...   \n",
      "2                         2         'male single'          none  ...   \n",
      "3                         2         'male single'     guarantor  ...   \n",
      "4                         3         'male single'          none  ...   \n",
      "..                      ...                   ...           ...  ...   \n",
      "995                       3  'female div/dep/mar'          none  ...   \n",
      "996                       4        'male div/sep'          none  ...   \n",
      "997                       4         'male single'          none  ...   \n",
      "998                       4         'male single'          none  ...   \n",
      "999                       3         'male single'          none  ...   \n",
      "\n",
      "      property_magnitude age  other_payment_plans     housing  \\\n",
      "0          'real estate'  67                 none         own   \n",
      "1          'real estate'  22                 none         own   \n",
      "2          'real estate'  49                 none         own   \n",
      "3       'life insurance'  45                 none  'for free'   \n",
      "4    'no known property'  53                 none  'for free'   \n",
      "..                   ...  ..                  ...         ...   \n",
      "995        'real estate'  31                 none         own   \n",
      "996     'life insurance'  40                 none         own   \n",
      "997                  car  38                 none         own   \n",
      "998  'no known property'  23                 none  'for free'   \n",
      "999                  car  27                 none         own   \n",
      "\n",
      "    existing_credits                          job num_dependents  \\\n",
      "0                  2                      skilled              1   \n",
      "1                  1                      skilled              1   \n",
      "2                  1         'unskilled resident'              2   \n",
      "3                  1                      skilled              2   \n",
      "4                  2                      skilled              2   \n",
      "..               ...                          ...            ...   \n",
      "995                1         'unskilled resident'              1   \n",
      "996                1  'high qualif/self emp/mgmt'              1   \n",
      "997                1                      skilled              1   \n",
      "998                1                      skilled              1   \n",
      "999                1                      skilled              1   \n",
      "\n",
      "     own_telephone foreign_worker class  \n",
      "0              yes            yes  good  \n",
      "1             none            yes   bad  \n",
      "2             none            yes  good  \n",
      "3             none            yes  good  \n",
      "4             none            yes   bad  \n",
      "..             ...            ...   ...  \n",
      "995           none            yes  good  \n",
      "996            yes            yes  good  \n",
      "997           none            yes  good  \n",
      "998            yes            yes   bad  \n",
      "999           none            yes  good  \n",
      "\n",
      "[999 rows x 21 columns]\n"
     ]
    }
   ],
   "source": [
    "credito2 = dados.loc[dados['credit_amount']< 18000]\n",
    "print (credito2)"
   ]
  },
  {
   "cell_type": "code",
   "execution_count": 41,
   "id": "386b104e",
   "metadata": {
    "ExecuteTime": {
     "end_time": "2022-01-20T02:04:46.916864Z",
     "start_time": "2022-01-20T02:04:46.899908Z"
    }
   },
   "outputs": [
    {
     "name": "stdout",
     "output_type": "stream",
     "text": [
      "    checking_status  duration\n",
      "915        0<=X<200        48\n"
     ]
    }
   ],
   "source": [
    "credito3 = dados[['checking_status', 'duration']].loc[dados['credit_amount']> 18000] \n",
    "'''Este código filtra do arquivo dados apenas as colunas checking_status e duration. Sendo delas apenas aparecerá\n",
    "a que possui no valor credit amount > 18000'''\n",
    "print (credito3)"
   ]
  },
  {
   "cell_type": "markdown",
   "id": "b02930a8",
   "metadata": {},
   "source": [
    "> **Série pode ser criada a partir de** listas, array do numpy ou coluna de data frame. "
   ]
  },
  {
   "cell_type": "code",
   "execution_count": 42,
   "id": "adfe675d",
   "metadata": {
    "ExecuteTime": {
     "end_time": "2022-01-20T02:07:10.876515Z",
     "start_time": "2022-01-20T02:07:10.866544Z"
    }
   },
   "outputs": [
    {
     "name": "stdout",
     "output_type": "stream",
     "text": [
      "0     2\n",
      "1     5\n",
      "2     3\n",
      "3    34\n",
      "4    54\n",
      "5    23\n",
      "6     1\n",
      "7    16\n",
      "dtype: int64\n"
     ]
    }
   ],
   "source": [
    "s1 = pd.Series([2,5,3,34,54,23,1,16]) #cria série de uma única coluna a partir de uma lista\n",
    "\n",
    "print (s1)"
   ]
  },
  {
   "cell_type": "code",
   "execution_count": 43,
   "id": "b95cd3f5",
   "metadata": {
    "ExecuteTime": {
     "end_time": "2022-01-20T02:09:10.718553Z",
     "start_time": "2022-01-20T02:09:10.699632Z"
    }
   },
   "outputs": [
    {
     "name": "stdout",
     "output_type": "stream",
     "text": [
      "0     2\n",
      "1     5\n",
      "2     3\n",
      "3    34\n",
      "4    54\n",
      "5    23\n",
      "6     1\n",
      "7    16\n",
      "dtype: int32\n"
     ]
    }
   ],
   "source": [
    "import numpy as np\n",
    "array1 = np.array([2,5,3,34,54,23,1,16]) #criou a numpy\n",
    "s2 = pd.Series(array1) #transformou em série com método pandas\n",
    "print (s2)"
   ]
  },
  {
   "cell_type": "code",
   "execution_count": 44,
   "id": "7da6c163",
   "metadata": {
    "ExecuteTime": {
     "end_time": "2022-01-20T02:10:49.451537Z",
     "start_time": "2022-01-20T02:10:49.443533Z"
    }
   },
   "outputs": [
    {
     "name": "stdout",
     "output_type": "stream",
     "text": [
      "0                 radio/tv\n",
      "1                 radio/tv\n",
      "2                education\n",
      "3      furniture/equipment\n",
      "4                'new car'\n",
      "              ...         \n",
      "995    furniture/equipment\n",
      "996             'used car'\n",
      "997               radio/tv\n",
      "998               radio/tv\n",
      "999             'used car'\n",
      "Name: purpose, Length: 1000, dtype: object\n"
     ]
    },
    {
     "data": {
      "text/plain": [
       "pandas.core.series.Series"
      ]
     },
     "execution_count": 44,
     "metadata": {},
     "output_type": "execute_result"
    }
   ],
   "source": [
    "s3 = dados['purpose'] #chamei s3 (série3) a coluna purpose dos dados\n",
    "print(s3)\n",
    "type(s3) #verificando que se trata de uma série"
   ]
  },
  {
   "cell_type": "code",
   "execution_count": 45,
   "id": "4b4d33c8",
   "metadata": {
    "ExecuteTime": {
     "end_time": "2022-01-20T02:12:30.839000Z",
     "start_time": "2022-01-20T02:12:30.819054Z"
    }
   },
   "outputs": [
    {
     "data": {
      "text/plain": [
       "pandas.core.frame.DataFrame"
      ]
     },
     "execution_count": 45,
     "metadata": {},
     "output_type": "execute_result"
    }
   ],
   "source": [
    "d4 = dados [['purpose']] #com 2 colchetes cria um DataFrame\n",
    "type(d4)"
   ]
  },
  {
   "cell_type": "code",
   "execution_count": 46,
   "id": "14136988",
   "metadata": {
    "ExecuteTime": {
     "end_time": "2022-01-20T02:14:11.017416Z",
     "start_time": "2022-01-20T02:14:10.979489Z"
    }
   },
   "outputs": [
    {
     "data": {
      "text/html": [
       "<div>\n",
       "<style scoped>\n",
       "    .dataframe tbody tr th:only-of-type {\n",
       "        vertical-align: middle;\n",
       "    }\n",
       "\n",
       "    .dataframe tbody tr th {\n",
       "        vertical-align: top;\n",
       "    }\n",
       "\n",
       "    .dataframe thead th {\n",
       "        text-align: right;\n",
       "    }\n",
       "</style>\n",
       "<table border=\"1\" class=\"dataframe\">\n",
       "  <thead>\n",
       "    <tr style=\"text-align: right;\">\n",
       "      <th></th>\n",
       "      <th>checking_status</th>\n",
       "      <th>duração</th>\n",
       "      <th>credit_history</th>\n",
       "      <th>propósito</th>\n",
       "      <th>credit_amount</th>\n",
       "      <th>savings_status</th>\n",
       "      <th>employment</th>\n",
       "      <th>installment_commitment</th>\n",
       "      <th>personal_status</th>\n",
       "      <th>other_parties</th>\n",
       "      <th>...</th>\n",
       "      <th>property_magnitude</th>\n",
       "      <th>age</th>\n",
       "      <th>other_payment_plans</th>\n",
       "      <th>housing</th>\n",
       "      <th>existing_credits</th>\n",
       "      <th>job</th>\n",
       "      <th>num_dependents</th>\n",
       "      <th>own_telephone</th>\n",
       "      <th>foreign_worker</th>\n",
       "      <th>class</th>\n",
       "    </tr>\n",
       "  </thead>\n",
       "  <tbody>\n",
       "    <tr>\n",
       "      <th>0</th>\n",
       "      <td>&lt;0</td>\n",
       "      <td>6</td>\n",
       "      <td>'critical/other existing credit'</td>\n",
       "      <td>radio/tv</td>\n",
       "      <td>1169</td>\n",
       "      <td>'no known savings'</td>\n",
       "      <td>&gt;=7</td>\n",
       "      <td>4</td>\n",
       "      <td>'male single'</td>\n",
       "      <td>none</td>\n",
       "      <td>...</td>\n",
       "      <td>'real estate'</td>\n",
       "      <td>67</td>\n",
       "      <td>none</td>\n",
       "      <td>own</td>\n",
       "      <td>2</td>\n",
       "      <td>skilled</td>\n",
       "      <td>1</td>\n",
       "      <td>yes</td>\n",
       "      <td>yes</td>\n",
       "      <td>good</td>\n",
       "    </tr>\n",
       "    <tr>\n",
       "      <th>1</th>\n",
       "      <td>0&lt;=X&lt;200</td>\n",
       "      <td>48</td>\n",
       "      <td>'existing paid'</td>\n",
       "      <td>radio/tv</td>\n",
       "      <td>5951</td>\n",
       "      <td>&lt;100</td>\n",
       "      <td>1&lt;=X&lt;4</td>\n",
       "      <td>2</td>\n",
       "      <td>'female div/dep/mar'</td>\n",
       "      <td>none</td>\n",
       "      <td>...</td>\n",
       "      <td>'real estate'</td>\n",
       "      <td>22</td>\n",
       "      <td>none</td>\n",
       "      <td>own</td>\n",
       "      <td>1</td>\n",
       "      <td>skilled</td>\n",
       "      <td>1</td>\n",
       "      <td>none</td>\n",
       "      <td>yes</td>\n",
       "      <td>bad</td>\n",
       "    </tr>\n",
       "    <tr>\n",
       "      <th>2</th>\n",
       "      <td>'no checking'</td>\n",
       "      <td>12</td>\n",
       "      <td>'critical/other existing credit'</td>\n",
       "      <td>education</td>\n",
       "      <td>2096</td>\n",
       "      <td>&lt;100</td>\n",
       "      <td>4&lt;=X&lt;7</td>\n",
       "      <td>2</td>\n",
       "      <td>'male single'</td>\n",
       "      <td>none</td>\n",
       "      <td>...</td>\n",
       "      <td>'real estate'</td>\n",
       "      <td>49</td>\n",
       "      <td>none</td>\n",
       "      <td>own</td>\n",
       "      <td>1</td>\n",
       "      <td>'unskilled resident'</td>\n",
       "      <td>2</td>\n",
       "      <td>none</td>\n",
       "      <td>yes</td>\n",
       "      <td>good</td>\n",
       "    </tr>\n",
       "    <tr>\n",
       "      <th>3</th>\n",
       "      <td>&lt;0</td>\n",
       "      <td>42</td>\n",
       "      <td>'existing paid'</td>\n",
       "      <td>furniture/equipment</td>\n",
       "      <td>7882</td>\n",
       "      <td>&lt;100</td>\n",
       "      <td>4&lt;=X&lt;7</td>\n",
       "      <td>2</td>\n",
       "      <td>'male single'</td>\n",
       "      <td>guarantor</td>\n",
       "      <td>...</td>\n",
       "      <td>'life insurance'</td>\n",
       "      <td>45</td>\n",
       "      <td>none</td>\n",
       "      <td>'for free'</td>\n",
       "      <td>1</td>\n",
       "      <td>skilled</td>\n",
       "      <td>2</td>\n",
       "      <td>none</td>\n",
       "      <td>yes</td>\n",
       "      <td>good</td>\n",
       "    </tr>\n",
       "    <tr>\n",
       "      <th>4</th>\n",
       "      <td>&lt;0</td>\n",
       "      <td>24</td>\n",
       "      <td>'delayed previously'</td>\n",
       "      <td>'new car'</td>\n",
       "      <td>4870</td>\n",
       "      <td>&lt;100</td>\n",
       "      <td>1&lt;=X&lt;4</td>\n",
       "      <td>3</td>\n",
       "      <td>'male single'</td>\n",
       "      <td>none</td>\n",
       "      <td>...</td>\n",
       "      <td>'no known property'</td>\n",
       "      <td>53</td>\n",
       "      <td>none</td>\n",
       "      <td>'for free'</td>\n",
       "      <td>2</td>\n",
       "      <td>skilled</td>\n",
       "      <td>2</td>\n",
       "      <td>none</td>\n",
       "      <td>yes</td>\n",
       "      <td>bad</td>\n",
       "    </tr>\n",
       "    <tr>\n",
       "      <th>...</th>\n",
       "      <td>...</td>\n",
       "      <td>...</td>\n",
       "      <td>...</td>\n",
       "      <td>...</td>\n",
       "      <td>...</td>\n",
       "      <td>...</td>\n",
       "      <td>...</td>\n",
       "      <td>...</td>\n",
       "      <td>...</td>\n",
       "      <td>...</td>\n",
       "      <td>...</td>\n",
       "      <td>...</td>\n",
       "      <td>...</td>\n",
       "      <td>...</td>\n",
       "      <td>...</td>\n",
       "      <td>...</td>\n",
       "      <td>...</td>\n",
       "      <td>...</td>\n",
       "      <td>...</td>\n",
       "      <td>...</td>\n",
       "      <td>...</td>\n",
       "    </tr>\n",
       "    <tr>\n",
       "      <th>995</th>\n",
       "      <td>'no checking'</td>\n",
       "      <td>12</td>\n",
       "      <td>'existing paid'</td>\n",
       "      <td>furniture/equipment</td>\n",
       "      <td>1736</td>\n",
       "      <td>&lt;100</td>\n",
       "      <td>4&lt;=X&lt;7</td>\n",
       "      <td>3</td>\n",
       "      <td>'female div/dep/mar'</td>\n",
       "      <td>none</td>\n",
       "      <td>...</td>\n",
       "      <td>'real estate'</td>\n",
       "      <td>31</td>\n",
       "      <td>none</td>\n",
       "      <td>own</td>\n",
       "      <td>1</td>\n",
       "      <td>'unskilled resident'</td>\n",
       "      <td>1</td>\n",
       "      <td>none</td>\n",
       "      <td>yes</td>\n",
       "      <td>good</td>\n",
       "    </tr>\n",
       "    <tr>\n",
       "      <th>996</th>\n",
       "      <td>&lt;0</td>\n",
       "      <td>30</td>\n",
       "      <td>'existing paid'</td>\n",
       "      <td>'used car'</td>\n",
       "      <td>3857</td>\n",
       "      <td>&lt;100</td>\n",
       "      <td>1&lt;=X&lt;4</td>\n",
       "      <td>4</td>\n",
       "      <td>'male div/sep'</td>\n",
       "      <td>none</td>\n",
       "      <td>...</td>\n",
       "      <td>'life insurance'</td>\n",
       "      <td>40</td>\n",
       "      <td>none</td>\n",
       "      <td>own</td>\n",
       "      <td>1</td>\n",
       "      <td>'high qualif/self emp/mgmt'</td>\n",
       "      <td>1</td>\n",
       "      <td>yes</td>\n",
       "      <td>yes</td>\n",
       "      <td>good</td>\n",
       "    </tr>\n",
       "    <tr>\n",
       "      <th>997</th>\n",
       "      <td>'no checking'</td>\n",
       "      <td>12</td>\n",
       "      <td>'existing paid'</td>\n",
       "      <td>radio/tv</td>\n",
       "      <td>804</td>\n",
       "      <td>&lt;100</td>\n",
       "      <td>&gt;=7</td>\n",
       "      <td>4</td>\n",
       "      <td>'male single'</td>\n",
       "      <td>none</td>\n",
       "      <td>...</td>\n",
       "      <td>car</td>\n",
       "      <td>38</td>\n",
       "      <td>none</td>\n",
       "      <td>own</td>\n",
       "      <td>1</td>\n",
       "      <td>skilled</td>\n",
       "      <td>1</td>\n",
       "      <td>none</td>\n",
       "      <td>yes</td>\n",
       "      <td>good</td>\n",
       "    </tr>\n",
       "    <tr>\n",
       "      <th>998</th>\n",
       "      <td>&lt;0</td>\n",
       "      <td>45</td>\n",
       "      <td>'existing paid'</td>\n",
       "      <td>radio/tv</td>\n",
       "      <td>1845</td>\n",
       "      <td>&lt;100</td>\n",
       "      <td>1&lt;=X&lt;4</td>\n",
       "      <td>4</td>\n",
       "      <td>'male single'</td>\n",
       "      <td>none</td>\n",
       "      <td>...</td>\n",
       "      <td>'no known property'</td>\n",
       "      <td>23</td>\n",
       "      <td>none</td>\n",
       "      <td>'for free'</td>\n",
       "      <td>1</td>\n",
       "      <td>skilled</td>\n",
       "      <td>1</td>\n",
       "      <td>yes</td>\n",
       "      <td>yes</td>\n",
       "      <td>bad</td>\n",
       "    </tr>\n",
       "    <tr>\n",
       "      <th>999</th>\n",
       "      <td>0&lt;=X&lt;200</td>\n",
       "      <td>45</td>\n",
       "      <td>'critical/other existing credit'</td>\n",
       "      <td>'used car'</td>\n",
       "      <td>4576</td>\n",
       "      <td>100&lt;=X&lt;500</td>\n",
       "      <td>unemployed</td>\n",
       "      <td>3</td>\n",
       "      <td>'male single'</td>\n",
       "      <td>none</td>\n",
       "      <td>...</td>\n",
       "      <td>car</td>\n",
       "      <td>27</td>\n",
       "      <td>none</td>\n",
       "      <td>own</td>\n",
       "      <td>1</td>\n",
       "      <td>skilled</td>\n",
       "      <td>1</td>\n",
       "      <td>none</td>\n",
       "      <td>yes</td>\n",
       "      <td>good</td>\n",
       "    </tr>\n",
       "  </tbody>\n",
       "</table>\n",
       "<p>1000 rows × 21 columns</p>\n",
       "</div>"
      ],
      "text/plain": [
       "    checking_status  duração                    credit_history  \\\n",
       "0                <0        6  'critical/other existing credit'   \n",
       "1          0<=X<200       48                   'existing paid'   \n",
       "2     'no checking'       12  'critical/other existing credit'   \n",
       "3                <0       42                   'existing paid'   \n",
       "4                <0       24              'delayed previously'   \n",
       "..              ...      ...                               ...   \n",
       "995   'no checking'       12                   'existing paid'   \n",
       "996              <0       30                   'existing paid'   \n",
       "997   'no checking'       12                   'existing paid'   \n",
       "998              <0       45                   'existing paid'   \n",
       "999        0<=X<200       45  'critical/other existing credit'   \n",
       "\n",
       "               propósito  credit_amount      savings_status  employment  \\\n",
       "0               radio/tv           1169  'no known savings'         >=7   \n",
       "1               radio/tv           5951                <100      1<=X<4   \n",
       "2              education           2096                <100      4<=X<7   \n",
       "3    furniture/equipment           7882                <100      4<=X<7   \n",
       "4              'new car'           4870                <100      1<=X<4   \n",
       "..                   ...            ...                 ...         ...   \n",
       "995  furniture/equipment           1736                <100      4<=X<7   \n",
       "996           'used car'           3857                <100      1<=X<4   \n",
       "997             radio/tv            804                <100         >=7   \n",
       "998             radio/tv           1845                <100      1<=X<4   \n",
       "999           'used car'           4576          100<=X<500  unemployed   \n",
       "\n",
       "     installment_commitment       personal_status other_parties  ...  \\\n",
       "0                         4         'male single'          none  ...   \n",
       "1                         2  'female div/dep/mar'          none  ...   \n",
       "2                         2         'male single'          none  ...   \n",
       "3                         2         'male single'     guarantor  ...   \n",
       "4                         3         'male single'          none  ...   \n",
       "..                      ...                   ...           ...  ...   \n",
       "995                       3  'female div/dep/mar'          none  ...   \n",
       "996                       4        'male div/sep'          none  ...   \n",
       "997                       4         'male single'          none  ...   \n",
       "998                       4         'male single'          none  ...   \n",
       "999                       3         'male single'          none  ...   \n",
       "\n",
       "      property_magnitude age  other_payment_plans     housing  \\\n",
       "0          'real estate'  67                 none         own   \n",
       "1          'real estate'  22                 none         own   \n",
       "2          'real estate'  49                 none         own   \n",
       "3       'life insurance'  45                 none  'for free'   \n",
       "4    'no known property'  53                 none  'for free'   \n",
       "..                   ...  ..                  ...         ...   \n",
       "995        'real estate'  31                 none         own   \n",
       "996     'life insurance'  40                 none         own   \n",
       "997                  car  38                 none         own   \n",
       "998  'no known property'  23                 none  'for free'   \n",
       "999                  car  27                 none         own   \n",
       "\n",
       "    existing_credits                          job num_dependents  \\\n",
       "0                  2                      skilled              1   \n",
       "1                  1                      skilled              1   \n",
       "2                  1         'unskilled resident'              2   \n",
       "3                  1                      skilled              2   \n",
       "4                  2                      skilled              2   \n",
       "..               ...                          ...            ...   \n",
       "995                1         'unskilled resident'              1   \n",
       "996                1  'high qualif/self emp/mgmt'              1   \n",
       "997                1                      skilled              1   \n",
       "998                1                      skilled              1   \n",
       "999                1                      skilled              1   \n",
       "\n",
       "     own_telephone foreign_worker class  \n",
       "0              yes            yes  good  \n",
       "1             none            yes   bad  \n",
       "2             none            yes  good  \n",
       "3             none            yes  good  \n",
       "4             none            yes   bad  \n",
       "..             ...            ...   ...  \n",
       "995           none            yes  good  \n",
       "996            yes            yes  good  \n",
       "997           none            yes  good  \n",
       "998            yes            yes   bad  \n",
       "999           none            yes  good  \n",
       "\n",
       "[1000 rows x 21 columns]"
      ]
     },
     "execution_count": 46,
     "metadata": {},
     "output_type": "execute_result"
    }
   ],
   "source": [
    "#renomear coluna\n",
    "dados.rename(columns={'duration':'duração','purpose':'propósito'}) #conceiro de dicionário. Chave-\n",
    "#mas a alteração fica nesse código\n"
   ]
  },
  {
   "cell_type": "code",
   "execution_count": 47,
   "id": "5dcae8ee",
   "metadata": {
    "ExecuteTime": {
     "end_time": "2022-01-20T02:16:36.554943Z",
     "start_time": "2022-01-20T02:16:36.546964Z"
    }
   },
   "outputs": [],
   "source": [
    "#renomear de forma efetiva o DF\n",
    "dados.rename(columns={'duration':'duração','purpose':'propósito'},inplace=True)"
   ]
  },
  {
   "cell_type": "code",
   "execution_count": 48,
   "id": "63dd0c2d",
   "metadata": {
    "ExecuteTime": {
     "end_time": "2022-01-20T02:16:55.812887Z",
     "start_time": "2022-01-20T02:16:55.786985Z"
    }
   },
   "outputs": [
    {
     "data": {
      "text/html": [
       "<div>\n",
       "<style scoped>\n",
       "    .dataframe tbody tr th:only-of-type {\n",
       "        vertical-align: middle;\n",
       "    }\n",
       "\n",
       "    .dataframe tbody tr th {\n",
       "        vertical-align: top;\n",
       "    }\n",
       "\n",
       "    .dataframe thead th {\n",
       "        text-align: right;\n",
       "    }\n",
       "</style>\n",
       "<table border=\"1\" class=\"dataframe\">\n",
       "  <thead>\n",
       "    <tr style=\"text-align: right;\">\n",
       "      <th></th>\n",
       "      <th>checking_status</th>\n",
       "      <th>duração</th>\n",
       "      <th>credit_history</th>\n",
       "      <th>propósito</th>\n",
       "      <th>credit_amount</th>\n",
       "      <th>savings_status</th>\n",
       "      <th>employment</th>\n",
       "      <th>installment_commitment</th>\n",
       "      <th>personal_status</th>\n",
       "      <th>other_parties</th>\n",
       "      <th>...</th>\n",
       "      <th>property_magnitude</th>\n",
       "      <th>age</th>\n",
       "      <th>other_payment_plans</th>\n",
       "      <th>housing</th>\n",
       "      <th>existing_credits</th>\n",
       "      <th>job</th>\n",
       "      <th>num_dependents</th>\n",
       "      <th>own_telephone</th>\n",
       "      <th>foreign_worker</th>\n",
       "      <th>class</th>\n",
       "    </tr>\n",
       "  </thead>\n",
       "  <tbody>\n",
       "    <tr>\n",
       "      <th>0</th>\n",
       "      <td>&lt;0</td>\n",
       "      <td>6</td>\n",
       "      <td>'critical/other existing credit'</td>\n",
       "      <td>radio/tv</td>\n",
       "      <td>1169</td>\n",
       "      <td>'no known savings'</td>\n",
       "      <td>&gt;=7</td>\n",
       "      <td>4</td>\n",
       "      <td>'male single'</td>\n",
       "      <td>none</td>\n",
       "      <td>...</td>\n",
       "      <td>'real estate'</td>\n",
       "      <td>67</td>\n",
       "      <td>none</td>\n",
       "      <td>own</td>\n",
       "      <td>2</td>\n",
       "      <td>skilled</td>\n",
       "      <td>1</td>\n",
       "      <td>yes</td>\n",
       "      <td>yes</td>\n",
       "      <td>good</td>\n",
       "    </tr>\n",
       "    <tr>\n",
       "      <th>1</th>\n",
       "      <td>0&lt;=X&lt;200</td>\n",
       "      <td>48</td>\n",
       "      <td>'existing paid'</td>\n",
       "      <td>radio/tv</td>\n",
       "      <td>5951</td>\n",
       "      <td>&lt;100</td>\n",
       "      <td>1&lt;=X&lt;4</td>\n",
       "      <td>2</td>\n",
       "      <td>'female div/dep/mar'</td>\n",
       "      <td>none</td>\n",
       "      <td>...</td>\n",
       "      <td>'real estate'</td>\n",
       "      <td>22</td>\n",
       "      <td>none</td>\n",
       "      <td>own</td>\n",
       "      <td>1</td>\n",
       "      <td>skilled</td>\n",
       "      <td>1</td>\n",
       "      <td>none</td>\n",
       "      <td>yes</td>\n",
       "      <td>bad</td>\n",
       "    </tr>\n",
       "  </tbody>\n",
       "</table>\n",
       "<p>2 rows × 21 columns</p>\n",
       "</div>"
      ],
      "text/plain": [
       "  checking_status  duração                    credit_history propósito  \\\n",
       "0              <0        6  'critical/other existing credit'  radio/tv   \n",
       "1        0<=X<200       48                   'existing paid'  radio/tv   \n",
       "\n",
       "   credit_amount      savings_status employment  installment_commitment  \\\n",
       "0           1169  'no known savings'        >=7                       4   \n",
       "1           5951                <100     1<=X<4                       2   \n",
       "\n",
       "        personal_status other_parties  ...  property_magnitude age  \\\n",
       "0         'male single'          none  ...       'real estate'  67   \n",
       "1  'female div/dep/mar'          none  ...       'real estate'  22   \n",
       "\n",
       "   other_payment_plans housing existing_credits      job num_dependents  \\\n",
       "0                 none     own                2  skilled              1   \n",
       "1                 none     own                1  skilled              1   \n",
       "\n",
       "   own_telephone foreign_worker class  \n",
       "0            yes            yes  good  \n",
       "1           none            yes   bad  \n",
       "\n",
       "[2 rows x 21 columns]"
      ]
     },
     "execution_count": 48,
     "metadata": {},
     "output_type": "execute_result"
    }
   ],
   "source": [
    "dados.head(2)"
   ]
  },
  {
   "cell_type": "code",
   "execution_count": 49,
   "id": "7aec0924",
   "metadata": {
    "ExecuteTime": {
     "end_time": "2022-01-20T02:18:16.020877Z",
     "start_time": "2022-01-20T02:18:15.994946Z"
    }
   },
   "outputs": [
    {
     "name": "stdout",
     "output_type": "stream",
     "text": [
      "     duração                    credit_history            propósito  \\\n",
      "0          6  'critical/other existing credit'             radio/tv   \n",
      "1         48                   'existing paid'             radio/tv   \n",
      "2         12  'critical/other existing credit'            education   \n",
      "3         42                   'existing paid'  furniture/equipment   \n",
      "4         24              'delayed previously'            'new car'   \n",
      "..       ...                               ...                  ...   \n",
      "995       12                   'existing paid'  furniture/equipment   \n",
      "996       30                   'existing paid'           'used car'   \n",
      "997       12                   'existing paid'             radio/tv   \n",
      "998       45                   'existing paid'             radio/tv   \n",
      "999       45  'critical/other existing credit'           'used car'   \n",
      "\n",
      "     credit_amount      savings_status  employment  installment_commitment  \\\n",
      "0             1169  'no known savings'         >=7                       4   \n",
      "1             5951                <100      1<=X<4                       2   \n",
      "2             2096                <100      4<=X<7                       2   \n",
      "3             7882                <100      4<=X<7                       2   \n",
      "4             4870                <100      1<=X<4                       3   \n",
      "..             ...                 ...         ...                     ...   \n",
      "995           1736                <100      4<=X<7                       3   \n",
      "996           3857                <100      1<=X<4                       4   \n",
      "997            804                <100         >=7                       4   \n",
      "998           1845                <100      1<=X<4                       4   \n",
      "999           4576          100<=X<500  unemployed                       3   \n",
      "\n",
      "          personal_status other_parties  residence_since   property_magnitude  \\\n",
      "0           'male single'          none                4        'real estate'   \n",
      "1    'female div/dep/mar'          none                2        'real estate'   \n",
      "2           'male single'          none                3        'real estate'   \n",
      "3           'male single'     guarantor                4     'life insurance'   \n",
      "4           'male single'          none                4  'no known property'   \n",
      "..                    ...           ...              ...                  ...   \n",
      "995  'female div/dep/mar'          none                4        'real estate'   \n",
      "996        'male div/sep'          none                4     'life insurance'   \n",
      "997         'male single'          none                4                  car   \n",
      "998         'male single'          none                4  'no known property'   \n",
      "999         'male single'          none                4                  car   \n",
      "\n",
      "     age other_payment_plans     housing  existing_credits  \\\n",
      "0     67                none         own                 2   \n",
      "1     22                none         own                 1   \n",
      "2     49                none         own                 1   \n",
      "3     45                none  'for free'                 1   \n",
      "4     53                none  'for free'                 2   \n",
      "..   ...                 ...         ...               ...   \n",
      "995   31                none         own                 1   \n",
      "996   40                none         own                 1   \n",
      "997   38                none         own                 1   \n",
      "998   23                none  'for free'                 1   \n",
      "999   27                none         own                 1   \n",
      "\n",
      "                             job  num_dependents own_telephone foreign_worker  \\\n",
      "0                        skilled               1           yes            yes   \n",
      "1                        skilled               1          none            yes   \n",
      "2           'unskilled resident'               2          none            yes   \n",
      "3                        skilled               2          none            yes   \n",
      "4                        skilled               2          none            yes   \n",
      "..                           ...             ...           ...            ...   \n",
      "995         'unskilled resident'               1          none            yes   \n",
      "996  'high qualif/self emp/mgmt'               1           yes            yes   \n",
      "997                      skilled               1          none            yes   \n",
      "998                      skilled               1           yes            yes   \n",
      "999                      skilled               1          none            yes   \n",
      "\n",
      "    class  \n",
      "0    good  \n",
      "1     bad  \n",
      "2    good  \n",
      "3    good  \n",
      "4     bad  \n",
      "..    ...  \n",
      "995  good  \n",
      "996  good  \n",
      "997  good  \n",
      "998   bad  \n",
      "999  good  \n",
      "\n",
      "[1000 rows x 20 columns]\n"
     ]
    }
   ],
   "source": [
    "#excluir no coluna efetivamente\n",
    "dados.drop('checking_status', axis=1, inplace=True)\n",
    "print(dados)"
   ]
  },
  {
   "cell_type": "code",
   "execution_count": 50,
   "id": "aa831366",
   "metadata": {
    "ExecuteTime": {
     "end_time": "2022-01-20T02:18:44.859828Z",
     "start_time": "2022-01-20T02:18:44.842902Z"
    }
   },
   "outputs": [
    {
     "data": {
      "text/html": [
       "<div>\n",
       "<style scoped>\n",
       "    .dataframe tbody tr th:only-of-type {\n",
       "        vertical-align: middle;\n",
       "    }\n",
       "\n",
       "    .dataframe tbody tr th {\n",
       "        vertical-align: top;\n",
       "    }\n",
       "\n",
       "    .dataframe thead th {\n",
       "        text-align: right;\n",
       "    }\n",
       "</style>\n",
       "<table border=\"1\" class=\"dataframe\">\n",
       "  <thead>\n",
       "    <tr style=\"text-align: right;\">\n",
       "      <th></th>\n",
       "      <th>duração</th>\n",
       "      <th>credit_history</th>\n",
       "      <th>propósito</th>\n",
       "      <th>credit_amount</th>\n",
       "      <th>savings_status</th>\n",
       "      <th>employment</th>\n",
       "      <th>installment_commitment</th>\n",
       "      <th>personal_status</th>\n",
       "      <th>other_parties</th>\n",
       "      <th>residence_since</th>\n",
       "      <th>property_magnitude</th>\n",
       "      <th>age</th>\n",
       "      <th>other_payment_plans</th>\n",
       "      <th>housing</th>\n",
       "      <th>existing_credits</th>\n",
       "      <th>job</th>\n",
       "      <th>num_dependents</th>\n",
       "      <th>own_telephone</th>\n",
       "      <th>foreign_worker</th>\n",
       "      <th>class</th>\n",
       "    </tr>\n",
       "  </thead>\n",
       "  <tbody>\n",
       "    <tr>\n",
       "      <th>0</th>\n",
       "      <td>6</td>\n",
       "      <td>'critical/other existing credit'</td>\n",
       "      <td>radio/tv</td>\n",
       "      <td>1169</td>\n",
       "      <td>'no known savings'</td>\n",
       "      <td>&gt;=7</td>\n",
       "      <td>4</td>\n",
       "      <td>'male single'</td>\n",
       "      <td>none</td>\n",
       "      <td>4</td>\n",
       "      <td>'real estate'</td>\n",
       "      <td>67</td>\n",
       "      <td>none</td>\n",
       "      <td>own</td>\n",
       "      <td>2</td>\n",
       "      <td>skilled</td>\n",
       "      <td>1</td>\n",
       "      <td>yes</td>\n",
       "      <td>yes</td>\n",
       "      <td>good</td>\n",
       "    </tr>\n",
       "  </tbody>\n",
       "</table>\n",
       "</div>"
      ],
      "text/plain": [
       "   duração                    credit_history propósito  credit_amount  \\\n",
       "0        6  'critical/other existing credit'  radio/tv           1169   \n",
       "\n",
       "       savings_status employment  installment_commitment personal_status  \\\n",
       "0  'no known savings'        >=7                       4   'male single'   \n",
       "\n",
       "  other_parties  residence_since property_magnitude  age other_payment_plans  \\\n",
       "0          none                4      'real estate'   67                none   \n",
       "\n",
       "  housing  existing_credits      job  num_dependents own_telephone  \\\n",
       "0     own                 2  skilled               1           yes   \n",
       "\n",
       "  foreign_worker class  \n",
       "0            yes  good  "
      ]
     },
     "execution_count": 50,
     "metadata": {},
     "output_type": "execute_result"
    }
   ],
   "source": [
    "dados.head(1)"
   ]
  },
  {
   "cell_type": "code",
   "execution_count": 51,
   "id": "63c1f1a1",
   "metadata": {
    "ExecuteTime": {
     "end_time": "2022-01-20T02:19:16.214894Z",
     "start_time": "2022-01-20T02:19:16.186970Z"
    }
   },
   "outputs": [
    {
     "data": {
      "text/html": [
       "<div>\n",
       "<style scoped>\n",
       "    .dataframe tbody tr th:only-of-type {\n",
       "        vertical-align: middle;\n",
       "    }\n",
       "\n",
       "    .dataframe tbody tr th {\n",
       "        vertical-align: top;\n",
       "    }\n",
       "\n",
       "    .dataframe thead th {\n",
       "        text-align: right;\n",
       "    }\n",
       "</style>\n",
       "<table border=\"1\" class=\"dataframe\">\n",
       "  <thead>\n",
       "    <tr style=\"text-align: right;\">\n",
       "      <th></th>\n",
       "      <th>duração</th>\n",
       "      <th>credit_history</th>\n",
       "      <th>propósito</th>\n",
       "      <th>credit_amount</th>\n",
       "      <th>savings_status</th>\n",
       "      <th>employment</th>\n",
       "      <th>installment_commitment</th>\n",
       "      <th>personal_status</th>\n",
       "      <th>other_parties</th>\n",
       "      <th>residence_since</th>\n",
       "      <th>property_magnitude</th>\n",
       "      <th>age</th>\n",
       "      <th>other_payment_plans</th>\n",
       "      <th>housing</th>\n",
       "      <th>existing_credits</th>\n",
       "      <th>job</th>\n",
       "      <th>num_dependents</th>\n",
       "      <th>own_telephone</th>\n",
       "      <th>foreign_worker</th>\n",
       "      <th>class</th>\n",
       "    </tr>\n",
       "  </thead>\n",
       "  <tbody>\n",
       "    <tr>\n",
       "      <th>0</th>\n",
       "      <td>False</td>\n",
       "      <td>False</td>\n",
       "      <td>False</td>\n",
       "      <td>False</td>\n",
       "      <td>False</td>\n",
       "      <td>False</td>\n",
       "      <td>False</td>\n",
       "      <td>False</td>\n",
       "      <td>False</td>\n",
       "      <td>False</td>\n",
       "      <td>False</td>\n",
       "      <td>False</td>\n",
       "      <td>False</td>\n",
       "      <td>False</td>\n",
       "      <td>False</td>\n",
       "      <td>False</td>\n",
       "      <td>False</td>\n",
       "      <td>False</td>\n",
       "      <td>False</td>\n",
       "      <td>False</td>\n",
       "    </tr>\n",
       "    <tr>\n",
       "      <th>1</th>\n",
       "      <td>False</td>\n",
       "      <td>False</td>\n",
       "      <td>False</td>\n",
       "      <td>False</td>\n",
       "      <td>False</td>\n",
       "      <td>False</td>\n",
       "      <td>False</td>\n",
       "      <td>False</td>\n",
       "      <td>False</td>\n",
       "      <td>False</td>\n",
       "      <td>False</td>\n",
       "      <td>False</td>\n",
       "      <td>False</td>\n",
       "      <td>False</td>\n",
       "      <td>False</td>\n",
       "      <td>False</td>\n",
       "      <td>False</td>\n",
       "      <td>False</td>\n",
       "      <td>False</td>\n",
       "      <td>False</td>\n",
       "    </tr>\n",
       "    <tr>\n",
       "      <th>2</th>\n",
       "      <td>False</td>\n",
       "      <td>False</td>\n",
       "      <td>False</td>\n",
       "      <td>False</td>\n",
       "      <td>False</td>\n",
       "      <td>False</td>\n",
       "      <td>False</td>\n",
       "      <td>False</td>\n",
       "      <td>False</td>\n",
       "      <td>False</td>\n",
       "      <td>False</td>\n",
       "      <td>False</td>\n",
       "      <td>False</td>\n",
       "      <td>False</td>\n",
       "      <td>False</td>\n",
       "      <td>False</td>\n",
       "      <td>False</td>\n",
       "      <td>False</td>\n",
       "      <td>False</td>\n",
       "      <td>False</td>\n",
       "    </tr>\n",
       "    <tr>\n",
       "      <th>3</th>\n",
       "      <td>False</td>\n",
       "      <td>False</td>\n",
       "      <td>False</td>\n",
       "      <td>False</td>\n",
       "      <td>False</td>\n",
       "      <td>False</td>\n",
       "      <td>False</td>\n",
       "      <td>False</td>\n",
       "      <td>False</td>\n",
       "      <td>False</td>\n",
       "      <td>False</td>\n",
       "      <td>False</td>\n",
       "      <td>False</td>\n",
       "      <td>False</td>\n",
       "      <td>False</td>\n",
       "      <td>False</td>\n",
       "      <td>False</td>\n",
       "      <td>False</td>\n",
       "      <td>False</td>\n",
       "      <td>False</td>\n",
       "    </tr>\n",
       "    <tr>\n",
       "      <th>4</th>\n",
       "      <td>False</td>\n",
       "      <td>False</td>\n",
       "      <td>False</td>\n",
       "      <td>False</td>\n",
       "      <td>False</td>\n",
       "      <td>False</td>\n",
       "      <td>False</td>\n",
       "      <td>False</td>\n",
       "      <td>False</td>\n",
       "      <td>False</td>\n",
       "      <td>False</td>\n",
       "      <td>False</td>\n",
       "      <td>False</td>\n",
       "      <td>False</td>\n",
       "      <td>False</td>\n",
       "      <td>False</td>\n",
       "      <td>False</td>\n",
       "      <td>False</td>\n",
       "      <td>False</td>\n",
       "      <td>False</td>\n",
       "    </tr>\n",
       "    <tr>\n",
       "      <th>...</th>\n",
       "      <td>...</td>\n",
       "      <td>...</td>\n",
       "      <td>...</td>\n",
       "      <td>...</td>\n",
       "      <td>...</td>\n",
       "      <td>...</td>\n",
       "      <td>...</td>\n",
       "      <td>...</td>\n",
       "      <td>...</td>\n",
       "      <td>...</td>\n",
       "      <td>...</td>\n",
       "      <td>...</td>\n",
       "      <td>...</td>\n",
       "      <td>...</td>\n",
       "      <td>...</td>\n",
       "      <td>...</td>\n",
       "      <td>...</td>\n",
       "      <td>...</td>\n",
       "      <td>...</td>\n",
       "      <td>...</td>\n",
       "    </tr>\n",
       "    <tr>\n",
       "      <th>995</th>\n",
       "      <td>False</td>\n",
       "      <td>False</td>\n",
       "      <td>False</td>\n",
       "      <td>False</td>\n",
       "      <td>False</td>\n",
       "      <td>False</td>\n",
       "      <td>False</td>\n",
       "      <td>False</td>\n",
       "      <td>False</td>\n",
       "      <td>False</td>\n",
       "      <td>False</td>\n",
       "      <td>False</td>\n",
       "      <td>False</td>\n",
       "      <td>False</td>\n",
       "      <td>False</td>\n",
       "      <td>False</td>\n",
       "      <td>False</td>\n",
       "      <td>False</td>\n",
       "      <td>False</td>\n",
       "      <td>False</td>\n",
       "    </tr>\n",
       "    <tr>\n",
       "      <th>996</th>\n",
       "      <td>False</td>\n",
       "      <td>False</td>\n",
       "      <td>False</td>\n",
       "      <td>False</td>\n",
       "      <td>False</td>\n",
       "      <td>False</td>\n",
       "      <td>False</td>\n",
       "      <td>False</td>\n",
       "      <td>False</td>\n",
       "      <td>False</td>\n",
       "      <td>False</td>\n",
       "      <td>False</td>\n",
       "      <td>False</td>\n",
       "      <td>False</td>\n",
       "      <td>False</td>\n",
       "      <td>False</td>\n",
       "      <td>False</td>\n",
       "      <td>False</td>\n",
       "      <td>False</td>\n",
       "      <td>False</td>\n",
       "    </tr>\n",
       "    <tr>\n",
       "      <th>997</th>\n",
       "      <td>False</td>\n",
       "      <td>False</td>\n",
       "      <td>False</td>\n",
       "      <td>False</td>\n",
       "      <td>False</td>\n",
       "      <td>False</td>\n",
       "      <td>False</td>\n",
       "      <td>False</td>\n",
       "      <td>False</td>\n",
       "      <td>False</td>\n",
       "      <td>False</td>\n",
       "      <td>False</td>\n",
       "      <td>False</td>\n",
       "      <td>False</td>\n",
       "      <td>False</td>\n",
       "      <td>False</td>\n",
       "      <td>False</td>\n",
       "      <td>False</td>\n",
       "      <td>False</td>\n",
       "      <td>False</td>\n",
       "    </tr>\n",
       "    <tr>\n",
       "      <th>998</th>\n",
       "      <td>False</td>\n",
       "      <td>False</td>\n",
       "      <td>False</td>\n",
       "      <td>False</td>\n",
       "      <td>False</td>\n",
       "      <td>False</td>\n",
       "      <td>False</td>\n",
       "      <td>False</td>\n",
       "      <td>False</td>\n",
       "      <td>False</td>\n",
       "      <td>False</td>\n",
       "      <td>False</td>\n",
       "      <td>False</td>\n",
       "      <td>False</td>\n",
       "      <td>False</td>\n",
       "      <td>False</td>\n",
       "      <td>False</td>\n",
       "      <td>False</td>\n",
       "      <td>False</td>\n",
       "      <td>False</td>\n",
       "    </tr>\n",
       "    <tr>\n",
       "      <th>999</th>\n",
       "      <td>False</td>\n",
       "      <td>False</td>\n",
       "      <td>False</td>\n",
       "      <td>False</td>\n",
       "      <td>False</td>\n",
       "      <td>False</td>\n",
       "      <td>False</td>\n",
       "      <td>False</td>\n",
       "      <td>False</td>\n",
       "      <td>False</td>\n",
       "      <td>False</td>\n",
       "      <td>False</td>\n",
       "      <td>False</td>\n",
       "      <td>False</td>\n",
       "      <td>False</td>\n",
       "      <td>False</td>\n",
       "      <td>False</td>\n",
       "      <td>False</td>\n",
       "      <td>False</td>\n",
       "      <td>False</td>\n",
       "    </tr>\n",
       "  </tbody>\n",
       "</table>\n",
       "<p>1000 rows × 20 columns</p>\n",
       "</div>"
      ],
      "text/plain": [
       "     duração  credit_history  propósito  credit_amount  savings_status  \\\n",
       "0      False           False      False          False           False   \n",
       "1      False           False      False          False           False   \n",
       "2      False           False      False          False           False   \n",
       "3      False           False      False          False           False   \n",
       "4      False           False      False          False           False   \n",
       "..       ...             ...        ...            ...             ...   \n",
       "995    False           False      False          False           False   \n",
       "996    False           False      False          False           False   \n",
       "997    False           False      False          False           False   \n",
       "998    False           False      False          False           False   \n",
       "999    False           False      False          False           False   \n",
       "\n",
       "     employment  installment_commitment  personal_status  other_parties  \\\n",
       "0         False                   False            False          False   \n",
       "1         False                   False            False          False   \n",
       "2         False                   False            False          False   \n",
       "3         False                   False            False          False   \n",
       "4         False                   False            False          False   \n",
       "..          ...                     ...              ...            ...   \n",
       "995       False                   False            False          False   \n",
       "996       False                   False            False          False   \n",
       "997       False                   False            False          False   \n",
       "998       False                   False            False          False   \n",
       "999       False                   False            False          False   \n",
       "\n",
       "     residence_since  property_magnitude    age  other_payment_plans  housing  \\\n",
       "0              False               False  False                False    False   \n",
       "1              False               False  False                False    False   \n",
       "2              False               False  False                False    False   \n",
       "3              False               False  False                False    False   \n",
       "4              False               False  False                False    False   \n",
       "..               ...                 ...    ...                  ...      ...   \n",
       "995            False               False  False                False    False   \n",
       "996            False               False  False                False    False   \n",
       "997            False               False  False                False    False   \n",
       "998            False               False  False                False    False   \n",
       "999            False               False  False                False    False   \n",
       "\n",
       "     existing_credits    job  num_dependents  own_telephone  foreign_worker  \\\n",
       "0               False  False           False          False           False   \n",
       "1               False  False           False          False           False   \n",
       "2               False  False           False          False           False   \n",
       "3               False  False           False          False           False   \n",
       "4               False  False           False          False           False   \n",
       "..                ...    ...             ...            ...             ...   \n",
       "995             False  False           False          False           False   \n",
       "996             False  False           False          False           False   \n",
       "997             False  False           False          False           False   \n",
       "998             False  False           False          False           False   \n",
       "999             False  False           False          False           False   \n",
       "\n",
       "     class  \n",
       "0    False  \n",
       "1    False  \n",
       "2    False  \n",
       "3    False  \n",
       "4    False  \n",
       "..     ...  \n",
       "995  False  \n",
       "996  False  \n",
       "997  False  \n",
       "998  False  \n",
       "999  False  \n",
       "\n",
       "[1000 rows x 20 columns]"
      ]
     },
     "execution_count": 51,
     "metadata": {},
     "output_type": "execute_result"
    }
   ],
   "source": [
    "#verificar se existe dados nulos\n",
    "dados.isnull() #onde tiver dado nulo ele retorna True"
   ]
  },
  {
   "cell_type": "code",
   "execution_count": 52,
   "id": "504fc347",
   "metadata": {
    "ExecuteTime": {
     "end_time": "2022-01-20T02:28:25.461216Z",
     "start_time": "2022-01-20T02:28:25.442267Z"
    }
   },
   "outputs": [
    {
     "data": {
      "text/plain": [
       "duração                   0\n",
       "credit_history            0\n",
       "propósito                 0\n",
       "credit_amount             0\n",
       "savings_status            0\n",
       "employment                0\n",
       "installment_commitment    0\n",
       "personal_status           0\n",
       "other_parties             0\n",
       "residence_since           0\n",
       "property_magnitude        0\n",
       "age                       0\n",
       "other_payment_plans       0\n",
       "housing                   0\n",
       "existing_credits          0\n",
       "job                       0\n",
       "num_dependents            0\n",
       "own_telephone             0\n",
       "foreign_worker            0\n",
       "class                     0\n",
       "dtype: int64"
      ]
     },
     "execution_count": 52,
     "metadata": {},
     "output_type": "execute_result"
    }
   ],
   "source": [
    "#resumo de verificação de dados nulos\n",
    "dados.isnull().sum()"
   ]
  },
  {
   "cell_type": "code",
   "execution_count": 53,
   "id": "9f7018ea",
   "metadata": {
    "ExecuteTime": {
     "end_time": "2022-01-20T02:29:05.214458Z",
     "start_time": "2022-01-20T02:29:05.185069Z"
    },
    "scrolled": true
   },
   "outputs": [
    {
     "data": {
      "text/html": [
       "<div>\n",
       "<style scoped>\n",
       "    .dataframe tbody tr th:only-of-type {\n",
       "        vertical-align: middle;\n",
       "    }\n",
       "\n",
       "    .dataframe tbody tr th {\n",
       "        vertical-align: top;\n",
       "    }\n",
       "\n",
       "    .dataframe thead th {\n",
       "        text-align: right;\n",
       "    }\n",
       "</style>\n",
       "<table border=\"1\" class=\"dataframe\">\n",
       "  <thead>\n",
       "    <tr style=\"text-align: right;\">\n",
       "      <th></th>\n",
       "      <th>duração</th>\n",
       "      <th>credit_history</th>\n",
       "      <th>propósito</th>\n",
       "      <th>credit_amount</th>\n",
       "      <th>savings_status</th>\n",
       "      <th>employment</th>\n",
       "      <th>installment_commitment</th>\n",
       "      <th>personal_status</th>\n",
       "      <th>other_parties</th>\n",
       "      <th>residence_since</th>\n",
       "      <th>property_magnitude</th>\n",
       "      <th>age</th>\n",
       "      <th>other_payment_plans</th>\n",
       "      <th>housing</th>\n",
       "      <th>existing_credits</th>\n",
       "      <th>job</th>\n",
       "      <th>num_dependents</th>\n",
       "      <th>own_telephone</th>\n",
       "      <th>foreign_worker</th>\n",
       "      <th>class</th>\n",
       "    </tr>\n",
       "  </thead>\n",
       "  <tbody>\n",
       "    <tr>\n",
       "      <th>0</th>\n",
       "      <td>6</td>\n",
       "      <td>'critical/other existing credit'</td>\n",
       "      <td>radio/tv</td>\n",
       "      <td>1169</td>\n",
       "      <td>'no known savings'</td>\n",
       "      <td>&gt;=7</td>\n",
       "      <td>4</td>\n",
       "      <td>'male single'</td>\n",
       "      <td>none</td>\n",
       "      <td>4</td>\n",
       "      <td>'real estate'</td>\n",
       "      <td>67</td>\n",
       "      <td>none</td>\n",
       "      <td>own</td>\n",
       "      <td>2</td>\n",
       "      <td>skilled</td>\n",
       "      <td>1</td>\n",
       "      <td>yes</td>\n",
       "      <td>yes</td>\n",
       "      <td>good</td>\n",
       "    </tr>\n",
       "    <tr>\n",
       "      <th>1</th>\n",
       "      <td>48</td>\n",
       "      <td>'existing paid'</td>\n",
       "      <td>radio/tv</td>\n",
       "      <td>5951</td>\n",
       "      <td>&lt;100</td>\n",
       "      <td>1&lt;=X&lt;4</td>\n",
       "      <td>2</td>\n",
       "      <td>'female div/dep/mar'</td>\n",
       "      <td>none</td>\n",
       "      <td>2</td>\n",
       "      <td>'real estate'</td>\n",
       "      <td>22</td>\n",
       "      <td>none</td>\n",
       "      <td>own</td>\n",
       "      <td>1</td>\n",
       "      <td>skilled</td>\n",
       "      <td>1</td>\n",
       "      <td>none</td>\n",
       "      <td>yes</td>\n",
       "      <td>bad</td>\n",
       "    </tr>\n",
       "    <tr>\n",
       "      <th>2</th>\n",
       "      <td>12</td>\n",
       "      <td>'critical/other existing credit'</td>\n",
       "      <td>education</td>\n",
       "      <td>2096</td>\n",
       "      <td>&lt;100</td>\n",
       "      <td>4&lt;=X&lt;7</td>\n",
       "      <td>2</td>\n",
       "      <td>'male single'</td>\n",
       "      <td>none</td>\n",
       "      <td>3</td>\n",
       "      <td>'real estate'</td>\n",
       "      <td>49</td>\n",
       "      <td>none</td>\n",
       "      <td>own</td>\n",
       "      <td>1</td>\n",
       "      <td>'unskilled resident'</td>\n",
       "      <td>2</td>\n",
       "      <td>none</td>\n",
       "      <td>yes</td>\n",
       "      <td>good</td>\n",
       "    </tr>\n",
       "    <tr>\n",
       "      <th>3</th>\n",
       "      <td>42</td>\n",
       "      <td>'existing paid'</td>\n",
       "      <td>furniture/equipment</td>\n",
       "      <td>7882</td>\n",
       "      <td>&lt;100</td>\n",
       "      <td>4&lt;=X&lt;7</td>\n",
       "      <td>2</td>\n",
       "      <td>'male single'</td>\n",
       "      <td>guarantor</td>\n",
       "      <td>4</td>\n",
       "      <td>'life insurance'</td>\n",
       "      <td>45</td>\n",
       "      <td>none</td>\n",
       "      <td>'for free'</td>\n",
       "      <td>1</td>\n",
       "      <td>skilled</td>\n",
       "      <td>2</td>\n",
       "      <td>none</td>\n",
       "      <td>yes</td>\n",
       "      <td>good</td>\n",
       "    </tr>\n",
       "    <tr>\n",
       "      <th>4</th>\n",
       "      <td>24</td>\n",
       "      <td>'delayed previously'</td>\n",
       "      <td>'new car'</td>\n",
       "      <td>4870</td>\n",
       "      <td>&lt;100</td>\n",
       "      <td>1&lt;=X&lt;4</td>\n",
       "      <td>3</td>\n",
       "      <td>'male single'</td>\n",
       "      <td>none</td>\n",
       "      <td>4</td>\n",
       "      <td>'no known property'</td>\n",
       "      <td>53</td>\n",
       "      <td>none</td>\n",
       "      <td>'for free'</td>\n",
       "      <td>2</td>\n",
       "      <td>skilled</td>\n",
       "      <td>2</td>\n",
       "      <td>none</td>\n",
       "      <td>yes</td>\n",
       "      <td>bad</td>\n",
       "    </tr>\n",
       "    <tr>\n",
       "      <th>...</th>\n",
       "      <td>...</td>\n",
       "      <td>...</td>\n",
       "      <td>...</td>\n",
       "      <td>...</td>\n",
       "      <td>...</td>\n",
       "      <td>...</td>\n",
       "      <td>...</td>\n",
       "      <td>...</td>\n",
       "      <td>...</td>\n",
       "      <td>...</td>\n",
       "      <td>...</td>\n",
       "      <td>...</td>\n",
       "      <td>...</td>\n",
       "      <td>...</td>\n",
       "      <td>...</td>\n",
       "      <td>...</td>\n",
       "      <td>...</td>\n",
       "      <td>...</td>\n",
       "      <td>...</td>\n",
       "      <td>...</td>\n",
       "    </tr>\n",
       "    <tr>\n",
       "      <th>995</th>\n",
       "      <td>12</td>\n",
       "      <td>'existing paid'</td>\n",
       "      <td>furniture/equipment</td>\n",
       "      <td>1736</td>\n",
       "      <td>&lt;100</td>\n",
       "      <td>4&lt;=X&lt;7</td>\n",
       "      <td>3</td>\n",
       "      <td>'female div/dep/mar'</td>\n",
       "      <td>none</td>\n",
       "      <td>4</td>\n",
       "      <td>'real estate'</td>\n",
       "      <td>31</td>\n",
       "      <td>none</td>\n",
       "      <td>own</td>\n",
       "      <td>1</td>\n",
       "      <td>'unskilled resident'</td>\n",
       "      <td>1</td>\n",
       "      <td>none</td>\n",
       "      <td>yes</td>\n",
       "      <td>good</td>\n",
       "    </tr>\n",
       "    <tr>\n",
       "      <th>996</th>\n",
       "      <td>30</td>\n",
       "      <td>'existing paid'</td>\n",
       "      <td>'used car'</td>\n",
       "      <td>3857</td>\n",
       "      <td>&lt;100</td>\n",
       "      <td>1&lt;=X&lt;4</td>\n",
       "      <td>4</td>\n",
       "      <td>'male div/sep'</td>\n",
       "      <td>none</td>\n",
       "      <td>4</td>\n",
       "      <td>'life insurance'</td>\n",
       "      <td>40</td>\n",
       "      <td>none</td>\n",
       "      <td>own</td>\n",
       "      <td>1</td>\n",
       "      <td>'high qualif/self emp/mgmt'</td>\n",
       "      <td>1</td>\n",
       "      <td>yes</td>\n",
       "      <td>yes</td>\n",
       "      <td>good</td>\n",
       "    </tr>\n",
       "    <tr>\n",
       "      <th>997</th>\n",
       "      <td>12</td>\n",
       "      <td>'existing paid'</td>\n",
       "      <td>radio/tv</td>\n",
       "      <td>804</td>\n",
       "      <td>&lt;100</td>\n",
       "      <td>&gt;=7</td>\n",
       "      <td>4</td>\n",
       "      <td>'male single'</td>\n",
       "      <td>none</td>\n",
       "      <td>4</td>\n",
       "      <td>car</td>\n",
       "      <td>38</td>\n",
       "      <td>none</td>\n",
       "      <td>own</td>\n",
       "      <td>1</td>\n",
       "      <td>skilled</td>\n",
       "      <td>1</td>\n",
       "      <td>none</td>\n",
       "      <td>yes</td>\n",
       "      <td>good</td>\n",
       "    </tr>\n",
       "    <tr>\n",
       "      <th>998</th>\n",
       "      <td>45</td>\n",
       "      <td>'existing paid'</td>\n",
       "      <td>radio/tv</td>\n",
       "      <td>1845</td>\n",
       "      <td>&lt;100</td>\n",
       "      <td>1&lt;=X&lt;4</td>\n",
       "      <td>4</td>\n",
       "      <td>'male single'</td>\n",
       "      <td>none</td>\n",
       "      <td>4</td>\n",
       "      <td>'no known property'</td>\n",
       "      <td>23</td>\n",
       "      <td>none</td>\n",
       "      <td>'for free'</td>\n",
       "      <td>1</td>\n",
       "      <td>skilled</td>\n",
       "      <td>1</td>\n",
       "      <td>yes</td>\n",
       "      <td>yes</td>\n",
       "      <td>bad</td>\n",
       "    </tr>\n",
       "    <tr>\n",
       "      <th>999</th>\n",
       "      <td>45</td>\n",
       "      <td>'critical/other existing credit'</td>\n",
       "      <td>'used car'</td>\n",
       "      <td>4576</td>\n",
       "      <td>100&lt;=X&lt;500</td>\n",
       "      <td>unemployed</td>\n",
       "      <td>3</td>\n",
       "      <td>'male single'</td>\n",
       "      <td>none</td>\n",
       "      <td>4</td>\n",
       "      <td>car</td>\n",
       "      <td>27</td>\n",
       "      <td>none</td>\n",
       "      <td>own</td>\n",
       "      <td>1</td>\n",
       "      <td>skilled</td>\n",
       "      <td>1</td>\n",
       "      <td>none</td>\n",
       "      <td>yes</td>\n",
       "      <td>good</td>\n",
       "    </tr>\n",
       "  </tbody>\n",
       "</table>\n",
       "<p>1000 rows × 20 columns</p>\n",
       "</div>"
      ],
      "text/plain": [
       "     duração                    credit_history            propósito  \\\n",
       "0          6  'critical/other existing credit'             radio/tv   \n",
       "1         48                   'existing paid'             radio/tv   \n",
       "2         12  'critical/other existing credit'            education   \n",
       "3         42                   'existing paid'  furniture/equipment   \n",
       "4         24              'delayed previously'            'new car'   \n",
       "..       ...                               ...                  ...   \n",
       "995       12                   'existing paid'  furniture/equipment   \n",
       "996       30                   'existing paid'           'used car'   \n",
       "997       12                   'existing paid'             radio/tv   \n",
       "998       45                   'existing paid'             radio/tv   \n",
       "999       45  'critical/other existing credit'           'used car'   \n",
       "\n",
       "     credit_amount      savings_status  employment  installment_commitment  \\\n",
       "0             1169  'no known savings'         >=7                       4   \n",
       "1             5951                <100      1<=X<4                       2   \n",
       "2             2096                <100      4<=X<7                       2   \n",
       "3             7882                <100      4<=X<7                       2   \n",
       "4             4870                <100      1<=X<4                       3   \n",
       "..             ...                 ...         ...                     ...   \n",
       "995           1736                <100      4<=X<7                       3   \n",
       "996           3857                <100      1<=X<4                       4   \n",
       "997            804                <100         >=7                       4   \n",
       "998           1845                <100      1<=X<4                       4   \n",
       "999           4576          100<=X<500  unemployed                       3   \n",
       "\n",
       "          personal_status other_parties  residence_since   property_magnitude  \\\n",
       "0           'male single'          none                4        'real estate'   \n",
       "1    'female div/dep/mar'          none                2        'real estate'   \n",
       "2           'male single'          none                3        'real estate'   \n",
       "3           'male single'     guarantor                4     'life insurance'   \n",
       "4           'male single'          none                4  'no known property'   \n",
       "..                    ...           ...              ...                  ...   \n",
       "995  'female div/dep/mar'          none                4        'real estate'   \n",
       "996        'male div/sep'          none                4     'life insurance'   \n",
       "997         'male single'          none                4                  car   \n",
       "998         'male single'          none                4  'no known property'   \n",
       "999         'male single'          none                4                  car   \n",
       "\n",
       "     age other_payment_plans     housing  existing_credits  \\\n",
       "0     67                none         own                 2   \n",
       "1     22                none         own                 1   \n",
       "2     49                none         own                 1   \n",
       "3     45                none  'for free'                 1   \n",
       "4     53                none  'for free'                 2   \n",
       "..   ...                 ...         ...               ...   \n",
       "995   31                none         own                 1   \n",
       "996   40                none         own                 1   \n",
       "997   38                none         own                 1   \n",
       "998   23                none  'for free'                 1   \n",
       "999   27                none         own                 1   \n",
       "\n",
       "                             job  num_dependents own_telephone foreign_worker  \\\n",
       "0                        skilled               1           yes            yes   \n",
       "1                        skilled               1          none            yes   \n",
       "2           'unskilled resident'               2          none            yes   \n",
       "3                        skilled               2          none            yes   \n",
       "4                        skilled               2          none            yes   \n",
       "..                           ...             ...           ...            ...   \n",
       "995         'unskilled resident'               1          none            yes   \n",
       "996  'high qualif/self emp/mgmt'               1           yes            yes   \n",
       "997                      skilled               1          none            yes   \n",
       "998                      skilled               1           yes            yes   \n",
       "999                      skilled               1          none            yes   \n",
       "\n",
       "    class  \n",
       "0    good  \n",
       "1     bad  \n",
       "2    good  \n",
       "3    good  \n",
       "4     bad  \n",
       "..    ...  \n",
       "995  good  \n",
       "996  good  \n",
       "997  good  \n",
       "998   bad  \n",
       "999  good  \n",
       "\n",
       "[1000 rows x 20 columns]"
      ]
     },
     "execution_count": 53,
     "metadata": {},
     "output_type": "execute_result"
    }
   ],
   "source": [
    "#retirar colunas com NaN\n",
    "dados.dropna()"
   ]
  },
  {
   "cell_type": "code",
   "execution_count": 54,
   "id": "12bb7c40",
   "metadata": {
    "ExecuteTime": {
     "end_time": "2022-01-20T02:30:00.529967Z",
     "start_time": "2022-01-20T02:30:00.515008Z"
    }
   },
   "outputs": [],
   "source": [
    "#preencher dados faltantes (NaN)\n",
    "dados['duração'].fillna(0,inplace = True)"
   ]
  },
  {
   "cell_type": "code",
   "execution_count": 55,
   "id": "576b53a4",
   "metadata": {
    "ExecuteTime": {
     "end_time": "2022-01-20T02:31:47.853102Z",
     "start_time": "2022-01-20T02:31:47.842097Z"
    }
   },
   "outputs": [
    {
     "data": {
      "text/html": [
       "<div>\n",
       "<style scoped>\n",
       "    .dataframe tbody tr th:only-of-type {\n",
       "        vertical-align: middle;\n",
       "    }\n",
       "\n",
       "    .dataframe tbody tr th {\n",
       "        vertical-align: top;\n",
       "    }\n",
       "\n",
       "    .dataframe thead th {\n",
       "        text-align: right;\n",
       "    }\n",
       "</style>\n",
       "<table border=\"1\" class=\"dataframe\">\n",
       "  <thead>\n",
       "    <tr style=\"text-align: right;\">\n",
       "      <th></th>\n",
       "      <th>duração</th>\n",
       "      <th>credit_history</th>\n",
       "      <th>propósito</th>\n",
       "      <th>credit_amount</th>\n",
       "      <th>savings_status</th>\n",
       "    </tr>\n",
       "  </thead>\n",
       "  <tbody>\n",
       "    <tr>\n",
       "      <th>0</th>\n",
       "      <td>6</td>\n",
       "      <td>'critical/other existing credit'</td>\n",
       "      <td>radio/tv</td>\n",
       "      <td>1169</td>\n",
       "      <td>'no known savings'</td>\n",
       "    </tr>\n",
       "    <tr>\n",
       "      <th>1</th>\n",
       "      <td>48</td>\n",
       "      <td>'existing paid'</td>\n",
       "      <td>radio/tv</td>\n",
       "      <td>5951</td>\n",
       "      <td>&lt;100</td>\n",
       "    </tr>\n",
       "    <tr>\n",
       "      <th>2</th>\n",
       "      <td>12</td>\n",
       "      <td>'critical/other existing credit'</td>\n",
       "      <td>education</td>\n",
       "      <td>2096</td>\n",
       "      <td>&lt;100</td>\n",
       "    </tr>\n",
       "  </tbody>\n",
       "</table>\n",
       "</div>"
      ],
      "text/plain": [
       "   duração                    credit_history  propósito  credit_amount  \\\n",
       "0        6  'critical/other existing credit'   radio/tv           1169   \n",
       "1       48                   'existing paid'   radio/tv           5951   \n",
       "2       12  'critical/other existing credit'  education           2096   \n",
       "\n",
       "       savings_status  \n",
       "0  'no known savings'  \n",
       "1                <100  \n",
       "2                <100  "
      ]
     },
     "execution_count": 55,
     "metadata": {},
     "output_type": "execute_result"
    }
   ],
   "source": [
    "dados.iloc[0:3,0:5] #retorna as linhas de 0 a 3 e colunas de 0 a 5 do DF"
   ]
  },
  {
   "cell_type": "code",
   "execution_count": 56,
   "id": "4586f078",
   "metadata": {
    "ExecuteTime": {
     "end_time": "2022-01-20T02:32:20.564839Z",
     "start_time": "2022-01-20T02:32:20.545890Z"
    }
   },
   "outputs": [
    {
     "data": {
      "text/html": [
       "<div>\n",
       "<style scoped>\n",
       "    .dataframe tbody tr th:only-of-type {\n",
       "        vertical-align: middle;\n",
       "    }\n",
       "\n",
       "    .dataframe tbody tr th {\n",
       "        vertical-align: top;\n",
       "    }\n",
       "\n",
       "    .dataframe thead th {\n",
       "        text-align: right;\n",
       "    }\n",
       "</style>\n",
       "<table border=\"1\" class=\"dataframe\">\n",
       "  <thead>\n",
       "    <tr style=\"text-align: right;\">\n",
       "      <th></th>\n",
       "      <th>duração</th>\n",
       "      <th>credit_history</th>\n",
       "      <th>propósito</th>\n",
       "      <th>credit_amount</th>\n",
       "      <th>savings_status</th>\n",
       "    </tr>\n",
       "  </thead>\n",
       "  <tbody>\n",
       "    <tr>\n",
       "      <th>0</th>\n",
       "      <td>6</td>\n",
       "      <td>'critical/other existing credit'</td>\n",
       "      <td>radio/tv</td>\n",
       "      <td>1169</td>\n",
       "      <td>'no known savings'</td>\n",
       "    </tr>\n",
       "    <tr>\n",
       "      <th>1</th>\n",
       "      <td>48</td>\n",
       "      <td>'existing paid'</td>\n",
       "      <td>radio/tv</td>\n",
       "      <td>5951</td>\n",
       "      <td>&lt;100</td>\n",
       "    </tr>\n",
       "    <tr>\n",
       "      <th>2</th>\n",
       "      <td>12</td>\n",
       "      <td>'critical/other existing credit'</td>\n",
       "      <td>education</td>\n",
       "      <td>2096</td>\n",
       "      <td>&lt;100</td>\n",
       "    </tr>\n",
       "    <tr>\n",
       "      <th>3</th>\n",
       "      <td>42</td>\n",
       "      <td>'existing paid'</td>\n",
       "      <td>furniture/equipment</td>\n",
       "      <td>7882</td>\n",
       "      <td>&lt;100</td>\n",
       "    </tr>\n",
       "    <tr>\n",
       "      <th>7</th>\n",
       "      <td>36</td>\n",
       "      <td>'existing paid'</td>\n",
       "      <td>'used car'</td>\n",
       "      <td>6948</td>\n",
       "      <td>&lt;100</td>\n",
       "    </tr>\n",
       "  </tbody>\n",
       "</table>\n",
       "</div>"
      ],
      "text/plain": [
       "   duração                    credit_history            propósito  \\\n",
       "0        6  'critical/other existing credit'             radio/tv   \n",
       "1       48                   'existing paid'             radio/tv   \n",
       "2       12  'critical/other existing credit'            education   \n",
       "3       42                   'existing paid'  furniture/equipment   \n",
       "7       36                   'existing paid'           'used car'   \n",
       "\n",
       "   credit_amount      savings_status  \n",
       "0           1169  'no known savings'  \n",
       "1           5951                <100  \n",
       "2           2096                <100  \n",
       "3           7882                <100  \n",
       "7           6948                <100  "
      ]
     },
     "execution_count": 56,
     "metadata": {},
     "output_type": "execute_result"
    }
   ],
   "source": [
    "dados.iloc[[0,1,2,3,7],0:5] #retorna as linhas descritas na lista e as colunas de 0 a 5"
   ]
  },
  {
   "cell_type": "markdown",
   "id": "773c01e8",
   "metadata": {},
   "source": [
    "# Módulos e Pacotes"
   ]
  },
  {
   "cell_type": "code",
   "execution_count": 1,
   "id": "1c42a6a4",
   "metadata": {
    "ExecuteTime": {
     "end_time": "2022-01-20T23:39:34.095665Z",
     "start_time": "2022-01-20T23:39:34.067741Z"
    }
   },
   "outputs": [
    {
     "name": "stdout",
     "output_type": "stream",
     "text": [
      "25\n",
      "25.0\n"
     ]
    }
   ],
   "source": [
    "import statistics #posso importar \"as est\" e no lugar de statistics seria est.\n",
    "z = [10, 20, 30, 40]\n",
    "x = statistics.mean(z)\n",
    "y = statistics.median(z)\n",
    "print(x)\n",
    "print(y)"
   ]
  },
  {
   "cell_type": "code",
   "execution_count": 2,
   "id": "391b7dee",
   "metadata": {
    "ExecuteTime": {
     "end_time": "2022-01-20T23:46:58.045374Z",
     "start_time": "2022-01-20T23:46:58.041384Z"
    }
   },
   "outputs": [
    {
     "name": "stdout",
     "output_type": "stream",
     "text": [
      "25\n",
      "25.0\n"
     ]
    }
   ],
   "source": [
    "from statistics import mean, median\n",
    "z = [10,20,30,40]\n",
    "x = mean(z)\n",
    "y = median(z)\n",
    "print(x)\n",
    "print(y)\n"
   ]
  },
  {
   "cell_type": "code",
   "execution_count": 3,
   "id": "e5490f9c",
   "metadata": {
    "ExecuteTime": {
     "end_time": "2022-01-20T23:47:57.865582Z",
     "start_time": "2022-01-20T23:47:57.847648Z"
    }
   },
   "outputs": [
    {
     "name": "stdout",
     "output_type": "stream",
     "text": [
      "25\n",
      "25.0\n"
     ]
    }
   ],
   "source": [
    "from statistics import * #importa todas as funcionalizades\n",
    "x = mean(z)\n",
    "y = median(z)\n",
    "print(x)\n",
    "print(y)\n",
    "#desvantagem é conflito de propriedades por causa do uso de outras bibliotecas"
   ]
  },
  {
   "cell_type": "markdown",
   "id": "e6b2a464",
   "metadata": {},
   "source": [
    "# Estruturas de Repetição"
   ]
  },
  {
   "cell_type": "code",
   "execution_count": 1,
   "id": "15f6b839",
   "metadata": {
    "ExecuteTime": {
     "end_time": "2022-01-24T09:04:22.602442Z",
     "start_time": "2022-01-24T09:04:22.582524Z"
    }
   },
   "outputs": [
    {
     "name": "stdout",
     "output_type": "stream",
     "text": [
      "1\n",
      "2\n",
      "3\n",
      "4\n",
      "5\n"
     ]
    }
   ],
   "source": [
    "count = 1\n",
    "while count <= 5:\n",
    "    print(count)\n",
    "    count += 1 #implementa o contador"
   ]
  },
  {
   "cell_type": "code",
   "execution_count": 2,
   "id": "2b18f501",
   "metadata": {
    "ExecuteTime": {
     "end_time": "2022-01-24T23:44:38.451426Z",
     "start_time": "2022-01-24T23:44:38.431452Z"
    }
   },
   "outputs": [
    {
     "name": "stdout",
     "output_type": "stream",
     "text": [
      "1\n",
      "2\n",
      "3\n",
      "4\n",
      "5\n",
      "6\n",
      "7\n",
      "8\n",
      "9\n",
      "10\n",
      "1\n",
      "2\n",
      "3\n",
      "4\n",
      "5\n",
      "6\n",
      "7\n",
      "8\n",
      "9\n",
      "10\n"
     ]
    }
   ],
   "source": [
    "for n in range(0,10): \n",
    "    print(n+1)\n",
    "\n",
    "for n in range(1,11): #O python ignora o último valor do intervalo. Por isso coloca até 11. \n",
    "    print(n)"
   ]
  },
  {
   "cell_type": "markdown",
   "id": "5f9ddd4f",
   "metadata": {},
   "source": [
    "- A estrutura **'for'** normalmente se usa com a estrutura 'range'\n",
    "- A estrutura **'range'** normalmente vai se apresentar com **(início, parada , incremento)**. Sendo o **incremento** opcional.\n",
    "- O incremento poderá ser negativo."
   ]
  },
  {
   "cell_type": "code",
   "execution_count": 3,
   "id": "8f9add80",
   "metadata": {
    "ExecuteTime": {
     "end_time": "2022-01-24T23:51:53.423153Z",
     "start_time": "2022-01-24T23:51:53.414177Z"
    }
   },
   "outputs": [
    {
     "name": "stdout",
     "output_type": "stream",
     "text": [
      "10\n",
      "9\n",
      "8\n",
      "7\n",
      "6\n",
      "5\n",
      "4\n",
      "3\n",
      "2\n",
      "1\n"
     ]
    }
   ],
   "source": [
    "for n in range(10,0,-1):\n",
    "    print(n)"
   ]
  },
  {
   "cell_type": "code",
   "execution_count": 4,
   "id": "9b593c2b",
   "metadata": {
    "ExecuteTime": {
     "end_time": "2022-01-24T23:52:53.831475Z",
     "start_time": "2022-01-24T23:52:53.819508Z"
    }
   },
   "outputs": [
    {
     "name": "stdout",
     "output_type": "stream",
     "text": [
      "0\n",
      "1\n",
      "2\n",
      "3\n"
     ]
    }
   ],
   "source": [
    "for n in range(0,10):\n",
    "    if n==4:\n",
    "        break\n",
    "    print(n)"
   ]
  },
  {
   "cell_type": "code",
   "execution_count": 6,
   "id": "7a51d7dd",
   "metadata": {
    "ExecuteTime": {
     "end_time": "2022-01-24T23:55:47.863087Z",
     "start_time": "2022-01-24T23:55:47.845135Z"
    }
   },
   "outputs": [
    {
     "name": "stdout",
     "output_type": "stream",
     "text": [
      "0\n",
      "1\n",
      "2\n",
      "3\n",
      "5\n",
      "6\n",
      "7\n",
      "8\n",
      "9\n"
     ]
    }
   ],
   "source": [
    "for n in range(0,10):\n",
    "    if n==4:\n",
    "        continue #aqui, ele irá pular o 4º elemento e continuar a plotar até o fim do intervalo definido no \n",
    "                #no parâmetro\n",
    "    print(n)\n",
    "     "
   ]
  },
  {
   "cell_type": "markdown",
   "id": "355bd2c6",
   "metadata": {},
   "source": [
    "# Funções"
   ]
  },
  {
   "cell_type": "markdown",
   "id": "cd871fd3",
   "metadata": {},
   "source": [
    "- Para se criar uma função, usa-se o termo **'def'**, em seguida o nome que se quer dar à função (isto é, o nome que esta será chamada)."
   ]
  },
  {
   "cell_type": "code",
   "execution_count": 7,
   "id": "b2b285ad",
   "metadata": {
    "ExecuteTime": {
     "end_time": "2022-01-25T01:02:14.485879Z",
     "start_time": "2022-01-25T01:02:14.479895Z"
    }
   },
   "outputs": [
    {
     "name": "stdout",
     "output_type": "stream",
     "text": [
      "Esta é uma função\n"
     ]
    }
   ],
   "source": [
    "def imprime():\n",
    "    print('Esta é uma função')\n",
    "\n",
    "imprime()"
   ]
  },
  {
   "cell_type": "markdown",
   "id": "dc4940c5",
   "metadata": {},
   "source": [
    "- De maneira genérica pode-se atribuir um parâmetro nos parênteses."
   ]
  },
  {
   "cell_type": "code",
   "execution_count": 8,
   "id": "707c0e2a",
   "metadata": {
    "ExecuteTime": {
     "end_time": "2022-01-25T01:04:00.008769Z",
     "start_time": "2022-01-25T01:03:59.994801Z"
    }
   },
   "outputs": [
    {
     "name": "stdout",
     "output_type": "stream",
     "text": [
      "O parâmetro irá dentro do parêntese substituíndo o n. Esse grande texto é o parâmetro\n"
     ]
    }
   ],
   "source": [
    "def imprime(n):\n",
    "    print(n)\n",
    "\n",
    "imprime('O parâmetro irá dentro do parêntese substituíndo o n. Esse grande texto é o parâmetro')"
   ]
  },
  {
   "cell_type": "markdown",
   "id": "64249c4e",
   "metadata": {},
   "source": [
    "- Quando a função precista retornar uma conta matemática:"
   ]
  },
  {
   "cell_type": "code",
   "execution_count": 9,
   "id": "27c55c45",
   "metadata": {
    "ExecuteTime": {
     "end_time": "2022-01-25T01:07:15.269940Z",
     "start_time": "2022-01-25T01:07:15.254953Z"
    }
   },
   "outputs": [
    {
     "name": "stdout",
     "output_type": "stream",
     "text": [
      "9\n"
     ]
    }
   ],
   "source": [
    "def potencia(n):\n",
    "    return n * n\n",
    "\n",
    "x = potencia(3)\n",
    "print(x)"
   ]
  },
  {
   "cell_type": "markdown",
   "id": "28ac0389",
   "metadata": {},
   "source": [
    "# Funções Padrão"
   ]
  },
  {
   "cell_type": "markdown",
   "id": "f5a00942",
   "metadata": {},
   "source": [
    "- Funções Padrão são aquelas de soma, máx, min, média, mediana, desvio padrão, etc.\n",
    "- Algumas são próprias do python, como soma, máx, min. Outras precisarão ser importadas do statistics por exemplo, como média, moda, mediana. "
   ]
  },
  {
   "cell_type": "code",
   "execution_count": 18,
   "id": "134f30d9",
   "metadata": {
    "ExecuteTime": {
     "end_time": "2022-01-25T01:33:04.999533Z",
     "start_time": "2022-01-25T01:33:04.980556Z"
    }
   },
   "outputs": [
    {
     "name": "stdout",
     "output_type": "stream",
     "text": [
      "200\n",
      "Maior valor: 45\n",
      "Menor valor: 1\n",
      "Soma: 108\n",
      "Arredondamento: 2.35\n"
     ]
    }
   ],
   "source": [
    "print(abs(-200))\n",
    "lst = [1,2,30,30,45]\n",
    "print('Maior valor:', max(lst))\n",
    "print('Menor valor:', min(lst))\n",
    "print('Soma:',sum(lst))\n",
    "print('Arredondamento:', round(2.3467,2)) #arredonda para 2 casas decimais"
   ]
  },
  {
   "cell_type": "code",
   "execution_count": 19,
   "id": "2eeaea8f",
   "metadata": {
    "ExecuteTime": {
     "end_time": "2022-01-25T01:33:11.542052Z",
     "start_time": "2022-01-25T01:33:11.523104Z"
    }
   },
   "outputs": [
    {
     "name": "stdout",
     "output_type": "stream",
     "text": [
      "Média: 21.6\n",
      "Mediana: 30\n",
      "Moda: 30\n",
      "Desvio padrão: 19.346834366376324\n",
      "Variância 374.3\n"
     ]
    }
   ],
   "source": [
    "from statistics import *\n",
    "print('Média:', mean(lst))\n",
    "print('Mediana:', median(lst))\n",
    "print('Moda:', mode(lst))\n",
    "print('Desvio padrão:', stdev(lst))\n",
    "print('Variância', variance(lst))"
   ]
  },
  {
   "cell_type": "code",
   "execution_count": 20,
   "id": "172e5aae",
   "metadata": {
    "ExecuteTime": {
     "end_time": "2022-01-25T01:34:09.452611Z",
     "start_time": "2022-01-25T01:34:08.988423Z"
    }
   },
   "outputs": [
    {
     "name": "stdout",
     "output_type": "stream",
     "text": [
      "<class 'numpy.ndarray'>\n",
      "[[0.92175642 0.94026224 0.55632079 0.0131909  0.64625658 0.22476089\n",
      "  0.03971968 0.69521253]\n",
      " [0.46260968 0.09167284 0.25234863 0.29492745 0.22783676 0.95975208\n",
      "  0.48835039 0.47733124]\n",
      " [0.15440161 0.40071591 0.16916267 0.677161   0.38038912 0.39619573\n",
      "  0.24603059 0.89267188]\n",
      " [0.80824684 0.52389387 0.81375274 0.26188733 0.39589397 0.45007557\n",
      "  0.42436234 0.55447668]\n",
      " [0.23923765 0.98018357 0.36672407 0.35627457 0.09682216 0.4598023\n",
      "  0.534079   0.62190903]\n",
      " [0.01870735 0.62856067 0.56750786 0.38543137 0.54751158 0.85491149\n",
      "  0.1440848  0.26048381]\n",
      " [0.19869276 0.25556163 0.17332061 0.80483372 0.70900305 0.77843797\n",
      "  0.23289853 0.74440141]\n",
      " [0.07945414 0.83141042 0.35826427 0.84847414 0.51345403 0.68492741\n",
      "  0.73819776 0.13456198]]\n"
     ]
    }
   ],
   "source": [
    "from numpy import *\n",
    "a = random.random((8,8))\n",
    "print(type(a))\n",
    "print(a)"
   ]
  }
 ],
 "metadata": {
  "kernelspec": {
   "display_name": "Python 3 (ipykernel)",
   "language": "python",
   "name": "python3"
  },
  "language_info": {
   "codemirror_mode": {
    "name": "ipython",
    "version": 3
   },
   "file_extension": ".py",
   "mimetype": "text/x-python",
   "name": "python",
   "nbconvert_exporter": "python",
   "pygments_lexer": "ipython3",
   "version": "3.9.7"
  },
  "toc": {
   "base_numbering": 1,
   "nav_menu": {},
   "number_sections": true,
   "sideBar": true,
   "skip_h1_title": false,
   "title_cell": "Table of Contents",
   "title_sidebar": "Contents",
   "toc_cell": false,
   "toc_position": {
    "height": "calc(100% - 180px)",
    "left": "10px",
    "top": "150px",
    "width": "273.188px"
   },
   "toc_section_display": true,
   "toc_window_display": true
  }
 },
 "nbformat": 4,
 "nbformat_minor": 5
}
