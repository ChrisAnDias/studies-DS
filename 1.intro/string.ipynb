{
 "cells": [
  {
   "cell_type": "markdown",
   "id": "faab3ae7",
   "metadata": {},
   "source": [
    "# String"
   ]
  },
  {
   "cell_type": "markdown",
   "id": "54def728",
   "metadata": {},
   "source": [
    "- Tradução literal: Corta\n",
    "- Pensar em vários nós feitos em uma corda. Cada nó representa um caractér"
   ]
  },
  {
   "cell_type": "code",
   "execution_count": 1,
   "id": "a7d0966b",
   "metadata": {
    "ExecuteTime": {
     "end_time": "2022-09-13T02:42:19.744621Z",
     "start_time": "2022-09-13T02:42:19.726643Z"
    }
   },
   "outputs": [
    {
     "name": "stdout",
     "output_type": "stream",
     "text": [
      "Google\n"
     ]
    }
   ],
   "source": [
    "empresa = 'Google'\n",
    "print(empresa)"
   ]
  },
  {
   "cell_type": "markdown",
   "id": "c08602e4",
   "metadata": {},
   "source": [
    "## Problemas Aspas"
   ]
  },
  {
   "cell_type": "code",
   "execution_count": 2,
   "id": "9b7fa1aa",
   "metadata": {
    "ExecuteTime": {
     "end_time": "2022-09-13T02:42:50.955211Z",
     "start_time": "2022-09-13T02:42:50.946205Z"
    }
   },
   "outputs": [
    {
     "ename": "SyntaxError",
     "evalue": "invalid syntax (Temp/ipykernel_19688/2745266560.py, line 1)",
     "output_type": "error",
     "traceback": [
      "\u001b[1;36m  File \u001b[1;32m\"C:\\Users\\CHRIST~1\\AppData\\Local\\Temp/ipykernel_19688/2745266560.py\"\u001b[1;36m, line \u001b[1;32m1\u001b[0m\n\u001b[1;33m    empresa2 = 'Let's Code'\u001b[0m\n\u001b[1;37m                    ^\u001b[0m\n\u001b[1;31mSyntaxError\u001b[0m\u001b[1;31m:\u001b[0m invalid syntax\n"
     ]
    }
   ],
   "source": [
    "empresa2 = 'Let's Code'"
   ]
  },
  {
   "cell_type": "code",
   "execution_count": 4,
   "id": "fc492d21",
   "metadata": {
    "ExecuteTime": {
     "end_time": "2022-09-13T02:43:13.976363Z",
     "start_time": "2022-09-13T02:43:13.970378Z"
    }
   },
   "outputs": [
    {
     "name": "stdout",
     "output_type": "stream",
     "text": [
      "Let's Code\n"
     ]
    }
   ],
   "source": [
    "empresa2 = \"Let's Code\"\n",
    "print(empresa2)"
   ]
  },
  {
   "cell_type": "code",
   "execution_count": 5,
   "id": "8dbd1e6e",
   "metadata": {
    "ExecuteTime": {
     "end_time": "2022-09-13T02:44:01.923772Z",
     "start_time": "2022-09-13T02:44:01.914795Z"
    }
   },
   "outputs": [
    {
     "ename": "SyntaxError",
     "evalue": "invalid syntax (Temp/ipykernel_19688/1467517233.py, line 1)",
     "output_type": "error",
     "traceback": [
      "\u001b[1;36m  File \u001b[1;32m\"C:\\Users\\CHRIST~1\\AppData\\Local\\Temp/ipykernel_19688/1467517233.py\"\u001b[1;36m, line \u001b[1;32m1\u001b[0m\n\u001b[1;33m    frase = \"O professor Pietro da Let's Code disse: \"Hoje  a pizza é por minha conta\"\"\u001b[0m\n\u001b[1;37m                                                      ^\u001b[0m\n\u001b[1;31mSyntaxError\u001b[0m\u001b[1;31m:\u001b[0m invalid syntax\n"
     ]
    }
   ],
   "source": [
    "frase = \"O professor Pietro da Let's Code disse: \"Hoje  a pizza é por minha conta\"\""
   ]
  },
  {
   "cell_type": "markdown",
   "id": "ed5233ed",
   "metadata": {},
   "source": [
    "## Caractér de escape"
   ]
  },
  {
   "cell_type": "code",
   "execution_count": 7,
   "id": "063431e5",
   "metadata": {
    "ExecuteTime": {
     "end_time": "2022-09-13T02:51:28.019987Z",
     "start_time": "2022-09-13T02:51:28.011043Z"
    }
   },
   "outputs": [
    {
     "name": "stdout",
     "output_type": "stream",
     "text": [
      "O professor Pietro da Let's Code disse: \"Hoje  a pizza é por minha conta\"\n"
     ]
    }
   ],
   "source": [
    "frase = \"O professor Pietro da Let's Code disse: \\\"Hoje  a pizza é por minha conta\\\"\"\n",
    "print(frase)"
   ]
  },
  {
   "cell_type": "markdown",
   "id": "f560ae1f",
   "metadata": {},
   "source": [
    "- O contrabarra não é usado apenas para situação acima, que é para cancelar um suposto delimitador da minha string. Mas também para: \n",
    "    - Quebra de linha\n",
    "    - Tabulação\n",
    "    - Retorno dentro do meu texto"
   ]
  },
  {
   "cell_type": "markdown",
   "id": "d133510e",
   "metadata": {},
   "source": [
    "## Acessando Caractér"
   ]
  },
  {
   "cell_type": "code",
   "execution_count": 8,
   "id": "c6dec3c5",
   "metadata": {
    "ExecuteTime": {
     "end_time": "2022-09-13T02:56:01.673315Z",
     "start_time": "2022-09-13T02:56:01.668331Z"
    }
   },
   "outputs": [
    {
     "name": "stdout",
     "output_type": "stream",
     "text": [
      "G\n"
     ]
    }
   ],
   "source": [
    "empresa = 'Google'\n",
    "print(empresa[0])"
   ]
  },
  {
   "cell_type": "code",
   "execution_count": 9,
   "id": "5f3496d8",
   "metadata": {
    "ExecuteTime": {
     "end_time": "2022-09-13T02:56:14.474856Z",
     "start_time": "2022-09-13T02:56:14.466879Z"
    }
   },
   "outputs": [
    {
     "name": "stdout",
     "output_type": "stream",
     "text": [
      "Goo\n"
     ]
    }
   ],
   "source": [
    "print(empresa[:3])"
   ]
  },
  {
   "cell_type": "markdown",
   "id": "35b64abc",
   "metadata": {},
   "source": [
    "## Split"
   ]
  },
  {
   "cell_type": "markdown",
   "id": "93efc146",
   "metadata": {},
   "source": [
    "- Divide uma string em várias partes separadas"
   ]
  },
  {
   "cell_type": "code",
   "execution_count": 10,
   "id": "c3839396",
   "metadata": {
    "ExecuteTime": {
     "end_time": "2022-09-13T03:02:14.122537Z",
     "start_time": "2022-09-13T03:02:14.116553Z"
    }
   },
   "outputs": [
    {
     "name": "stdout",
     "output_type": "stream",
     "text": [
      "['São Paulo', 'Belo Horizonte', 'Rio de Janeiro', 'Brasília']\n"
     ]
    }
   ],
   "source": [
    "nomescidades = 'São Paulo, Belo Horizonte, Rio de Janeiro, Brasília'\n",
    "nomescidades = nomescidades.split(', ')\n",
    "print(nomescidades)"
   ]
  },
  {
   "cell_type": "markdown",
   "id": "ff00a128",
   "metadata": {},
   "source": [
    "## Strip"
   ]
  },
  {
   "cell_type": "markdown",
   "id": "c9a53e3e",
   "metadata": {},
   "source": [
    "- Elimina espaços "
   ]
  },
  {
   "cell_type": "code",
   "execution_count": 11,
   "id": "c7e4c8d9",
   "metadata": {
    "ExecuteTime": {
     "end_time": "2022-09-13T03:04:57.519821Z",
     "start_time": "2022-09-13T03:04:57.507825Z"
    },
    "scrolled": true
   },
   "outputs": [
    {
     "name": "stdout",
     "output_type": "stream",
     "text": [
      "MENU PRINCIPAL\n"
     ]
    }
   ],
   "source": [
    "cabecalho = '                  MENU PRINCIPAL            '\n",
    "print(cabecalho.strip())"
   ]
  },
  {
   "cell_type": "markdown",
   "id": "f43119d2",
   "metadata": {},
   "source": [
    "## Formatação de String"
   ]
  },
  {
   "cell_type": "code",
   "execution_count": 12,
   "id": "4dca083e",
   "metadata": {
    "ExecuteTime": {
     "end_time": "2022-09-13T03:07:10.275913Z",
     "start_time": "2022-09-13T03:07:10.268907Z"
    }
   },
   "outputs": [
    {
     "name": "stdout",
     "output_type": "stream",
     "text": [
      "Rio De Janeiro\n",
      "Rio de janeiro\n",
      "rio de janeiro\n",
      "RIO DE JANEIRO\n"
     ]
    }
   ],
   "source": [
    "nomecidade = 'rIO DE jaNeirO'\n",
    "\n",
    "print(nomecidade.title())\n",
    "print(nomecidade.capitalize())\n",
    "print(nomecidade.lower())\n",
    "print(nomecidade.upper())"
   ]
  },
  {
   "cell_type": "code",
   "execution_count": 13,
   "id": "bdea5e62",
   "metadata": {
    "ExecuteTime": {
     "end_time": "2022-09-13T03:10:35.899131Z",
     "start_time": "2022-09-13T03:10:26.036044Z"
    },
    "scrolled": true
   },
   "outputs": [
    {
     "name": "stdout",
     "output_type": "stream",
     "text": [
      "Que cidade do Brasil é conhecida como cidade maravilhosa?João pesosa\n",
      "Tente de novo vai!\n",
      "Que cidade do Brasil é conhecida como cidade maravilhosa?Rio de Janeiro\n",
      "Boooa, campeão!\n"
     ]
    }
   ],
   "source": [
    "nomedecidade = input('Que cidade do Brasil é conhecida como cidade maravilhosa?')\n",
    "nomedecidade = nomedecidade.strip()\n",
    "while nomedecidade.lower() != 'rio de janeiro':\n",
    "    print('Tente de novo vai!')\n",
    "    nomedecidade = input('Que cidade do Brasil é conhecida como cidade maravilhosa?')\n",
    "    \n",
    "print('Boooa, campeão!')"
   ]
  },
  {
   "cell_type": "markdown",
   "id": "8e3ccafb",
   "metadata": {},
   "source": [
    "## Método in"
   ]
  },
  {
   "cell_type": "code",
   "execution_count": 14,
   "id": "0a18f673",
   "metadata": {
    "ExecuteTime": {
     "end_time": "2022-09-13T03:12:16.359016Z",
     "start_time": "2022-09-13T03:12:16.341062Z"
    }
   },
   "outputs": [
    {
     "name": "stdout",
     "output_type": "stream",
     "text": [
      "True\n"
     ]
    }
   ],
   "source": [
    "mensagem = 'Você viu o que o Pietro disse na sala ontem?'\n",
    "fuicitado = 'Pietro' in mensagem\n",
    "print(fuicitado)"
   ]
  },
  {
   "cell_type": "markdown",
   "id": "b7da44bd",
   "metadata": {},
   "source": [
    "## Operador Aritméticos "
   ]
  },
  {
   "cell_type": "code",
   "execution_count": 1,
   "id": "2b430d0d",
   "metadata": {
    "ExecuteTime": {
     "end_time": "2022-09-14T02:14:02.632294Z",
     "start_time": "2022-09-14T02:14:02.616337Z"
    }
   },
   "outputs": [
    {
     "name": "stdout",
     "output_type": "stream",
     "text": [
      "Olá,  Felipe\n"
     ]
    }
   ],
   "source": [
    "cumprimento = 'Olá, '\n",
    "nome = 'Felipe'\n",
    "print(cumprimento, nome)"
   ]
  },
  {
   "cell_type": "code",
   "execution_count": 2,
   "id": "8dada3b0",
   "metadata": {
    "ExecuteTime": {
     "end_time": "2022-09-14T02:14:12.839190Z",
     "start_time": "2022-09-14T02:14:12.832210Z"
    }
   },
   "outputs": [
    {
     "name": "stdout",
     "output_type": "stream",
     "text": [
      "FelipeFelipeFelipeFelipeFelipe\n"
     ]
    }
   ],
   "source": [
    "print(nome * 5)"
   ]
  },
  {
   "cell_type": "code",
   "execution_count": 8,
   "id": "582d0e31",
   "metadata": {
    "ExecuteTime": {
     "end_time": "2022-09-14T02:17:16.729426Z",
     "start_time": "2022-09-14T02:17:16.710470Z"
    }
   },
   "outputs": [
    {
     "name": "stdout",
     "output_type": "stream",
     "text": [
      "Felipe tem 35 anos e 2 filhos\n"
     ]
    }
   ],
   "source": [
    "nome2 = 'Felipe'\n",
    "idade = 35\n",
    "nfilhos = 2\n",
    "print(nome2 + ' tem ' + str(idade) + ' anos e ' + str(nfilhos) + ' filhos')"
   ]
  },
  {
   "cell_type": "markdown",
   "id": "5274e181",
   "metadata": {},
   "source": [
    "## Método Format"
   ]
  },
  {
   "cell_type": "code",
   "execution_count": 9,
   "id": "56e37f36",
   "metadata": {
    "ExecuteTime": {
     "end_time": "2022-09-14T02:19:27.245131Z",
     "start_time": "2022-09-14T02:19:27.232166Z"
    }
   },
   "outputs": [
    {
     "name": "stdout",
     "output_type": "stream",
     "text": [
      "Felipe tem 35 anos e 2 filhos\n"
     ]
    }
   ],
   "source": [
    "print('{} tem {} anos e {} filhos'.format(nome2, idade, nfilhos))"
   ]
  },
  {
   "cell_type": "code",
   "execution_count": 10,
   "id": "ac6eb81a",
   "metadata": {
    "ExecuteTime": {
     "end_time": "2022-09-14T02:21:14.377235Z",
     "start_time": "2022-09-14T02:21:14.368262Z"
    }
   },
   "outputs": [
    {
     "name": "stdout",
     "output_type": "stream",
     "text": [
      "O preço da gasolina hoje subiu e está em R$ 3.48\n"
     ]
    }
   ],
   "source": [
    "precogasolina = 3.476\n",
    "print('O preço da gasolina hoje subiu e está em R$ {:.2f}'.format(precogasolina))"
   ]
  },
  {
   "cell_type": "code",
   "execution_count": 12,
   "id": "f9bc1d8c",
   "metadata": {
    "ExecuteTime": {
     "end_time": "2022-09-14T02:26:14.137365Z",
     "start_time": "2022-09-14T02:26:14.126395Z"
    }
   },
   "outputs": [
    {
     "name": "stdout",
     "output_type": "stream",
     "text": [
      "Felipe tem 35 anos e 2 filhos\n"
     ]
    }
   ],
   "source": [
    "#atalho\n",
    "print (f'{nome2} tem {idade} anos e {nfilhos} filhos')"
   ]
  }
 ],
 "metadata": {
  "kernelspec": {
   "display_name": "Python 3 (ipykernel)",
   "language": "python",
   "name": "python3"
  },
  "language_info": {
   "codemirror_mode": {
    "name": "ipython",
    "version": 3
   },
   "file_extension": ".py",
   "mimetype": "text/x-python",
   "name": "python",
   "nbconvert_exporter": "python",
   "pygments_lexer": "ipython3",
   "version": "3.9.7"
  },
  "toc": {
   "base_numbering": 1,
   "nav_menu": {},
   "number_sections": true,
   "sideBar": true,
   "skip_h1_title": false,
   "title_cell": "Table of Contents",
   "title_sidebar": "Contents",
   "toc_cell": false,
   "toc_position": {},
   "toc_section_display": true,
   "toc_window_display": true
  }
 },
 "nbformat": 4,
 "nbformat_minor": 5
}
