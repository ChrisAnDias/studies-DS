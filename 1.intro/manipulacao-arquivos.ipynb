{
 "cells": [
  {
   "cell_type": "markdown",
   "id": "49059a43",
   "metadata": {},
   "source": [
    "# Manipulação de arquivo"
   ]
  },
  {
   "cell_type": "markdown",
   "id": "74318a44",
   "metadata": {},
   "source": [
    "## Arquivos de texto"
   ]
  },
  {
   "cell_type": "markdown",
   "id": "cf397c9f",
   "metadata": {},
   "source": [
    "### Abertura de arquivo"
   ]
  },
  {
   "cell_type": "markdown",
   "id": "605ff69c",
   "metadata": {},
   "source": [
    "- Usar a função open()\n",
    "- Se o arquivo estiver na mesma pasta do arquivo notebook, basta digitar entre parênteses e aspas o nome do arquivo.\n",
    "- Caso o arquivo esteja numa pasta antes, basta adionar antes do nome do arquivo uma sequencia de ../ para cada pasta acima que estiver o arquivo. \n",
    "    ' ../dom_casmurro.txt '\n",
    "- Caso esteja uma pasta depois, basta adicionar o nome da pasta seguido de barra antes do nome do arquivo\n",
    "    ' dados/dom_casmurro.txt '\n",
    "- Para a função open() serão necessários passar o 1º parâmetro que é o nome do arquivo. O 2º parâmetro é o modo de abertura."
   ]
  },
  {
   "cell_type": "code",
   "execution_count": 2,
   "id": "68bb2e71",
   "metadata": {
    "ExecuteTime": {
     "end_time": "2022-09-16T02:50:36.427018Z",
     "start_time": "2022-09-16T02:50:36.416045Z"
    }
   },
   "outputs": [
    {
     "name": "stdout",
     "output_type": "stream",
     "text": [
      "Dom Casmurro \n",
      "\n",
      "Texto de referenda: \n",
      "Obras Completas de Machado de Assis, vol. I, \n",
      "Nova Aguilar, Rio de Janeiro, 1994. \n",
      "Publicado originalmente pela Editora Gamier, Rio de Janeiro, 1899. \n",
      "\n",
      "\n",
      "CAPITULO PRIMEIRO \n",
      "DO TITULO \n",
      "\n",
      "Uma noite destas, vindo da cidade para o Engenho Novo, encontrei no trem da \n",
      "Central um rapaz aqui do bairro, que eu conhego de vista e de chapeu. \n",
      "Cumprimentou-me, sentou-se ao pe de mim, falou da Lua e dos ministros, e \n",
      "acabou recitando-me versos. A viagem era curta, e os versos pode ser que nao \n",
      "fossem inteiramente maus. Sucedeu, porem, que, como eu estava cansado, fechei \n",
      "os olhos tres ou quatro vezes; tanto bastou para que ele interrompesse a leitura e \n",
      "metesse os versos no bolso. \n",
      "\n",
      "— Continue, disse eu acordando. \n",
      "\n",
      "— Ja acabei, murmurou ele. \n",
      "\n",
      "— Sao muito bonitos. \n",
      "\n",
      "Vi-lhe fazer um gesto para tira-los outra vez do bolso, mas nao passou do gesto; \n",
      "estava amuado. No dia seguinte entrou a dizer de mim nomes feios, e acabou \n",
      "alcunhando-me Dom Casmurro. Os vizinhos, que nao gostam dos meus habitos \n",
      "reclusos e calados, deram curso a alcunha, que afinal pegou. Nem por isso me \n",
      "zanguei. Contei a anedota aos amigos da cidade, e eles, por graga, chamam-me \n",
      "assim, alguns em bilhetes: \"Dom Casmurro, domingo vou jantar com voce”.— \n",
      "\"Vou para Petropolis, Dom Casmurro; a casa e a mesma da Renania; ve se deixas \n",
      "essa caverna do Engenho Novo, e vai la passar uns quinze dias comigo\".— \"Meu \n",
      "caro Dom Casmurro, nao cuide que o dispenso do teatro amanha; venha e dormira \n",
      "aqui na cidade; dou-lhe camarote, dou-lhe cha, dou-lhe cama; so nao Ihe dou \n",
      "moga”. \n",
      "\n",
      "Nao consultes dicionarios. Casmurro nao esta aqui no sentido que eles Ihe dao, \n",
      "mas no que Ihe pos o vulgo de homem calado e metido consigo. Dom veio por \n",
      "ironia, para atribuir-me fumos de fidalgo. Tudo por estar cochilando! Tambem nao \n",
      "achei melhor titulo para a minha narracao; se nao tiver outro daqui ate ao fim do \n",
      "livro, vai este mesmo. O meu poeta do trem ficara sabendo que nao Ihe guardo \n",
      "rancor. E com pequeno esforco, sendo o titulo seu, podera cuidar que a obra e \n",
      "sua. Ha livros que apenas terao isso dos seus autores; alguns nem tanto. \n",
      "\n"
     ]
    }
   ],
   "source": [
    "arquivo = open('dom_casmurro.txt', 'r', encoding = 'utf-8') # 'r' modo de abertura é read, leitura\n",
    "texto = arquivo.read()\n",
    "print(texto)\n",
    "arquivo.close()"
   ]
  },
  {
   "cell_type": "markdown",
   "id": "3a43f537",
   "metadata": {},
   "source": [
    "- O **arquivo.close()** é necessário porque a conexão como texto precisa ser fechada depois de aberta, devido a questões de segurança.\n",
    "- Foi necessário acrescentar o parâmetro *encoding = 'utf-8'* porque sem ele foi retornado errro. Devido a versão do jupyter notebook. "
   ]
  },
  {
   "cell_type": "markdown",
   "id": "acb317d0",
   "metadata": {},
   "source": [
    "### readline() com while"
   ]
  },
  {
   "cell_type": "code",
   "execution_count": 3,
   "id": "a1171072",
   "metadata": {
    "ExecuteTime": {
     "end_time": "2022-09-16T02:55:43.649833Z",
     "start_time": "2022-09-16T02:55:43.641828Z"
    }
   },
   "outputs": [
    {
     "name": "stdout",
     "output_type": "stream",
     "text": [
      "Dom Casmurro \n",
      "\n",
      "Texto de referenda: \n",
      "Obras Completas de Machado de Assis, vol. I, \n",
      "Nova Aguilar, Rio de Janeiro, 1994. \n",
      "Publicado originalmente pela Editora Gamier, Rio de Janeiro, 1899. \n",
      "\n",
      "\n",
      "CAPITULO PRIMEIRO \n",
      "DO TITULO \n",
      "\n",
      "Uma noite destas, vindo da cidade para o Engenho Novo, encontrei no trem da \n",
      "Central um rapaz aqui do bairro, que eu conhego de vista e de chapeu. \n",
      "Cumprimentou-me, sentou-se ao pe de mim, falou da Lua e dos ministros, e \n",
      "acabou recitando-me versos. A viagem era curta, e os versos pode ser que nao \n",
      "fossem inteiramente maus. Sucedeu, porem, que, como eu estava cansado, fechei \n",
      "os olhos tres ou quatro vezes; tanto bastou para que ele interrompesse a leitura e \n",
      "metesse os versos no bolso. \n",
      "\n",
      "— Continue, disse eu acordando. \n",
      "\n",
      "— Ja acabei, murmurou ele. \n",
      "\n",
      "— Sao muito bonitos. \n",
      "\n",
      "Vi-lhe fazer um gesto para tira-los outra vez do bolso, mas nao passou do gesto; \n",
      "estava amuado. No dia seguinte entrou a dizer de mim nomes feios, e acabou \n",
      "alcunhando-me Dom Casmurro. Os vizinhos, que nao gostam dos meus habitos \n",
      "reclusos e calados, deram curso a alcunha, que afinal pegou. Nem por isso me \n",
      "zanguei. Contei a anedota aos amigos da cidade, e eles, por graga, chamam-me \n",
      "assim, alguns em bilhetes: \"Dom Casmurro, domingo vou jantar com voce”.— \n",
      "\"Vou para Petropolis, Dom Casmurro; a casa e a mesma da Renania; ve se deixas \n",
      "essa caverna do Engenho Novo, e vai la passar uns quinze dias comigo\".— \"Meu \n",
      "caro Dom Casmurro, nao cuide que o dispenso do teatro amanha; venha e dormira \n",
      "aqui na cidade; dou-lhe camarote, dou-lhe cha, dou-lhe cama; so nao Ihe dou \n",
      "moga”. \n",
      "\n",
      "Nao consultes dicionarios. Casmurro nao esta aqui no sentido que eles Ihe dao, \n",
      "mas no que Ihe pos o vulgo de homem calado e metido consigo. Dom veio por \n",
      "ironia, para atribuir-me fumos de fidalgo. Tudo por estar cochilando! Tambem nao \n",
      "achei melhor titulo para a minha narracao; se nao tiver outro daqui ate ao fim do \n",
      "livro, vai este mesmo. O meu poeta do trem ficara sabendo que nao Ihe guardo \n",
      "rancor. E com pequeno esforco, sendo o titulo seu, podera cuidar que a obra e \n",
      "sua. Ha livros que apenas terao isso dos seus autores; alguns nem tanto. \n"
     ]
    }
   ],
   "source": [
    "arquivo = open('dom_casmurro.txt', 'r', encoding = 'utf-8')\n",
    "linha = arquivo.readline()\n",
    "while linha != '':\n",
    "    print(linha, end = '')\n",
    "    linha = arquivo.readline()\n",
    "\n",
    "arquivo.close()"
   ]
  },
  {
   "cell_type": "markdown",
   "id": "a4df8124",
   "metadata": {},
   "source": [
    "- Acima foi utilizado outra técnica para percorrer o texto. Utilizou-se a função *readline()*.\n",
    "- A função *readline()* retorna linha-a-linha o texto cada vez que chamada. Combinando o **while** com o *readline()* foi possível chegar ao mesmo resultado de retorno do texto inteiro do arquivo .txt"
   ]
  },
  {
   "cell_type": "markdown",
   "id": "85c8a93f",
   "metadata": {},
   "source": [
    "### usando o for"
   ]
  },
  {
   "cell_type": "code",
   "execution_count": 4,
   "id": "5f3ab1b2",
   "metadata": {
    "ExecuteTime": {
     "end_time": "2022-09-16T02:59:09.599422Z",
     "start_time": "2022-09-16T02:59:09.587452Z"
    },
    "scrolled": true
   },
   "outputs": [
    {
     "name": "stdout",
     "output_type": "stream",
     "text": [
      "Dom Casmurro \n",
      "\n",
      "Texto de referenda: \n",
      "Obras Completas de Machado de Assis, vol. I, \n",
      "Nova Aguilar, Rio de Janeiro, 1994. \n",
      "Publicado originalmente pela Editora Gamier, Rio de Janeiro, 1899. \n",
      "\n",
      "\n",
      "CAPITULO PRIMEIRO \n",
      "DO TITULO \n",
      "\n",
      "Uma noite destas, vindo da cidade para o Engenho Novo, encontrei no trem da \n",
      "Central um rapaz aqui do bairro, que eu conhego de vista e de chapeu. \n",
      "Cumprimentou-me, sentou-se ao pe de mim, falou da Lua e dos ministros, e \n",
      "acabou recitando-me versos. A viagem era curta, e os versos pode ser que nao \n",
      "fossem inteiramente maus. Sucedeu, porem, que, como eu estava cansado, fechei \n",
      "os olhos tres ou quatro vezes; tanto bastou para que ele interrompesse a leitura e \n",
      "metesse os versos no bolso. \n",
      "\n",
      "— Continue, disse eu acordando. \n",
      "\n",
      "— Ja acabei, murmurou ele. \n",
      "\n",
      "— Sao muito bonitos. \n",
      "\n",
      "Vi-lhe fazer um gesto para tira-los outra vez do bolso, mas nao passou do gesto; \n",
      "estava amuado. No dia seguinte entrou a dizer de mim nomes feios, e acabou \n",
      "alcunhando-me Dom Casmurro. Os vizinhos, que nao gostam dos meus habitos \n",
      "reclusos e calados, deram curso a alcunha, que afinal pegou. Nem por isso me \n",
      "zanguei. Contei a anedota aos amigos da cidade, e eles, por graga, chamam-me \n",
      "assim, alguns em bilhetes: \"Dom Casmurro, domingo vou jantar com voce”.— \n",
      "\"Vou para Petropolis, Dom Casmurro; a casa e a mesma da Renania; ve se deixas \n",
      "essa caverna do Engenho Novo, e vai la passar uns quinze dias comigo\".— \"Meu \n",
      "caro Dom Casmurro, nao cuide que o dispenso do teatro amanha; venha e dormira \n",
      "aqui na cidade; dou-lhe camarote, dou-lhe cha, dou-lhe cama; so nao Ihe dou \n",
      "moga”. \n",
      "\n",
      "Nao consultes dicionarios. Casmurro nao esta aqui no sentido que eles Ihe dao, \n",
      "mas no que Ihe pos o vulgo de homem calado e metido consigo. Dom veio por \n",
      "ironia, para atribuir-me fumos de fidalgo. Tudo por estar cochilando! Tambem nao \n",
      "achei melhor titulo para a minha narracao; se nao tiver outro daqui ate ao fim do \n",
      "livro, vai este mesmo. O meu poeta do trem ficara sabendo que nao Ihe guardo \n",
      "rancor. E com pequeno esforco, sendo o titulo seu, podera cuidar que a obra e \n",
      "sua. Ha livros que apenas terao isso dos seus autores; alguns nem tanto. \n"
     ]
    }
   ],
   "source": [
    "arquivo = open('dom_casmurro.txt', 'r', encoding = 'utf-8')\n",
    "for linha in arquivo:\n",
    "    print(linha, end = '')\n",
    "\n",
    "arquivo.close()"
   ]
  },
  {
   "cell_type": "markdown",
   "id": "b6d5ed53",
   "metadata": {},
   "source": [
    "### Bloco de código. Já com arquivo fechado no final"
   ]
  },
  {
   "cell_type": "code",
   "execution_count": 5,
   "id": "7d225fa2",
   "metadata": {
    "ExecuteTime": {
     "end_time": "2022-09-16T03:01:46.532501Z",
     "start_time": "2022-09-16T03:01:46.520534Z"
    }
   },
   "outputs": [
    {
     "name": "stdout",
     "output_type": "stream",
     "text": [
      "Dom Casmurro \n",
      "\n",
      "Texto de referenda: \n",
      "Obras Completas de Machado de Assis, vol. I, \n",
      "Nova Aguilar, Rio de Janeiro, 1994. \n",
      "Publicado originalmente pela Editora Gamier, Rio de Janeiro, 1899. \n",
      "\n",
      "\n",
      "CAPITULO PRIMEIRO \n",
      "DO TITULO \n",
      "\n",
      "Uma noite destas, vindo da cidade para o Engenho Novo, encontrei no trem da \n",
      "Central um rapaz aqui do bairro, que eu conhego de vista e de chapeu. \n",
      "Cumprimentou-me, sentou-se ao pe de mim, falou da Lua e dos ministros, e \n",
      "acabou recitando-me versos. A viagem era curta, e os versos pode ser que nao \n",
      "fossem inteiramente maus. Sucedeu, porem, que, como eu estava cansado, fechei \n",
      "os olhos tres ou quatro vezes; tanto bastou para que ele interrompesse a leitura e \n",
      "metesse os versos no bolso. \n",
      "\n",
      "— Continue, disse eu acordando. \n",
      "\n",
      "— Ja acabei, murmurou ele. \n",
      "\n",
      "— Sao muito bonitos. \n",
      "\n",
      "Vi-lhe fazer um gesto para tira-los outra vez do bolso, mas nao passou do gesto; \n",
      "estava amuado. No dia seguinte entrou a dizer de mim nomes feios, e acabou \n",
      "alcunhando-me Dom Casmurro. Os vizinhos, que nao gostam dos meus habitos \n",
      "reclusos e calados, deram curso a alcunha, que afinal pegou. Nem por isso me \n",
      "zanguei. Contei a anedota aos amigos da cidade, e eles, por graga, chamam-me \n",
      "assim, alguns em bilhetes: \"Dom Casmurro, domingo vou jantar com voce”.— \n",
      "\"Vou para Petropolis, Dom Casmurro; a casa e a mesma da Renania; ve se deixas \n",
      "essa caverna do Engenho Novo, e vai la passar uns quinze dias comigo\".— \"Meu \n",
      "caro Dom Casmurro, nao cuide que o dispenso do teatro amanha; venha e dormira \n",
      "aqui na cidade; dou-lhe camarote, dou-lhe cha, dou-lhe cama; so nao Ihe dou \n",
      "moga”. \n",
      "\n",
      "Nao consultes dicionarios. Casmurro nao esta aqui no sentido que eles Ihe dao, \n",
      "mas no que Ihe pos o vulgo de homem calado e metido consigo. Dom veio por \n",
      "ironia, para atribuir-me fumos de fidalgo. Tudo por estar cochilando! Tambem nao \n",
      "achei melhor titulo para a minha narracao; se nao tiver outro daqui ate ao fim do \n",
      "livro, vai este mesmo. O meu poeta do trem ficara sabendo que nao Ihe guardo \n",
      "rancor. E com pequeno esforco, sendo o titulo seu, podera cuidar que a obra e \n",
      "sua. Ha livros que apenas terao isso dos seus autores; alguns nem tanto. \n",
      "\n"
     ]
    }
   ],
   "source": [
    "with open('dom_casmurro.txt', 'r', encoding = 'utf-8') as arquivo:\n",
    "    texto = arquivo.read()\n",
    "    print(texto)\n",
    "    "
   ]
  },
  {
   "cell_type": "code",
   "execution_count": 6,
   "id": "1264be36",
   "metadata": {
    "ExecuteTime": {
     "end_time": "2022-09-16T03:02:06.974023Z",
     "start_time": "2022-09-16T03:02:06.959062Z"
    }
   },
   "outputs": [
    {
     "ename": "ValueError",
     "evalue": "I/O operation on closed file.",
     "output_type": "error",
     "traceback": [
      "\u001b[1;31m---------------------------------------------------------------------------\u001b[0m",
      "\u001b[1;31mValueError\u001b[0m                                Traceback (most recent call last)",
      "\u001b[1;32mC:\\Users\\CHRIST~1\\AppData\\Local\\Temp/ipykernel_2840/1726691100.py\u001b[0m in \u001b[0;36m<module>\u001b[1;34m\u001b[0m\n\u001b[1;32m----> 1\u001b[1;33m \u001b[0marquivo\u001b[0m\u001b[1;33m.\u001b[0m\u001b[0mread\u001b[0m\u001b[1;33m(\u001b[0m\u001b[1;33m)\u001b[0m\u001b[1;33m\u001b[0m\u001b[1;33m\u001b[0m\u001b[0m\n\u001b[0m",
      "\u001b[1;31mValueError\u001b[0m: I/O operation on closed file."
     ]
    }
   ],
   "source": [
    "arquivo.read()"
   ]
  },
  {
   "cell_type": "markdown",
   "id": "80e3c7ae",
   "metadata": {},
   "source": [
    "### Criando arquivo novo"
   ]
  },
  {
   "cell_type": "code",
   "execution_count": 7,
   "id": "7409013d",
   "metadata": {
    "ExecuteTime": {
     "end_time": "2022-09-16T03:04:10.246954Z",
     "start_time": "2022-09-16T03:04:10.234985Z"
    }
   },
   "outputs": [],
   "source": [
    "with open('arquivo_teste.txt', 'w', encoding = 'utf-8') as arquivo: #O 'w' cria um arquivo caso não exista, e sobrescreve caso já exista\n",
    "    arquivo.write('Essa é uma linha que eu escrevi usando python\\n')\n",
    "    arquivo.write('Essa é a segunda linha que eu escrevi usando python\\n')"
   ]
  },
  {
   "cell_type": "code",
   "execution_count": 8,
   "id": "59878036",
   "metadata": {
    "ExecuteTime": {
     "end_time": "2022-09-16T03:04:45.187740Z",
     "start_time": "2022-09-16T03:04:45.167794Z"
    }
   },
   "outputs": [
    {
     "name": "stdout",
     "output_type": "stream",
     "text": [
      "Essa é uma linha que eu escrevi usando python\n",
      "Essa é a segunda linha que eu escrevi usando python\n"
     ]
    }
   ],
   "source": [
    "with open('arquivo_teste.txt', 'r', encoding = 'utf-8') as arquivo:\n",
    "    print(arquivo.read(), end = '')\n"
   ]
  },
  {
   "cell_type": "code",
   "execution_count": 9,
   "id": "279d56ff",
   "metadata": {
    "ExecuteTime": {
     "end_time": "2022-09-16T03:05:48.425239Z",
     "start_time": "2022-09-16T03:05:48.411277Z"
    }
   },
   "outputs": [],
   "source": [
    "with open('arquivo_teste.txt', 'a', encoding = 'utf-8') as arquivo: #O 'a' adiciona algo ao texto já criado\n",
    "    arquivo.write('Essa é uma terceir linha que eu escrevi usando python\\n')\n"
   ]
  },
  {
   "cell_type": "code",
   "execution_count": 10,
   "id": "224b8e84",
   "metadata": {
    "ExecuteTime": {
     "end_time": "2022-09-16T03:06:24.552983Z",
     "start_time": "2022-09-16T03:06:24.535004Z"
    }
   },
   "outputs": [
    {
     "name": "stdout",
     "output_type": "stream",
     "text": [
      "Essa é uma linha que eu escrevi usando python\n",
      "Essa é a segunda linha que eu escrevi usando python\n",
      "Essa é uma terceir linha que eu escrevi usando python\n"
     ]
    }
   ],
   "source": [
    "with open('arquivo_teste.txt', 'r', encoding = 'utf-8') as arquivo:\n",
    "    print(arquivo.read(), end = '')\n"
   ]
  },
  {
   "cell_type": "markdown",
   "id": "04933eef",
   "metadata": {},
   "source": [
    "- Além do modo de abertura 'r' (read) 'w'(write) e 'a' (adict) existe também o 'r+' que combina leitura e escrita"
   ]
  },
  {
   "cell_type": "markdown",
   "id": "a0d31e94",
   "metadata": {},
   "source": [
    "## Arquivos CSV"
   ]
  },
  {
   "cell_type": "markdown",
   "id": "27684970",
   "metadata": {},
   "source": [
    "### Leitura"
   ]
  },
  {
   "cell_type": "code",
   "execution_count": 1,
   "id": "631f2ede",
   "metadata": {
    "ExecuteTime": {
     "end_time": "2022-09-17T09:23:37.754220Z",
     "start_time": "2022-09-17T09:23:37.748209Z"
    }
   },
   "outputs": [],
   "source": [
    "import  csv"
   ]
  },
  {
   "cell_type": "code",
   "execution_count": 4,
   "id": "d7ce9bd4",
   "metadata": {
    "ExecuteTime": {
     "end_time": "2022-09-17T09:28:19.895846Z",
     "start_time": "2022-09-17T09:28:19.886870Z"
    }
   },
   "outputs": [
    {
     "name": "stdout",
     "output_type": "stream",
     "text": [
      "['2020-03-06', 'Brasil', '5', '0', '8', '0']\n",
      "['2020-03-07', 'Brasil', '5', '0', '13', '0']\n",
      "['2020-03-09', 'Brasil', '12', '0', '25', '0']\n",
      "['2020-03-11', 'Brasil', '9', '0', '34', '0']\n",
      "['2020-03-12', 'Brasil', '18', '0', '52', '0']\n",
      "['2020-03-13', 'Brasil', '25', '0', '77', '0']\n",
      "['2020-03-14', 'Brasil', '21', '0', '98', '0']\n",
      "['2020-03-15', 'Brasil', '23', '0', '121', '0']\n",
      "['2020-03-16', 'Brasil', '79', '0', '200', '0']\n",
      "['2020-03-17', 'Brasil', '34', '0', '234', '0']\n",
      "['2020-03-18', 'Brasil', '57', '1', '291', '1']\n",
      "['2020-03-19', 'Brasil', '137', '3', '428', '4']\n",
      "['2020-03-20', 'Brasil', '193', '2', '621', '6']\n",
      "['2020-03-21', 'Brasil', '283', '5', '904', '11']\n",
      "['2020-03-22', 'Brasil', '224', '7', '1128', '18']\n",
      "['2020-03-23', 'Brasil', '418', '7', '1546', '25']\n",
      "['2020-03-24', 'Brasil', '345', '9', '1891', '34']\n",
      "['2020-03-25', 'Brasil', '310', '12', '2201', '46']\n",
      "['2020-03-26', 'Brasil', '232', '11', '2433', '57']\n",
      "['2020-03-27', 'Brasil', '482', '20', '2915', '77']\n",
      "['2020-03-28', 'Brasil', '502', '15', '3417', '92']\n",
      "['2020-03-29', 'Brasil', '487', '22', '3904', '114']\n",
      "['2020-03-30', 'Brasil', '352', '22', '4256', '136']\n",
      "['2020-03-31', 'Brasil', '323', '23', '4579', '159']\n",
      "['2020-04-01', 'Brasil', '1138', '42', '5717', '201']\n",
      "['2020-04-02', 'Brasil', '1119', '40', '6836', '241']\n",
      "['2020-04-03', 'Brasil', '1074', '58', '7910', '299']\n",
      "['2020-04-04', 'Brasil', '1146', '60', '9056', '359']\n",
      "['2020-04-05', 'Brasil', '1222', '73', '10278', '432']\n",
      "['2020-04-06', 'Brasil', '852', '54', '11130', '486']\n",
      "['2020-04-07', 'Brasil', '926', '67', '12056', '553']\n",
      "['2020-04-08', 'Brasil', '1661', '114', '13717', '667']\n",
      "['2020-04-09', 'Brasil', '2210', '133', '15927', '800']\n",
      "['2020-04-10', 'Brasil', '1930', '141', '17857', '941']\n",
      "['2020-04-11', 'Brasil', '1781', '115', '19638', '1056']\n",
      "['2020-04-12', 'Brasil', '1089', '68', '20727', '1124']\n",
      "['2020-04-13', 'Brasil', '1442', '99', '22169', '1223']\n",
      "['2020-04-14', 'Brasil', '1261', '105', '23430', '1328']\n",
      "['2020-04-15', 'Brasil', '1832', '204', '25262', '1532']\n",
      "['2020-04-16', 'Brasil', '3058', '204', '28320', '1736']\n",
      "['2020-04-17', 'Brasil', '2105', '188', '30425', '1924']\n",
      "['2020-04-18', 'Brasil', '3257', '217', '33682', '2141']\n",
      "['2020-04-19', 'Brasil', '2917', '206', '36599', '2347']\n",
      "['2020-04-20', 'Brasil', '2055', '115', '38654', '2462']\n",
      "['2020-04-21', 'Brasil', '1927', '113', '40581', '2575']\n",
      "['2020-04-22', 'Brasil', '2498', '166', '43079', '2741']\n",
      "['2020-04-23', 'Brasil', '2678', '165', '45757', '2906']\n",
      "['2020-04-24', 'Brasil', '3735', '407', '49492', '3313']\n",
      "['2020-04-25', 'Brasil', '3503', '357', '52995', '3670']\n",
      "['2020-04-26', 'Brasil', '5514', '346', '58509', '4016']\n",
      "['2020-04-27', 'Brasil', '3379', '189', '61888', '4205']\n",
      "['2020-04-28', 'Brasil', '4613', '338', '66501', '4543']\n",
      "['2020-04-29', 'Brasil', '5385', '474', '71886', '5017']\n",
      "['2020-04-30', 'Brasil', '6276', '449', '78162', '5466']\n",
      "['2020-05-01', 'Brasil', '7218', '435', '85380', '5901']\n",
      "['2020-05-02', 'Brasil', '6209', '428', '91589', '6329']\n",
      "['2020-05-03', 'Brasil', '4970', '421', '96559', '6750']\n",
      "['2020-05-04', 'Brasil', '4588', '275', '101147', '7025']\n",
      "['2020-05-05', 'Brasil', '6633', '296', '107780', '7321']\n",
      "['2020-05-06', 'Brasil', '6935', '600', '114715', '7921']\n",
      "['2020-05-07', 'Brasil', '10503', '615', '125218', '8536']\n",
      "['2020-05-08', 'Brasil', '9888', '610', '135106', '9146']\n",
      "['2020-05-09', 'Brasil', '10222', '751', '145328', '9897']\n",
      "['2020-05-10', 'Brasil', '10611', '730', '155939', '10627']\n",
      "['2020-05-11', 'Brasil', '6760', '496', '162699', '11123']\n",
      "['2020-05-12', 'Brasil', '5632', '396', '168331', '11519']\n",
      "['2020-05-13', 'Brasil', '9258', '881', '177589', '12400']\n",
      "['2020-05-14', 'Brasil', '11385', '749', '188974', '13149']\n",
      "['2020-05-15', 'Brasil', '13944', '844', '202918', '13993']\n",
      "['2020-05-16', 'Brasil', '15305', '824', '218223', '14817']\n",
      "['2020-05-17', 'Brasil', '14919', '816', '233142', '15633']\n",
      "['2020-05-18', 'Brasil', '7938', '485', '241080', '16118']\n",
      "['2020-05-19', 'Brasil', '13140', '674', '254220', '16792']\n",
      "['2020-05-20', 'Brasil', '17408', '1179', '271628', '17971']\n",
      "['2020-05-21', 'Brasil', '19951', '888', '291579', '18859']\n",
      "['2020-05-22', 'Brasil', '18508', '1188', '310087', '20047']\n",
      "['2020-05-23', 'Brasil', '20803', '1001', '330890', '21048']\n",
      "['2020-05-24', 'Brasil', '16508', '965', '347398', '22013']\n",
      "['2020-05-25', 'Brasil', '15813', '653', '363211', '22666']\n",
      "['2020-05-26', 'Brasil', '11687', '807', '374898', '23473']\n",
      "['2020-05-27', 'Brasil', '16324', '1039', '391222', '24512']\n",
      "['2020-05-28', 'Brasil', '20599', '1086', '411821', '25598']\n",
      "['2020-05-29', 'Brasil', '26417', '1156', '438238', '26754']\n",
      "['2020-05-30', 'Brasil', '26928', '1124', '465166', '27878']\n",
      "['2020-05-31', 'Brasil', '33274', '956', '498440', '28834']\n",
      "['2020-06-01', 'Brasil', '16409', '480', '514849', '29314']\n",
      "['2020-06-02', 'Brasil', '11598', '623', '526447', '29937']\n",
      "['2020-06-03', 'Brasil', '28936', '1262', '555383', '31199']\n",
      "['2020-06-04', 'Brasil', '28633', '1349', '584016', '32548']\n",
      "['2020-06-05', 'Brasil', '30916', '1473', '614932', '34021']\n",
      "['2020-06-06', 'Brasil', '30830', '1005', '645762', '35026']\n",
      "['2020-06-07', 'Brasil', '27075', '904', '672837', '35930']\n",
      "['2020-06-08', 'Brasil', '18921', '525', '691758', '36455']\n",
      "['2020-06-09', 'Brasil', '15654', '679', '707412', '37134']\n",
      "['2020-06-10', 'Brasil', '32091', '1272', '739503', '38406']\n",
      "['2020-06-11', 'Brasil', '32913', '1274', '772416', '39680']\n",
      "['2020-06-12', 'Brasil', '30412', '1239', '802828', '40919']\n",
      "['2020-06-13', 'Brasil', '25982', '909', '828810', '41828']\n",
      "['2020-06-14', 'Brasil', '21704', '892', '850514', '42720']\n",
      "['2020-06-15', 'Brasil', '17110', '612', '867624', '43332']\n",
      "['2020-06-16', 'Brasil', '20647', '627', '888271', '43959']\n"
     ]
    }
   ],
   "source": [
    "with open('brasil_covid.csv', 'r', encoding = 'utf-8') as arquivo_csv:\n",
    "    leitor = csv.reader(arquivo_csv)\n",
    "    header = next(leitor) #ignora o cabecalho, pois não tem número lá. Só string. \n",
    "    for linha in leitor:\n",
    "        if float(linha [2]) > 1:\n",
    "            print(linha)"
   ]
  },
  {
   "cell_type": "code",
   "execution_count": 6,
   "id": "b1d34202",
   "metadata": {
    "ExecuteTime": {
     "end_time": "2022-09-17T09:33:29.314642Z",
     "start_time": "2022-09-17T09:33:29.302676Z"
    }
   },
   "outputs": [
    {
     "name": "stdout",
     "output_type": "stream",
     "text": [
      "['data', 'pais', 'novos_casos', 'novos_obitos', 'total_casos', 'total_obitos']\n",
      "['2019-12-31', 'Brasil', '0', '0', '0', '0']\n",
      "['2020-01-01', 'Brasil', '0', '0', '0', '0']\n",
      "['2020-01-02', 'Brasil', '0', '0', '0', '0']\n",
      "['2020-01-03', 'Brasil', '0', '0', '0', '0']\n",
      "['2020-01-04', 'Brasil', '0', '0', '0', '0']\n",
      "['2020-01-05', 'Brasil', '0', '0', '0', '0']\n",
      "['2020-01-06', 'Brasil', '0', '0', '0', '0']\n",
      "['2020-01-07', 'Brasil', '0', '0', '0', '0']\n",
      "['2020-01-08', 'Brasil', '0', '0', '0', '0']\n",
      "['2020-01-09', 'Brasil', '0', '0', '0', '0']\n",
      "['2020-01-10', 'Brasil', '0', '0', '0', '0']\n",
      "['2020-01-11', 'Brasil', '0', '0', '0', '0']\n",
      "['2020-01-12', 'Brasil', '0', '0', '0', '0']\n",
      "['2020-01-13', 'Brasil', '0', '0', '0', '0']\n",
      "['2020-01-14', 'Brasil', '0', '0', '0', '0']\n",
      "['2020-01-15', 'Brasil', '0', '0', '0', '0']\n",
      "['2020-01-16', 'Brasil', '0', '0', '0', '0']\n",
      "['2020-01-17', 'Brasil', '0', '0', '0', '0']\n",
      "['2020-01-18', 'Brasil', '0', '0', '0', '0']\n",
      "['2020-01-19', 'Brasil', '0', '0', '0', '0']\n",
      "['2020-01-20', 'Brasil', '0', '0', '0', '0']\n",
      "['2020-01-21', 'Brasil', '0', '0', '0', '0']\n",
      "['2020-01-22', 'Brasil', '0', '0', '0', '0']\n",
      "['2020-01-23', 'Brasil', '0', '0', '0', '0']\n",
      "['2020-01-24', 'Brasil', '0', '0', '0', '0']\n",
      "['2020-01-25', 'Brasil', '0', '0', '0', '0']\n",
      "['2020-01-26', 'Brasil', '0', '0', '0', '0']\n",
      "['2020-01-27', 'Brasil', '0', '0', '0', '0']\n",
      "['2020-01-28', 'Brasil', '0', '0', '0', '0']\n",
      "['2020-01-29', 'Brasil', '0', '0', '0', '0']\n",
      "['2020-01-30', 'Brasil', '0', '0', '0', '0']\n",
      "['2020-01-31', 'Brasil', '0', '0', '0', '0']\n",
      "['2020-02-01', 'Brasil', '0', '0', '0', '0']\n",
      "['2020-02-02', 'Brasil', '0', '0', '0', '0']\n",
      "['2020-02-03', 'Brasil', '0', '0', '0', '0']\n",
      "['2020-02-04', 'Brasil', '0', '0', '0', '0']\n",
      "['2020-02-05', 'Brasil', '0', '0', '0', '0']\n",
      "['2020-02-06', 'Brasil', '0', '0', '0', '0']\n",
      "['2020-02-07', 'Brasil', '0', '0', '0', '0']\n",
      "['2020-02-08', 'Brasil', '0', '0', '0', '0']\n",
      "['2020-02-09', 'Brasil', '0', '0', '0', '0']\n",
      "['2020-02-10', 'Brasil', '0', '0', '0', '0']\n",
      "['2020-02-11', 'Brasil', '0', '0', '0', '0']\n",
      "['2020-02-12', 'Brasil', '0', '0', '0', '0']\n",
      "['2020-02-13', 'Brasil', '0', '0', '0', '0']\n",
      "['2020-02-14', 'Brasil', '0', '0', '0', '0']\n",
      "['2020-02-15', 'Brasil', '0', '0', '0', '0']\n",
      "['2020-02-16', 'Brasil', '0', '0', '0', '0']\n",
      "['2020-02-17', 'Brasil', '0', '0', '0', '0']\n",
      "['2020-02-18', 'Brasil', '0', '0', '0', '0']\n",
      "['2020-02-19', 'Brasil', '0', '0', '0', '0']\n",
      "['2020-02-20', 'Brasil', '0', '0', '0', '0']\n",
      "['2020-02-21', 'Brasil', '0', '0', '0', '0']\n",
      "['2020-02-22', 'Brasil', '0', '0', '0', '0']\n",
      "['2020-02-23', 'Brasil', '0', '0', '0', '0']\n",
      "['2020-02-24', 'Brasil', '0', '0', '0', '0']\n",
      "['2020-02-25', 'Brasil', '0', '0', '0', '0']\n",
      "['2020-02-26', 'Brasil', '1', '0', '1', '0']\n",
      "['2020-02-27', 'Brasil', '0', '0', '1', '0']\n",
      "['2020-02-28', 'Brasil', '0', '0', '1', '0']\n",
      "['2020-02-29', 'Brasil', '0', '0', '1', '0']\n",
      "['2020-03-01', 'Brasil', '1', '0', '2', '0']\n",
      "['2020-03-02', 'Brasil', '0', '0', '2', '0']\n",
      "['2020-03-03', 'Brasil', '0', '0', '2', '0']\n",
      "['2020-03-04', 'Brasil', '0', '0', '2', '0']\n",
      "['2020-03-05', 'Brasil', '1', '0', '3', '0']\n",
      "['2020-03-06', 'Brasil', '5', '0', '8', '0']\n",
      "['2020-03-07', 'Brasil', '5', '0', '13', '0']\n",
      "['2020-03-08', 'Brasil', '0', '0', '13', '0']\n",
      "['2020-03-09', 'Brasil', '12', '0', '25', '0']\n",
      "['2020-03-10', 'Brasil', '0', '0', '25', '0']\n",
      "['2020-03-11', 'Brasil', '9', '0', '34', '0']\n",
      "['2020-03-12', 'Brasil', '18', '0', '52', '0']\n",
      "['2020-03-13', 'Brasil', '25', '0', '77', '0']\n",
      "['2020-03-14', 'Brasil', '21', '0', '98', '0']\n",
      "['2020-03-15', 'Brasil', '23', '0', '121', '0']\n",
      "['2020-03-16', 'Brasil', '79', '0', '200', '0']\n",
      "['2020-03-17', 'Brasil', '34', '0', '234', '0']\n",
      "['2020-03-18', 'Brasil', '57', '1', '291', '1']\n",
      "['2020-03-19', 'Brasil', '137', '3', '428', '4']\n",
      "['2020-03-20', 'Brasil', '193', '2', '621', '6']\n",
      "['2020-03-21', 'Brasil', '283', '5', '904', '11']\n",
      "['2020-03-22', 'Brasil', '224', '7', '1128', '18']\n",
      "['2020-03-23', 'Brasil', '418', '7', '1546', '25']\n",
      "['2020-03-24', 'Brasil', '345', '9', '1891', '34']\n",
      "['2020-03-25', 'Brasil', '310', '12', '2201', '46']\n",
      "['2020-03-26', 'Brasil', '232', '11', '2433', '57']\n",
      "['2020-03-27', 'Brasil', '482', '20', '2915', '77']\n",
      "['2020-03-28', 'Brasil', '502', '15', '3417', '92']\n",
      "['2020-03-29', 'Brasil', '487', '22', '3904', '114']\n",
      "['2020-03-30', 'Brasil', '352', '22', '4256', '136']\n",
      "['2020-03-31', 'Brasil', '323', '23', '4579', '159']\n",
      "['2020-04-01', 'Brasil', '1138', '42', '5717', '201']\n",
      "['2020-04-02', 'Brasil', '1119', '40', '6836', '241']\n",
      "['2020-04-03', 'Brasil', '1074', '58', '7910', '299']\n",
      "['2020-04-04', 'Brasil', '1146', '60', '9056', '359']\n",
      "['2020-04-05', 'Brasil', '1222', '73', '10278', '432']\n",
      "['2020-04-06', 'Brasil', '852', '54', '11130', '486']\n",
      "['2020-04-07', 'Brasil', '926', '67', '12056', '553']\n",
      "['2020-04-08', 'Brasil', '1661', '114', '13717', '667']\n",
      "['2020-04-09', 'Brasil', '2210', '133', '15927', '800']\n",
      "['2020-04-10', 'Brasil', '1930', '141', '17857', '941']\n",
      "['2020-04-11', 'Brasil', '1781', '115', '19638', '1056']\n",
      "['2020-04-12', 'Brasil', '1089', '68', '20727', '1124']\n",
      "['2020-04-13', 'Brasil', '1442', '99', '22169', '1223']\n",
      "['2020-04-14', 'Brasil', '1261', '105', '23430', '1328']\n",
      "['2020-04-15', 'Brasil', '1832', '204', '25262', '1532']\n",
      "['2020-04-16', 'Brasil', '3058', '204', '28320', '1736']\n",
      "['2020-04-17', 'Brasil', '2105', '188', '30425', '1924']\n",
      "['2020-04-18', 'Brasil', '3257', '217', '33682', '2141']\n",
      "['2020-04-19', 'Brasil', '2917', '206', '36599', '2347']\n",
      "['2020-04-20', 'Brasil', '2055', '115', '38654', '2462']\n",
      "['2020-04-21', 'Brasil', '1927', '113', '40581', '2575']\n",
      "['2020-04-22', 'Brasil', '2498', '166', '43079', '2741']\n",
      "['2020-04-23', 'Brasil', '2678', '165', '45757', '2906']\n",
      "['2020-04-24', 'Brasil', '3735', '407', '49492', '3313']\n",
      "['2020-04-25', 'Brasil', '3503', '357', '52995', '3670']\n",
      "['2020-04-26', 'Brasil', '5514', '346', '58509', '4016']\n",
      "['2020-04-27', 'Brasil', '3379', '189', '61888', '4205']\n",
      "['2020-04-28', 'Brasil', '4613', '338', '66501', '4543']\n",
      "['2020-04-29', 'Brasil', '5385', '474', '71886', '5017']\n",
      "['2020-04-30', 'Brasil', '6276', '449', '78162', '5466']\n",
      "['2020-05-01', 'Brasil', '7218', '435', '85380', '5901']\n",
      "['2020-05-02', 'Brasil', '6209', '428', '91589', '6329']\n",
      "['2020-05-03', 'Brasil', '4970', '421', '96559', '6750']\n",
      "['2020-05-04', 'Brasil', '4588', '275', '101147', '7025']\n",
      "['2020-05-05', 'Brasil', '6633', '296', '107780', '7321']\n",
      "['2020-05-06', 'Brasil', '6935', '600', '114715', '7921']\n",
      "['2020-05-07', 'Brasil', '10503', '615', '125218', '8536']\n",
      "['2020-05-08', 'Brasil', '9888', '610', '135106', '9146']\n",
      "['2020-05-09', 'Brasil', '10222', '751', '145328', '9897']\n",
      "['2020-05-10', 'Brasil', '10611', '730', '155939', '10627']\n",
      "['2020-05-11', 'Brasil', '6760', '496', '162699', '11123']\n",
      "['2020-05-12', 'Brasil', '5632', '396', '168331', '11519']\n",
      "['2020-05-13', 'Brasil', '9258', '881', '177589', '12400']\n",
      "['2020-05-14', 'Brasil', '11385', '749', '188974', '13149']\n",
      "['2020-05-15', 'Brasil', '13944', '844', '202918', '13993']\n",
      "['2020-05-16', 'Brasil', '15305', '824', '218223', '14817']\n",
      "['2020-05-17', 'Brasil', '14919', '816', '233142', '15633']\n",
      "['2020-05-18', 'Brasil', '7938', '485', '241080', '16118']\n",
      "['2020-05-19', 'Brasil', '13140', '674', '254220', '16792']\n",
      "['2020-05-20', 'Brasil', '17408', '1179', '271628', '17971']\n",
      "['2020-05-21', 'Brasil', '19951', '888', '291579', '18859']\n",
      "['2020-05-22', 'Brasil', '18508', '1188', '310087', '20047']\n",
      "['2020-05-23', 'Brasil', '20803', '1001', '330890', '21048']\n",
      "['2020-05-24', 'Brasil', '16508', '965', '347398', '22013']\n",
      "['2020-05-25', 'Brasil', '15813', '653', '363211', '22666']\n",
      "['2020-05-26', 'Brasil', '11687', '807', '374898', '23473']\n",
      "['2020-05-27', 'Brasil', '16324', '1039', '391222', '24512']\n",
      "['2020-05-28', 'Brasil', '20599', '1086', '411821', '25598']\n",
      "['2020-05-29', 'Brasil', '26417', '1156', '438238', '26754']\n",
      "['2020-05-30', 'Brasil', '26928', '1124', '465166', '27878']\n",
      "['2020-05-31', 'Brasil', '33274', '956', '498440', '28834']\n",
      "['2020-06-01', 'Brasil', '16409', '480', '514849', '29314']\n",
      "['2020-06-02', 'Brasil', '11598', '623', '526447', '29937']\n",
      "['2020-06-03', 'Brasil', '28936', '1262', '555383', '31199']\n",
      "['2020-06-04', 'Brasil', '28633', '1349', '584016', '32548']\n",
      "['2020-06-05', 'Brasil', '30916', '1473', '614932', '34021']\n",
      "['2020-06-06', 'Brasil', '30830', '1005', '645762', '35026']\n",
      "['2020-06-07', 'Brasil', '27075', '904', '672837', '35930']\n",
      "['2020-06-08', 'Brasil', '18921', '525', '691758', '36455']\n",
      "['2020-06-09', 'Brasil', '15654', '679', '707412', '37134']\n",
      "['2020-06-10', 'Brasil', '32091', '1272', '739503', '38406']\n",
      "['2020-06-11', 'Brasil', '32913', '1274', '772416', '39680']\n",
      "['2020-06-12', 'Brasil', '30412', '1239', '802828', '40919']\n",
      "['2020-06-13', 'Brasil', '25982', '909', '828810', '41828']\n",
      "['2020-06-14', 'Brasil', '21704', '892', '850514', '42720']\n",
      "['2020-06-15', 'Brasil', '17110', '612', '867624', '43332']\n",
      "['2020-06-16', 'Brasil', '20647', '627', '888271', '43959']\n"
     ]
    }
   ],
   "source": [
    "# mesmo resultado não usando a biblioteca\n",
    "with open('brasil_covid.csv', 'r', encoding = 'utf-8') as csv_file:\n",
    "    linhas = csv_file.read()\n",
    "    linhas = linhas.split('\\n')\n",
    "    for linha in linhas:\n",
    "        linha = linha.split(',')\n",
    "        print(linha)"
   ]
  },
  {
   "cell_type": "markdown",
   "id": "3cd7cb2e",
   "metadata": {},
   "source": [
    "### Escrita"
   ]
  },
  {
   "cell_type": "code",
   "execution_count": 8,
   "id": "357088eb",
   "metadata": {
    "ExecuteTime": {
     "end_time": "2022-09-17T09:37:51.382372Z",
     "start_time": "2022-09-17T09:37:51.374393Z"
    }
   },
   "outputs": [],
   "source": [
    "with open('users.csv','w', encoding = 'utf-8', newline = '') as arquivo_users:\n",
    "    escritor = csv.writer(arquivo_users)\n",
    "    escritor.writerow(['nome', 'sobrenome', 'email', 'genero'])\n",
    "    escritor.writerow(['Pietro', 'Ribeiro', 'pietro@email.com','Masculino'])"
   ]
  },
  {
   "cell_type": "code",
   "execution_count": 10,
   "id": "c0ea702d",
   "metadata": {
    "ExecuteTime": {
     "end_time": "2022-09-17T10:22:50.840370Z",
     "start_time": "2022-09-17T10:22:25.207454Z"
    }
   },
   "outputs": [
    {
     "name": "stdout",
     "output_type": "stream",
     "text": [
      "O que deseja fazer?\n",
      "1 - Cadastrar\n",
      "0 - Sair\n",
      "1\n",
      "Qual seu nome?Débora\n",
      "Qual seu sobrenome?Christyna\n",
      "O que deseja fazer?\n",
      "1 - Cadastrar\n",
      "0 - Sair\n",
      "1\n",
      "Qual seu nome?Maria\n",
      "Qual seu sobrenome?Oliveira\n",
      "O que deseja fazer?\n",
      "1 - Cadastrar\n",
      "0 - Sair\n",
      "1\n",
      "Qual seu nome?João\n",
      "Qual seu sobrenome?barbosa\n",
      "O que deseja fazer?\n",
      "1 - Cadastrar\n",
      "0 - Sair\n",
      "0\n",
      "[['Débora', 'Christyna'], ['Maria', 'Oliveira'], ['João', 'barbosa']]\n",
      "['nome', 'sobrenome']\n",
      "['Débora', 'Christyna']\n",
      "['Maria', 'Oliveira']\n",
      "['João', 'barbosa']\n"
     ]
    }
   ],
   "source": [
    "header = ['nome', 'sobrenome']\n",
    "dados = []\n",
    "opt = input('O que deseja fazer?\\n1 - Cadastrar\\n0 - Sair\\n')\n",
    "while opt != '0':\n",
    "    nome = input('Qual seu nome?')\n",
    "    sobrenome = input('Qual seu sobrenome?')\n",
    "    dados.append([nome, sobrenome])\n",
    "    opt = input('O que deseja fazer?\\n1 - Cadastrar\\n0 - Sair\\n')\n",
    "    \n",
    "print(dados)\n",
    "\n",
    "with open('users.csv', 'w', newline = '') as arquivo_csv:\n",
    "    writer = csv.writer(arquivo_csv)\n",
    "    writer.writerow(header)\n",
    "    writer.writerows(dados)\n",
    "    \n",
    "with open('users.csv', 'r') as csv_file:\n",
    "    csv_reader = csv.reader(csv_file, delimiter = ',')\n",
    "    for row in csv_reader:\n",
    "        print(row)"
   ]
  }
 ],
 "metadata": {
  "kernelspec": {
   "display_name": "Python 3 (ipykernel)",
   "language": "python",
   "name": "python3"
  },
  "language_info": {
   "codemirror_mode": {
    "name": "ipython",
    "version": 3
   },
   "file_extension": ".py",
   "mimetype": "text/x-python",
   "name": "python",
   "nbconvert_exporter": "python",
   "pygments_lexer": "ipython3",
   "version": "3.9.7"
  },
  "toc": {
   "base_numbering": 1,
   "nav_menu": {},
   "number_sections": true,
   "sideBar": true,
   "skip_h1_title": false,
   "title_cell": "Table of Contents",
   "title_sidebar": "Contents",
   "toc_cell": false,
   "toc_position": {},
   "toc_section_display": true,
   "toc_window_display": true
  }
 },
 "nbformat": 4,
 "nbformat_minor": 5
}
