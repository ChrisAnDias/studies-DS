{
 "cells": [
  {
   "cell_type": "markdown",
   "id": "8bf58baf",
   "metadata": {},
   "source": [
    "# Funcões"
   ]
  },
  {
   "cell_type": "markdown",
   "id": "fba35df1",
   "metadata": {},
   "source": [
    "## Declaração"
   ]
  },
  {
   "cell_type": "code",
   "execution_count": 1,
   "id": "117cb6a1",
   "metadata": {
    "ExecuteTime": {
     "end_time": "2022-09-15T08:59:49.354157Z",
     "start_time": "2022-09-15T08:59:49.332487Z"
    }
   },
   "outputs": [],
   "source": [
    "def hello():\n",
    "    print('Olá, Mundo!')"
   ]
  },
  {
   "cell_type": "code",
   "execution_count": 2,
   "id": "c95dbf2e",
   "metadata": {
    "ExecuteTime": {
     "end_time": "2022-09-15T09:00:08.659166Z",
     "start_time": "2022-09-15T09:00:08.640218Z"
    }
   },
   "outputs": [
    {
     "name": "stdout",
     "output_type": "stream",
     "text": [
      "Olá, Mundo!\n"
     ]
    }
   ],
   "source": [
    "hello()"
   ]
  },
  {
   "cell_type": "markdown",
   "id": "58cee6dd",
   "metadata": {},
   "source": [
    "## Inventando Funções"
   ]
  },
  {
   "cell_type": "code",
   "execution_count": 3,
   "id": "60910155",
   "metadata": {
    "ExecuteTime": {
     "end_time": "2022-09-15T09:02:14.365625Z",
     "start_time": "2022-09-15T09:02:14.344684Z"
    }
   },
   "outputs": [],
   "source": [
    "def calculamedia(valor1, valor2, valor3):\n",
    "    soma = valor1 + valor2 + valor3\n",
    "    media = soma / 3\n",
    "    return media"
   ]
  },
  {
   "cell_type": "code",
   "execution_count": 4,
   "id": "5cb8229f",
   "metadata": {
    "ExecuteTime": {
     "end_time": "2022-09-15T09:02:45.512166Z",
     "start_time": "2022-09-15T09:02:45.505196Z"
    }
   },
   "outputs": [
    {
     "name": "stdout",
     "output_type": "stream",
     "text": [
      "10.0\n"
     ]
    }
   ],
   "source": [
    "resultado = calculamedia(10, 10, 10)\n",
    "print(resultado)"
   ]
  },
  {
   "cell_type": "code",
   "execution_count": 5,
   "id": "6a450f2d",
   "metadata": {
    "ExecuteTime": {
     "end_time": "2022-09-15T09:03:35.412555Z",
     "start_time": "2022-09-15T09:03:35.400559Z"
    }
   },
   "outputs": [
    {
     "name": "stdout",
     "output_type": "stream",
     "text": [
      "9.0\n"
     ]
    }
   ],
   "source": [
    "resultado = calculamedia(9, 10, 8)\n",
    "print(resultado)"
   ]
  },
  {
   "cell_type": "code",
   "execution_count": 6,
   "id": "4c6761c1",
   "metadata": {
    "ExecuteTime": {
     "end_time": "2022-09-15T09:04:15.784094Z",
     "start_time": "2022-09-15T09:04:15.769134Z"
    }
   },
   "outputs": [
    {
     "name": "stdout",
     "output_type": "stream",
     "text": [
      "9.333333333333334\n"
     ]
    }
   ],
   "source": [
    "resultado2 = calculamedia(valor1=9, valor2=10, valor3=9)\n",
    "print(resultado2)"
   ]
  },
  {
   "cell_type": "markdown",
   "id": "8e4fee4b",
   "metadata": {},
   "source": [
    "## Funções com valores pré-definidos"
   ]
  },
  {
   "cell_type": "markdown",
   "id": "de8442b4",
   "metadata": {},
   "source": [
    "- Algumas funções não é necessário especificar parâmetros pois já os possuem pré-definidos. Como é o caso da função *print*."
   ]
  },
  {
   "cell_type": "code",
   "execution_count": 7,
   "id": "f8e08a27",
   "metadata": {
    "ExecuteTime": {
     "end_time": "2022-09-15T09:07:26.439550Z",
     "start_time": "2022-09-15T09:07:26.425562Z"
    }
   },
   "outputs": [
    {
     "name": "stdout",
     "output_type": "stream",
     "text": [
      "Olá\n",
      ", Pietro\n"
     ]
    }
   ],
   "source": [
    "print('Olá')\n",
    "print(', Pietro')"
   ]
  },
  {
   "cell_type": "code",
   "execution_count": 8,
   "id": "3cc1ad87",
   "metadata": {
    "ExecuteTime": {
     "end_time": "2022-09-15T09:07:42.422571Z",
     "start_time": "2022-09-15T09:07:42.416559Z"
    }
   },
   "outputs": [
    {
     "name": "stdout",
     "output_type": "stream",
     "text": [
      "Olá , Pietro\n"
     ]
    }
   ],
   "source": [
    "print('Olá', end=' ')\n",
    "print(', Pietro')"
   ]
  },
  {
   "cell_type": "markdown",
   "id": "fbc9e22d",
   "metadata": {},
   "source": [
    "- Perceba que se não especifico o **end**, há uma quebra de linha. Essa já é uma configuração padrão dessa função. \n",
    "- Aos especificar o **end** como uma barra de espaço, a quebra de linha já não mais é a lógica, e a frase retorna na mesma linha"
   ]
  },
  {
   "cell_type": "code",
   "execution_count": 11,
   "id": "2f7d5518",
   "metadata": {
    "ExecuteTime": {
     "end_time": "2022-09-15T09:10:28.649435Z",
     "start_time": "2022-09-15T09:10:28.640459Z"
    }
   },
   "outputs": [],
   "source": [
    "def calculamedia(valor1=0, valor2=0, valor3=0):\n",
    "    soma = valor1 + valor2 + valor3\n",
    "    media = soma / 3\n",
    "    return media"
   ]
  },
  {
   "cell_type": "code",
   "execution_count": 10,
   "id": "e6295873",
   "metadata": {
    "ExecuteTime": {
     "end_time": "2022-09-15T09:10:01.885931Z",
     "start_time": "2022-09-15T09:10:01.880973Z"
    }
   },
   "outputs": [
    {
     "name": "stdout",
     "output_type": "stream",
     "text": [
      "0.0\n"
     ]
    }
   ],
   "source": [
    "resultado = calculamedia()\n",
    "print(resultado)"
   ]
  },
  {
   "cell_type": "markdown",
   "id": "417f96e4",
   "metadata": {},
   "source": [
    "- Quando atribuo um valor (dado inserido depois do igual) ao parâmetro da função já na sua definição, estabeleço assim o comportamento padrão caso não seja passado nenhum parâmetro pelo usuário ao chamar a função no futuro."
   ]
  },
  {
   "cell_type": "code",
   "execution_count": 12,
   "id": "c0d31838",
   "metadata": {
    "ExecuteTime": {
     "end_time": "2022-09-15T09:13:07.457338Z",
     "start_time": "2022-09-15T09:13:07.289786Z"
    }
   },
   "outputs": [
    {
     "ename": "TypeError",
     "evalue": "calculamedia() missing 3 required positional arguments: 'valor1', 'valor2', and 'valor3'",
     "output_type": "error",
     "traceback": [
      "\u001b[1;31m---------------------------------------------------------------------------\u001b[0m",
      "\u001b[1;31mTypeError\u001b[0m                                 Traceback (most recent call last)",
      "\u001b[1;32mC:\\Users\\CHRIST~1\\AppData\\Local\\Temp/ipykernel_16544/528662105.py\u001b[0m in \u001b[0;36m<module>\u001b[1;34m\u001b[0m\n\u001b[0;32m      4\u001b[0m     \u001b[1;32mreturn\u001b[0m \u001b[0mmedia\u001b[0m\u001b[1;33m\u001b[0m\u001b[1;33m\u001b[0m\u001b[0m\n\u001b[0;32m      5\u001b[0m \u001b[1;33m\u001b[0m\u001b[0m\n\u001b[1;32m----> 6\u001b[1;33m \u001b[0mresultado\u001b[0m \u001b[1;33m=\u001b[0m \u001b[0mcalculamedia\u001b[0m\u001b[1;33m(\u001b[0m\u001b[1;33m)\u001b[0m\u001b[1;33m\u001b[0m\u001b[1;33m\u001b[0m\u001b[0m\n\u001b[0m\u001b[0;32m      7\u001b[0m \u001b[0mprint\u001b[0m\u001b[1;33m(\u001b[0m\u001b[0mresultado\u001b[0m\u001b[1;33m)\u001b[0m\u001b[1;33m\u001b[0m\u001b[1;33m\u001b[0m\u001b[0m\n",
      "\u001b[1;31mTypeError\u001b[0m: calculamedia() missing 3 required positional arguments: 'valor1', 'valor2', and 'valor3'"
     ]
    }
   ],
   "source": [
    "def calculamedia(valor1, valor2, valor3):\n",
    "    soma = valor1 + valor2 + valor3\n",
    "    media = soma / 3\n",
    "    return media\n",
    "\n",
    "resultado = calculamedia()\n",
    "print(resultado)"
   ]
  },
  {
   "cell_type": "markdown",
   "id": "7b87fc29",
   "metadata": {},
   "source": [
    "- Caso não seja especificado o valor, o python retorna erro."
   ]
  },
  {
   "cell_type": "markdown",
   "id": "d6a716cf",
   "metadata": {},
   "source": [
    "## Parametrização"
   ]
  },
  {
   "cell_type": "markdown",
   "id": "9fd0dc9c",
   "metadata": {},
   "source": [
    "### Args"
   ]
  },
  {
   "cell_type": "code",
   "execution_count": 13,
   "id": "1dbe9d76",
   "metadata": {
    "ExecuteTime": {
     "end_time": "2022-09-15T09:17:27.793582Z",
     "start_time": "2022-09-15T09:17:27.784606Z"
    }
   },
   "outputs": [],
   "source": [
    "def calculamedia(*args):\n",
    "    print(args, type(args))"
   ]
  },
  {
   "cell_type": "code",
   "execution_count": 14,
   "id": "95ef2802",
   "metadata": {
    "ExecuteTime": {
     "end_time": "2022-09-15T09:17:38.365207Z",
     "start_time": "2022-09-15T09:17:38.360219Z"
    }
   },
   "outputs": [
    {
     "name": "stdout",
     "output_type": "stream",
     "text": [
      "(10, 8, 9) <class 'tuple'>\n"
     ]
    }
   ],
   "source": [
    "calculamedia(10, 8, 9)"
   ]
  },
  {
   "cell_type": "code",
   "execution_count": 16,
   "id": "ce76b5d7",
   "metadata": {
    "ExecuteTime": {
     "end_time": "2022-09-15T09:20:21.357567Z",
     "start_time": "2022-09-15T09:20:21.344603Z"
    }
   },
   "outputs": [
    {
     "data": {
      "text/plain": [
       "9.0"
      ]
     },
     "execution_count": 16,
     "metadata": {},
     "output_type": "execute_result"
    }
   ],
   "source": [
    "def calculamedia(*args):\n",
    "    soma = sum(args)\n",
    "    media = soma / len(args)\n",
    "    return media\n",
    "\n",
    "calculamedia(10, 8, 9)"
   ]
  },
  {
   "cell_type": "code",
   "execution_count": 18,
   "id": "bda15227",
   "metadata": {
    "ExecuteTime": {
     "end_time": "2022-09-15T09:20:50.028559Z",
     "start_time": "2022-09-15T09:20:50.008586Z"
    }
   },
   "outputs": [
    {
     "data": {
      "text/plain": [
       "9.3"
      ]
     },
     "execution_count": 18,
     "metadata": {},
     "output_type": "execute_result"
    }
   ],
   "source": [
    "def calculamedia(*args, margem):\n",
    "    soma = sum(args)\n",
    "    media = soma / len(args)\n",
    "    return media + margem\n",
    "\n",
    "calculamedia(10, 8, 9, margem = 0.3)"
   ]
  },
  {
   "cell_type": "markdown",
   "id": "9063a638",
   "metadata": {},
   "source": [
    "- Ao adicionar mais uma parâmetro à minha função, na hora de chamá-la, se faz necessário especificar o valor desse parâmetro (como na linha de código anterior). Caso não seja especificado, o python retornará um erro. "
   ]
  },
  {
   "cell_type": "markdown",
   "id": "54e84b18",
   "metadata": {},
   "source": [
    "## kwargs"
   ]
  },
  {
   "cell_type": "code",
   "execution_count": 19,
   "id": "4adbf7b7",
   "metadata": {
    "ExecuteTime": {
     "end_time": "2022-09-15T09:24:22.280567Z",
     "start_time": "2022-09-15T09:24:22.265595Z"
    }
   },
   "outputs": [],
   "source": [
    "def printinfo(**kwargs):\n",
    "    print(kwargs, type(kwargs))"
   ]
  },
  {
   "cell_type": "code",
   "execution_count": 20,
   "id": "762b2581",
   "metadata": {
    "ExecuteTime": {
     "end_time": "2022-09-15T09:24:48.647017Z",
     "start_time": "2022-09-15T09:24:48.633055Z"
    }
   },
   "outputs": [
    {
     "name": "stdout",
     "output_type": "stream",
     "text": [
      "{'nome': 'Pietro', 'sobrenome': 'Ribeiro'} <class 'dict'>\n"
     ]
    }
   ],
   "source": [
    "printinfo(nome = 'Pietro', sobrenome = 'Ribeiro')"
   ]
  },
  {
   "cell_type": "markdown",
   "id": "6234b1f7",
   "metadata": {},
   "source": [
    "- Esse tipo de técnica é usada quando já se tem alguma ação padrão para diferentes parâmetros que você pode receber em uma função\n",
    "- Difícil usar essa técnica no dia-a-dia\n",
    "- Mas é útil para quando se for olhar uma documentação python e se depara com a palavra *kwargs*. Geralmente é especificado quais parâmetros se pode usar dedicando aquela função"
   ]
  }
 ],
 "metadata": {
  "kernelspec": {
   "display_name": "Python 3 (ipykernel)",
   "language": "python",
   "name": "python3"
  },
  "language_info": {
   "codemirror_mode": {
    "name": "ipython",
    "version": 3
   },
   "file_extension": ".py",
   "mimetype": "text/x-python",
   "name": "python",
   "nbconvert_exporter": "python",
   "pygments_lexer": "ipython3",
   "version": "3.9.7"
  },
  "toc": {
   "base_numbering": 1,
   "nav_menu": {},
   "number_sections": true,
   "sideBar": true,
   "skip_h1_title": false,
   "title_cell": "Table of Contents",
   "title_sidebar": "Contents",
   "toc_cell": false,
   "toc_position": {},
   "toc_section_display": true,
   "toc_window_display": false
  }
 },
 "nbformat": 4,
 "nbformat_minor": 5
}
