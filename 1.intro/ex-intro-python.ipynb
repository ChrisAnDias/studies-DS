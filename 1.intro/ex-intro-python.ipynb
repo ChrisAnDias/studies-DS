{
 "cells": [
  {
   "cell_type": "markdown",
   "id": "65e08d98",
   "metadata": {},
   "source": [
    "# Introdução ao Python"
   ]
  },
  {
   "cell_type": "markdown",
   "id": "355cf492",
   "metadata": {},
   "source": [
    "## Problema 1: Funções"
   ]
  },
  {
   "cell_type": "markdown",
   "id": "9b7f0b98",
   "metadata": {},
   "source": [
    "Fazer uma função **chamada amplitude** em que deve receber uma lista e imprima a amplitude. **(A amplitude é a diferença entre o maior e o menor número de um conjunto de valores).**"
   ]
  },
  {
   "cell_type": "code",
   "execution_count": 1,
   "id": "732f9841",
   "metadata": {
    "ExecuteTime": {
     "end_time": "2022-08-27T23:15:14.913672Z",
     "start_time": "2022-08-27T23:15:14.885746Z"
    }
   },
   "outputs": [
    {
     "data": {
      "text/plain": [
       "23"
      ]
     },
     "execution_count": 1,
     "metadata": {},
     "output_type": "execute_result"
    }
   ],
   "source": [
    "lista = [1,22,5,6,8]\n",
    "def amplitude():\n",
    "    return (max(lista) + min(lista))\n",
    "\n",
    "amplitude()"
   ]
  },
  {
   "cell_type": "code",
   "execution_count": null,
   "id": "caa5d375",
   "metadata": {
    "ExecuteTime": {
     "start_time": "2022-08-27T23:15:39.071Z"
    }
   },
   "outputs": [],
   "source": [
    "list0 = []\n",
    "n = int(input('Vamos fazer uma lista. Digite abaixo o número de elementos que você quer que tenha nessa lista:'))\n",
    "for i in range(0, n):\n",
    "        listu = int(input())\n",
    "        \n",
    "        list0.append(listu)\n",
    "        \n",
    "print(list0)\n",
    "        \n",
    "def amplitude(l):\n",
    "    return(max(list0) + min(list0))\n",
    "x = amplitude(list0)\n",
    "print(x)"
   ]
  },
  {
   "cell_type": "markdown",
   "id": "8ead604b",
   "metadata": {},
   "source": [
    "## Problema 2: Funções"
   ]
  },
  {
   "cell_type": "markdown",
   "id": "cd54c61f",
   "metadata": {},
   "source": [
    "Fazer uma função que recebe uma string e retorna esta na vertical."
   ]
  },
  {
   "cell_type": "code",
   "execution_count": null,
   "id": "2f09ec21",
   "metadata": {
    "ExecuteTime": {
     "start_time": "2022-08-27T23:16:10.319Z"
    }
   },
   "outputs": [],
   "source": [
    "def strv(texto):\n",
    "    for i in range(0,len(texto)):\n",
    "        print(texto[i])\n",
    "\n",
    "strv('bola')\n",
    "\n",
    "    "
   ]
  },
  {
   "cell_type": "markdown",
   "id": "d8f1087a",
   "metadata": {},
   "source": [
    "## Problema 3: Estrutura Condicional"
   ]
  },
  {
   "cell_type": "markdown",
   "id": "bcadd082",
   "metadata": {
    "ExecuteTime": {
     "start_time": "2022-08-27T23:16:32.801Z"
    }
   },
   "source": [
    "Criar um programa que leia um peso de uma carga em números inteiros. Se o peso for até 10kg informe que o valor será 50 reais. Se for entre 11 e 20 kg, informe que o valor será 80 reais. E se for maior que 20kg o transporte não será aceito."
   ]
  },
  {
   "cell_type": "code",
   "execution_count": null,
   "id": "ad10cee0",
   "metadata": {
    "ExecuteTime": {
     "start_time": "2022-08-27T23:16:47.513Z"
    }
   },
   "outputs": [],
   "source": [
    "peso = int(input('Insira o valor em kilos da carga:'))\n",
    "if peso < 10:\n",
    "    print('O valor pago deverá ser de R$ 50,00')\n",
    "if peso >= 11 and peso <= 20:\n",
    "    print('O valor pago será de R$ 80,00')\n",
    "if peso > 20:\n",
    "    print('O transporte não será aceito.')"
   ]
  }
 ],
 "metadata": {
  "kernelspec": {
   "display_name": "Python 3 (ipykernel)",
   "language": "python",
   "name": "python3"
  },
  "language_info": {
   "codemirror_mode": {
    "name": "ipython",
    "version": 3
   },
   "file_extension": ".py",
   "mimetype": "text/x-python",
   "name": "python",
   "nbconvert_exporter": "python",
   "pygments_lexer": "ipython3",
   "version": "3.9.7"
  },
  "toc": {
   "base_numbering": 1,
   "nav_menu": {},
   "number_sections": true,
   "sideBar": true,
   "skip_h1_title": false,
   "title_cell": "Table of Contents",
   "title_sidebar": "Contents",
   "toc_cell": false,
   "toc_position": {},
   "toc_section_display": true,
   "toc_window_display": true
  }
 },
 "nbformat": 4,
 "nbformat_minor": 5
}
