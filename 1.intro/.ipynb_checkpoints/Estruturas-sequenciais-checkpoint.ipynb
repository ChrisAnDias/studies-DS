{
 "cells": [
  {
   "cell_type": "markdown",
   "id": "10a767ae",
   "metadata": {},
   "source": [
    "# Estrutura Sequencial"
   ]
  },
  {
   "cell_type": "code",
   "execution_count": 4,
   "id": "43a4f54c",
   "metadata": {
    "ExecuteTime": {
     "end_time": "2022-09-10T12:58:16.227273Z",
     "start_time": "2022-09-10T12:58:14.535940Z"
    }
   },
   "outputs": [
    {
     "name": "stdout",
     "output_type": "stream",
     "text": [
      "Informe a sua idade:30\n",
      "30 <class 'str'>\n"
     ]
    }
   ],
   "source": [
    "idade = input('Informe a sua idade:')\n",
    "print(idade, type(idade))"
   ]
  },
  {
   "cell_type": "markdown",
   "id": "d1a36fd7",
   "metadata": {},
   "source": [
    "- Perceba que o tipo do valor numérico inserido como resposta, é classificado como 'str'. Isto é, uma String. \n",
    "- Para que eu consiga fazer esse valor reconhecer como numérico, e fazer as possíveis contas matemáticas com ele, será necessário fazer um *casting*. Uma transformação desse valor para um tipo numérico. "
   ]
  },
  {
   "cell_type": "markdown",
   "id": "3f6c61b1",
   "metadata": {},
   "source": [
    "## Casting"
   ]
  },
  {
   "cell_type": "code",
   "execution_count": 5,
   "id": "a8f698a4",
   "metadata": {
    "ExecuteTime": {
     "end_time": "2022-09-10T13:06:00.413654Z",
     "start_time": "2022-09-10T13:06:00.395699Z"
    }
   },
   "outputs": [
    {
     "name": "stdout",
     "output_type": "stream",
     "text": [
      "30 <class 'int'>\n"
     ]
    }
   ],
   "source": [
    "idade = int(idade)\n",
    "print(idade, type(idade))"
   ]
  },
  {
   "cell_type": "markdown",
   "id": "3a7e98a9",
   "metadata": {},
   "source": [
    "- Esse método só funciona para valores que de fato são declaradamente numéricos. \n",
    "- Esse método não funciona bem para outras situações. Como abaixo:"
   ]
  },
  {
   "cell_type": "code",
   "execution_count": 6,
   "id": "e228bd86",
   "metadata": {
    "ExecuteTime": {
     "end_time": "2022-09-10T13:28:57.163312Z",
     "start_time": "2022-09-10T13:28:57.140373Z"
    }
   },
   "outputs": [
    {
     "ename": "ValueError",
     "evalue": "invalid literal for int() with base 10: '123abc'",
     "output_type": "error",
     "traceback": [
      "\u001b[1;31m---------------------------------------------------------------------------\u001b[0m",
      "\u001b[1;31mValueError\u001b[0m                                Traceback (most recent call last)",
      "\u001b[1;32mC:\\Users\\CHRIST~1\\AppData\\Local\\Temp/ipykernel_15204/2154220962.py\u001b[0m in \u001b[0;36m<module>\u001b[1;34m\u001b[0m\n\u001b[1;32m----> 1\u001b[1;33m \u001b[0mint\u001b[0m\u001b[1;33m(\u001b[0m\u001b[1;34m'123abc'\u001b[0m\u001b[1;33m)\u001b[0m\u001b[1;33m\u001b[0m\u001b[1;33m\u001b[0m\u001b[0m\n\u001b[0m",
      "\u001b[1;31mValueError\u001b[0m: invalid literal for int() with base 10: '123abc'"
     ]
    }
   ],
   "source": [
    "int('123abc')"
   ]
  },
  {
   "cell_type": "markdown",
   "id": "4bdc6647",
   "metadata": {},
   "source": [
    "- É possível usar a mesma lógica para fazer o *casting* para outros tipos de variáveis conhecidos. "
   ]
  },
  {
   "cell_type": "code",
   "execution_count": 7,
   "id": "91a19b2b",
   "metadata": {
    "ExecuteTime": {
     "end_time": "2022-09-10T13:31:04.620064Z",
     "start_time": "2022-09-10T13:31:04.611075Z"
    }
   },
   "outputs": [
    {
     "name": "stdout",
     "output_type": "stream",
     "text": [
      "123.56\n",
      "123.56\n",
      "False\n",
      "True\n",
      "False\n",
      "True\n"
     ]
    }
   ],
   "source": [
    "print(float('123.56'))\n",
    "print(str(123.56))\n",
    "print(bool('')) #retornará False\n",
    "print(bool('abc')) #retornará True\n",
    "print(bool(0))#retornará False\n",
    "print(bool(-2))#retornará True"
   ]
  },
  {
   "cell_type": "markdown",
   "id": "8823dfdd",
   "metadata": {},
   "source": [
    "- O Boolean retorna *False* se for o caso de uma **string vazia**, e *True* se tiver qualquer **coisa escrita na string**.\n",
    "- O Boolean retorna *False* se for o caso de uma **Número Zero**, e *True* se tiver **qualquer número**.\n"
   ]
  },
  {
   "cell_type": "markdown",
   "id": "44866e13",
   "metadata": {},
   "source": [
    "# Exemplo prático"
   ]
  },
  {
   "cell_type": "markdown",
   "id": "c705bf23",
   "metadata": {},
   "source": [
    "    Qual o montante que alguém pode economizar sabendo seu salário e gasto mensal"
   ]
  },
  {
   "cell_type": "code",
   "execution_count": 8,
   "id": "155ae6f5",
   "metadata": {
    "ExecuteTime": {
     "end_time": "2022-09-10T13:37:56.475628Z",
     "start_time": "2022-09-10T13:37:44.685282Z"
    }
   },
   "outputs": [
    {
     "name": "stdout",
     "output_type": "stream",
     "text": [
      "Digite o valor do seu salário mensal:2900\n",
      "Digite o valor di sey gasto mensal em média: 1500\n",
      "O montante que você pode economizar ao fim do ano é de 16800.0\n"
     ]
    }
   ],
   "source": [
    "salariomensal = input('Digite o valor do seu salário mensal:')\n",
    "salariomensal = float(salariomensal)\n",
    "\n",
    "gastomensal = input('Digite o valor di sey gasto mensal em média: ')\n",
    "gastomensal = float(gastomensal)\n",
    "\n",
    "salariototal = salariomensal * 12\n",
    "gastototal = gastomensal * 12\n",
    "\n",
    "montanteeconomizado = salariototal - gastototal\n",
    "print('O montante que você pode economizar ao fim do ano é de' , montanteeconomizado)"
   ]
  }
 ],
 "metadata": {
  "kernelspec": {
   "display_name": "Python 3 (ipykernel)",
   "language": "python",
   "name": "python3"
  },
  "language_info": {
   "codemirror_mode": {
    "name": "ipython",
    "version": 3
   },
   "file_extension": ".py",
   "mimetype": "text/x-python",
   "name": "python",
   "nbconvert_exporter": "python",
   "pygments_lexer": "ipython3",
   "version": "3.9.7"
  },
  "toc": {
   "base_numbering": 1,
   "nav_menu": {},
   "number_sections": true,
   "sideBar": true,
   "skip_h1_title": false,
   "title_cell": "Table of Contents",
   "title_sidebar": "Contents",
   "toc_cell": false,
   "toc_position": {},
   "toc_section_display": true,
   "toc_window_display": false
  }
 },
 "nbformat": 4,
 "nbformat_minor": 5
}
