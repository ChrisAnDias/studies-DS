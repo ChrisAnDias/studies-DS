{
 "cells": [
  {
   "cell_type": "markdown",
   "id": "da751f71",
   "metadata": {},
   "source": [
    "# Estrutura condicional"
   ]
  },
  {
   "cell_type": "markdown",
   "id": "e16b035f",
   "metadata": {},
   "source": [
    "   Permite que a sequência seja 'quebrada'. Apontando um caminho alternativo de execução, a partir da resposta dada no input. "
   ]
  },
  {
   "cell_type": "code",
   "execution_count": 3,
   "id": "21fab874",
   "metadata": {
    "ExecuteTime": {
     "end_time": "2022-09-10T13:59:22.653546Z",
     "start_time": "2022-09-10T13:59:19.978450Z"
    }
   },
   "outputs": [
    {
     "name": "stdout",
     "output_type": "stream",
     "text": [
      "Qual o valor da corrida?18\n",
      "Pegue a corrida\n"
     ]
    }
   ],
   "source": [
    "valorpassagem = 4.30\n",
    "valorcorrida = input('Qual o valor da corrida?')\n",
    "\n",
    "if float(valorcorrida) <= valorpassagem * 5:\n",
    "    print ('Pegue a corrida')\n",
    "if float(valorcorrida) > valorpassagem * 5:\n",
    "    print ('Pegue o onibus')Laundromat"
   ]
  },
  {
   "cell_type": "code",
   "execution_count": 6,
   "id": "301bf67d",
   "metadata": {
    "ExecuteTime": {
     "end_time": "2022-09-10T14:00:31.993497Z",
     "start_time": "2022-09-10T14:00:28.786050Z"
    }
   },
   "outputs": [
    {
     "name": "stdout",
     "output_type": "stream",
     "text": [
      "Qual o valor da corrida?25\n",
      "Pegue o onibus\n"
     ]
    }
   ],
   "source": [
    "#jeito menos verboso\n",
    "valorpassagem = 4.30\n",
    "valorcorrida = input('Qual o valor da corrida?')\n",
    "\n",
    "if float(valorcorrida) <= valorpassagem * 5:\n",
    "    print ('Pegue a corrida')\n",
    "else:\n",
    "    print ('Pegue o onibus')"
   ]
  },
  {
   "cell_type": "code",
   "execution_count": 7,
   "id": "2555b8a4",
   "metadata": {
    "ExecuteTime": {
     "end_time": "2022-09-10T14:03:45.830547Z",
     "start_time": "2022-09-10T14:03:40.787128Z"
    }
   },
   "outputs": [
    {
     "name": "stdout",
     "output_type": "stream",
     "text": [
      "Qual o valor da corrida?25\n",
      "Aguarde um momento, o valor pode abaixar\n"
     ]
    }
   ],
   "source": [
    "valorpassagem = 4.30\n",
    "valorcorrida = input('Qual o valor da corrida?')\n",
    "\n",
    "if float(valorcorrida) <= valorpassagem * 5:\n",
    "    print ('Pegue a corrida')\n",
    "else:\n",
    "    if float(valorcorrida) <= valorpassagem * 6:\n",
    "        print('Aguarde um momento, o valor pode abaixar')\n",
    "    else:\n",
    "        print ('Pegue o onibus')"
   ]
  },
  {
   "cell_type": "code",
   "execution_count": 8,
   "id": "682c3831",
   "metadata": {
    "ExecuteTime": {
     "end_time": "2022-09-10T14:04:46.992232Z",
     "start_time": "2022-09-10T14:04:44.642680Z"
    }
   },
   "outputs": [
    {
     "name": "stdout",
     "output_type": "stream",
     "text": [
      "Qual o valor da corrida?25\n",
      "Aguarde um momento, o valor pode abaixar\n"
     ]
    }
   ],
   "source": [
    "#jeito menos verboso\n",
    "valorpassagem = 4.30\n",
    "valorcorrida = input('Qual o valor da corrida?')\n",
    "\n",
    "if float(valorcorrida) <= valorpassagem * 5:\n",
    "    print ('Pegue a corrida')\n",
    "elif float(valorcorrida) <= valorpassagem * 6:\n",
    "    print('Aguarde um momento, o valor pode abaixar')\n",
    "else:\n",
    "    print ('Pegue o onibus')"
   ]
  }
 ],
 "metadata": {
  "kernelspec": {
   "display_name": "Python 3 (ipykernel)",
   "language": "python",
   "name": "python3"
  },
  "language_info": {
   "codemirror_mode": {
    "name": "ipython",
    "version": 3
   },
   "file_extension": ".py",
   "mimetype": "text/x-python",
   "name": "python",
   "nbconvert_exporter": "python",
   "pygments_lexer": "ipython3",
   "version": "3.9.7"
  },
  "toc": {
   "base_numbering": 1,
   "nav_menu": {},
   "number_sections": true,
   "sideBar": true,
   "skip_h1_title": false,
   "title_cell": "Table of Contents",
   "title_sidebar": "Contents",
   "toc_cell": false,
   "toc_position": {},
   "toc_section_display": true,
   "toc_window_display": false
  }
 },
 "nbformat": 4,
 "nbformat_minor": 5
}
