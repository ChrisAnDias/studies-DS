{
 "cells": [
  {
   "cell_type": "markdown",
   "id": "d0dcf82f",
   "metadata": {},
   "source": [
    "# Operadores Aritméticos"
   ]
  },
  {
   "cell_type": "code",
   "execution_count": 1,
   "id": "731d58cd",
   "metadata": {
    "ExecuteTime": {
     "end_time": "2022-09-10T12:11:11.141757Z",
     "start_time": "2022-09-10T12:11:11.133767Z"
    }
   },
   "outputs": [],
   "source": [
    "x = 50\n",
    "y = 2"
   ]
  },
  {
   "cell_type": "code",
   "execution_count": 2,
   "id": "5da81c76",
   "metadata": {
    "ExecuteTime": {
     "end_time": "2022-09-10T12:11:49.836879Z",
     "start_time": "2022-09-10T12:11:49.822887Z"
    }
   },
   "outputs": [
    {
     "name": "stdout",
     "output_type": "stream",
     "text": [
      "52\n",
      "48\n",
      "100\n",
      "25.0\n"
     ]
    }
   ],
   "source": [
    "print(x + y)\n",
    "print(x - y)\n",
    "print(x * y)\n",
    "print(x / y)"
   ]
  },
  {
   "cell_type": "code",
   "execution_count": 3,
   "id": "3a6cd796",
   "metadata": {
    "ExecuteTime": {
     "end_time": "2022-09-10T12:12:10.602594Z",
     "start_time": "2022-09-10T12:12:10.590626Z"
    }
   },
   "outputs": [
    {
     "name": "stdout",
     "output_type": "stream",
     "text": [
      "2500\n",
      "25\n",
      "0\n"
     ]
    }
   ],
   "source": [
    "print(x ** y) #potenciação\n",
    "print(x // y) #divisão inteiro\n",
    "print(x % y) #resto"
   ]
  },
  {
   "cell_type": "markdown",
   "id": "8098c35b",
   "metadata": {},
   "source": [
    "# Operadores Lógico"
   ]
  },
  {
   "cell_type": "code",
   "execution_count": 4,
   "id": "27902eb4",
   "metadata": {
    "ExecuteTime": {
     "end_time": "2022-09-10T12:19:07.042979Z",
     "start_time": "2022-09-10T12:19:07.038989Z"
    }
   },
   "outputs": [],
   "source": [
    "tem_cafe = True\n",
    "tem_pao = False"
   ]
  },
  {
   "cell_type": "code",
   "execution_count": 5,
   "id": "dfedcc06",
   "metadata": {
    "ExecuteTime": {
     "end_time": "2022-09-10T12:19:53.106597Z",
     "start_time": "2022-09-10T12:19:53.086679Z"
    }
   },
   "outputs": [
    {
     "name": "stdout",
     "output_type": "stream",
     "text": [
      "False\n",
      "True\n",
      "False\n"
     ]
    }
   ],
   "source": [
    "print(not tem_cafe)\n",
    "print(tem_cafe or tem_pao)\n",
    "print(tem_cafe and tem_pao)"
   ]
  },
  {
   "cell_type": "markdown",
   "id": "9eac2a50",
   "metadata": {},
   "source": [
    "# Operadores Relacionais ou de comparação"
   ]
  },
  {
   "cell_type": "code",
   "execution_count": 7,
   "id": "f6bfce5f",
   "metadata": {
    "ExecuteTime": {
     "end_time": "2022-09-10T12:27:57.125402Z",
     "start_time": "2022-09-10T12:27:57.110460Z"
    }
   },
   "outputs": [],
   "source": [
    "dolar = 5.31\n",
    "real = 1"
   ]
  },
  {
   "cell_type": "code",
   "execution_count": 8,
   "id": "66433fb0",
   "metadata": {
    "ExecuteTime": {
     "end_time": "2022-09-10T12:41:12.798642Z",
     "start_time": "2022-09-10T12:41:12.790635Z"
    }
   },
   "outputs": [
    {
     "name": "stdout",
     "output_type": "stream",
     "text": [
      "True\n",
      "False\n",
      "False\n",
      "True\n",
      "False\n",
      "True\n"
     ]
    }
   ],
   "source": [
    "print(dolar > real)\n",
    "print(dolar < real)\n",
    "print(dolar == real)\n",
    "print(dolar >= real)\n",
    "print(dolar <= real)\n",
    "print(dolar != real)"
   ]
  }
 ],
 "metadata": {
  "kernelspec": {
   "display_name": "Python 3 (ipykernel)",
   "language": "python",
   "name": "python3"
  },
  "language_info": {
   "codemirror_mode": {
    "name": "ipython",
    "version": 3
   },
   "file_extension": ".py",
   "mimetype": "text/x-python",
   "name": "python",
   "nbconvert_exporter": "python",
   "pygments_lexer": "ipython3",
   "version": "3.9.7"
  },
  "toc": {
   "base_numbering": 1,
   "nav_menu": {},
   "number_sections": true,
   "sideBar": true,
   "skip_h1_title": false,
   "title_cell": "Table of Contents",
   "title_sidebar": "Contents",
   "toc_cell": false,
   "toc_position": {},
   "toc_section_display": true,
   "toc_window_display": true
  }
 },
 "nbformat": 4,
 "nbformat_minor": 5
}
