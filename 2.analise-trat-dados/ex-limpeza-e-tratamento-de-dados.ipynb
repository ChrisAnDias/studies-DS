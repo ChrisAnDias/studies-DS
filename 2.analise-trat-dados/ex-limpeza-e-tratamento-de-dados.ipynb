{
 "cells": [
  {
   "cell_type": "markdown",
   "id": "5172964d",
   "metadata": {},
   "source": [
    "# Limpeza e Tratamento de Dados"
   ]
  },
  {
   "cell_type": "markdown",
   "id": "20c7b311",
   "metadata": {},
   "source": [
    "- Problema Geral: \n",
    "    > Será dado um aqruivo com dados para análise e tratamento deles."
   ]
  },
  {
   "cell_type": "markdown",
   "id": "c4f6346f",
   "metadata": {},
   "source": [
    "## Importações"
   ]
  },
  {
   "cell_type": "code",
   "execution_count": 1,
   "id": "1deb7c80",
   "metadata": {
    "ExecuteTime": {
     "end_time": "2022-08-27T23:18:52.613763Z",
     "start_time": "2022-08-27T23:18:48.901451Z"
    }
   },
   "outputs": [],
   "source": [
    "import pandas as pd\n",
    "import seaborn as srn\n",
    "import statistics as sts"
   ]
  },
  {
   "cell_type": "code",
   "execution_count": 2,
   "id": "2400d8ee",
   "metadata": {
    "ExecuteTime": {
     "end_time": "2022-08-27T23:18:53.929193Z",
     "start_time": "2022-08-27T23:18:53.874340Z"
    }
   },
   "outputs": [
    {
     "data": {
      "text/html": [
       "<div>\n",
       "<style scoped>\n",
       "    .dataframe tbody tr th:only-of-type {\n",
       "        vertical-align: middle;\n",
       "    }\n",
       "\n",
       "    .dataframe tbody tr th {\n",
       "        vertical-align: top;\n",
       "    }\n",
       "\n",
       "    .dataframe thead th {\n",
       "        text-align: right;\n",
       "    }\n",
       "</style>\n",
       "<table border=\"1\" class=\"dataframe\">\n",
       "  <thead>\n",
       "    <tr style=\"text-align: right;\">\n",
       "      <th></th>\n",
       "      <th>Aparencia</th>\n",
       "      <th>Temperatura</th>\n",
       "      <th>Umidade</th>\n",
       "      <th>Vento</th>\n",
       "      <th>Jogar</th>\n",
       "    </tr>\n",
       "  </thead>\n",
       "  <tbody>\n",
       "    <tr>\n",
       "      <th>0</th>\n",
       "      <td>sol</td>\n",
       "      <td>85</td>\n",
       "      <td>85.0</td>\n",
       "      <td>FALSO</td>\n",
       "      <td>nao</td>\n",
       "    </tr>\n",
       "    <tr>\n",
       "      <th>1</th>\n",
       "      <td>sol</td>\n",
       "      <td>80</td>\n",
       "      <td>90.0</td>\n",
       "      <td>VERDADEIRO</td>\n",
       "      <td>nao</td>\n",
       "    </tr>\n",
       "    <tr>\n",
       "      <th>2</th>\n",
       "      <td>nublado</td>\n",
       "      <td>83</td>\n",
       "      <td>86.0</td>\n",
       "      <td>FALSO</td>\n",
       "      <td>sim</td>\n",
       "    </tr>\n",
       "    <tr>\n",
       "      <th>3</th>\n",
       "      <td>chuva</td>\n",
       "      <td>70</td>\n",
       "      <td>NaN</td>\n",
       "      <td>FALSO</td>\n",
       "      <td>sim</td>\n",
       "    </tr>\n",
       "    <tr>\n",
       "      <th>4</th>\n",
       "      <td>chuva</td>\n",
       "      <td>68</td>\n",
       "      <td>80.0</td>\n",
       "      <td>FALSO</td>\n",
       "      <td>sim</td>\n",
       "    </tr>\n",
       "  </tbody>\n",
       "</table>\n",
       "</div>"
      ],
      "text/plain": [
       "  Aparencia  Temperatura  Umidade       Vento Jogar\n",
       "0       sol           85     85.0       FALSO   nao\n",
       "1       sol           80     90.0  VERDADEIRO   nao\n",
       "2   nublado           83     86.0       FALSO   sim\n",
       "3     chuva           70      NaN       FALSO   sim\n",
       "4     chuva           68     80.0       FALSO   sim"
      ]
     },
     "execution_count": 2,
     "metadata": {},
     "output_type": "execute_result"
    }
   ],
   "source": [
    "dataset = pd.read_csv('tempo.csv', sep=';')\n",
    "dataset.head()"
   ]
  },
  {
   "cell_type": "code",
   "execution_count": 3,
   "id": "95f91f62",
   "metadata": {
    "ExecuteTime": {
     "end_time": "2022-08-27T23:19:07.711715Z",
     "start_time": "2022-08-27T23:19:07.705731Z"
    }
   },
   "outputs": [
    {
     "data": {
      "text/plain": [
       "(14, 5)"
      ]
     },
     "execution_count": 3,
     "metadata": {},
     "output_type": "execute_result"
    }
   ],
   "source": [
    "dataset.shape"
   ]
  },
  {
   "cell_type": "markdown",
   "id": "f86bfcd9",
   "metadata": {},
   "source": [
    "## Informações importantes"
   ]
  },
  {
   "cell_type": "markdown",
   "id": "0c17d619",
   "metadata": {},
   "source": [
    "- Do banco de dado acima temos que:\n",
    " - O banco de dados possui 14 **instâncias** (linhas) (vemos apenas 5 linhas) e 5 **atributos**(colunas) .\n",
    " - **Dados categóricos**: Aparência | Vento | Jogar\n",
    " - **Dados numéricos**: Temperatura | Umidade\n",
    "<br>\n",
    "- Vamos analisar na seguinte ordem: <br>\n",
    " **1º Categóricos**: Aparencia > Vento > Jogar <br>\n",
    " **2º Numéricos**: Temperatura > Umidade <br>\n",
    " - Depois da análise, segue tratamento em mesma ordem\n",
    " "
   ]
  },
  {
   "cell_type": "markdown",
   "id": "821f6c09",
   "metadata": {},
   "source": [
    "### Análises "
   ]
  },
  {
   "cell_type": "markdown",
   "id": "e0fca971",
   "metadata": {},
   "source": [
    "#### Aparência"
   ]
  },
  {
   "cell_type": "code",
   "execution_count": 6,
   "id": "ae8d6d23",
   "metadata": {
    "ExecuteTime": {
     "end_time": "2022-08-27T23:31:26.866251Z",
     "start_time": "2022-08-27T23:31:26.846306Z"
    }
   },
   "outputs": [
    {
     "data": {
      "text/plain": [
       "Aparencia\n",
       "chuva      5\n",
       "menos      1\n",
       "nublado    3\n",
       "sol        5\n",
       "dtype: int64"
      ]
     },
     "execution_count": 6,
     "metadata": {},
     "output_type": "execute_result"
    }
   ],
   "source": [
    "agrupa_aparencia = dataset.groupby(['Aparencia']).size() #filtro resummo\n",
    "agrupa_aparencia"
   ]
  },
  {
   "cell_type": "markdown",
   "id": "3faa974d",
   "metadata": {},
   "source": [
    "- Nesse resumo consta um elemento chamado '*menos*'. Fora do domínio. Verificando em gráfico:"
   ]
  },
  {
   "cell_type": "code",
   "execution_count": 7,
   "id": "ab200c5c",
   "metadata": {
    "ExecuteTime": {
     "end_time": "2022-08-27T23:31:34.951587Z",
     "start_time": "2022-08-27T23:31:34.818736Z"
    }
   },
   "outputs": [
    {
     "data": {
      "text/plain": [
       "<AxesSubplot:xlabel='Aparencia'>"
      ]
     },
     "execution_count": 7,
     "metadata": {},
     "output_type": "execute_result"
    },
    {
     "data": {
      "image/png": "[encoded data removed]",
      "text/plain": [
       "<Figure size 432x288 with 1 Axes>"
      ]
     },
     "metadata": {
      "needs_background": "light"
     },
     "output_type": "display_data"
    }
   ],
   "source": [
    "#gráfico barra\n",
    "agrupa_aparencia.plot.bar(color = 'gray') "
   ]
  },
  {
   "cell_type": "markdown",
   "id": "5f9d2a78",
   "metadata": {},
   "source": [
    "#### Vento"
   ]
  },
  {
   "cell_type": "code",
   "execution_count": 8,
   "id": "31c4824e",
   "metadata": {
    "ExecuteTime": {
     "end_time": "2022-08-27T23:31:48.798326Z",
     "start_time": "2022-08-27T23:31:48.786359Z"
    }
   },
   "outputs": [
    {
     "data": {
      "text/plain": [
       "Vento\n",
       "FALSO         7\n",
       "VERDADEIRO    6\n",
       "dtype: int64"
      ]
     },
     "execution_count": 8,
     "metadata": {},
     "output_type": "execute_result"
    }
   ],
   "source": [
    "agrupa_vento = dataset.groupby(['Vento']).size()\n",
    "agrupa_vento"
   ]
  },
  {
   "cell_type": "code",
   "execution_count": 9,
   "id": "848417a2",
   "metadata": {
    "ExecuteTime": {
     "end_time": "2022-08-27T23:32:00.527160Z",
     "start_time": "2022-08-27T23:32:00.434836Z"
    }
   },
   "outputs": [
    {
     "data": {
      "text/plain": [
       "<AxesSubplot:xlabel='Vento'>"
      ]
     },
     "execution_count": 9,
     "metadata": {},
     "output_type": "execute_result"
    },
    {
     "data": {
      "image/png": "[encoded data removed]",
      "text/plain": [
       "<Figure size 432x288 with 1 Axes>"
      ]
     },
     "metadata": {
      "needs_background": "light"
     },
     "output_type": "display_data"
    }
   ],
   "source": [
    "agrupa_vento.plot.bar(color = 'black')"
   ]
  },
  {
   "cell_type": "markdown",
   "id": "9165602f",
   "metadata": {},
   "source": [
    "#### Jogar"
   ]
  },
  {
   "cell_type": "code",
   "execution_count": 10,
   "id": "c5631bdd",
   "metadata": {
    "ExecuteTime": {
     "end_time": "2022-08-27T23:32:28.298309Z",
     "start_time": "2022-08-27T23:32:28.283348Z"
    }
   },
   "outputs": [
    {
     "data": {
      "text/plain": [
       "Jogar\n",
       "nao    5\n",
       "sim    9\n",
       "dtype: int64"
      ]
     },
     "execution_count": 10,
     "metadata": {},
     "output_type": "execute_result"
    }
   ],
   "source": [
    "agrupa_jogar = dataset.groupby(['Jogar']).size()\n",
    "agrupa_jogar"
   ]
  },
  {
   "cell_type": "code",
   "execution_count": 11,
   "id": "27a95afb",
   "metadata": {
    "ExecuteTime": {
     "end_time": "2022-08-27T23:32:41.909889Z",
     "start_time": "2022-08-27T23:32:41.818401Z"
    }
   },
   "outputs": [
    {
     "data": {
      "text/plain": [
       "<AxesSubplot:xlabel='Jogar'>"
      ]
     },
     "execution_count": 11,
     "metadata": {},
     "output_type": "execute_result"
    },
    {
     "data": {
      "image/png": "[encoded data removed]",
      "text/plain": [
       "<Figure size 432x288 with 1 Axes>"
      ]
     },
     "metadata": {
      "needs_background": "light"
     },
     "output_type": "display_data"
    }
   ],
   "source": [
    "agrupa_jogar.plot.bar(color = 'pink')"
   ]
  },
  {
   "cell_type": "markdown",
   "id": "eba0e95c",
   "metadata": {},
   "source": [
    "#### Temperatura"
   ]
  },
  {
   "cell_type": "code",
   "execution_count": 12,
   "id": "4347db1b",
   "metadata": {
    "ExecuteTime": {
     "end_time": "2022-08-27T23:33:41.270909Z",
     "start_time": "2022-08-27T23:33:41.250962Z"
    }
   },
   "outputs": [
    {
     "data": {
      "text/plain": [
       "count      14.000000\n",
       "mean      155.571429\n",
       "std       306.433759\n",
       "min        64.000000\n",
       "25%        69.250000\n",
       "50%        73.500000\n",
       "75%        80.750000\n",
       "max      1220.000000\n",
       "Name: Temperatura, dtype: float64"
      ]
     },
     "execution_count": 12,
     "metadata": {},
     "output_type": "execute_result"
    }
   ],
   "source": [
    "dataset['Temperatura'].describe()"
   ]
  },
  {
   "cell_type": "markdown",
   "id": "9d9c412b",
   "metadata": {},
   "source": [
    " - Este método (.describe()) retorna um resumo interessante com parâmetros estatísticos gerais\n",
    " - Observa-se que entre a *mean* e o *50%*, é possível verificar uma distância entre valores."
   ]
  },
  {
   "cell_type": "code",
   "execution_count": 13,
   "id": "95ce7d80",
   "metadata": {
    "ExecuteTime": {
     "end_time": "2022-08-27T23:36:43.750452Z",
     "start_time": "2022-08-27T23:36:43.434551Z"
    }
   },
   "outputs": [
    {
     "data": {
      "text/plain": [
       "<seaborn.axisgrid.FacetGrid at 0x1fe7ff775e0>"
      ]
     },
     "execution_count": 13,
     "metadata": {},
     "output_type": "execute_result"
    },
    {
     "data": {
      "image/png": "[encoded data removed]",
      "text/plain": [
       "<Figure size 360x360 with 1 Axes>"
      ]
     },
     "metadata": {
      "needs_background": "light"
     },
     "output_type": "display_data"
    }
   ],
   "source": [
    "#Gráfico barra pelo Seaborn\n",
    "srn.displot(dataset['Temperatura'])"
   ]
  },
  {
   "cell_type": "code",
   "execution_count": 22,
   "id": "259761b4",
   "metadata": {
    "ExecuteTime": {
     "end_time": "2022-08-27T23:44:02.797910Z",
     "start_time": "2022-08-27T23:44:02.683721Z"
    }
   },
   "outputs": [
    {
     "data": {
      "text/plain": [
       "<AxesSubplot:xlabel='Temperatura'>"
      ]
     },
     "execution_count": 22,
     "metadata": {},
     "output_type": "execute_result"
    },
    {
     "data": {
      "image/png": "[encoded data removed]",
      "text/plain": [
       "<Figure size 432x288 with 1 Axes>"
      ]
     },
     "metadata": {},
     "output_type": "display_data"
    }
   ],
   "source": [
    "#Boxplot pelo Seaborn\n",
    "srn.set_theme(style=\"whitegrid\")\n",
    "srn.boxplot(x=dataset[\"Temperatura\"])"
   ]
  },
  {
   "cell_type": "markdown",
   "id": "4b1d7a96",
   "metadata": {},
   "source": [
    "#### Umidade"
   ]
  },
  {
   "cell_type": "code",
   "execution_count": 23,
   "id": "22bb1a9b",
   "metadata": {
    "ExecuteTime": {
     "end_time": "2022-08-27T23:44:27.306770Z",
     "start_time": "2022-08-27T23:44:27.291781Z"
    }
   },
   "outputs": [
    {
     "data": {
      "text/plain": [
       "count     13.000000\n",
       "mean      89.769231\n",
       "std       34.540203\n",
       "min       65.000000\n",
       "25%       70.000000\n",
       "50%       85.000000\n",
       "75%       90.000000\n",
       "max      200.000000\n",
       "Name: Umidade, dtype: float64"
      ]
     },
     "execution_count": 23,
     "metadata": {},
     "output_type": "execute_result"
    }
   ],
   "source": [
    "dataset['Umidade'].describe()"
   ]
  },
  {
   "cell_type": "markdown",
   "id": "ecf40e28",
   "metadata": {},
   "source": [
    "- **mean** e **50%** não estão tão distantes"
   ]
  },
  {
   "cell_type": "code",
   "execution_count": 24,
   "id": "3c159255",
   "metadata": {
    "ExecuteTime": {
     "end_time": "2022-08-27T23:44:51.418542Z",
     "start_time": "2022-08-27T23:44:51.186961Z"
    }
   },
   "outputs": [
    {
     "data": {
      "text/plain": [
       "<seaborn.axisgrid.FacetGrid at 0x1fe095e56a0>"
      ]
     },
     "execution_count": 24,
     "metadata": {},
     "output_type": "execute_result"
    },
    {
     "data": {
      "image/png": "[encoded data removed]",
      "text/plain": [
       "<Figure size 360x360 with 1 Axes>"
      ]
     },
     "metadata": {},
     "output_type": "display_data"
    }
   ],
   "source": [
    "srn.displot(dataset['Umidade'])"
   ]
  },
  {
   "cell_type": "code",
   "execution_count": 25,
   "id": "c25ac2ac",
   "metadata": {
    "ExecuteTime": {
     "end_time": "2022-08-27T23:46:00.371848Z",
     "start_time": "2022-08-27T23:46:00.195098Z"
    }
   },
   "outputs": [
    {
     "data": {
      "text/plain": [
       "Text(0.5, 1.0, 'Umidade')"
      ]
     },
     "execution_count": 25,
     "metadata": {},
     "output_type": "execute_result"
    },
    {
     "data": {
      "image/png": "[encoded data removed]",
      "text/plain": [
       "<Figure size 432x288 with 1 Axes>"
      ]
     },
     "metadata": {},
     "output_type": "display_data"
    }
   ],
   "source": [
    "srn.set_theme(style=\"whitegrid\")\n",
    "srn.boxplot(x=dataset[\"Umidade\"]).set_title('Umidade')\n",
    "#set_title('Umidade') põe o título 'Umidade' acima do gráfico"
   ]
  },
  {
   "cell_type": "markdown",
   "id": "9c0d7d46",
   "metadata": {},
   "source": [
    "- No gráfico **boxplot** é possível ver um dado outlines."
   ]
  },
  {
   "cell_type": "markdown",
   "id": "a32c4acf",
   "metadata": {},
   "source": [
    "#### Valores Nulos NAN"
   ]
  },
  {
   "cell_type": "code",
   "execution_count": 27,
   "id": "6e3e92f1",
   "metadata": {
    "ExecuteTime": {
     "end_time": "2022-08-27T23:47:13.609912Z",
     "start_time": "2022-08-27T23:47:13.602925Z"
    }
   },
   "outputs": [
    {
     "data": {
      "text/plain": [
       "Aparencia      0\n",
       "Temperatura    0\n",
       "Umidade        1\n",
       "Vento          1\n",
       "Jogar          0\n",
       "dtype: int64"
      ]
     },
     "execution_count": 27,
     "metadata": {},
     "output_type": "execute_result"
    }
   ],
   "source": [
    "#Soma quantidade de valores nulos de cada coluna\n",
    "dataset.isnull().sum() "
   ]
  },
  {
   "cell_type": "markdown",
   "id": "573180c0",
   "metadata": {},
   "source": [
    "- Dado que há valores nulos, na coluna Umidade e Vento. "
   ]
  },
  {
   "cell_type": "markdown",
   "id": "08627e2e",
   "metadata": {},
   "source": [
    "### Tratamento"
   ]
  },
  {
   "cell_type": "markdown",
   "id": "d2c56f4b",
   "metadata": {},
   "source": [
    "#### Aparência"
   ]
  },
  {
   "cell_type": "markdown",
   "id": "24922aa7",
   "metadata": {},
   "source": [
    " - Como visto na etapa análise, dentro dos valores *'Aparência'* aparece um valor 'fora de domínio'. Que é o **menos**. \n",
    " - A ideia é substituí-lo pela moda."
   ]
  },
  {
   "cell_type": "markdown",
   "id": "8bb5c5a8",
   "metadata": {},
   "source": [
    "- A moda é Chuva ou Sol. Vamos colocar Sol por imaginar que **para o negócio** é interessante que se faça sol para que se possa jogar. Sendo positivos e contando com a positividade do clima. \n",
    "- **Para um caso real**, talvez fosse necessário analizar o **histórico** do clima da região nos últimos anos pars o período especificado, e poder escolher entre um ou o outro."
   ]
  },
  {
   "cell_type": "code",
   "execution_count": 28,
   "id": "74b58222",
   "metadata": {
    "ExecuteTime": {
     "end_time": "2022-08-28T02:09:18.880640Z",
     "start_time": "2022-08-28T02:09:18.866679Z"
    }
   },
   "outputs": [
    {
     "data": {
      "text/plain": [
       "Aparencia\n",
       "chuva      5\n",
       "nublado    3\n",
       "sol        6\n",
       "dtype: int64"
      ]
     },
     "execution_count": 28,
     "metadata": {},
     "output_type": "execute_result"
    }
   ],
   "source": [
    "dataset.loc[dataset['Aparencia'] == 'menos', 'Aparencia'] = 'sol'\n",
    "agrupa_aparencia = dataset.groupby('Aparencia').size()\n",
    "agrupa_aparencia"
   ]
  },
  {
   "cell_type": "markdown",
   "id": "2e6d3416",
   "metadata": {},
   "source": [
    "> *dataset.loc[dataset['Aparencia'] == 'menos', 'Aparencia'] = 'sol'*\n",
    "- dataset.loc é uma função para localizar um dado. No caso do exemplo acima, a função localiza dentro do *dataset['Aparência']* (que é a coluna aparência dos dados referência) a palavra 'menos' e substitui pea palavra 'sol'. \n"
   ]
  },
  {
   "cell_type": "markdown",
   "id": "fe909337",
   "metadata": {},
   "source": [
    "#### Temperatura"
   ]
  },
  {
   "cell_type": "markdown",
   "id": "9bc624cf",
   "metadata": {},
   "source": [
    "- Como visto na seção análise, o valor máximo da temperatura excete os +130F. Precisamos **ajustar o domínio** da temperatura, **levando os valores que estão fora do domínio para o valor que representa a mediana.**"
   ]
  },
  {
   "cell_type": "code",
   "execution_count": 30,
   "id": "ef6a1057",
   "metadata": {
    "ExecuteTime": {
     "end_time": "2022-08-28T02:14:56.625069Z",
     "start_time": "2022-08-28T02:14:56.611108Z"
    },
    "scrolled": true
   },
   "outputs": [
    {
     "data": {
      "text/html": [
       "<div>\n",
       "<style scoped>\n",
       "    .dataframe tbody tr th:only-of-type {\n",
       "        vertical-align: middle;\n",
       "    }\n",
       "\n",
       "    .dataframe tbody tr th {\n",
       "        vertical-align: top;\n",
       "    }\n",
       "\n",
       "    .dataframe thead th {\n",
       "        text-align: right;\n",
       "    }\n",
       "</style>\n",
       "<table border=\"1\" class=\"dataframe\">\n",
       "  <thead>\n",
       "    <tr style=\"text-align: right;\">\n",
       "      <th></th>\n",
       "      <th>Aparencia</th>\n",
       "      <th>Temperatura</th>\n",
       "      <th>Umidade</th>\n",
       "      <th>Vento</th>\n",
       "      <th>Jogar</th>\n",
       "    </tr>\n",
       "  </thead>\n",
       "  <tbody>\n",
       "    <tr>\n",
       "      <th>0</th>\n",
       "      <td>sol</td>\n",
       "      <td>85</td>\n",
       "      <td>85.0</td>\n",
       "      <td>FALSO</td>\n",
       "      <td>nao</td>\n",
       "    </tr>\n",
       "    <tr>\n",
       "      <th>1</th>\n",
       "      <td>sol</td>\n",
       "      <td>80</td>\n",
       "      <td>90.0</td>\n",
       "      <td>VERDADEIRO</td>\n",
       "      <td>nao</td>\n",
       "    </tr>\n",
       "    <tr>\n",
       "      <th>2</th>\n",
       "      <td>nublado</td>\n",
       "      <td>83</td>\n",
       "      <td>86.0</td>\n",
       "      <td>FALSO</td>\n",
       "      <td>sim</td>\n",
       "    </tr>\n",
       "    <tr>\n",
       "      <th>3</th>\n",
       "      <td>chuva</td>\n",
       "      <td>70</td>\n",
       "      <td>NaN</td>\n",
       "      <td>FALSO</td>\n",
       "      <td>sim</td>\n",
       "    </tr>\n",
       "    <tr>\n",
       "      <th>4</th>\n",
       "      <td>chuva</td>\n",
       "      <td>68</td>\n",
       "      <td>80.0</td>\n",
       "      <td>FALSO</td>\n",
       "      <td>sim</td>\n",
       "    </tr>\n",
       "    <tr>\n",
       "      <th>5</th>\n",
       "      <td>chuva</td>\n",
       "      <td>65</td>\n",
       "      <td>70.0</td>\n",
       "      <td>VERDADEIRO</td>\n",
       "      <td>nao</td>\n",
       "    </tr>\n",
       "    <tr>\n",
       "      <th>6</th>\n",
       "      <td>sol</td>\n",
       "      <td>64</td>\n",
       "      <td>65.0</td>\n",
       "      <td>VERDADEIRO</td>\n",
       "      <td>sim</td>\n",
       "    </tr>\n",
       "    <tr>\n",
       "      <th>7</th>\n",
       "      <td>sol</td>\n",
       "      <td>1220</td>\n",
       "      <td>95.0</td>\n",
       "      <td>FALSO</td>\n",
       "      <td>nao</td>\n",
       "    </tr>\n",
       "    <tr>\n",
       "      <th>8</th>\n",
       "      <td>sol</td>\n",
       "      <td>69</td>\n",
       "      <td>70.0</td>\n",
       "      <td>FALSO</td>\n",
       "      <td>sim</td>\n",
       "    </tr>\n",
       "    <tr>\n",
       "      <th>9</th>\n",
       "      <td>chuva</td>\n",
       "      <td>75</td>\n",
       "      <td>200.0</td>\n",
       "      <td>NaN</td>\n",
       "      <td>sim</td>\n",
       "    </tr>\n",
       "    <tr>\n",
       "      <th>10</th>\n",
       "      <td>sol</td>\n",
       "      <td>75</td>\n",
       "      <td>70.0</td>\n",
       "      <td>VERDADEIRO</td>\n",
       "      <td>sim</td>\n",
       "    </tr>\n",
       "    <tr>\n",
       "      <th>11</th>\n",
       "      <td>nublado</td>\n",
       "      <td>72</td>\n",
       "      <td>90.0</td>\n",
       "      <td>VERDADEIRO</td>\n",
       "      <td>sim</td>\n",
       "    </tr>\n",
       "    <tr>\n",
       "      <th>12</th>\n",
       "      <td>nublado</td>\n",
       "      <td>81</td>\n",
       "      <td>75.0</td>\n",
       "      <td>FALSO</td>\n",
       "      <td>sim</td>\n",
       "    </tr>\n",
       "    <tr>\n",
       "      <th>13</th>\n",
       "      <td>chuva</td>\n",
       "      <td>71</td>\n",
       "      <td>91.0</td>\n",
       "      <td>VERDADEIRO</td>\n",
       "      <td>nao</td>\n",
       "    </tr>\n",
       "  </tbody>\n",
       "</table>\n",
       "</div>"
      ],
      "text/plain": [
       "   Aparencia  Temperatura  Umidade       Vento Jogar\n",
       "0        sol           85     85.0       FALSO   nao\n",
       "1        sol           80     90.0  VERDADEIRO   nao\n",
       "2    nublado           83     86.0       FALSO   sim\n",
       "3      chuva           70      NaN       FALSO   sim\n",
       "4      chuva           68     80.0       FALSO   sim\n",
       "5      chuva           65     70.0  VERDADEIRO   nao\n",
       "6        sol           64     65.0  VERDADEIRO   sim\n",
       "7        sol         1220     95.0       FALSO   nao\n",
       "8        sol           69     70.0       FALSO   sim\n",
       "9      chuva           75    200.0         NaN   sim\n",
       "10       sol           75     70.0  VERDADEIRO   sim\n",
       "11   nublado           72     90.0  VERDADEIRO   sim\n",
       "12   nublado           81     75.0       FALSO   sim\n",
       "13     chuva           71     91.0  VERDADEIRO   nao"
      ]
     },
     "execution_count": 30,
     "metadata": {},
     "output_type": "execute_result"
    }
   ],
   "source": [
    "dataset.loc[(dataset['Temperatura'] > -130) | (dataset['Temperatura'] < 130)]\n",
    "#retorna todos os dados queestão entre -130 e +130"
   ]
  },
  {
   "cell_type": "code",
   "execution_count": 31,
   "id": "8e2d2fc5",
   "metadata": {
    "ExecuteTime": {
     "end_time": "2022-08-28T02:17:43.093260Z",
     "start_time": "2022-08-28T02:17:43.075282Z"
    }
   },
   "outputs": [
    {
     "data": {
      "text/plain": [
       "73.5"
      ]
     },
     "execution_count": 31,
     "metadata": {},
     "output_type": "execute_result"
    }
   ],
   "source": [
    "#calculo mediana statistics\n",
    "medianatemp = sts.median(dataset['Temperatura'])  \n",
    "medianatemp"
   ]
  },
  {
   "cell_type": "code",
   "execution_count": 34,
   "id": "c0116db7",
   "metadata": {
    "ExecuteTime": {
     "end_time": "2022-08-28T02:22:54.724155Z",
     "start_time": "2022-08-28T02:22:54.700217Z"
    }
   },
   "outputs": [
    {
     "data": {
      "text/html": [
       "<div>\n",
       "<style scoped>\n",
       "    .dataframe tbody tr th:only-of-type {\n",
       "        vertical-align: middle;\n",
       "    }\n",
       "\n",
       "    .dataframe tbody tr th {\n",
       "        vertical-align: top;\n",
       "    }\n",
       "\n",
       "    .dataframe thead th {\n",
       "        text-align: right;\n",
       "    }\n",
       "</style>\n",
       "<table border=\"1\" class=\"dataframe\">\n",
       "  <thead>\n",
       "    <tr style=\"text-align: right;\">\n",
       "      <th></th>\n",
       "      <th>Aparencia</th>\n",
       "      <th>Temperatura</th>\n",
       "      <th>Umidade</th>\n",
       "      <th>Vento</th>\n",
       "      <th>Jogar</th>\n",
       "    </tr>\n",
       "  </thead>\n",
       "  <tbody>\n",
       "  </tbody>\n",
       "</table>\n",
       "</div>"
      ],
      "text/plain": [
       "Empty DataFrame\n",
       "Columns: [Aparencia, Temperatura, Umidade, Vento, Jogar]\n",
       "Index: []"
      ]
     },
     "execution_count": 34,
     "metadata": {},
     "output_type": "execute_result"
    }
   ],
   "source": [
    "dataset.loc[(dataset['Temperatura'] < -130) | (dataset['Temperatura'] > 130), 'Temperatura'] = medianatemp\n",
    "dataset.loc[(dataset['Temperatura'] <-130) | (dataset['Temperatura'] > 130)] #verifica se há outliers"
   ]
  },
  {
   "cell_type": "markdown",
   "id": "cc957dd2",
   "metadata": {},
   "source": [
    "#### Umidade"
   ]
  },
  {
   "cell_type": "markdown",
   "id": "61fc7cc3",
   "metadata": {
    "ExecuteTime": {
     "end_time": "2022-08-28T02:23:23.198668Z",
     "start_time": "2022-08-28T02:23:23.179720Z"
    }
   },
   "source": [
    "- Como visto na seção análise, existem valores que excedem o limiar superior que é de 100. \n",
    "- Imitando o procedimento anterior temos que :"
   ]
  },
  {
   "cell_type": "code",
   "execution_count": 36,
   "id": "453cd495",
   "metadata": {
    "ExecuteTime": {
     "end_time": "2022-08-28T02:23:36.240252Z",
     "start_time": "2022-08-28T02:23:36.220275Z"
    }
   },
   "outputs": [
    {
     "data": {
      "text/html": [
       "<div>\n",
       "<style scoped>\n",
       "    .dataframe tbody tr th:only-of-type {\n",
       "        vertical-align: middle;\n",
       "    }\n",
       "\n",
       "    .dataframe tbody tr th {\n",
       "        vertical-align: top;\n",
       "    }\n",
       "\n",
       "    .dataframe thead th {\n",
       "        text-align: right;\n",
       "    }\n",
       "</style>\n",
       "<table border=\"1\" class=\"dataframe\">\n",
       "  <thead>\n",
       "    <tr style=\"text-align: right;\">\n",
       "      <th></th>\n",
       "      <th>Aparencia</th>\n",
       "      <th>Temperatura</th>\n",
       "      <th>Umidade</th>\n",
       "      <th>Vento</th>\n",
       "      <th>Jogar</th>\n",
       "    </tr>\n",
       "  </thead>\n",
       "  <tbody>\n",
       "    <tr>\n",
       "      <th>9</th>\n",
       "      <td>chuva</td>\n",
       "      <td>75.0</td>\n",
       "      <td>200.0</td>\n",
       "      <td>NaN</td>\n",
       "      <td>sim</td>\n",
       "    </tr>\n",
       "  </tbody>\n",
       "</table>\n",
       "</div>"
      ],
      "text/plain": [
       "  Aparencia  Temperatura  Umidade Vento Jogar\n",
       "9     chuva         75.0    200.0   NaN   sim"
      ]
     },
     "execution_count": 36,
     "metadata": {},
     "output_type": "execute_result"
    }
   ],
   "source": [
    "dataset.loc[(dataset['Umidade'] < 0) | (dataset['Umidade'] > 100)]"
   ]
  },
  {
   "cell_type": "code",
   "execution_count": 37,
   "id": "6acb3fb3",
   "metadata": {
    "ExecuteTime": {
     "end_time": "2022-08-28T02:23:50.109222Z",
     "start_time": "2022-08-28T02:23:50.093263Z"
    }
   },
   "outputs": [
    {
     "data": {
      "text/plain": [
       "85.5"
      ]
     },
     "execution_count": 37,
     "metadata": {},
     "output_type": "execute_result"
    }
   ],
   "source": [
    "medianaumid = sts.median(dataset['Umidade'])\n",
    "medianaumid"
   ]
  },
  {
   "cell_type": "code",
   "execution_count": 38,
   "id": "315d30d7",
   "metadata": {
    "ExecuteTime": {
     "end_time": "2022-08-28T02:24:01.753186Z",
     "start_time": "2022-08-28T02:24:01.732215Z"
    }
   },
   "outputs": [
    {
     "data": {
      "text/html": [
       "<div>\n",
       "<style scoped>\n",
       "    .dataframe tbody tr th:only-of-type {\n",
       "        vertical-align: middle;\n",
       "    }\n",
       "\n",
       "    .dataframe tbody tr th {\n",
       "        vertical-align: top;\n",
       "    }\n",
       "\n",
       "    .dataframe thead th {\n",
       "        text-align: right;\n",
       "    }\n",
       "</style>\n",
       "<table border=\"1\" class=\"dataframe\">\n",
       "  <thead>\n",
       "    <tr style=\"text-align: right;\">\n",
       "      <th></th>\n",
       "      <th>Aparencia</th>\n",
       "      <th>Temperatura</th>\n",
       "      <th>Umidade</th>\n",
       "      <th>Vento</th>\n",
       "      <th>Jogar</th>\n",
       "    </tr>\n",
       "  </thead>\n",
       "  <tbody>\n",
       "  </tbody>\n",
       "</table>\n",
       "</div>"
      ],
      "text/plain": [
       "Empty DataFrame\n",
       "Columns: [Aparencia, Temperatura, Umidade, Vento, Jogar]\n",
       "Index: []"
      ]
     },
     "execution_count": 38,
     "metadata": {},
     "output_type": "execute_result"
    }
   ],
   "source": [
    "dataset.loc[(dataset['Umidade'] < 0) | (dataset['Umidade'] > 100), 'Umidade'] = medianaumid\n",
    "dataset.loc[(dataset['Umidade'] < 0) | (dataset['Umidade'] > 100)]"
   ]
  },
  {
   "cell_type": "markdown",
   "id": "0f30bc83",
   "metadata": {},
   "source": [
    "- Como visto na seção análise, a coluna 'Umidade' possui valores nulos"
   ]
  },
  {
   "cell_type": "code",
   "execution_count": 39,
   "id": "efa8d81e",
   "metadata": {
    "ExecuteTime": {
     "end_time": "2022-08-28T02:24:33.995322Z",
     "start_time": "2022-08-28T02:24:33.979365Z"
    }
   },
   "outputs": [
    {
     "data": {
      "text/plain": [
       "Umidade\n",
       "65.0    1\n",
       "70.0    3\n",
       "75.0    1\n",
       "80.0    1\n",
       "85.0    1\n",
       "85.5    1\n",
       "86.0    1\n",
       "90.0    2\n",
       "91.0    1\n",
       "95.0    1\n",
       "dtype: int64"
      ]
     },
     "execution_count": 39,
     "metadata": {},
     "output_type": "execute_result"
    }
   ],
   "source": [
    "agrupado_umidade = dataset.groupby(['Umidade']).size()\n",
    "agrupado_umidade"
   ]
  },
  {
   "cell_type": "code",
   "execution_count": 40,
   "id": "ce830eed",
   "metadata": {
    "ExecuteTime": {
     "end_time": "2022-08-28T02:25:04.100690Z",
     "start_time": "2022-08-28T02:25:04.092713Z"
    }
   },
   "outputs": [
    {
     "data": {
      "text/plain": [
       "1"
      ]
     },
     "execution_count": 40,
     "metadata": {},
     "output_type": "execute_result"
    }
   ],
   "source": [
    "dataset['Umidade'].isnull().sum() "
   ]
  },
  {
   "cell_type": "code",
   "execution_count": 41,
   "id": "f10d3c12",
   "metadata": {
    "ExecuteTime": {
     "end_time": "2022-08-28T02:26:09.009375Z",
     "start_time": "2022-08-28T02:26:08.997380Z"
    }
   },
   "outputs": [
    {
     "data": {
      "text/plain": [
       "0"
      ]
     },
     "execution_count": 41,
     "metadata": {},
     "output_type": "execute_result"
    }
   ],
   "source": [
    "dataset['Umidade'].fillna(medianaumid, inplace=True) \n",
    "dataset['Umidade'].isnull().sum()"
   ]
  },
  {
   "cell_type": "markdown",
   "id": "740a1bbf",
   "metadata": {},
   "source": [
    "#### Vento"
   ]
  },
  {
   "cell_type": "markdown",
   "id": "165ba13a",
   "metadata": {},
   "source": [
    "- Como visto na seção análise, a coluna vento retorna se é 'Verdadeiro' ou 'Falso'. Então, trata-se de um dado categórico. \n",
    "- Não há valores fora de domínio (fora de 'Verdadeiro' ou 'Falso'). \n",
    "- **Precisamos verificar se há dados nulos**, e havendo, transformá-lo na moda (visto que é um dado categórico). "
   ]
  },
  {
   "cell_type": "code",
   "execution_count": 42,
   "id": "15863456",
   "metadata": {
    "ExecuteTime": {
     "end_time": "2022-08-28T02:26:39.153376Z",
     "start_time": "2022-08-28T02:26:39.141409Z"
    }
   },
   "outputs": [
    {
     "data": {
      "text/plain": [
       "1"
      ]
     },
     "execution_count": 42,
     "metadata": {},
     "output_type": "execute_result"
    }
   ],
   "source": [
    "dataset['Vento'].isnull().sum() "
   ]
  },
  {
   "cell_type": "code",
   "execution_count": 43,
   "id": "cf179c73",
   "metadata": {
    "ExecuteTime": {
     "end_time": "2022-08-28T02:26:44.519307Z",
     "start_time": "2022-08-28T02:26:44.500329Z"
    }
   },
   "outputs": [
    {
     "data": {
      "text/plain": [
       "0"
      ]
     },
     "execution_count": 43,
     "metadata": {},
     "output_type": "execute_result"
    }
   ],
   "source": [
    "dataset['Vento'].fillna('FALSO', inplace=True)\n",
    "dataset['Vento'].isnull().sum()"
   ]
  }
 ],
 "metadata": {
  "kernelspec": {
   "display_name": "Python 3 (ipykernel)",
   "language": "python",
   "name": "python3"
  },
  "language_info": {
   "codemirror_mode": {
    "name": "ipython",
    "version": 3
   },
   "file_extension": ".py",
   "mimetype": "text/x-python",
   "name": "python",
   "nbconvert_exporter": "python",
   "pygments_lexer": "ipython3",
   "version": "3.9.7"
  },
  "toc": {
   "base_numbering": 1,
   "nav_menu": {},
   "number_sections": true,
   "sideBar": true,
   "skip_h1_title": false,
   "title_cell": "Table of Contents",
   "title_sidebar": "Contents",
   "toc_cell": false,
   "toc_position": {
    "height": "calc(100% - 180px)",
    "left": "10px",
    "top": "150px",
    "width": "368px"
   },
   "toc_section_display": true,
   "toc_window_display": true
  }
 },
 "nbformat": 4,
 "nbformat_minor": 5
}
